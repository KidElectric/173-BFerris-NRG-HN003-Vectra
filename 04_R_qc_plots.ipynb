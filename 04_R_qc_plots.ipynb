{
 "cells": [
  {
   "cell_type": "markdown",
   "id": "ee184a36-22e4-47f3-9e3e-cf8fdfcee384",
   "metadata": {},
   "source": [
    "# Imports"
   ]
  },
  {
   "cell_type": "code",
   "execution_count": 1,
   "id": "6677f044-20fb-4588-b839-1b1752b49e37",
   "metadata": {
    "tags": []
   },
   "outputs": [
    {
     "name": "stdout",
     "output_type": "stream",
     "text": [
      "[1] \"Loading libraries\"\n",
      "[1] \"Library load finished\"\n",
      "Time difference of 1.34942 mins\n",
      "[1] \"/mnt\"\n",
      "[1] \"/mnt/results\"\n"
     ]
    },
    {
     "data": {
      "text/html": [
       "<table class=\"dataframe\">\n",
       "<caption>A data.frame: 6 × 20</caption>\n",
       "<thead>\n",
       "\t<tr><th></th><th scope=col>Sample.Name</th><th scope=col>study_id</th><th scope=col>total_roi</th><th scope=col>n_tumor_segments</th><th scope=col>n_stroma_segments</th><th scope=col>PDL1.panCK.tumor_percent</th><th scope=col>PDL1.panCK.stroma_percent</th><th scope=col>PDL1.panCK.all_percent</th><th scope=col>PDL1.panCKneg.CD3pos.tumor_percent</th><th scope=col>PDL1.panCKneg.CD3pos.stroma_percent</th><th scope=col>PDL1.panCKneg.CD3pos.all_percent</th><th scope=col>PDL1.panCKneg.CD3neg.tumor_percent</th><th scope=col>PDL1.panCKneg.CD3neg.stroma_percent</th><th scope=col>PDL1.panCKneg.CD3neg.all_percent</th><th scope=col>CD3.CD8.Tcell.tumor_percent</th><th scope=col>CD3.CD8.Tcell.stroma_percent</th><th scope=col>CD3.CD8.Tcell.all_percent</th><th scope=col>Treg.tumor_percent</th><th scope=col>Treg.stroma_percent</th><th scope=col>Treg.all_percent</th></tr>\n",
       "\t<tr><th></th><th scope=col>&lt;chr&gt;</th><th scope=col>&lt;chr&gt;</th><th scope=col>&lt;dbl&gt;</th><th scope=col>&lt;dbl&gt;</th><th scope=col>&lt;dbl&gt;</th><th scope=col>&lt;dbl&gt;</th><th scope=col>&lt;dbl&gt;</th><th scope=col>&lt;dbl&gt;</th><th scope=col>&lt;dbl&gt;</th><th scope=col>&lt;dbl&gt;</th><th scope=col>&lt;dbl&gt;</th><th scope=col>&lt;dbl&gt;</th><th scope=col>&lt;dbl&gt;</th><th scope=col>&lt;dbl&gt;</th><th scope=col>&lt;dbl&gt;</th><th scope=col>&lt;dbl&gt;</th><th scope=col>&lt;dbl&gt;</th><th scope=col>&lt;dbl&gt;</th><th scope=col>&lt;dbl&gt;</th><th scope=col>&lt;dbl&gt;</th></tr>\n",
       "</thead>\n",
       "<tbody>\n",
       "\t<tr><th scope=row>1</th><td>RACTIH_Scan1.qptiff</td><td>RACTIH</td><td> 12</td><td> 12</td><td> 12</td><td> 1.581028</td><td> 2.4818933</td><td> 1.932385</td><td>0.002949678</td><td>0.01845274</td><td>0.008996204</td><td>0.4277034</td><td> 2.1220649</td><td>1.0885406</td><td>0.020647749</td><td>0.009226369</td><td>0.01619317</td><td>0.000000000</td><td>0.004613184</td><td>0.001799241</td></tr>\n",
       "\t<tr><th scope=row>2</th><td>RACTKE_Scan1.qptiff</td><td>RACTKE</td><td>285</td><td>285</td><td>285</td><td>68.519584</td><td>35.4576429</td><td>51.416619</td><td>0.049980291</td><td>1.07511932</td><td>0.580285409</td><td>1.1840614</td><td>12.9683078</td><td>7.2800601</td><td>0.055449832</td><td>2.010679038</td><td>1.06689123</td><td>0.092793596</td><td>3.922979994</td><td>2.074151626</td></tr>\n",
       "\t<tr><th scope=row>3</th><td>RACTLH_Scan2.qptiff</td><td>RACTLH</td><td> 59</td><td> 59</td><td> 59</td><td> 8.792360</td><td> 3.9117319</td><td> 6.129775</td><td>0.000000000</td><td>0.02801540</td><td>0.015283563</td><td>0.3746256</td><td> 2.2418837</td><td>1.3932923</td><td>0.003128397</td><td>0.319896799</td><td>0.17593870</td><td>0.004692596</td><td>0.138773968</td><td>0.077839544</td></tr>\n",
       "\t<tr><th scope=row>4</th><td>RACTNY_Scan1.qptiff</td><td>RACTNY</td><td> 27</td><td> 27</td><td> 27</td><td> 3.737032</td><td> 0.8999784</td><td> 2.049500</td><td>0.004234597</td><td>0.02019182</td><td>0.013726247</td><td>0.3917002</td><td> 0.7427706</td><td>0.6005233</td><td>0.406521279</td><td>1.400447105</td><td>0.99772659</td><td>0.175735761</td><td>0.346145525</td><td>0.277098615</td></tr>\n",
       "\t<tr><th scope=row>5</th><td>RACTRF_Scan1.qptiff</td><td>RACTRF</td><td> 10</td><td> 10</td><td> 10</td><td>13.805149</td><td> 1.4236082</td><td> 8.444917</td><td>0.058222280</td><td>0.14405559</td><td>0.095381342</td><td>0.2393583</td><td> 0.7880688</td><td>0.4769067</td><td>0.226419977</td><td>1.559189899</td><td>0.80340438</td><td>2.083063786</td><td>5.363952207</td><td>3.503430060</td></tr>\n",
       "\t<tr><th scope=row>6</th><td>RACTRU_Scan1.qptiff</td><td>RACTRU</td><td> 38</td><td> 38</td><td> 38</td><td>23.019207</td><td> 8.3016812</td><td>11.614162</td><td>0.036987134</td><td>0.47420639</td><td>0.375801253</td><td>1.4504240</td><td> 7.0893089</td><td>5.8201625</td><td>2.079205305</td><td>1.963582790</td><td>1.98960600</td><td>0.198145359</td><td>1.952840251</td><td>1.557910260</td></tr>\n",
       "</tbody>\n",
       "</table>\n"
      ],
      "text/latex": [
       "A data.frame: 6 × 20\n",
       "\\begin{tabular}{r|llllllllllllllllllll}\n",
       "  & Sample.Name & study\\_id & total\\_roi & n\\_tumor\\_segments & n\\_stroma\\_segments & PDL1.panCK.tumor\\_percent & PDL1.panCK.stroma\\_percent & PDL1.panCK.all\\_percent & PDL1.panCKneg.CD3pos.tumor\\_percent & PDL1.panCKneg.CD3pos.stroma\\_percent & PDL1.panCKneg.CD3pos.all\\_percent & PDL1.panCKneg.CD3neg.tumor\\_percent & PDL1.panCKneg.CD3neg.stroma\\_percent & PDL1.panCKneg.CD3neg.all\\_percent & CD3.CD8.Tcell.tumor\\_percent & CD3.CD8.Tcell.stroma\\_percent & CD3.CD8.Tcell.all\\_percent & Treg.tumor\\_percent & Treg.stroma\\_percent & Treg.all\\_percent\\\\\n",
       "  & <chr> & <chr> & <dbl> & <dbl> & <dbl> & <dbl> & <dbl> & <dbl> & <dbl> & <dbl> & <dbl> & <dbl> & <dbl> & <dbl> & <dbl> & <dbl> & <dbl> & <dbl> & <dbl> & <dbl>\\\\\n",
       "\\hline\n",
       "\t1 & RACTIH\\_Scan1.qptiff & RACTIH &  12 &  12 &  12 &  1.581028 &  2.4818933 &  1.932385 & 0.002949678 & 0.01845274 & 0.008996204 & 0.4277034 &  2.1220649 & 1.0885406 & 0.020647749 & 0.009226369 & 0.01619317 & 0.000000000 & 0.004613184 & 0.001799241\\\\\n",
       "\t2 & RACTKE\\_Scan1.qptiff & RACTKE & 285 & 285 & 285 & 68.519584 & 35.4576429 & 51.416619 & 0.049980291 & 1.07511932 & 0.580285409 & 1.1840614 & 12.9683078 & 7.2800601 & 0.055449832 & 2.010679038 & 1.06689123 & 0.092793596 & 3.922979994 & 2.074151626\\\\\n",
       "\t3 & RACTLH\\_Scan2.qptiff & RACTLH &  59 &  59 &  59 &  8.792360 &  3.9117319 &  6.129775 & 0.000000000 & 0.02801540 & 0.015283563 & 0.3746256 &  2.2418837 & 1.3932923 & 0.003128397 & 0.319896799 & 0.17593870 & 0.004692596 & 0.138773968 & 0.077839544\\\\\n",
       "\t4 & RACTNY\\_Scan1.qptiff & RACTNY &  27 &  27 &  27 &  3.737032 &  0.8999784 &  2.049500 & 0.004234597 & 0.02019182 & 0.013726247 & 0.3917002 &  0.7427706 & 0.6005233 & 0.406521279 & 1.400447105 & 0.99772659 & 0.175735761 & 0.346145525 & 0.277098615\\\\\n",
       "\t5 & RACTRF\\_Scan1.qptiff & RACTRF &  10 &  10 &  10 & 13.805149 &  1.4236082 &  8.444917 & 0.058222280 & 0.14405559 & 0.095381342 & 0.2393583 &  0.7880688 & 0.4769067 & 0.226419977 & 1.559189899 & 0.80340438 & 2.083063786 & 5.363952207 & 3.503430060\\\\\n",
       "\t6 & RACTRU\\_Scan1.qptiff & RACTRU &  38 &  38 &  38 & 23.019207 &  8.3016812 & 11.614162 & 0.036987134 & 0.47420639 & 0.375801253 & 1.4504240 &  7.0893089 & 5.8201625 & 2.079205305 & 1.963582790 & 1.98960600 & 0.198145359 & 1.952840251 & 1.557910260\\\\\n",
       "\\end{tabular}\n"
      ],
      "text/markdown": [
       "\n",
       "A data.frame: 6 × 20\n",
       "\n",
       "| <!--/--> | Sample.Name &lt;chr&gt; | study_id &lt;chr&gt; | total_roi &lt;dbl&gt; | n_tumor_segments &lt;dbl&gt; | n_stroma_segments &lt;dbl&gt; | PDL1.panCK.tumor_percent &lt;dbl&gt; | PDL1.panCK.stroma_percent &lt;dbl&gt; | PDL1.panCK.all_percent &lt;dbl&gt; | PDL1.panCKneg.CD3pos.tumor_percent &lt;dbl&gt; | PDL1.panCKneg.CD3pos.stroma_percent &lt;dbl&gt; | PDL1.panCKneg.CD3pos.all_percent &lt;dbl&gt; | PDL1.panCKneg.CD3neg.tumor_percent &lt;dbl&gt; | PDL1.panCKneg.CD3neg.stroma_percent &lt;dbl&gt; | PDL1.panCKneg.CD3neg.all_percent &lt;dbl&gt; | CD3.CD8.Tcell.tumor_percent &lt;dbl&gt; | CD3.CD8.Tcell.stroma_percent &lt;dbl&gt; | CD3.CD8.Tcell.all_percent &lt;dbl&gt; | Treg.tumor_percent &lt;dbl&gt; | Treg.stroma_percent &lt;dbl&gt; | Treg.all_percent &lt;dbl&gt; |\n",
       "|---|---|---|---|---|---|---|---|---|---|---|---|---|---|---|---|---|---|---|---|---|\n",
       "| 1 | RACTIH_Scan1.qptiff | RACTIH |  12 |  12 |  12 |  1.581028 |  2.4818933 |  1.932385 | 0.002949678 | 0.01845274 | 0.008996204 | 0.4277034 |  2.1220649 | 1.0885406 | 0.020647749 | 0.009226369 | 0.01619317 | 0.000000000 | 0.004613184 | 0.001799241 |\n",
       "| 2 | RACTKE_Scan1.qptiff | RACTKE | 285 | 285 | 285 | 68.519584 | 35.4576429 | 51.416619 | 0.049980291 | 1.07511932 | 0.580285409 | 1.1840614 | 12.9683078 | 7.2800601 | 0.055449832 | 2.010679038 | 1.06689123 | 0.092793596 | 3.922979994 | 2.074151626 |\n",
       "| 3 | RACTLH_Scan2.qptiff | RACTLH |  59 |  59 |  59 |  8.792360 |  3.9117319 |  6.129775 | 0.000000000 | 0.02801540 | 0.015283563 | 0.3746256 |  2.2418837 | 1.3932923 | 0.003128397 | 0.319896799 | 0.17593870 | 0.004692596 | 0.138773968 | 0.077839544 |\n",
       "| 4 | RACTNY_Scan1.qptiff | RACTNY |  27 |  27 |  27 |  3.737032 |  0.8999784 |  2.049500 | 0.004234597 | 0.02019182 | 0.013726247 | 0.3917002 |  0.7427706 | 0.6005233 | 0.406521279 | 1.400447105 | 0.99772659 | 0.175735761 | 0.346145525 | 0.277098615 |\n",
       "| 5 | RACTRF_Scan1.qptiff | RACTRF |  10 |  10 |  10 | 13.805149 |  1.4236082 |  8.444917 | 0.058222280 | 0.14405559 | 0.095381342 | 0.2393583 |  0.7880688 | 0.4769067 | 0.226419977 | 1.559189899 | 0.80340438 | 2.083063786 | 5.363952207 | 3.503430060 |\n",
       "| 6 | RACTRU_Scan1.qptiff | RACTRU |  38 |  38 |  38 | 23.019207 |  8.3016812 | 11.614162 | 0.036987134 | 0.47420639 | 0.375801253 | 1.4504240 |  7.0893089 | 5.8201625 | 2.079205305 | 1.963582790 | 1.98960600 | 0.198145359 | 1.952840251 | 1.557910260 |\n",
       "\n"
      ],
      "text/plain": [
       "  Sample.Name         study_id total_roi n_tumor_segments n_stroma_segments\n",
       "1 RACTIH_Scan1.qptiff RACTIH    12        12               12              \n",
       "2 RACTKE_Scan1.qptiff RACTKE   285       285              285              \n",
       "3 RACTLH_Scan2.qptiff RACTLH    59        59               59              \n",
       "4 RACTNY_Scan1.qptiff RACTNY    27        27               27              \n",
       "5 RACTRF_Scan1.qptiff RACTRF    10        10               10              \n",
       "6 RACTRU_Scan1.qptiff RACTRU    38        38               38              \n",
       "  PDL1.panCK.tumor_percent PDL1.panCK.stroma_percent PDL1.panCK.all_percent\n",
       "1  1.581028                 2.4818933                 1.932385             \n",
       "2 68.519584                35.4576429                51.416619             \n",
       "3  8.792360                 3.9117319                 6.129775             \n",
       "4  3.737032                 0.8999784                 2.049500             \n",
       "5 13.805149                 1.4236082                 8.444917             \n",
       "6 23.019207                 8.3016812                11.614162             \n",
       "  PDL1.panCKneg.CD3pos.tumor_percent PDL1.panCKneg.CD3pos.stroma_percent\n",
       "1 0.002949678                        0.01845274                         \n",
       "2 0.049980291                        1.07511932                         \n",
       "3 0.000000000                        0.02801540                         \n",
       "4 0.004234597                        0.02019182                         \n",
       "5 0.058222280                        0.14405559                         \n",
       "6 0.036987134                        0.47420639                         \n",
       "  PDL1.panCKneg.CD3pos.all_percent PDL1.panCKneg.CD3neg.tumor_percent\n",
       "1 0.008996204                      0.4277034                         \n",
       "2 0.580285409                      1.1840614                         \n",
       "3 0.015283563                      0.3746256                         \n",
       "4 0.013726247                      0.3917002                         \n",
       "5 0.095381342                      0.2393583                         \n",
       "6 0.375801253                      1.4504240                         \n",
       "  PDL1.panCKneg.CD3neg.stroma_percent PDL1.panCKneg.CD3neg.all_percent\n",
       "1  2.1220649                          1.0885406                       \n",
       "2 12.9683078                          7.2800601                       \n",
       "3  2.2418837                          1.3932923                       \n",
       "4  0.7427706                          0.6005233                       \n",
       "5  0.7880688                          0.4769067                       \n",
       "6  7.0893089                          5.8201625                       \n",
       "  CD3.CD8.Tcell.tumor_percent CD3.CD8.Tcell.stroma_percent\n",
       "1 0.020647749                 0.009226369                 \n",
       "2 0.055449832                 2.010679038                 \n",
       "3 0.003128397                 0.319896799                 \n",
       "4 0.406521279                 1.400447105                 \n",
       "5 0.226419977                 1.559189899                 \n",
       "6 2.079205305                 1.963582790                 \n",
       "  CD3.CD8.Tcell.all_percent Treg.tumor_percent Treg.stroma_percent\n",
       "1 0.01619317                0.000000000        0.004613184        \n",
       "2 1.06689123                0.092793596        3.922979994        \n",
       "3 0.17593870                0.004692596        0.138773968        \n",
       "4 0.99772659                0.175735761        0.346145525        \n",
       "5 0.80340438                2.083063786        5.363952207        \n",
       "6 1.98960600                0.198145359        1.952840251        \n",
       "  Treg.all_percent\n",
       "1 0.001799241     \n",
       "2 2.074151626     \n",
       "3 0.077839544     \n",
       "4 0.277098615     \n",
       "5 3.503430060     \n",
       "6 1.557910260     "
      ]
     },
     "metadata": {},
     "output_type": "display_data"
    }
   ],
   "source": [
    "print('Loading libraries')\n",
    "start_time <- Sys.time()\n",
    "suppressPackageStartupMessages({\n",
    "    library(data.table)\n",
    "    library(ggplot2)\n",
    "    library(ggpubr)\n",
    "    library(patchwork)\n",
    "    library(plyr)\n",
    "    library(dplyr)\n",
    "    library(future)\n",
    "    library(pheatmap)\n",
    "    library(RColorBrewer)\n",
    "    library(stringr)\n",
    "    library(rstatix)\n",
    "    library(readxl)\n",
    "    library(tidyr)\n",
    "    }\n",
    ")\n",
    "print('Library load finished')\n",
    "print(Sys.time()-start_time)\n",
    "\n",
    "\n",
    "hpc =  TRUE\n",
    "work_desktop = FALSE\n",
    "work_linux = TRUE\n",
    "singularity = TRUE\n",
    "prj =  \"HCC-CBS-173-Hillman-BFerris-NRG-HN003-Vectra\"\n",
    "if (!hpc){\n",
    "    if (work_desktop){\n",
    "        if (work_linux){\n",
    "            base = paste0('/mnt/d/OneDrive - University of Pittsburgh/Internal_Project_Data_2/' ,prj)\n",
    "        }else{\n",
    "            base =paste0('D:\\\\OneDrive - University of Pittsburgh\\\\Internal_Project_Data_2\\\\', prj)\n",
    "        }\n",
    "    }else{\n",
    "        base = paste0('/home/brian/data/odrive/Internal_Project_Data_2/',prj)\n",
    "    }\n",
    "}else{\n",
    "    if (singularity){\n",
    "        base = '/mnt'\n",
    "    }else{\n",
    "        base = paste0('/ix/rbao/Projects/', prj)\n",
    "    }\n",
    "}\n",
    "print(base)\n",
    "results <- file.path(base,'results')\n",
    "print(results)\n",
    "fn <- 'cell_density_34_all_inc_tumor_stroma_20_percent_v1.csv'\n",
    "df <- read.csv(file.path(results,fn))\n",
    "head(df)\n"
   ]
  },
  {
   "cell_type": "markdown",
   "id": "cd28f646-a113-4b59-9a8b-c7b80ebf37f3",
   "metadata": {},
   "source": [
    "# Check CD8 T cell percents across patients"
   ]
  },
  {
   "cell_type": "code",
   "execution_count": 3,
   "id": "6d20dfd3-3c23-4ecd-ab3c-63e2389133d1",
   "metadata": {
    "tags": []
   },
   "outputs": [
    {
     "data": {
      "image/png": "[encoded data removed]",
      "text/plain": [
       "plot without title"
      ]
     },
     "metadata": {
      "image/png": {
       "height": 300,
       "width": 900
      }
     },
     "output_type": "display_data"
    }
   ],
   "source": [
    "options(repr.plot.width=15,repr.plot.height=5)\n",
    "d1 <- df\n",
    "d1$Study_ID <- factor(d1$study_id,\n",
    "                         levels=as.factor(sort(unique(df$study_id))))\n",
    "\n",
    "ggplot(d1, aes(x=Study_ID,\n",
    "                 y=CD3.CD8.Tcell.tumor_percent,\n",
    "                    )) +\n",
    "       geom_bar(stat='identity',\n",
    "                position = position_dodge(width = 0.9)) + \n",
    "       theme(axis.text.x = element_text(angle = 90, size = 10))"
   ]
  }
 ],
 "metadata": {
  "kernelspec": {
   "display_name": "R 4 with seurat",
   "language": "R",
   "name": "r_seurat"
  },
  "language_info": {
   "codemirror_mode": "r",
   "file_extension": ".r",
   "mimetype": "text/x-r-source",
   "name": "R",
   "pygments_lexer": "r",
   "version": "4.1.3"
  }
 },
 "nbformat": 4,
 "nbformat_minor": 5
}
