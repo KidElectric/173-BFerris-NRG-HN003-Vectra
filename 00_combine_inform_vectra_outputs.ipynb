{
 "cells": [
  {
   "cell_type": "markdown",
   "id": "86ec5488-c2e3-4340-b9d4-5d65fe102a54",
   "metadata": {},
   "source": [
    "# Imports"
   ]
  },
  {
   "cell_type": "code",
   "execution_count": 1,
   "id": "0a0417e4-a52b-4e6c-b135-6d92406a8ceb",
   "metadata": {
    "tags": []
   },
   "outputs": [
    {
     "name": "stdout",
     "output_type": "stream",
     "text": [
      "True\n",
      "vectra outputs 2029\n",
      "TMA: 0 WTS: 2029\n",
      "[PosixPath('/mnt/data/inform_data_exports/RACUEV_Scan1_[7385,38436]_cell_seg_data.txt')]\n"
     ]
    }
   ],
   "source": [
    "#Run in pathml_jupyter.sif or similar image with opencv, scipy, sklearn, matplotlib etc\n",
    "#or pointpats_jupyter.sif\n",
    "# apptainer shell -B  ~/HCC-CBS-028-Pfizer-TBruno:/mnt --nv ~/odrive/data_transfer/pathml_jupyter.simg\n",
    "import os\n",
    "import sys\n",
    "import pdb\n",
    "import time\n",
    "from pathlib import Path\n",
    "import pandas as pd\n",
    "import numpy as np\n",
    "from matplotlib import pyplot as plt\n",
    "import seaborn as sns\n",
    "from tqdm import tqdm\n",
    "hpc = True\n",
    "work_desktop = False\n",
    "work_linux = True\n",
    "singularity = True\n",
    "prj = \"HCC-CBS-173-Hillman-BFerris-NRG-HN003-Vectra\"\n",
    "if not hpc:\n",
    "    if work_desktop:\n",
    "        if singularity:\n",
    "            base = Path('/mnt/data')\n",
    "            scripts = Path('/mnt/scripts')\n",
    "        else:\n",
    "            if work_linux == True:\n",
    "                base = Path('/mnt/d/OneDrive - University of Pittsburgh/Internal_Project_Data_2/%s' % proj)\n",
    "            else:\n",
    "                base = Path(r'D:\\OneDrive - University of Pittsburgh\\Internal_Project_Data_2\\%s' % proj)\n",
    "            scripts = base.joinpath('scripts')\n",
    "    else: #Laptop\n",
    "        base = Path('/home/brian/data/odrive/Internal_Project_Data_2/%s' % proj)\n",
    "        scripts = base.joinpath('scripts')\n",
    "else:\n",
    "    if singularity:\n",
    "        base = Path('/mnt') \n",
    "    else:\n",
    "        base = Path('/ix/rbao/Projects/%s' % prj)\n",
    "    scripts = base.joinpath('scripts')\n",
    "                        \n",
    "#Custom helper functions:\n",
    "sys.path.append(str(scripts.joinpath('inform_vectra_tools')))\n",
    "from inform_vectra_tools import vecutils\n",
    "\n",
    "%load_ext autoreload\n",
    "%autoreload 2\n",
    "\n",
    "results = base.joinpath('results')\n",
    "sampleinfo = base.joinpath('sampleinfo')\n",
    "# info = pd.read_excel(sampleinfo.joinpath('18_139_clinical_information.xlsx'),header=1)\n",
    "data = base.joinpath('data','inform_data_exports')\n",
    "# data =  data.joinpath('inform')\n",
    "print(data.exists())\n",
    "\n",
    "\n",
    "all_fns = [str(x) for x in data.rglob('*cell_seg_data.txt')]\n",
    "print('vectra outputs',len(all_fns))\n",
    "\n",
    "c_tma = 0\n",
    "c_wts = 0\n",
    "for fn in all_fns:\n",
    "    if 'TMA' in fn:\n",
    "        c_tma = c_tma + 1\n",
    "    else:\n",
    "        # print('WTS file:', fn)\n",
    "        c_wts = c_wts + 1\n",
    "print('TMA:',c_tma, 'WTS:', c_wts)\n",
    "\n",
    "#Load in an example\n",
    "txt = [data.joinpath(all_fns[0])]\n",
    "print(txt)\n",
    "df = pd.read_csv(txt[0], sep='\\t')\n",
    "keep_cols = vecutils.get_min_columns(df)\n",
    "# print(keep_cols)\n",
    "\n"
   ]
  },
  {
   "cell_type": "code",
   "execution_count": 2,
   "id": "d9753197-25dd-4222-9b2a-cc0bb57ec59b",
   "metadata": {
    "tags": []
   },
   "outputs": [
    {
     "data": {
      "text/plain": [
       "2029"
      ]
     },
     "execution_count": 2,
     "metadata": {},
     "output_type": "execute_result"
    }
   ],
   "source": [
    "len(all_fns)"
   ]
  },
  {
   "cell_type": "markdown",
   "id": "c21dc554-248f-4e28-8df3-6e9df65b9534",
   "metadata": {},
   "source": [
    "# Save sample list"
   ]
  },
  {
   "cell_type": "code",
   "execution_count": 14,
   "id": "cac08cc7-2e5d-464e-82c9-f6b4aff90475",
   "metadata": {
    "tags": []
   },
   "outputs": [],
   "source": [
    "all_fns = [x for x in data.rglob('*cell_seg_data.txt')]"
   ]
  },
  {
   "cell_type": "code",
   "execution_count": 10,
   "id": "20e59854-e8c9-47e5-95af-b01f8e512efe",
   "metadata": {
    "tags": []
   },
   "outputs": [],
   "source": [
    "sampleinfo = base.joinpath('sampleinfo')"
   ]
  },
  {
   "cell_type": "code",
   "execution_count": 20,
   "id": "2dc01d4b-55c5-4ca0-9e6e-dc01f02b5b3e",
   "metadata": {
    "tags": []
   },
   "outputs": [
    {
     "data": {
      "text/plain": [
       "'/ix/rbao/Projects/HCC-CBS-173-Hillman-BFerris-NRG-HN003-Vectra/data/inform_data_exports/RACUWG_Scan1_[14325,51531]_cell_seg_data.txt'"
      ]
     },
     "execution_count": 20,
     "metadata": {},
     "output_type": "execute_result"
    }
   ],
   "source": [
    "temp = str(abs_base.joinpath('data','inform_data_exports')) + '/' + df.file.values\n",
    "temp[1]"
   ]
  },
  {
   "cell_type": "code",
   "execution_count": 22,
   "id": "51611f10-e5b3-4c51-8a14-e70ae2103536",
   "metadata": {
    "tags": []
   },
   "outputs": [
    {
     "data": {
      "text/html": [
       "<div>\n",
       "<style scoped>\n",
       "    .dataframe tbody tr th:only-of-type {\n",
       "        vertical-align: middle;\n",
       "    }\n",
       "\n",
       "    .dataframe tbody tr th {\n",
       "        vertical-align: top;\n",
       "    }\n",
       "\n",
       "    .dataframe thead th {\n",
       "        text-align: right;\n",
       "    }\n",
       "</style>\n",
       "<table border=\"1\" class=\"dataframe\">\n",
       "  <thead>\n",
       "    <tr style=\"text-align: right;\">\n",
       "      <th></th>\n",
       "      <th>task</th>\n",
       "      <th>file</th>\n",
       "      <th>fnpn</th>\n",
       "    </tr>\n",
       "  </thead>\n",
       "  <tbody>\n",
       "    <tr>\n",
       "      <th>0</th>\n",
       "      <td>1</td>\n",
       "      <td>RACUEV_Scan1_[7385,38436]_cell_seg_data.txt</td>\n",
       "      <td>/ix/rbao/Projects/HCC-CBS-173-Hillman-BFerris-...</td>\n",
       "    </tr>\n",
       "    <tr>\n",
       "      <th>1</th>\n",
       "      <td>2</td>\n",
       "      <td>RACUWG_Scan1_[14325,51531]_cell_seg_data.txt</td>\n",
       "      <td>/ix/rbao/Projects/HCC-CBS-173-Hillman-BFerris-...</td>\n",
       "    </tr>\n",
       "    <tr>\n",
       "      <th>2</th>\n",
       "      <td>3</td>\n",
       "      <td>RACVIR_Scan1_[17683,50985]_cell_seg_data.txt</td>\n",
       "      <td>/ix/rbao/Projects/HCC-CBS-173-Hillman-BFerris-...</td>\n",
       "    </tr>\n",
       "    <tr>\n",
       "      <th>3</th>\n",
       "      <td>4</td>\n",
       "      <td>RACUGF_Scan1_[14710,40334]_cell_seg_data.txt</td>\n",
       "      <td>/ix/rbao/Projects/HCC-CBS-173-Hillman-BFerris-...</td>\n",
       "    </tr>\n",
       "    <tr>\n",
       "      <th>4</th>\n",
       "      <td>5</td>\n",
       "      <td>RACVHW_Scan1_[12187,46446]_cell_seg_data.txt</td>\n",
       "      <td>/ix/rbao/Projects/HCC-CBS-173-Hillman-BFerris-...</td>\n",
       "    </tr>\n",
       "  </tbody>\n",
       "</table>\n",
       "</div>"
      ],
      "text/plain": [
       "   task                                          file  \\\n",
       "0     1   RACUEV_Scan1_[7385,38436]_cell_seg_data.txt   \n",
       "1     2  RACUWG_Scan1_[14325,51531]_cell_seg_data.txt   \n",
       "2     3  RACVIR_Scan1_[17683,50985]_cell_seg_data.txt   \n",
       "3     4  RACUGF_Scan1_[14710,40334]_cell_seg_data.txt   \n",
       "4     5  RACVHW_Scan1_[12187,46446]_cell_seg_data.txt   \n",
       "\n",
       "                                                fnpn  \n",
       "0  /ix/rbao/Projects/HCC-CBS-173-Hillman-BFerris-...  \n",
       "1  /ix/rbao/Projects/HCC-CBS-173-Hillman-BFerris-...  \n",
       "2  /ix/rbao/Projects/HCC-CBS-173-Hillman-BFerris-...  \n",
       "3  /ix/rbao/Projects/HCC-CBS-173-Hillman-BFerris-...  \n",
       "4  /ix/rbao/Projects/HCC-CBS-173-Hillman-BFerris-...  "
      ]
     },
     "execution_count": 22,
     "metadata": {},
     "output_type": "execute_result"
    }
   ],
   "source": [
    "df = pd.DataFrame([])\n",
    "df.loc[:,'task'] = np.array([i for i in range(1,2030)])\n",
    "df.loc[:,'file'] = [x.parts[-1] for x in all_fns]\n",
    "abs_base = Path('/ix/rbao/Projects/%s' % prj)\n",
    "df.loc[:,'fnpn'] =   str(abs_base.joinpath('data','inform_data_exports')) + '/' + df.file.values \n",
    "df.head()"
   ]
  },
  {
   "cell_type": "code",
   "execution_count": 24,
   "id": "4fdfff17-d84a-4955-997d-6d49b79f531e",
   "metadata": {
    "tags": []
   },
   "outputs": [
    {
     "data": {
      "text/plain": [
       "'/ix/rbao/Projects/HCC-CBS-173-Hillman-BFerris-NRG-HN003-Vectra/data/inform_data_exports/RACUWG_Scan1_[14325,51531]_cell_seg_data.txt'"
      ]
     },
     "execution_count": 24,
     "metadata": {},
     "output_type": "execute_result"
    }
   ],
   "source": [
    "df.fnpn[1]"
   ]
  },
  {
   "cell_type": "code",
   "execution_count": 25,
   "id": "2d7d46c4-042b-4f91-b6a5-a4494415b6a6",
   "metadata": {
    "tags": []
   },
   "outputs": [],
   "source": [
    "df.to_csv(sampleinfo.joinpath('file_list.tsv'),\n",
    "          sep ='\\t',\n",
    "          index = False)"
   ]
  },
  {
   "cell_type": "code",
   "execution_count": 13,
   "id": "727c3f15-a5d4-420b-b540-afddec40bcee",
   "metadata": {
    "tags": []
   },
   "outputs": [
    {
     "data": {
      "text/html": [
       "<div>\n",
       "<style scoped>\n",
       "    .dataframe tbody tr th:only-of-type {\n",
       "        vertical-align: middle;\n",
       "    }\n",
       "\n",
       "    .dataframe tbody tr th {\n",
       "        vertical-align: top;\n",
       "    }\n",
       "\n",
       "    .dataframe thead th {\n",
       "        text-align: right;\n",
       "    }\n",
       "</style>\n",
       "<table border=\"1\" class=\"dataframe\">\n",
       "  <thead>\n",
       "    <tr style=\"text-align: right;\">\n",
       "      <th></th>\n",
       "      <th>task</th>\n",
       "      <th>file</th>\n",
       "      <th>loc</th>\n",
       "    </tr>\n",
       "  </thead>\n",
       "  <tbody>\n",
       "    <tr>\n",
       "      <th>0</th>\n",
       "      <td>0</td>\n",
       "      <td>RACUEV_Scan1_[7385,38436]_cell_seg_data.txt</td>\n",
       "      <td>/ix/rbao/Projects/HCC-CBS-173-Hillman-BFerris-...</td>\n",
       "    </tr>\n",
       "    <tr>\n",
       "      <th>1</th>\n",
       "      <td>1</td>\n",
       "      <td>RACUWG_Scan1_[14325,51531]_cell_seg_data.txt</td>\n",
       "      <td>/ix/rbao/Projects/HCC-CBS-173-Hillman-BFerris-...</td>\n",
       "    </tr>\n",
       "    <tr>\n",
       "      <th>2</th>\n",
       "      <td>2</td>\n",
       "      <td>RACVIR_Scan1_[17683,50985]_cell_seg_data.txt</td>\n",
       "      <td>/ix/rbao/Projects/HCC-CBS-173-Hillman-BFerris-...</td>\n",
       "    </tr>\n",
       "    <tr>\n",
       "      <th>3</th>\n",
       "      <td>3</td>\n",
       "      <td>RACUGF_Scan1_[14710,40334]_cell_seg_data.txt</td>\n",
       "      <td>/ix/rbao/Projects/HCC-CBS-173-Hillman-BFerris-...</td>\n",
       "    </tr>\n",
       "    <tr>\n",
       "      <th>4</th>\n",
       "      <td>4</td>\n",
       "      <td>RACVHW_Scan1_[12187,46446]_cell_seg_data.txt</td>\n",
       "      <td>/ix/rbao/Projects/HCC-CBS-173-Hillman-BFerris-...</td>\n",
       "    </tr>\n",
       "  </tbody>\n",
       "</table>\n",
       "</div>"
      ],
      "text/plain": [
       "   task                                          file  \\\n",
       "0     0   RACUEV_Scan1_[7385,38436]_cell_seg_data.txt   \n",
       "1     1  RACUWG_Scan1_[14325,51531]_cell_seg_data.txt   \n",
       "2     2  RACVIR_Scan1_[17683,50985]_cell_seg_data.txt   \n",
       "3     3  RACUGF_Scan1_[14710,40334]_cell_seg_data.txt   \n",
       "4     4  RACVHW_Scan1_[12187,46446]_cell_seg_data.txt   \n",
       "\n",
       "                                                 loc  \n",
       "0  /ix/rbao/Projects/HCC-CBS-173-Hillman-BFerris-...  \n",
       "1  /ix/rbao/Projects/HCC-CBS-173-Hillman-BFerris-...  \n",
       "2  /ix/rbao/Projects/HCC-CBS-173-Hillman-BFerris-...  \n",
       "3  /ix/rbao/Projects/HCC-CBS-173-Hillman-BFerris-...  \n",
       "4  /ix/rbao/Projects/HCC-CBS-173-Hillman-BFerris-...  "
      ]
     },
     "execution_count": 13,
     "metadata": {},
     "output_type": "execute_result"
    }
   ],
   "source": [
    "df = pd.read_csv(sampleinfo.joinpath('file_list.tsv'),\n",
    "                 sep = '\\t')\n",
    "df.head()"
   ]
  },
  {
   "cell_type": "markdown",
   "id": "ef1155a7-9baf-4dee-9df4-2a4bd9a1c6fe",
   "metadata": {},
   "source": [
    "## No clinical info"
   ]
  },
  {
   "cell_type": "markdown",
   "id": "7113f5dd-5a5b-4940-b1af-5a591a91fe13",
   "metadata": {},
   "source": [
    "# Generate merged cell output df by combining vectra data into one file"
   ]
  },
  {
   "cell_type": "code",
   "execution_count": 3,
   "id": "a33b0966-1ca4-44b5-b02f-8682f31ea2f3",
   "metadata": {
    "tags": []
   },
   "outputs": [
    {
     "data": {
      "text/plain": [
       "2029"
      ]
     },
     "execution_count": 3,
     "metadata": {},
     "output_type": "execute_result"
    }
   ],
   "source": [
    "len([x for x in data.rglob('*cell_seg_data.txt')])"
   ]
  },
  {
   "cell_type": "code",
   "execution_count": 5,
   "id": "45b93582-534a-4b25-8901-989cb1e078f6",
   "metadata": {
    "tags": []
   },
   "outputs": [
    {
     "name": "stderr",
     "output_type": "stream",
     "text": [
      "100%|██████████| 2029/2029 [1:15:49<00:00,  2.24s/it]\n"
     ]
    },
    {
     "name": "stdout",
     "output_type": "stream",
     "text": [
      "/mnt/results/mergepanel_7564156_cell_seg_data_summary.tsv\n",
      "Finished\n",
      "Time elapsed 81.3 minutes\n"
     ]
    },
    {
     "data": {
      "text/html": [
       "<div>\n",
       "<style scoped>\n",
       "    .dataframe tbody tr th:only-of-type {\n",
       "        vertical-align: middle;\n",
       "    }\n",
       "\n",
       "    .dataframe tbody tr th {\n",
       "        vertical-align: top;\n",
       "    }\n",
       "\n",
       "    .dataframe thead th {\n",
       "        text-align: right;\n",
       "    }\n",
       "</style>\n",
       "<table border=\"1\" class=\"dataframe\">\n",
       "  <thead>\n",
       "    <tr style=\"text-align: right;\">\n",
       "      <th></th>\n",
       "      <th>Path</th>\n",
       "      <th>Sample Name</th>\n",
       "      <th>Tissue Category</th>\n",
       "      <th>Phenotype-CD3</th>\n",
       "      <th>Phenotype-PDL1</th>\n",
       "      <th>Phenotype-CK</th>\n",
       "      <th>Phenotype-CD8</th>\n",
       "      <th>Phenotype-PD1</th>\n",
       "      <th>Phenotype-FOXP3</th>\n",
       "      <th>Cell ID</th>\n",
       "      <th>...</th>\n",
       "      <th>Confidence-CD3</th>\n",
       "      <th>Confidence-PDL1</th>\n",
       "      <th>Confidence-CK</th>\n",
       "      <th>Confidence-CD8</th>\n",
       "      <th>Confidence-PD1</th>\n",
       "      <th>Confidence-FOXP3</th>\n",
       "      <th>inForm 2.6.7900.18857</th>\n",
       "      <th>tissue_id</th>\n",
       "      <th>sample_type</th>\n",
       "      <th>tma_wts</th>\n",
       "    </tr>\n",
       "  </thead>\n",
       "  <tbody>\n",
       "    <tr>\n",
       "      <th>0</th>\n",
       "      <td>D:\\Data\\VectraPolaris\\NRG-HN003\\RACUEV\\Scan1</td>\n",
       "      <td>RACUEV_Scan1.qptiff</td>\n",
       "      <td>Stroma</td>\n",
       "      <td>CD3+</td>\n",
       "      <td>PDL1+</td>\n",
       "      <td>other</td>\n",
       "      <td>CD8+</td>\n",
       "      <td>other</td>\n",
       "      <td>other</td>\n",
       "      <td>281212</td>\n",
       "      <td>...</td>\n",
       "      <td>70.42%</td>\n",
       "      <td>96.01%</td>\n",
       "      <td>97.85%</td>\n",
       "      <td>83.14%</td>\n",
       "      <td>99.14%</td>\n",
       "      <td>99.97%</td>\n",
       "      <td>NaN</td>\n",
       "      <td>RACUEV_Scan1_[7385,38436]</td>\n",
       "      <td>WTS</td>\n",
       "      <td>WTS</td>\n",
       "    </tr>\n",
       "    <tr>\n",
       "      <th>1</th>\n",
       "      <td>D:\\Data\\VectraPolaris\\NRG-HN003\\RACUEV\\Scan1</td>\n",
       "      <td>RACUEV_Scan1.qptiff</td>\n",
       "      <td>Tumor</td>\n",
       "      <td>other</td>\n",
       "      <td>other</td>\n",
       "      <td>CK+</td>\n",
       "      <td>other</td>\n",
       "      <td>other</td>\n",
       "      <td>other</td>\n",
       "      <td>281213</td>\n",
       "      <td>...</td>\n",
       "      <td>99.70%</td>\n",
       "      <td>99.70%</td>\n",
       "      <td>99.95%</td>\n",
       "      <td>99.79%</td>\n",
       "      <td>99.93%</td>\n",
       "      <td>99.92%</td>\n",
       "      <td>NaN</td>\n",
       "      <td>RACUEV_Scan1_[7385,38436]</td>\n",
       "      <td>WTS</td>\n",
       "      <td>WTS</td>\n",
       "    </tr>\n",
       "    <tr>\n",
       "      <th>2</th>\n",
       "      <td>D:\\Data\\VectraPolaris\\NRG-HN003\\RACUEV\\Scan1</td>\n",
       "      <td>RACUEV_Scan1.qptiff</td>\n",
       "      <td>Tumor</td>\n",
       "      <td>NaN</td>\n",
       "      <td>NaN</td>\n",
       "      <td>NaN</td>\n",
       "      <td>NaN</td>\n",
       "      <td>NaN</td>\n",
       "      <td>NaN</td>\n",
       "      <td>281214</td>\n",
       "      <td>...</td>\n",
       "      <td>NaN</td>\n",
       "      <td>NaN</td>\n",
       "      <td>NaN</td>\n",
       "      <td>NaN</td>\n",
       "      <td>NaN</td>\n",
       "      <td>NaN</td>\n",
       "      <td>NaN</td>\n",
       "      <td>RACUEV_Scan1_[7385,38436]</td>\n",
       "      <td>WTS</td>\n",
       "      <td>WTS</td>\n",
       "    </tr>\n",
       "    <tr>\n",
       "      <th>3</th>\n",
       "      <td>D:\\Data\\VectraPolaris\\NRG-HN003\\RACUEV\\Scan1</td>\n",
       "      <td>RACUEV_Scan1.qptiff</td>\n",
       "      <td>Stroma</td>\n",
       "      <td>CD3+</td>\n",
       "      <td>other</td>\n",
       "      <td>other</td>\n",
       "      <td>other</td>\n",
       "      <td>other</td>\n",
       "      <td>FOXP3+</td>\n",
       "      <td>281215</td>\n",
       "      <td>...</td>\n",
       "      <td>99.92%</td>\n",
       "      <td>99.62%</td>\n",
       "      <td>99.99%</td>\n",
       "      <td>99.62%</td>\n",
       "      <td>99.54%</td>\n",
       "      <td>94.59%</td>\n",
       "      <td>NaN</td>\n",
       "      <td>RACUEV_Scan1_[7385,38436]</td>\n",
       "      <td>WTS</td>\n",
       "      <td>WTS</td>\n",
       "    </tr>\n",
       "    <tr>\n",
       "      <th>4</th>\n",
       "      <td>D:\\Data\\VectraPolaris\\NRG-HN003\\RACUEV\\Scan1</td>\n",
       "      <td>RACUEV_Scan1.qptiff</td>\n",
       "      <td>Stroma</td>\n",
       "      <td>CD3+</td>\n",
       "      <td>other</td>\n",
       "      <td>other</td>\n",
       "      <td>other</td>\n",
       "      <td>other</td>\n",
       "      <td>FOXP3+</td>\n",
       "      <td>281216</td>\n",
       "      <td>...</td>\n",
       "      <td>85.61%</td>\n",
       "      <td>94.88%</td>\n",
       "      <td>99.69%</td>\n",
       "      <td>99.77%</td>\n",
       "      <td>96.52%</td>\n",
       "      <td>97.96%</td>\n",
       "      <td>NaN</td>\n",
       "      <td>RACUEV_Scan1_[7385,38436]</td>\n",
       "      <td>WTS</td>\n",
       "      <td>WTS</td>\n",
       "    </tr>\n",
       "  </tbody>\n",
       "</table>\n",
       "<p>5 rows × 82 columns</p>\n",
       "</div>"
      ],
      "text/plain": [
       "                                           Path          Sample Name  \\\n",
       "0  D:\\Data\\VectraPolaris\\NRG-HN003\\RACUEV\\Scan1  RACUEV_Scan1.qptiff   \n",
       "1  D:\\Data\\VectraPolaris\\NRG-HN003\\RACUEV\\Scan1  RACUEV_Scan1.qptiff   \n",
       "2  D:\\Data\\VectraPolaris\\NRG-HN003\\RACUEV\\Scan1  RACUEV_Scan1.qptiff   \n",
       "3  D:\\Data\\VectraPolaris\\NRG-HN003\\RACUEV\\Scan1  RACUEV_Scan1.qptiff   \n",
       "4  D:\\Data\\VectraPolaris\\NRG-HN003\\RACUEV\\Scan1  RACUEV_Scan1.qptiff   \n",
       "\n",
       "  Tissue Category Phenotype-CD3 Phenotype-PDL1 Phenotype-CK Phenotype-CD8  \\\n",
       "0          Stroma          CD3+          PDL1+        other          CD8+   \n",
       "1           Tumor         other          other          CK+         other   \n",
       "2           Tumor           NaN            NaN          NaN           NaN   \n",
       "3          Stroma          CD3+          other        other         other   \n",
       "4          Stroma          CD3+          other        other         other   \n",
       "\n",
       "  Phenotype-PD1 Phenotype-FOXP3  Cell ID  ...  Confidence-CD3  \\\n",
       "0         other           other   281212  ...          70.42%   \n",
       "1         other           other   281213  ...          99.70%   \n",
       "2           NaN             NaN   281214  ...             NaN   \n",
       "3         other          FOXP3+   281215  ...          99.92%   \n",
       "4         other          FOXP3+   281216  ...          85.61%   \n",
       "\n",
       "   Confidence-PDL1  Confidence-CK  Confidence-CD8  Confidence-PD1  \\\n",
       "0           96.01%         97.85%          83.14%          99.14%   \n",
       "1           99.70%         99.95%          99.79%          99.93%   \n",
       "2              NaN            NaN             NaN             NaN   \n",
       "3           99.62%         99.99%          99.62%          99.54%   \n",
       "4           94.88%         99.69%          99.77%          96.52%   \n",
       "\n",
       "   Confidence-FOXP3  inForm 2.6.7900.18857                  tissue_id  \\\n",
       "0            99.97%                    NaN  RACUEV_Scan1_[7385,38436]   \n",
       "1            99.92%                    NaN  RACUEV_Scan1_[7385,38436]   \n",
       "2               NaN                    NaN  RACUEV_Scan1_[7385,38436]   \n",
       "3            94.59%                    NaN  RACUEV_Scan1_[7385,38436]   \n",
       "4            97.96%                    NaN  RACUEV_Scan1_[7385,38436]   \n",
       "\n",
       "   sample_type  tma_wts  \n",
       "0          WTS      WTS  \n",
       "1          WTS      WTS  \n",
       "2          WTS      WTS  \n",
       "3          WTS      WTS  \n",
       "4          WTS      WTS  \n",
       "\n",
       "[5 rows x 82 columns]"
      ]
     },
     "execution_count": 5,
     "metadata": {},
     "output_type": "execute_result"
    }
   ],
   "source": [
    "start = time.time()\n",
    "merge = pd.DataFrame([])\n",
    "n_tma = 0\n",
    "fns = [x for x in data.rglob('*cell_seg_data.txt')]\n",
    "for fn in tqdm(fns):\n",
    "    core = vecutils.seg_fn_to_unique_tma_code([fn.parts[-1]],\n",
    "                                            method = 0)\n",
    "    df = pd.read_csv(fn,sep='\\t')\n",
    "    keep_cols = vecutils.get_min_columns(df)\n",
    "    \n",
    "    df = df.loc[:,keep_cols]\n",
    "    df.loc[:,'tissue_id'] = core[0]\n",
    "    if 'TMA' in fn.parts[-1]:\n",
    "        df.loc[:,'sample_type'] = 'TMA'\n",
    "    else:\n",
    "        df.loc[:,'sample_type'] = 'WTS'\n",
    "  \n",
    "    merge = pd.concat((merge,df),axis=0)\n",
    "    \n",
    "if any(df.loc[:,'sample_type']=='TMA'): \n",
    "    for i in range(1,n_tma):\n",
    "        idx = merge.tissue_id.str.contains('TMA0%d' % i)\n",
    "        merge.loc[idx,'tma_wts'] = 'TMA0%d' % i\n",
    "idx = merge.sample_type.str.contains('WTS')\n",
    "merge.loc[idx,'tma_wts'] = 'WTS'\n",
    "\n",
    "merge = merge.reset_index(drop=True)\n",
    "summary = results.joinpath('mergepanel_%d_cell_seg_data_summary.tsv' % merge.shape[0])\n",
    "print(summary)\n",
    "merge.to_csv(summary,sep='\\t',index=False)\n",
    "print('Finished')\n",
    "stop = time.time()\n",
    "print('Time elapsed %2.1f minutes' % ((stop-start)/60))\n",
    "merge.head()\n"
   ]
  },
  {
   "cell_type": "markdown",
   "id": "54e4b206-1127-4298-8fd8-bfa74cb969a4",
   "metadata": {},
   "source": [
    "# Load merge"
   ]
  },
  {
   "cell_type": "code",
   "execution_count": 2,
   "id": "1a120a81-e87a-4c26-865f-9f8df92655aa",
   "metadata": {
    "tags": []
   },
   "outputs": [
    {
     "name": "stdout",
     "output_type": "stream",
     "text": [
      "Time elapsed 1.3 minutes\n"
     ]
    }
   ],
   "source": [
    "start = time.time()\n",
    "merge = pd.read_csv(results.joinpath('mergepanel_7564156_cell_seg_data_summary.tsv'),\n",
    "                    sep = '\\t')\n",
    "stop = time.time()\n",
    "print('Time elapsed %2.1f minutes' % ((stop-start)/60))"
   ]
  },
  {
   "cell_type": "code",
   "execution_count": 3,
   "id": "fbd16306-6dcd-4259-9323-0c2b4e340c0d",
   "metadata": {
    "tags": []
   },
   "outputs": [
    {
     "data": {
      "text/html": [
       "<div>\n",
       "<style scoped>\n",
       "    .dataframe tbody tr th:only-of-type {\n",
       "        vertical-align: middle;\n",
       "    }\n",
       "\n",
       "    .dataframe tbody tr th {\n",
       "        vertical-align: top;\n",
       "    }\n",
       "\n",
       "    .dataframe thead th {\n",
       "        text-align: right;\n",
       "    }\n",
       "</style>\n",
       "<table border=\"1\" class=\"dataframe\">\n",
       "  <thead>\n",
       "    <tr style=\"text-align: right;\">\n",
       "      <th></th>\n",
       "      <th>Path</th>\n",
       "      <th>Sample Name</th>\n",
       "      <th>Tissue Category</th>\n",
       "      <th>Phenotype-CD3</th>\n",
       "      <th>Phenotype-PDL1</th>\n",
       "      <th>Phenotype-CK</th>\n",
       "      <th>Phenotype-CD8</th>\n",
       "      <th>Phenotype-PD1</th>\n",
       "      <th>Phenotype-FOXP3</th>\n",
       "      <th>Cell ID</th>\n",
       "      <th>...</th>\n",
       "      <th>Confidence-CD3</th>\n",
       "      <th>Confidence-PDL1</th>\n",
       "      <th>Confidence-CK</th>\n",
       "      <th>Confidence-CD8</th>\n",
       "      <th>Confidence-PD1</th>\n",
       "      <th>Confidence-FOXP3</th>\n",
       "      <th>inForm 2.6.7900.18857</th>\n",
       "      <th>tissue_id</th>\n",
       "      <th>sample_type</th>\n",
       "      <th>tma_wts</th>\n",
       "    </tr>\n",
       "  </thead>\n",
       "  <tbody>\n",
       "    <tr>\n",
       "      <th>0</th>\n",
       "      <td>D:\\Data\\VectraPolaris\\NRG-HN003\\RACUEV\\Scan1</td>\n",
       "      <td>RACUEV_Scan1.qptiff</td>\n",
       "      <td>Stroma</td>\n",
       "      <td>CD3+</td>\n",
       "      <td>PDL1+</td>\n",
       "      <td>other</td>\n",
       "      <td>CD8+</td>\n",
       "      <td>other</td>\n",
       "      <td>other</td>\n",
       "      <td>281212</td>\n",
       "      <td>...</td>\n",
       "      <td>70.42%</td>\n",
       "      <td>96.01%</td>\n",
       "      <td>97.85%</td>\n",
       "      <td>83.14%</td>\n",
       "      <td>99.14%</td>\n",
       "      <td>99.97%</td>\n",
       "      <td>NaN</td>\n",
       "      <td>RACUEV_Scan1_[7385,38436]</td>\n",
       "      <td>WTS</td>\n",
       "      <td>WTS</td>\n",
       "    </tr>\n",
       "    <tr>\n",
       "      <th>1</th>\n",
       "      <td>D:\\Data\\VectraPolaris\\NRG-HN003\\RACUEV\\Scan1</td>\n",
       "      <td>RACUEV_Scan1.qptiff</td>\n",
       "      <td>Tumor</td>\n",
       "      <td>other</td>\n",
       "      <td>other</td>\n",
       "      <td>CK+</td>\n",
       "      <td>other</td>\n",
       "      <td>other</td>\n",
       "      <td>other</td>\n",
       "      <td>281213</td>\n",
       "      <td>...</td>\n",
       "      <td>99.70%</td>\n",
       "      <td>99.70%</td>\n",
       "      <td>99.95%</td>\n",
       "      <td>99.79%</td>\n",
       "      <td>99.93%</td>\n",
       "      <td>99.92%</td>\n",
       "      <td>NaN</td>\n",
       "      <td>RACUEV_Scan1_[7385,38436]</td>\n",
       "      <td>WTS</td>\n",
       "      <td>WTS</td>\n",
       "    </tr>\n",
       "    <tr>\n",
       "      <th>2</th>\n",
       "      <td>D:\\Data\\VectraPolaris\\NRG-HN003\\RACUEV\\Scan1</td>\n",
       "      <td>RACUEV_Scan1.qptiff</td>\n",
       "      <td>Tumor</td>\n",
       "      <td>NaN</td>\n",
       "      <td>NaN</td>\n",
       "      <td>NaN</td>\n",
       "      <td>NaN</td>\n",
       "      <td>NaN</td>\n",
       "      <td>NaN</td>\n",
       "      <td>281214</td>\n",
       "      <td>...</td>\n",
       "      <td>NaN</td>\n",
       "      <td>NaN</td>\n",
       "      <td>NaN</td>\n",
       "      <td>NaN</td>\n",
       "      <td>NaN</td>\n",
       "      <td>NaN</td>\n",
       "      <td>NaN</td>\n",
       "      <td>RACUEV_Scan1_[7385,38436]</td>\n",
       "      <td>WTS</td>\n",
       "      <td>WTS</td>\n",
       "    </tr>\n",
       "    <tr>\n",
       "      <th>3</th>\n",
       "      <td>D:\\Data\\VectraPolaris\\NRG-HN003\\RACUEV\\Scan1</td>\n",
       "      <td>RACUEV_Scan1.qptiff</td>\n",
       "      <td>Stroma</td>\n",
       "      <td>CD3+</td>\n",
       "      <td>other</td>\n",
       "      <td>other</td>\n",
       "      <td>other</td>\n",
       "      <td>other</td>\n",
       "      <td>FOXP3+</td>\n",
       "      <td>281215</td>\n",
       "      <td>...</td>\n",
       "      <td>99.92%</td>\n",
       "      <td>99.62%</td>\n",
       "      <td>99.99%</td>\n",
       "      <td>99.62%</td>\n",
       "      <td>99.54%</td>\n",
       "      <td>94.59%</td>\n",
       "      <td>NaN</td>\n",
       "      <td>RACUEV_Scan1_[7385,38436]</td>\n",
       "      <td>WTS</td>\n",
       "      <td>WTS</td>\n",
       "    </tr>\n",
       "    <tr>\n",
       "      <th>4</th>\n",
       "      <td>D:\\Data\\VectraPolaris\\NRG-HN003\\RACUEV\\Scan1</td>\n",
       "      <td>RACUEV_Scan1.qptiff</td>\n",
       "      <td>Stroma</td>\n",
       "      <td>CD3+</td>\n",
       "      <td>other</td>\n",
       "      <td>other</td>\n",
       "      <td>other</td>\n",
       "      <td>other</td>\n",
       "      <td>FOXP3+</td>\n",
       "      <td>281216</td>\n",
       "      <td>...</td>\n",
       "      <td>85.61%</td>\n",
       "      <td>94.88%</td>\n",
       "      <td>99.69%</td>\n",
       "      <td>99.77%</td>\n",
       "      <td>96.52%</td>\n",
       "      <td>97.96%</td>\n",
       "      <td>NaN</td>\n",
       "      <td>RACUEV_Scan1_[7385,38436]</td>\n",
       "      <td>WTS</td>\n",
       "      <td>WTS</td>\n",
       "    </tr>\n",
       "  </tbody>\n",
       "</table>\n",
       "<p>5 rows × 82 columns</p>\n",
       "</div>"
      ],
      "text/plain": [
       "                                           Path          Sample Name  \\\n",
       "0  D:\\Data\\VectraPolaris\\NRG-HN003\\RACUEV\\Scan1  RACUEV_Scan1.qptiff   \n",
       "1  D:\\Data\\VectraPolaris\\NRG-HN003\\RACUEV\\Scan1  RACUEV_Scan1.qptiff   \n",
       "2  D:\\Data\\VectraPolaris\\NRG-HN003\\RACUEV\\Scan1  RACUEV_Scan1.qptiff   \n",
       "3  D:\\Data\\VectraPolaris\\NRG-HN003\\RACUEV\\Scan1  RACUEV_Scan1.qptiff   \n",
       "4  D:\\Data\\VectraPolaris\\NRG-HN003\\RACUEV\\Scan1  RACUEV_Scan1.qptiff   \n",
       "\n",
       "  Tissue Category Phenotype-CD3 Phenotype-PDL1 Phenotype-CK Phenotype-CD8  \\\n",
       "0          Stroma          CD3+          PDL1+        other          CD8+   \n",
       "1           Tumor         other          other          CK+         other   \n",
       "2           Tumor           NaN            NaN          NaN           NaN   \n",
       "3          Stroma          CD3+          other        other         other   \n",
       "4          Stroma          CD3+          other        other         other   \n",
       "\n",
       "  Phenotype-PD1 Phenotype-FOXP3  Cell ID  ...  Confidence-CD3  \\\n",
       "0         other           other   281212  ...          70.42%   \n",
       "1         other           other   281213  ...          99.70%   \n",
       "2           NaN             NaN   281214  ...             NaN   \n",
       "3         other          FOXP3+   281215  ...          99.92%   \n",
       "4         other          FOXP3+   281216  ...          85.61%   \n",
       "\n",
       "   Confidence-PDL1  Confidence-CK  Confidence-CD8  Confidence-PD1  \\\n",
       "0           96.01%         97.85%          83.14%          99.14%   \n",
       "1           99.70%         99.95%          99.79%          99.93%   \n",
       "2              NaN            NaN             NaN             NaN   \n",
       "3           99.62%         99.99%          99.62%          99.54%   \n",
       "4           94.88%         99.69%          99.77%          96.52%   \n",
       "\n",
       "   Confidence-FOXP3  inForm 2.6.7900.18857                  tissue_id  \\\n",
       "0            99.97%                    NaN  RACUEV_Scan1_[7385,38436]   \n",
       "1            99.92%                    NaN  RACUEV_Scan1_[7385,38436]   \n",
       "2               NaN                    NaN  RACUEV_Scan1_[7385,38436]   \n",
       "3            94.59%                    NaN  RACUEV_Scan1_[7385,38436]   \n",
       "4            97.96%                    NaN  RACUEV_Scan1_[7385,38436]   \n",
       "\n",
       "   sample_type  tma_wts  \n",
       "0          WTS      WTS  \n",
       "1          WTS      WTS  \n",
       "2          WTS      WTS  \n",
       "3          WTS      WTS  \n",
       "4          WTS      WTS  \n",
       "\n",
       "[5 rows x 82 columns]"
      ]
     },
     "execution_count": 3,
     "metadata": {},
     "output_type": "execute_result"
    }
   ],
   "source": [
    "merge.head()"
   ]
  },
  {
   "cell_type": "markdown",
   "id": "b4e19f6f-e17a-43ce-b0c2-c950c008b542",
   "metadata": {},
   "source": [
    "# Show number of total cells across cores / tissue samples"
   ]
  },
  {
   "cell_type": "code",
   "execution_count": 6,
   "id": "a364372d-0953-4b84-9e7e-1693186da769",
   "metadata": {
    "tags": []
   },
   "outputs": [
    {
     "name": "stdout",
     "output_type": "stream",
     "text": [
      "34\n",
      "['RACTIH_Scan1.qptiff' 'RACTKE_Scan1.qptiff' 'RACTLH_Scan2.qptiff'\n",
      " 'RACTNY_Scan1.qptiff' 'RACTRF_Scan1.qptiff' 'RACTRU_Scan1.qptiff'\n",
      " 'RACTWT_Scan1.qptiff' 'RACTXK_Scan1.qptiff' 'RACTXV_Scan1.qptiff'\n",
      " 'RACTYV_Scan1.qptiff' 'RACUEV_Scan1.qptiff' 'RACUGF_Scan1.qptiff'\n",
      " 'RACUVL_Scan1.qptiff' 'RACUWG_Scan1.qptiff' 'RACUWR_Scan1.qptiff'\n",
      " 'RACUWY_Scan1.qptiff' 'RACUXG_Scan1.qptiff' 'RACUZD_Scan1.qptiff'\n",
      " 'RACUZX_Scan1.qptiff' 'RACVAN_Scan1.qptiff' 'RACVCZ_Scan1.qptiff'\n",
      " 'RACVET_Scan1.qptiff' 'RACVGZ_Scan1.qptiff' 'RACVHW_Scan1.qptiff'\n",
      " 'RACVHX_Scan1.qptiff' 'RACVHY_Scan1.qptiff' 'RACVHZ_Scan1.qptiff'\n",
      " 'RACVIR_Scan1.qptiff' 'RACVIS_Scan1.qptiff' 'RACVIV_Scan1.qptiff'\n",
      " 'RACVIZ_Scan1.qptiff' 'RACVJC_Scan1.qptiff' 'RACVKA_Scan1.qptiff'\n",
      " 'RACVLA_Scan1.qptiff']\n"
     ]
    }
   ],
   "source": [
    "ids = merge.loc[:,'Sample Name'].unique()\n",
    "n_ids = len(ids)\n",
    "print(n_ids)\n",
    "print(np.sort(ids))"
   ]
  },
  {
   "cell_type": "code",
   "execution_count": 65,
   "id": "6790e4e8-51a3-4279-b201-30c017cfd41f",
   "metadata": {
    "tags": []
   },
   "outputs": [
    {
     "data": {
      "text/html": [
       "<div>\n",
       "<style scoped>\n",
       "    .dataframe tbody tr th:only-of-type {\n",
       "        vertical-align: middle;\n",
       "    }\n",
       "\n",
       "    .dataframe tbody tr th {\n",
       "        vertical-align: top;\n",
       "    }\n",
       "\n",
       "    .dataframe thead th {\n",
       "        text-align: right;\n",
       "    }\n",
       "</style>\n",
       "<table border=\"1\" class=\"dataframe\">\n",
       "  <thead>\n",
       "    <tr style=\"text-align: right;\">\n",
       "      <th></th>\n",
       "      <th>Sample Name</th>\n",
       "      <th>Tissue Category</th>\n",
       "      <th>Cell ID</th>\n",
       "    </tr>\n",
       "  </thead>\n",
       "  <tbody>\n",
       "    <tr>\n",
       "      <th>0</th>\n",
       "      <td>RACTIH_Scan1.qptiff</td>\n",
       "      <td>Blank</td>\n",
       "      <td>21</td>\n",
       "    </tr>\n",
       "    <tr>\n",
       "      <th>1</th>\n",
       "      <td>RACTIH_Scan1.qptiff</td>\n",
       "      <td>Stroma</td>\n",
       "      <td>21677</td>\n",
       "    </tr>\n",
       "    <tr>\n",
       "      <th>2</th>\n",
       "      <td>RACTIH_Scan1.qptiff</td>\n",
       "      <td>Tumor</td>\n",
       "      <td>33902</td>\n",
       "    </tr>\n",
       "    <tr>\n",
       "      <th>3</th>\n",
       "      <td>RACTKE_Scan1.qptiff</td>\n",
       "      <td>Blank</td>\n",
       "      <td>234</td>\n",
       "    </tr>\n",
       "    <tr>\n",
       "      <th>4</th>\n",
       "      <td>RACTKE_Scan1.qptiff</td>\n",
       "      <td>Stroma</td>\n",
       "      <td>568216</td>\n",
       "    </tr>\n",
       "  </tbody>\n",
       "</table>\n",
       "</div>"
      ],
      "text/plain": [
       "           Sample Name Tissue Category  Cell ID\n",
       "0  RACTIH_Scan1.qptiff           Blank       21\n",
       "1  RACTIH_Scan1.qptiff          Stroma    21677\n",
       "2  RACTIH_Scan1.qptiff           Tumor    33902\n",
       "3  RACTKE_Scan1.qptiff           Blank      234\n",
       "4  RACTKE_Scan1.qptiff          Stroma   568216"
      ]
     },
     "execution_count": 65,
     "metadata": {},
     "output_type": "execute_result"
    }
   ],
   "source": [
    "tab = merge.groupby(by=['Sample Name','Tissue Category'])['Cell ID'].count()\n",
    "tab = tab.to_frame().reset_index()\n",
    "tab.head()"
   ]
  },
  {
   "cell_type": "code",
   "execution_count": 8,
   "id": "212241ee-1ce5-4d95-baac-9df773b7333e",
   "metadata": {
    "tags": []
   },
   "outputs": [
    {
     "data": {
      "text/plain": [
       "Text(0, 0.5, 'log cell counts')"
      ]
     },
     "execution_count": 8,
     "metadata": {},
     "output_type": "execute_result"
    },
    {
     "data": {
      "image/png": "[encoded data removed]",
      "text/plain": [
       "<Figure size 2000x500 with 1 Axes>"
      ]
     },
     "metadata": {},
     "output_type": "display_data"
    }
   ],
   "source": [
    "fig = plt.figure(figsize=(20,5))\n",
    "ax = fig.add_subplot(1,1,1)\n",
    "# Determine unique tissue_id values:\n",
    "sns.barplot( x = 'Sample Name',\n",
    "            y = 'Cell ID',\n",
    "             data= tab.sort_values('Sample Name'),\n",
    "             hue = 'Tissue Category',\n",
    "             ax=ax)\n",
    "plt.xticks(rotation = 90);\n",
    "plt.yscale('log');\n",
    "plt.ylabel('log cell counts')"
   ]
  },
  {
   "cell_type": "code",
   "execution_count": 70,
   "id": "6ec5eecd-a6d6-4efd-831e-831603dc8abd",
   "metadata": {
    "tags": []
   },
   "outputs": [
    {
     "data": {
      "text/html": [
       "<div>\n",
       "<style scoped>\n",
       "    .dataframe tbody tr th:only-of-type {\n",
       "        vertical-align: middle;\n",
       "    }\n",
       "\n",
       "    .dataframe tbody tr th {\n",
       "        vertical-align: top;\n",
       "    }\n",
       "\n",
       "    .dataframe thead th {\n",
       "        text-align: right;\n",
       "    }\n",
       "</style>\n",
       "<table border=\"1\" class=\"dataframe\">\n",
       "  <thead>\n",
       "    <tr style=\"text-align: right;\">\n",
       "      <th></th>\n",
       "      <th>Sample Name</th>\n",
       "      <th>Tissue Category</th>\n",
       "      <th>Cell ID</th>\n",
       "    </tr>\n",
       "  </thead>\n",
       "  <tbody>\n",
       "    <tr>\n",
       "      <th>59</th>\n",
       "      <td>RACVCZ_Scan1.qptiff</td>\n",
       "      <td>Blank</td>\n",
       "      <td>5824</td>\n",
       "    </tr>\n",
       "    <tr>\n",
       "      <th>33</th>\n",
       "      <td>RACUGF_Scan1.qptiff</td>\n",
       "      <td>Blank</td>\n",
       "      <td>2706</td>\n",
       "    </tr>\n",
       "    <tr>\n",
       "      <th>6</th>\n",
       "      <td>RACTLH_Scan2.qptiff</td>\n",
       "      <td>Blank</td>\n",
       "      <td>714</td>\n",
       "    </tr>\n",
       "    <tr>\n",
       "      <th>12</th>\n",
       "      <td>RACTRF_Scan1.qptiff</td>\n",
       "      <td>Blank</td>\n",
       "      <td>516</td>\n",
       "    </tr>\n",
       "    <tr>\n",
       "      <th>74</th>\n",
       "      <td>RACVHY_Scan1.qptiff</td>\n",
       "      <td>Blank</td>\n",
       "      <td>425</td>\n",
       "    </tr>\n",
       "    <tr>\n",
       "      <th>71</th>\n",
       "      <td>RACVHX_Scan1.qptiff</td>\n",
       "      <td>Blank</td>\n",
       "      <td>287</td>\n",
       "    </tr>\n",
       "    <tr>\n",
       "      <th>18</th>\n",
       "      <td>RACTWT_Scan1.qptiff</td>\n",
       "      <td>Blank</td>\n",
       "      <td>276</td>\n",
       "    </tr>\n",
       "    <tr>\n",
       "      <th>3</th>\n",
       "      <td>RACTKE_Scan1.qptiff</td>\n",
       "      <td>Blank</td>\n",
       "      <td>234</td>\n",
       "    </tr>\n",
       "    <tr>\n",
       "      <th>98</th>\n",
       "      <td>RACVLA_Scan1.qptiff</td>\n",
       "      <td>Blank</td>\n",
       "      <td>177</td>\n",
       "    </tr>\n",
       "    <tr>\n",
       "      <th>9</th>\n",
       "      <td>RACTNY_Scan1.qptiff</td>\n",
       "      <td>Blank</td>\n",
       "      <td>161</td>\n",
       "    </tr>\n",
       "    <tr>\n",
       "      <th>42</th>\n",
       "      <td>RACUWR_Scan1.qptiff</td>\n",
       "      <td>Blank</td>\n",
       "      <td>134</td>\n",
       "    </tr>\n",
       "    <tr>\n",
       "      <th>83</th>\n",
       "      <td>RACVIS_Scan1.qptiff</td>\n",
       "      <td>Blank</td>\n",
       "      <td>88</td>\n",
       "    </tr>\n",
       "    <tr>\n",
       "      <th>27</th>\n",
       "      <td>RACTYV_Scan1.qptiff</td>\n",
       "      <td>Blank</td>\n",
       "      <td>59</td>\n",
       "    </tr>\n",
       "    <tr>\n",
       "      <th>80</th>\n",
       "      <td>RACVIR_Scan1.qptiff</td>\n",
       "      <td>Blank</td>\n",
       "      <td>58</td>\n",
       "    </tr>\n",
       "    <tr>\n",
       "      <th>89</th>\n",
       "      <td>RACVIZ_Scan1.qptiff</td>\n",
       "      <td>Blank</td>\n",
       "      <td>54</td>\n",
       "    </tr>\n",
       "    <tr>\n",
       "      <th>68</th>\n",
       "      <td>RACVHW_Scan1.qptiff</td>\n",
       "      <td>Blank</td>\n",
       "      <td>51</td>\n",
       "    </tr>\n",
       "    <tr>\n",
       "      <th>92</th>\n",
       "      <td>RACVJC_Scan1.qptiff</td>\n",
       "      <td>Blank</td>\n",
       "      <td>42</td>\n",
       "    </tr>\n",
       "    <tr>\n",
       "      <th>62</th>\n",
       "      <td>RACVET_Scan1.qptiff</td>\n",
       "      <td>Blank</td>\n",
       "      <td>28</td>\n",
       "    </tr>\n",
       "    <tr>\n",
       "      <th>15</th>\n",
       "      <td>RACTRU_Scan1.qptiff</td>\n",
       "      <td>Blank</td>\n",
       "      <td>27</td>\n",
       "    </tr>\n",
       "    <tr>\n",
       "      <th>56</th>\n",
       "      <td>RACVAN_Scan1.qptiff</td>\n",
       "      <td>Blank</td>\n",
       "      <td>26</td>\n",
       "    </tr>\n",
       "    <tr>\n",
       "      <th>0</th>\n",
       "      <td>RACTIH_Scan1.qptiff</td>\n",
       "      <td>Blank</td>\n",
       "      <td>21</td>\n",
       "    </tr>\n",
       "    <tr>\n",
       "      <th>30</th>\n",
       "      <td>RACUEV_Scan1.qptiff</td>\n",
       "      <td>Blank</td>\n",
       "      <td>20</td>\n",
       "    </tr>\n",
       "    <tr>\n",
       "      <th>39</th>\n",
       "      <td>RACUWG_Scan1.qptiff</td>\n",
       "      <td>Blank</td>\n",
       "      <td>18</td>\n",
       "    </tr>\n",
       "    <tr>\n",
       "      <th>77</th>\n",
       "      <td>RACVHZ_Scan1.qptiff</td>\n",
       "      <td>Blank</td>\n",
       "      <td>9</td>\n",
       "    </tr>\n",
       "    <tr>\n",
       "      <th>24</th>\n",
       "      <td>RACTXV_Scan1.qptiff</td>\n",
       "      <td>Blank</td>\n",
       "      <td>9</td>\n",
       "    </tr>\n",
       "    <tr>\n",
       "      <th>21</th>\n",
       "      <td>RACTXK_Scan1.qptiff</td>\n",
       "      <td>Blank</td>\n",
       "      <td>9</td>\n",
       "    </tr>\n",
       "    <tr>\n",
       "      <th>51</th>\n",
       "      <td>RACUZD_Scan1.qptiff</td>\n",
       "      <td>Blank</td>\n",
       "      <td>8</td>\n",
       "    </tr>\n",
       "    <tr>\n",
       "      <th>65</th>\n",
       "      <td>RACVGZ_Scan1.qptiff</td>\n",
       "      <td>Blank</td>\n",
       "      <td>6</td>\n",
       "    </tr>\n",
       "    <tr>\n",
       "      <th>48</th>\n",
       "      <td>RACUXG_Scan1.qptiff</td>\n",
       "      <td>Blank</td>\n",
       "      <td>5</td>\n",
       "    </tr>\n",
       "    <tr>\n",
       "      <th>45</th>\n",
       "      <td>RACUWY_Scan1.qptiff</td>\n",
       "      <td>Blank</td>\n",
       "      <td>4</td>\n",
       "    </tr>\n",
       "    <tr>\n",
       "      <th>86</th>\n",
       "      <td>RACVIV_Scan1.qptiff</td>\n",
       "      <td>Blank</td>\n",
       "      <td>2</td>\n",
       "    </tr>\n",
       "    <tr>\n",
       "      <th>36</th>\n",
       "      <td>RACUVL_Scan1.qptiff</td>\n",
       "      <td>Blank</td>\n",
       "      <td>1</td>\n",
       "    </tr>\n",
       "    <tr>\n",
       "      <th>95</th>\n",
       "      <td>RACVKA_Scan1.qptiff</td>\n",
       "      <td>Blank</td>\n",
       "      <td>1</td>\n",
       "    </tr>\n",
       "  </tbody>\n",
       "</table>\n",
       "</div>"
      ],
      "text/plain": [
       "            Sample Name Tissue Category  Cell ID\n",
       "59  RACVCZ_Scan1.qptiff           Blank     5824\n",
       "33  RACUGF_Scan1.qptiff           Blank     2706\n",
       "6   RACTLH_Scan2.qptiff           Blank      714\n",
       "12  RACTRF_Scan1.qptiff           Blank      516\n",
       "74  RACVHY_Scan1.qptiff           Blank      425\n",
       "71  RACVHX_Scan1.qptiff           Blank      287\n",
       "18  RACTWT_Scan1.qptiff           Blank      276\n",
       "3   RACTKE_Scan1.qptiff           Blank      234\n",
       "98  RACVLA_Scan1.qptiff           Blank      177\n",
       "9   RACTNY_Scan1.qptiff           Blank      161\n",
       "42  RACUWR_Scan1.qptiff           Blank      134\n",
       "83  RACVIS_Scan1.qptiff           Blank       88\n",
       "27  RACTYV_Scan1.qptiff           Blank       59\n",
       "80  RACVIR_Scan1.qptiff           Blank       58\n",
       "89  RACVIZ_Scan1.qptiff           Blank       54\n",
       "68  RACVHW_Scan1.qptiff           Blank       51\n",
       "92  RACVJC_Scan1.qptiff           Blank       42\n",
       "62  RACVET_Scan1.qptiff           Blank       28\n",
       "15  RACTRU_Scan1.qptiff           Blank       27\n",
       "56  RACVAN_Scan1.qptiff           Blank       26\n",
       "0   RACTIH_Scan1.qptiff           Blank       21\n",
       "30  RACUEV_Scan1.qptiff           Blank       20\n",
       "39  RACUWG_Scan1.qptiff           Blank       18\n",
       "77  RACVHZ_Scan1.qptiff           Blank        9\n",
       "24  RACTXV_Scan1.qptiff           Blank        9\n",
       "21  RACTXK_Scan1.qptiff           Blank        9\n",
       "51  RACUZD_Scan1.qptiff           Blank        8\n",
       "65  RACVGZ_Scan1.qptiff           Blank        6\n",
       "48  RACUXG_Scan1.qptiff           Blank        5\n",
       "45  RACUWY_Scan1.qptiff           Blank        4\n",
       "86  RACVIV_Scan1.qptiff           Blank        2\n",
       "36  RACUVL_Scan1.qptiff           Blank        1\n",
       "95  RACVKA_Scan1.qptiff           Blank        1"
      ]
     },
     "execution_count": 70,
     "metadata": {},
     "output_type": "execute_result"
    }
   ],
   "source": [
    "tab.loc[tab.loc[:,'Tissue Category'].values == 'Blank',:].sort_values('Cell ID',ascending=False)"
   ]
  },
  {
   "cell_type": "markdown",
   "id": "50d7e169-51d0-41d2-8f27-f5710f81232a",
   "metadata": {},
   "source": [
    "Note: \"Blank\" is empty slide so cells there are artifactual / should be excluded according to Marion."
   ]
  },
  {
   "cell_type": "code",
   "execution_count": 9,
   "id": "5e3f4ca3-a4b0-415a-ac91-82d5cc81042e",
   "metadata": {
    "tags": []
   },
   "outputs": [
    {
     "data": {
      "text/plain": [
       "Index(['Phenotype-CD3', 'Phenotype-PDL1', 'Phenotype-CK', 'Phenotype-CD8',\n",
       "       'Phenotype-PD1', 'Phenotype-FOXP3'],\n",
       "      dtype='object')"
      ]
     },
     "execution_count": 9,
     "metadata": {},
     "output_type": "execute_result"
    }
   ],
   "source": [
    "df.columns[df.columns.str.contains('Phenotype')]"
   ]
  },
  {
   "cell_type": "markdown",
   "id": "a350d4e4-7e54-408d-8a79-04d4595c1ad2",
   "metadata": {},
   "source": [
    "# Examine PD1 vs. CD3"
   ]
  },
  {
   "cell_type": "code",
   "execution_count": 10,
   "id": "f48e0174-9fbe-421c-a4d3-c65a5840d0a1",
   "metadata": {
    "tags": []
   },
   "outputs": [
    {
     "name": "stderr",
     "output_type": "stream",
     "text": [
      "100%|██████████| 34/34 [00:06<00:00,  5.21it/s]\n"
     ]
    }
   ],
   "source": [
    "ids = merge.loc[:,'Sample Name'].unique()\n",
    "p_frac = []\n",
    "c3_frac = []\n",
    "pc3_frac = []\n",
    "c8_frac = []\n",
    "pc8_frac = []\n",
    "ck_frac = []\n",
    "pck_frac = []\n",
    "pc3c8_frac = []\n",
    "pc3_c3frac = []\n",
    "for i,s in enumerate(tqdm(ids)):\n",
    "    idx = merge.loc[:,'Sample Name'].values == s\n",
    "    tot = np.sum(idx)\n",
    "    pd1 = merge.loc[idx,'Phenotype-PD1'].values == 'PD1+'\n",
    "    p_frac.append(np.sum(pd1)/tot)\n",
    "    cd3 = merge.loc[idx,'Phenotype-CD3'].values == 'CD3+'\n",
    "    c3_frac.append(np.sum(cd3)/tot)\n",
    "    pd1cd3 =pd1 & cd3\n",
    "    pc3_frac.append(np.sum(pd1cd3)/tot)\n",
    "    \n",
    "    cd8 = merge.loc[idx,'Phenotype-CD8'].values == 'CD8+'\n",
    "    c8_frac.append(np.sum(cd8)/tot)\n",
    "    pd1cd8 = cd8 & pd1\n",
    "    pc8_frac.append(np.sum(pd1cd8)/tot)\n",
    "    ck = merge.loc[idx,'Phenotype-CK'].values == 'CK+'\n",
    "    ck_frac.append(np.sum(ck)/tot)\n",
    "    pck = ck & pd1\n",
    "    pck_frac.append(np.sum(pck)/tot)\n",
    "    \n",
    "    pc3c8_frac.append(np.sum(pd1 & cd3 & cd8)/tot)\n",
    "    pc3_c3frac.append(np.sum(pd1 & cd3)/np.sum(cd3))\n",
    "    "
   ]
  },
  {
   "cell_type": "code",
   "execution_count": 11,
   "id": "3d9870bc-ba14-4ca9-8b72-951c95b5ccd5",
   "metadata": {
    "tags": []
   },
   "outputs": [
    {
     "name": "stderr",
     "output_type": "stream",
     "text": [
      "No handles with labels found to put in legend.\n"
     ]
    },
    {
     "data": {
      "text/plain": [
       "Text(0, 0.5, 'PD1+CD8+CD3+ sample fraction')"
      ]
     },
     "execution_count": 11,
     "metadata": {},
     "output_type": "execute_result"
    },
    {
     "data": {
      "image/png": "[encoded data removed]",
      "text/plain": [
       "<Figure size 1500x500 with 3 Axes>"
      ]
     },
     "metadata": {},
     "output_type": "display_data"
    }
   ],
   "source": [
    "fig = plt.figure(figsize=[15,5])\n",
    "ax = fig.add_subplot(1,3,1)\n",
    "sns.scatterplot(x=p_frac,y=c3_frac,ax=ax,label='CD3+')\n",
    "sns.scatterplot(x=p_frac,y=pc3_frac,ax=ax,color='r',label='CD3+PD1+')\n",
    "plt.legend()\n",
    "ax.plot([0,0.8],[0,0.8],'--r')\n",
    "plt.xlabel('PD1+ sample fraction')\n",
    "plt.ylabel('sample fraction')\n",
    "    \n",
    "ax = fig.add_subplot(1,3,2)\n",
    "sns.scatterplot(x=pc3c8_frac,y=c8_frac,ax=ax)\n",
    "# sns.scatterplot(x=p_frac,y=pck_frac,ax=ax,color='r')\n",
    "plt.legend()\n",
    "ax.plot([0,0.8],[0,0.8],'--r')\n",
    "plt.xlabel('PD1+ CD8CD3 sample fraction')\n",
    "plt.ylabel('CD8+ T cell sample fraction')\n",
    "\n",
    "\n",
    "ax = fig.add_subplot(1,3,3)\n",
    "# sns.scatterplot(x=c3_frac,y=pc3_c3frac,ax=ax)\n",
    "sns.scatterplot(x=c8_frac,y=pc3c8_frac,ax=ax)\n",
    "ax.plot([0,0.8],[0,0.8],'--r')\n",
    "ax.plot([0,0.8],[0,0.2],'--g') # 20%\n",
    "plt.xlabel('CD8+CD3+ sample fraction')\n",
    "plt.ylabel('PD1+CD8+CD3+ sample fraction')\n",
    "\n",
    "# ax = fig.add_subplot(1,3,3)\n",
    "# sns.scatterplot(x=c3_frac,y=pc3_c3frac,ax=ax)\n",
    "# # sns.scatterplot(x=p_frac,y=pc8_frac,ax=ax,color='r')\n",
    "# ax.plot([0,0.8],[0,0.8],'--r')\n",
    "# plt.xlabel('CD3+ sample fraction')\n",
    "# plt.ylabel('PD-1+ CD3+ sample fraction')"
   ]
  },
  {
   "cell_type": "markdown",
   "id": "f6ce59b7-7640-48b9-a6e9-ecca2398a80d",
   "metadata": {},
   "source": [
    "# Define cell types"
   ]
  },
  {
   "cell_type": "code",
   "execution_count": 26,
   "id": "19ac397b-7e73-468f-9045-75762ab9fb6b",
   "metadata": {
    "tags": []
   },
   "outputs": [
    {
     "name": "stdout",
     "output_type": "stream",
     "text": [
      "1429977 814941 2244918\n"
     ]
    }
   ],
   "source": [
    "ck = df.loc[:,'Phenotype-CK'].values == 'CK+'\n",
    "pdl1 =  df.loc[:,'Phenotype-PDL1'].values == 'PDL1+'\n",
    "print(np.sum(ck & pdl1), np.sum(pdl1 & (~ck)),np.sum(pdl1))\n",
    "# cd3 =  df.loc[:,'Phenotype-PDDL1'].values == 'PDL1+' "
   ]
  },
  {
   "cell_type": "code",
   "execution_count": 48,
   "id": "5220ef13-362c-41e0-b177-138079050254",
   "metadata": {
    "tags": []
   },
   "outputs": [
    {
     "name": "stdout",
     "output_type": "stream",
     "text": [
      "Marker combination PDL1.panCK\n",
      "\tPDL1+, n = 2244918\n",
      "\tCK+, n = 2889629\n",
      "\tIntersection, n = 1429977\n",
      "2889629\n",
      "Marker combination PDL1.panCK.neg\n",
      "\tPDL1+, n = 2244918\n",
      "\tCK-, n = 4674527\n",
      "\tIntersection, n = 814941\n",
      "4674527\n"
     ]
    },
    {
     "data": {
      "text/plain": [
       "True"
      ]
     },
     "execution_count": 48,
     "metadata": {},
     "output_type": "execute_result"
    }
   ],
   "source": [
    "exclusive = False\n",
    "verbose = True\n",
    "qc_thresh = 0\n",
    "pdl1_ck_idx =  vecutils.multi_to_index(df,\n",
    "                                 multi_label_types , \n",
    "                                 'PDL1.panCK',\n",
    "                                 exclusive=exclusive,\n",
    "                                 col_types = cell_cols,\n",
    "                                 qc_thresh= qc_thresh,\n",
    "                                 verbose = verbose)\n",
    "print(np.sum(ck ))\n",
    "pdl1_ckn_idx =  vecutils.multi_to_index(df,\n",
    "                                 multi_label_types , \n",
    "                                 'PDL1.panCK.neg',\n",
    "                                 exclusive=exclusive,\n",
    "                                 col_types = cell_cols,\n",
    "                                 qc_thresh= qc_thresh,\n",
    "                                 verbose = verbose)\n",
    "print( np.sum(df.loc[:,'Phenotype-CK'].values != 'CK+'))\n",
    "\n",
    "#This should be true\n",
    "(np.sum(pdl1_ck_idx) + np.sum(pdl1_ckn_idx)) == np.sum(pdl1)"
   ]
  },
  {
   "cell_type": "code",
   "execution_count": 45,
   "id": "60defbf6-4bb0-4e88-94e7-5d8f4f2c4d1b",
   "metadata": {
    "tags": []
   },
   "outputs": [
    {
     "data": {
      "text/plain": [
       "0"
      ]
     },
     "execution_count": 45,
     "metadata": {},
     "output_type": "execute_result"
    }
   ],
   "source": [
    "np.sum(pdl1) - np.sum(pdl1_ckn_idx)"
   ]
  },
  {
   "cell_type": "code",
   "execution_count": 36,
   "id": "2e3bcaf4-85f5-4324-beae-4b2af663aee9",
   "metadata": {
    "tags": []
   },
   "outputs": [
    {
     "name": "stdout",
     "output_type": "stream",
     "text": [
      "1429977 814941 2244918\n",
      "1331829 1852213\n"
     ]
    }
   ],
   "source": [
    "ck = df.loc[:,'Phenotype-CK'].values == 'CK+'\n",
    "pdl1 =  df.loc[:,'Phenotype-PDL1'].values == 'PDL1+'\n",
    "print(np.sum(ck & pdl1), np.sum(pdl1 & (~ck)),np.sum(pdl1))\n",
    "print(np.sum(pdl1_ck_idx),np.sum(pdl1_ckn_idx))"
   ]
  },
  {
   "cell_type": "code",
   "execution_count": 28,
   "id": "5a877220-d581-41e9-906f-1f00172f07c9",
   "metadata": {
    "tags": []
   },
   "outputs": [
    {
     "data": {
      "text/plain": [
       "True"
      ]
     },
     "execution_count": 28,
     "metadata": {},
     "output_type": "execute_result"
    }
   ],
   "source": [
    "(np.sum(ck & pdl1) + np.sum(pdl1 & (~ck))) == np.sum(pdl1)"
   ]
  },
  {
   "cell_type": "code",
   "execution_count": 6,
   "id": "9ce55955-2e81-4bab-a458-9ebdfbf58ead",
   "metadata": {
    "tags": []
   },
   "outputs": [],
   "source": [
    "col_types = ['PD1','CD8', 'PDL1', 'CD3', 'CK', 'FOXP3']\n",
    "cell_labels = ['PD1+','CD8+', 'PDL1+', 'CD3+', 'CK+', 'FOXP3+']\n",
    "\n",
    "# #T-cell types (ideally also with and without PD-L1, one with CD8+):\n",
    "multi_label_types = { #PDL1 for stroma/ Panck:                     \n",
    "                     'PDL1.panCK': {'PDL1+':True,'CK+':True},\n",
    "                     'PDL1.panCKneg.CD3pos': {'PDL1+':True,'CK+':False,\"CD3+\":True},\n",
    "                     'PDL1.panCKneg.CD3neg': {'PDL1+':True, \"CK+\":False, \"CD3+\":False},\n",
    "                     'CD3.CD8.Tcell': {'CD3+':True,  'CD8+':True}, \n",
    "                     #Treg\n",
    "                     'Treg': {'CD3+':True,'CD8+':False,'FOXP3+':True}, #Need to describe?\n",
    "                    }\n"
   ]
  },
  {
   "cell_type": "markdown",
   "id": "0b73e6fe-052a-471d-8ae9-de03dd82959b",
   "metadata": {},
   "source": [
    "# Save table of co-expression cell types only"
   ]
  },
  {
   "cell_type": "code",
   "execution_count": 19,
   "id": "11a868c6-8e9f-4893-a3af-ea10d0d6c584",
   "metadata": {
    "tags": []
   },
   "outputs": [
    {
     "name": "stdout",
     "output_type": "stream",
     "text": [
      "QC: 50\n"
     ]
    },
    {
     "name": "stderr",
     "output_type": "stream",
     "text": [
      "  0%|          | 0/5 [00:00<?, ?it/s]"
     ]
    },
    {
     "name": "stdout",
     "output_type": "stream",
     "text": [
      "Marker combination PDL1.panCK\n",
      "\tPDL1+, n = 2244918\n",
      "\tCK+, n = 2889629\n",
      "\tIntersection, n = 1429884\n"
     ]
    },
    {
     "name": "stderr",
     "output_type": "stream",
     "text": [
      " 20%|██        | 1/5 [00:10<00:42, 10.73s/it]"
     ]
    },
    {
     "name": "stdout",
     "output_type": "stream",
     "text": [
      "Marker combination PDL1.panCKneg.CD3pos\n",
      "\tPDL1+, n = 2244918\n",
      "\tCK-, n = 4674527\n"
     ]
    },
    {
     "name": "stderr",
     "output_type": "stream",
     "text": [
      " 40%|████      | 2/5 [00:26<00:40, 13.51s/it]"
     ]
    },
    {
     "name": "stdout",
     "output_type": "stream",
     "text": [
      "\tCD3+, n = 865508\n",
      "\tIntersection, n = 183681\n",
      "Marker combination PDL1.panCKneg.CD3neg\n",
      "\tPDL1+, n = 2244918\n",
      "\tCK-, n = 4674527\n"
     ]
    },
    {
     "name": "stderr",
     "output_type": "stream",
     "text": [
      " 60%|██████    | 3/5 [00:41<00:29, 14.55s/it]"
     ]
    },
    {
     "name": "stdout",
     "output_type": "stream",
     "text": [
      "\tCD3-, n = 6698648\n",
      "\tIntersection, n = 631194\n",
      "Marker combination CD3.CD8.Tcell\n",
      "\tCD3+, n = 865508\n"
     ]
    },
    {
     "name": "stderr",
     "output_type": "stream",
     "text": [
      " 80%|████████  | 4/5 [00:52<00:12, 12.83s/it]"
     ]
    },
    {
     "name": "stdout",
     "output_type": "stream",
     "text": [
      "\tCD8+, n = 769168\n",
      "\tIntersection, n = 318604\n",
      "Marker combination Treg\n",
      "\tCD3+, n = 865508\n",
      "\tCD8-, n = 6794988\n"
     ]
    },
    {
     "name": "stderr",
     "output_type": "stream",
     "text": [
      "100%|██████████| 5/5 [01:07<00:00, 13.59s/it]"
     ]
    },
    {
     "name": "stdout",
     "output_type": "stream",
     "text": [
      "\tFOXP3+, n = 396563\n",
      "\tIntersection, n = 224520\n",
      "other 4924642\n"
     ]
    },
    {
     "name": "stderr",
     "output_type": "stream",
     "text": [
      "\n"
     ]
    },
    {
     "name": "stdout",
     "output_type": "stream",
     "text": [
      "/mnt/results/vectra_mergepanel_2639514_of_7564156_qc50_cell_seg_coex_5_group.tsv\n"
     ]
    },
    {
     "data": {
      "text/plain": [
       "coex_cell\n",
       "CD3.CD8.Tcell            318604\n",
       "Other                   4924642\n",
       "PDL1.panCK              1401631\n",
       "PDL1.panCKneg.CD3neg     631194\n",
       "PDL1.panCKneg.CD3pos      63565\n",
       "Treg                     224520\n",
       "Name: sample_type, dtype: int64"
      ]
     },
     "execution_count": 19,
     "metadata": {},
     "output_type": "execute_result"
    }
   ],
   "source": [
    "cell_cols = []\n",
    "conf_cols = []\n",
    "df = merge.copy()\n",
    "for col in col_types:\n",
    "    cell_cols.append('Phenotype-%s' % col)\n",
    "    conf_cols.append('Confidence-%s' % col)\n",
    "    \n",
    "qc_thresh = 50\n",
    "verbose = True\n",
    "print('QC: %d' % qc_thresh)\n",
    "exclusive= False\n",
    "coex_df = pd.DataFrame([])\n",
    "all_use = np.zeros((df.shape[0],)).astype(bool)\n",
    "for comb_type in tqdm(multi_label_types.keys()):\n",
    "    idx =  vecutils.multi_to_index(df,\n",
    "                                 multi_label_types , \n",
    "                                 comb_type,\n",
    "                                 exclusive=exclusive,\n",
    "                                 col_types = cell_cols,\n",
    "                                 qc_thresh= qc_thresh,\n",
    "                                 verbose = verbose)\n",
    "    all_use = all_use | idx\n",
    "    df.loc[idx,'coex_cell']=comb_type\n",
    "\n",
    "other_idx = ~all_use\n",
    "print('other',np.sum(other_idx))\n",
    "df.loc[other_idx,'coex_cell'] = 'Other'\n",
    "coex_fn = results.joinpath('vectra_mergepanel_%d_of_%d_qc%d_cell_seg_coex_5_group.tsv' % \\\n",
    "                           (np.sum(all_use),\n",
    "                            df.shape[0],\n",
    "                            qc_thresh))\n",
    "print(coex_fn)\n",
    "study_ID=df.loc[:,'Sample Name'].str.split('_').str[0]\n",
    "df.loc[:,'study_id'] = study_ID\n",
    "df.to_csv(coex_fn,index=False, sep='\\t')\n",
    "df.groupby(['coex_cell'])['sample_type'].count()"
   ]
  },
  {
   "cell_type": "markdown",
   "id": "64b26ffe-7c88-4e87-96c9-14716530a7c1",
   "metadata": {},
   "source": [
    "# Load coexpressing cell data"
   ]
  },
  {
   "cell_type": "code",
   "execution_count": 8,
   "id": "43882b25-9776-45d2-b61d-ae855fed711b",
   "metadata": {
    "tags": []
   },
   "outputs": [
    {
     "name": "stdout",
     "output_type": "stream",
     "text": [
      "(7564156, 83)\n"
     ]
    },
    {
     "data": {
      "text/plain": [
       "array(['RACTIH', 'RACTKE', 'RACTLH', 'RACTNY', 'RACTRF', 'RACTRU',\n",
       "       'RACTWT', 'RACTXK', 'RACTXV', 'RACTYV', 'RACUEV', 'RACUGF',\n",
       "       'RACUVL', 'RACUWG', 'RACUWR', 'RACUWY', 'RACUXG', 'RACUZD',\n",
       "       'RACUZX', 'RACVAN', 'RACVCZ', 'RACVET', 'RACVGZ', 'RACVHW',\n",
       "       'RACVHX', 'RACVHY', 'RACVHZ', 'RACVIR', 'RACVIS', 'RACVIV',\n",
       "       'RACVIZ', 'RACVJC', 'RACVKA', 'RACVLA'], dtype=object)"
      ]
     },
     "execution_count": 8,
     "metadata": {},
     "output_type": "execute_result"
    }
   ],
   "source": [
    "df = pd.read_csv(results.joinpath('vectra_mergepanel_2639514_of_7564156_qc50_cell_seg_coex_5_group.tsv'),\n",
    "                                  sep='\\t')\n",
    "print(df.shape)\n",
    "pt_ID=df.loc[:,'Sample Name'].str.split('_').str[0]\n",
    "np.unique(pt_ID)"
   ]
  },
  {
   "cell_type": "markdown",
   "id": "927d9b13-bc49-45ae-a926-d020e91be411",
   "metadata": {},
   "source": [
    "# Plot N of each coex cell"
   ]
  },
  {
   "cell_type": "code",
   "execution_count": 10,
   "id": "e6747634-8919-4c0f-b7e2-f283310e5ce8",
   "metadata": {
    "tags": []
   },
   "outputs": [
    {
     "data": {
      "text/plain": [
       "Text(0, 0.5, 'log cell counts')"
      ]
     },
     "execution_count": 10,
     "metadata": {},
     "output_type": "execute_result"
    },
    {
     "data": {
      "image/png": "[encoded data removed]",
      "text/plain": [
       "<Figure size 1400x1000 with 1 Axes>"
      ]
     },
     "metadata": {},
     "output_type": "display_data"
    }
   ],
   "source": [
    "fig = plt.figure(figsize=(14,10))\n",
    "ax = fig.add_subplot(2,1,1)\n",
    "sns.set_style(\"darkgrid\")\n",
    "sns.set(style=\"ticks\")\n",
    "tab = df.groupby(['coex_cell','Tissue Category'])['Cell ID'].count().to_frame().reset_index()\n",
    "ax = sns.barplot(x = 'coex_cell',\n",
    "                 y='Cell ID',\n",
    "             data= tab.sort_values('coex_cell'),\n",
    "             hue = 'Tissue Category',\n",
    "             ax=ax)\n",
    "ax.grid(axis='y')\n",
    "plt.xticks(rotation = 90);\n",
    "plt.yscale('log');\n",
    "plt.ylabel('log cell counts')\n",
    "\n"
   ]
  },
  {
   "cell_type": "markdown",
   "id": "3cf6a1f2-659c-4fd1-9e27-8f08c05a7e32",
   "metadata": {},
   "source": [
    "# Generate cell density (%)"
   ]
  },
  {
   "cell_type": "code",
   "execution_count": 12,
   "id": "50703dc7-0965-49bd-91ee-218908c5da1e",
   "metadata": {
    "tags": []
   },
   "outputs": [
    {
     "data": {
      "text/plain": [
       "{'PDL1.panCK': {'PDL1+': True, 'CK+': True},\n",
       " 'PDL1.panCKneg.CD3pos': {'PDL1+': True, 'CK+': False, 'CD3+': True},\n",
       " 'PDL1.panCKneg.CD3neg': {'PDL1+': True, 'CK+': False, 'CD3+': False},\n",
       " 'CD3.CD8.Tcell': {'CD3+': True, 'CD8+': True},\n",
       " 'Treg': {'CD3+': True, 'CD8+': False, 'FOXP3+': True}}"
      ]
     },
     "execution_count": 12,
     "metadata": {},
     "output_type": "execute_result"
    }
   ],
   "source": [
    "multi_label_types "
   ]
  },
  {
   "cell_type": "code",
   "execution_count": 16,
   "id": "38611a0b-327a-44c7-b473-20623a4986a9",
   "metadata": {
    "tags": []
   },
   "outputs": [
    {
     "data": {
      "text/plain": [
       "{'PDL1.panCK.tumor': {'PDL1.panCK': True},\n",
       " 'PDL1.panCK.stroma': {'PDL1.panCK': True},\n",
       " 'PDL1.panCK.all': {'PDL1.panCK': True},\n",
       " 'PDL1.panCKneg.CD3pos.tumor': {'PDL1.panCKneg.CD3pos': True},\n",
       " 'PDL1.panCKneg.CD3pos.stroma': {'PDL1.panCKneg.CD3pos': True},\n",
       " 'PDL1.panCKneg.CD3pos.all': {'PDL1.panCKneg.CD3pos': True},\n",
       " 'PDL1.panCKneg.CD3neg.tumor': {'PDL1.panCKneg.CD3neg': True},\n",
       " 'PDL1.panCKneg.CD3neg.stroma': {'PDL1.panCKneg.CD3neg': True},\n",
       " 'PDL1.panCKneg.CD3neg.all': {'PDL1.panCKneg.CD3neg': True},\n",
       " 'CD3.CD8.Tcell.tumor': {'CD3.CD8.Tcell': True},\n",
       " 'CD3.CD8.Tcell.stroma': {'CD3.CD8.Tcell': True},\n",
       " 'CD3.CD8.Tcell.all': {'CD3.CD8.Tcell': True},\n",
       " 'Treg.tumor': {'Treg': True},\n",
       " 'Treg.stroma': {'Treg': True},\n",
       " 'Treg.all': {'Treg': True}}"
      ]
     },
     "execution_count": 16,
     "metadata": {},
     "output_type": "execute_result"
    }
   ],
   "source": [
    "new_multi_label = {}\n",
    "new_key_base = ['tumor','stroma','all']\n",
    "for key in multi_label_types.keys():\n",
    "    val = multi_label_types[key]\n",
    "    for base in new_key_base:\n",
    "        new_key = key + '.' + base\n",
    "        new_multi_label[new_key] = {key:True}\n",
    "new_multi_label"
   ]
  },
  {
   "cell_type": "code",
   "execution_count": 44,
   "id": "99a221e0-e4d5-4add-9a9f-35343581821f",
   "metadata": {
    "tags": []
   },
   "outputs": [
    {
     "data": {
      "text/plain": [
       "array(['Stroma', 'Tumor', 'Blank'], dtype=object)"
      ]
     },
     "execution_count": 44,
     "metadata": {},
     "output_type": "execute_result"
    }
   ],
   "source": [
    " f_clin.loc[:,'Tissue Category'].unique()"
   ]
  },
  {
   "cell_type": "markdown",
   "id": "08b3e09b-bf7f-4be9-973d-589af93a7020",
   "metadata": {},
   "source": [
    "## adapted for inform"
   ]
  },
  {
   "cell_type": "code",
   "execution_count": 54,
   "id": "9267c3ca-a48c-4754-bf12-4b9f9a6b9cb6",
   "metadata": {
    "tags": []
   },
   "outputs": [
    {
     "data": {
      "text/plain": [
       "array(['Blank'], dtype=object)"
      ]
     },
     "execution_count": 54,
     "metadata": {},
     "output_type": "execute_result"
    }
   ],
   "source": [
    "idx = df_clin.loc[:,'Tissue Category'].isin(['Tumor','Stroma'])\n",
    "df.loc[~idx,'Tissue Category'].unique()"
   ]
  },
  {
   "cell_type": "code",
   "execution_count": 58,
   "id": "85259b19-52c4-40d8-b2ec-79fc69c965c9",
   "metadata": {
    "tags": []
   },
   "outputs": [
    {
     "name": "stderr",
     "output_type": "stream",
     "text": [
      "100%|██████████| 34/34 [01:05<00:00,  1.92s/it]\n"
     ]
    },
    {
     "name": "stdout",
     "output_type": "stream",
     "text": [
      "/mnt/results/cell_density_34_all_inc_tumor_stroma_20_percent_v1.csv\n"
     ]
    },
    {
     "name": "stderr",
     "output_type": "stream",
     "text": [
      "100%|██████████| 34/34 [01:05<00:00,  1.92s/it]"
     ]
    },
    {
     "name": "stdout",
     "output_type": "stream",
     "text": [
      "/mnt/results/cell_density_34_all_inc_tumor_stroma_35_counts_v1.csv\n"
     ]
    },
    {
     "name": "stderr",
     "output_type": "stream",
     "text": [
      "\n"
     ]
    }
   ],
   "source": [
    "df_clin = df\n",
    "verbose = False\n",
    "cell_labels = [x for x in new_multi_label.keys()]\n",
    "fdr_n = len(cell_labels)\n",
    "pts = df_clin.study_id.unique()\n",
    "tissues = ['Tumor','Stroma']  \n",
    "\n",
    "#Create appropriate key:\n",
    "new_multi_label = {}\n",
    "new_key_base = ['tumor','stroma','all']\n",
    "for key in multi_label_types.keys():\n",
    "    val = multi_label_types[key]\n",
    "    for base in new_key_base:\n",
    "        new_key = key + '.' + base\n",
    "        new_multi_label[new_key] = {key:True}\n",
    "        \n",
    "for data_type in ['percent','counts']:\n",
    "    if data_type == 'counts':\n",
    "        save_counts = True\n",
    "    else:\n",
    "        save_counts = False\n",
    "    dataset_df = pd.DataFrame([])\n",
    "    for pt in tqdm(pts):\n",
    "        idx = (df_clin.study_id.values == pt) \\\n",
    "              & df_clin.loc[:,'Tissue Category'].isin(tissues)\n",
    "        subset = df_clin.loc[idx,:].copy().reset_index(drop=True)\n",
    "        samp_df =subset.loc[[0],['Sample Name','study_id']].copy()   \n",
    "        samp_df.loc[0,'total_roi'] = len(subset.tissue_id.unique())\n",
    "        temp = subset.groupby(['Tissue Category'])['tissue_id'].unique().apply(len).reset_index()\n",
    "        for tissue in tissues:\n",
    "            if tissue in temp.loc[:,'Tissue Category'].values:\n",
    "                x = temp.loc[temp.loc[:,'Tissue Category'].values == tissue,\n",
    "                             'tissue_id'].values\n",
    "            else:\n",
    "                x = 0\n",
    "            col = 'n_%s_segments' % tissue.lower()\n",
    "            samp_df.loc[0,col] = x\n",
    "        for cell in cell_labels:                      \n",
    "            tot = subset.shape[0]\n",
    "            idx = (np.zeros((tot,))+1).astype(bool) # Start true\n",
    "            for cond in new_multi_label[cell]:     \n",
    "                use = new_multi_label[cell][cond]\n",
    "                idx = idx & (subset.coex_cell.str.contains(cond,regex=False) == use)\n",
    "            if ('tumor' in cell):\n",
    "                idx2 = subset.loc[:,'Tissue Category'].values == 'Tumor' \n",
    "                idx = idx & idx2           \n",
    "                tot = np.sum(idx2) # All tumor cells\n",
    "            elif ('stroma' in cell):\n",
    "                idx2 = subset.loc[:,'Tissue Category'].values == 'Stroma' \n",
    "                idx = idx & idx2\n",
    "                tot = np.sum(idx2) #All stromal cells\n",
    "            #Else tot remains same (all cells) and percent is total (tumor + stroma)\n",
    "\n",
    "            counts = np.sum(idx)\n",
    "            percent = counts / tot * 100\n",
    "            if verbose:\n",
    "                print(cell,tot,percent,subset.loc[idx,'coex_cell'].unique(),np.sum(idx))\n",
    "            if save_counts:\n",
    "                samp_df.loc[0,'%s_%s' % (cell,data_type)] = counts\n",
    "                samp_df.loc[0,'%s_%s' % (cell,'denominator')] = tot\n",
    "            else:\n",
    "                samp_df.loc[0,'%s_%s' % (cell,data_type)] = percent\n",
    "        #For each patient:\n",
    "        dataset_df = pd.concat((dataset_df,samp_df),axis=0)\n",
    "    dataset_df = dataset_df.sort_values('study_id').reset_index(drop=True)   \n",
    "    fn = 'cell_density_%d_all_inc_tumor_stroma_%dcol_%s_v1.csv' % (dataset_df.shape[0],\n",
    "                                                                dataset_df.shape[1],\n",
    "                                                                data_type)\n",
    "    pnfn = results.joinpath(fn)\n",
    "    print(pnfn)\n",
    "    dataset_df.to_csv(pnfn,index=False)\n",
    "    "
   ]
  },
  {
   "cell_type": "code",
   "execution_count": 59,
   "id": "7592c5d0-2b31-42d0-9dc9-5546b45de7e4",
   "metadata": {
    "tags": []
   },
   "outputs": [
    {
     "data": {
      "text/html": [
       "<div>\n",
       "<style scoped>\n",
       "    .dataframe tbody tr th:only-of-type {\n",
       "        vertical-align: middle;\n",
       "    }\n",
       "\n",
       "    .dataframe tbody tr th {\n",
       "        vertical-align: top;\n",
       "    }\n",
       "\n",
       "    .dataframe thead th {\n",
       "        text-align: right;\n",
       "    }\n",
       "</style>\n",
       "<table border=\"1\" class=\"dataframe\">\n",
       "  <thead>\n",
       "    <tr style=\"text-align: right;\">\n",
       "      <th></th>\n",
       "      <th>Sample Name</th>\n",
       "      <th>study_id</th>\n",
       "      <th>total_roi</th>\n",
       "      <th>n_tumor_segments</th>\n",
       "      <th>n_stroma_segments</th>\n",
       "      <th>PDL1.panCK.tumor_counts</th>\n",
       "      <th>PDL1.panCK.tumor_denominator</th>\n",
       "      <th>PDL1.panCK.stroma_counts</th>\n",
       "      <th>PDL1.panCK.stroma_denominator</th>\n",
       "      <th>PDL1.panCK.all_counts</th>\n",
       "      <th>...</th>\n",
       "      <th>CD3.CD8.Tcell.stroma_counts</th>\n",
       "      <th>CD3.CD8.Tcell.stroma_denominator</th>\n",
       "      <th>CD3.CD8.Tcell.all_counts</th>\n",
       "      <th>CD3.CD8.Tcell.all_denominator</th>\n",
       "      <th>Treg.tumor_counts</th>\n",
       "      <th>Treg.tumor_denominator</th>\n",
       "      <th>Treg.stroma_counts</th>\n",
       "      <th>Treg.stroma_denominator</th>\n",
       "      <th>Treg.all_counts</th>\n",
       "      <th>Treg.all_denominator</th>\n",
       "    </tr>\n",
       "  </thead>\n",
       "  <tbody>\n",
       "    <tr>\n",
       "      <th>29</th>\n",
       "      <td>RACVIV_Scan1.qptiff</td>\n",
       "      <td>RACVIV</td>\n",
       "      <td>20.0</td>\n",
       "      <td>20.0</td>\n",
       "      <td>20.0</td>\n",
       "      <td>12964.0</td>\n",
       "      <td>31778.0</td>\n",
       "      <td>4766.0</td>\n",
       "      <td>12674.0</td>\n",
       "      <td>17730.0</td>\n",
       "      <td>...</td>\n",
       "      <td>667.0</td>\n",
       "      <td>12674.0</td>\n",
       "      <td>1142.0</td>\n",
       "      <td>44452.0</td>\n",
       "      <td>579.0</td>\n",
       "      <td>31778.0</td>\n",
       "      <td>1030.0</td>\n",
       "      <td>12674.0</td>\n",
       "      <td>1609.0</td>\n",
       "      <td>44452.0</td>\n",
       "    </tr>\n",
       "    <tr>\n",
       "      <th>30</th>\n",
       "      <td>RACVIZ_Scan1.qptiff</td>\n",
       "      <td>RACVIZ</td>\n",
       "      <td>92.0</td>\n",
       "      <td>92.0</td>\n",
       "      <td>92.0</td>\n",
       "      <td>28034.0</td>\n",
       "      <td>112367.0</td>\n",
       "      <td>26209.0</td>\n",
       "      <td>211189.0</td>\n",
       "      <td>54243.0</td>\n",
       "      <td>...</td>\n",
       "      <td>17430.0</td>\n",
       "      <td>211189.0</td>\n",
       "      <td>19802.0</td>\n",
       "      <td>323556.0</td>\n",
       "      <td>4055.0</td>\n",
       "      <td>112367.0</td>\n",
       "      <td>18410.0</td>\n",
       "      <td>211189.0</td>\n",
       "      <td>22465.0</td>\n",
       "      <td>323556.0</td>\n",
       "    </tr>\n",
       "    <tr>\n",
       "      <th>31</th>\n",
       "      <td>RACVJC_Scan1.qptiff</td>\n",
       "      <td>RACVJC</td>\n",
       "      <td>13.0</td>\n",
       "      <td>13.0</td>\n",
       "      <td>13.0</td>\n",
       "      <td>731.0</td>\n",
       "      <td>13340.0</td>\n",
       "      <td>789.0</td>\n",
       "      <td>20696.0</td>\n",
       "      <td>1520.0</td>\n",
       "      <td>...</td>\n",
       "      <td>192.0</td>\n",
       "      <td>20696.0</td>\n",
       "      <td>226.0</td>\n",
       "      <td>34036.0</td>\n",
       "      <td>111.0</td>\n",
       "      <td>13340.0</td>\n",
       "      <td>226.0</td>\n",
       "      <td>20696.0</td>\n",
       "      <td>337.0</td>\n",
       "      <td>34036.0</td>\n",
       "    </tr>\n",
       "    <tr>\n",
       "      <th>32</th>\n",
       "      <td>RACVKA_Scan1.qptiff</td>\n",
       "      <td>RACVKA</td>\n",
       "      <td>16.0</td>\n",
       "      <td>16.0</td>\n",
       "      <td>16.0</td>\n",
       "      <td>5443.0</td>\n",
       "      <td>15192.0</td>\n",
       "      <td>6818.0</td>\n",
       "      <td>50543.0</td>\n",
       "      <td>12261.0</td>\n",
       "      <td>...</td>\n",
       "      <td>6012.0</td>\n",
       "      <td>50543.0</td>\n",
       "      <td>6966.0</td>\n",
       "      <td>65735.0</td>\n",
       "      <td>881.0</td>\n",
       "      <td>15192.0</td>\n",
       "      <td>3932.0</td>\n",
       "      <td>50543.0</td>\n",
       "      <td>4813.0</td>\n",
       "      <td>65735.0</td>\n",
       "    </tr>\n",
       "    <tr>\n",
       "      <th>33</th>\n",
       "      <td>RACVLA_Scan1.qptiff</td>\n",
       "      <td>RACVLA</td>\n",
       "      <td>2.0</td>\n",
       "      <td>2.0</td>\n",
       "      <td>2.0</td>\n",
       "      <td>9.0</td>\n",
       "      <td>1804.0</td>\n",
       "      <td>530.0</td>\n",
       "      <td>7203.0</td>\n",
       "      <td>539.0</td>\n",
       "      <td>...</td>\n",
       "      <td>7.0</td>\n",
       "      <td>7203.0</td>\n",
       "      <td>7.0</td>\n",
       "      <td>9007.0</td>\n",
       "      <td>0.0</td>\n",
       "      <td>1804.0</td>\n",
       "      <td>0.0</td>\n",
       "      <td>7203.0</td>\n",
       "      <td>0.0</td>\n",
       "      <td>9007.0</td>\n",
       "    </tr>\n",
       "  </tbody>\n",
       "</table>\n",
       "<p>5 rows × 35 columns</p>\n",
       "</div>"
      ],
      "text/plain": [
       "            Sample Name study_id  total_roi  n_tumor_segments  \\\n",
       "29  RACVIV_Scan1.qptiff   RACVIV       20.0              20.0   \n",
       "30  RACVIZ_Scan1.qptiff   RACVIZ       92.0              92.0   \n",
       "31  RACVJC_Scan1.qptiff   RACVJC       13.0              13.0   \n",
       "32  RACVKA_Scan1.qptiff   RACVKA       16.0              16.0   \n",
       "33  RACVLA_Scan1.qptiff   RACVLA        2.0               2.0   \n",
       "\n",
       "    n_stroma_segments  PDL1.panCK.tumor_counts  PDL1.panCK.tumor_denominator  \\\n",
       "29               20.0                  12964.0                       31778.0   \n",
       "30               92.0                  28034.0                      112367.0   \n",
       "31               13.0                    731.0                       13340.0   \n",
       "32               16.0                   5443.0                       15192.0   \n",
       "33                2.0                      9.0                        1804.0   \n",
       "\n",
       "    PDL1.panCK.stroma_counts  PDL1.panCK.stroma_denominator  \\\n",
       "29                    4766.0                        12674.0   \n",
       "30                   26209.0                       211189.0   \n",
       "31                     789.0                        20696.0   \n",
       "32                    6818.0                        50543.0   \n",
       "33                     530.0                         7203.0   \n",
       "\n",
       "    PDL1.panCK.all_counts  ...  CD3.CD8.Tcell.stroma_counts  \\\n",
       "29                17730.0  ...                        667.0   \n",
       "30                54243.0  ...                      17430.0   \n",
       "31                 1520.0  ...                        192.0   \n",
       "32                12261.0  ...                       6012.0   \n",
       "33                  539.0  ...                          7.0   \n",
       "\n",
       "    CD3.CD8.Tcell.stroma_denominator  CD3.CD8.Tcell.all_counts  \\\n",
       "29                           12674.0                    1142.0   \n",
       "30                          211189.0                   19802.0   \n",
       "31                           20696.0                     226.0   \n",
       "32                           50543.0                    6966.0   \n",
       "33                            7203.0                       7.0   \n",
       "\n",
       "    CD3.CD8.Tcell.all_denominator  Treg.tumor_counts  Treg.tumor_denominator  \\\n",
       "29                        44452.0              579.0                 31778.0   \n",
       "30                       323556.0             4055.0                112367.0   \n",
       "31                        34036.0              111.0                 13340.0   \n",
       "32                        65735.0              881.0                 15192.0   \n",
       "33                         9007.0                0.0                  1804.0   \n",
       "\n",
       "    Treg.stroma_counts  Treg.stroma_denominator  Treg.all_counts  \\\n",
       "29              1030.0                  12674.0           1609.0   \n",
       "30             18410.0                 211189.0          22465.0   \n",
       "31               226.0                  20696.0            337.0   \n",
       "32              3932.0                  50543.0           4813.0   \n",
       "33                 0.0                   7203.0              0.0   \n",
       "\n",
       "    Treg.all_denominator  \n",
       "29               44452.0  \n",
       "30              323556.0  \n",
       "31               34036.0  \n",
       "32               65735.0  \n",
       "33                9007.0  \n",
       "\n",
       "[5 rows x 35 columns]"
      ]
     },
     "execution_count": 59,
     "metadata": {},
     "output_type": "execute_result"
    }
   ],
   "source": [
    "dataset_df.tail()"
   ]
  }
 ],
 "metadata": {
  "kernelspec": {
   "display_name": "Singularity (py38_sing)",
   "language": "python",
   "name": "py38_sing"
  },
  "language_info": {
   "codemirror_mode": {
    "name": "ipython",
    "version": 3
   },
   "file_extension": ".py",
   "mimetype": "text/x-python",
   "name": "python",
   "nbconvert_exporter": "python",
   "pygments_lexer": "ipython3",
   "version": "3.8.18"
  }
 },
 "nbformat": 4,
 "nbformat_minor": 5
}
