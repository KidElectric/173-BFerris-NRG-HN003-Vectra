{
 "cells": [
  {
   "cell_type": "markdown",
   "id": "86ec5488-c2e3-4340-b9d4-5d65fe102a54",
   "metadata": {},
   "source": [
    "# Imports"
   ]
  },
  {
   "cell_type": "code",
   "execution_count": 2,
   "id": "12997733-b321-477b-9f24-49b976f70215",
   "metadata": {},
   "outputs": [
    {
     "data": {
      "text/plain": [
       "True"
      ]
     },
     "execution_count": 2,
     "metadata": {},
     "output_type": "execute_result"
    }
   ],
   "source": [
    "Path('/mnt/scripts').exists()"
   ]
  },
  {
   "cell_type": "code",
   "execution_count": 1,
   "id": "0a0417e4-a52b-4e6c-b135-6d92406a8ceb",
   "metadata": {},
   "outputs": [
    {
     "name": "stdout",
     "output_type": "stream",
     "text": [
      "False\n",
      "vectra outputs 0\n",
      "TMA: 0 WTS: 0\n"
     ]
    },
    {
     "ename": "IndexError",
     "evalue": "list index out of range",
     "output_type": "error",
     "traceback": [
      "\u001b[0;31m---------------------------------------------------------------------------\u001b[0m",
      "\u001b[0;31mIndexError\u001b[0m                                Traceback (most recent call last)",
      "Input \u001b[0;32mIn [1]\u001b[0m, in \u001b[0;36m<module>\u001b[0;34m\u001b[0m\n\u001b[1;32m     66\u001b[0m \u001b[38;5;28mprint\u001b[39m(\u001b[38;5;124m'\u001b[39m\u001b[38;5;124mTMA:\u001b[39m\u001b[38;5;124m'\u001b[39m,c_tma, \u001b[38;5;124m'\u001b[39m\u001b[38;5;124mWTS:\u001b[39m\u001b[38;5;124m'\u001b[39m, c_wts)\n\u001b[1;32m     68\u001b[0m \u001b[38;5;66;03m#Load in an example\u001b[39;00m\n\u001b[0;32m---> 69\u001b[0m txt \u001b[38;5;241m=\u001b[39m [data\u001b[38;5;241m.\u001b[39mjoinpath(\u001b[43mall_fns\u001b[49m\u001b[43m[\u001b[49m\u001b[38;5;241;43m0\u001b[39;49m\u001b[43m]\u001b[49m)]\n\u001b[1;32m     70\u001b[0m \u001b[38;5;28mprint\u001b[39m(txt)\n\u001b[1;32m     71\u001b[0m df \u001b[38;5;241m=\u001b[39m pd\u001b[38;5;241m.\u001b[39mread_csv(txt[\u001b[38;5;241m0\u001b[39m], sep\u001b[38;5;241m=\u001b[39m\u001b[38;5;124m'\u001b[39m\u001b[38;5;130;01m\\t\u001b[39;00m\u001b[38;5;124m'\u001b[39m)\n",
      "\u001b[0;31mIndexError\u001b[0m: list index out of range"
     ]
    }
   ],
   "source": [
    "#Run in pathml_jupyter.sif or similar image with opencv, scipy, sklearn, matplotlib etc\n",
    "#or pointpats_jupyter.sif\n",
    "# apptainer shell -B  ~/HCC-CBS-028-Pfizer-TBruno:/mnt --nv ~/odrive/data_transfer/pathml_jupyter.simg\n",
    "import os\n",
    "import sys\n",
    "import pdb\n",
    "import time\n",
    "from pathlib import Path\n",
    "import pandas as pd\n",
    "import numpy as np\n",
    "from matplotlib import pyplot as plt\n",
    "import seaborn as sns\n",
    "from tqdm import tqdm\n",
    "hpc = False\n",
    "work_desktop = True\n",
    "work_linux = True\n",
    "singularity = True\n",
    "prj = \"HCC-CBS-162-Hillman-BFerris-18139-HN-Vectra\"\n",
    "if not hpc:\n",
    "    if work_desktop:\n",
    "        if singularity:\n",
    "            base = Path('/mnt/data')\n",
    "            scripts = Path('/mnt/scripts')\n",
    "        else:\n",
    "            if work_linux == True:\n",
    "                base = Path('/mnt/d/OneDrive - University of Pittsburgh/Internal_Project_Data_2/%s' % proj)\n",
    "            else:\n",
    "                base = Path(r'D:\\OneDrive - University of Pittsburgh\\Internal_Project_Data_2\\%s' % proj)\n",
    "            scripts = base.joinpath('scripts')\n",
    "    else: #Laptop\n",
    "        base = Path('/home/brian/data/odrive/Internal_Project_Data_2/%s' % proj)\n",
    "        scripts = base.joinpath('scripts')\n",
    "else:\n",
    "    if singularity:\n",
    "        base = Path('/mnt') \n",
    "    else:\n",
    "        base = Path('/ix/rbao/Projects/%s' % proj)\n",
    "    scripts = base.joinpath('scripts')\n",
    "                        \n",
    "#Custom helper functions:\n",
    "sys.path.append(str(scripts.joinpath('inform_vectra_tools')))\n",
    "from inform_vectra_tools import vecutils\n",
    "\n",
    "%load_ext autoreload\n",
    "%autoreload 2\n",
    "\n",
    "results = base.joinpath('results')\n",
    "sampleinfo = base.joinpath('sampleinfo')\n",
    "info = pd.read_excel(sampleinfo.joinpath('18_139_clinical_information.xlsx'),header=1)\n",
    "data = base.joinpath('data')\n",
    "data =  data.joinpath('cell_seg')\n",
    "print(data.exists())\n",
    "\n",
    "\n",
    "all_fns = [str(x) for x in data.rglob('*cell_seg_data.txt')]\n",
    "print('vectra outputs',len(all_fns))\n",
    "\n",
    "c_tma = 0\n",
    "c_wts = 0\n",
    "for fn in all_fns:\n",
    "    if 'TMA' in fn:\n",
    "        c_tma = c_tma + 1\n",
    "    else:\n",
    "        # print('WTS file:', fn)\n",
    "        c_wts = c_wts + 1\n",
    "print('TMA:',c_tma, 'WTS:', c_wts)\n",
    "\n",
    "#Load in an example\n",
    "txt = [data.joinpath(all_fns[0])]\n",
    "print(txt)\n",
    "df = pd.read_csv(txt[0], sep='\\t')\n",
    "keep_cols = vecutils.get_min_columns(df)\n",
    "print(keep_cols)\n",
    "\n"
   ]
  },
  {
   "cell_type": "markdown",
   "id": "ef1155a7-9baf-4dee-9df4-2a4bd9a1c6fe",
   "metadata": {},
   "source": [
    "## Clean clinical info"
   ]
  },
  {
   "cell_type": "code",
   "execution_count": 10,
   "id": "5ad9a771-a9c7-4d99-8910-4419a24ebe80",
   "metadata": {},
   "outputs": [
    {
     "data": {
      "text/plain": [
       "array([   0.,  -10.,  -70.,   nan,  -80.,  -30.,  -40.,  -90., -100.,\n",
       "        -50.,  -20.])"
      ]
     },
     "execution_count": 10,
     "metadata": {},
     "output_type": "execute_result"
    }
   ],
   "source": [
    "clin.Path_response.unique()"
   ]
  },
  {
   "cell_type": "code",
   "execution_count": null,
   "id": "adb59693-114c-40e7-ba47-134b5cf9cfbe",
   "metadata": {},
   "outputs": [],
   "source": [
    "clean_clin.loc[:,'pt_id'] = clean_clin.Study_ID.astype(str)\n",
    "clean_clin.loc[:,'arm'] = clean_clin.loc[:,'Regimen assigned']\n",
    "clean_clin = clean_clin.loc[~clean_clin.arm.isna(),:]"
   ]
  },
  {
   "cell_type": "code",
   "execution_count": 25,
   "id": "d09df212-1d47-4f6b-ad12-037550d22ed2",
   "metadata": {},
   "outputs": [
    {
     "name": "stdout",
     "output_type": "stream",
     "text": [
      "(47, 17)\n",
      "Missing:\n",
      "4             105\n",
      "17            120\n",
      "37            148\n",
      "38            149\n",
      "39            150\n",
      "40            152\n",
      "41            NaN\n",
      "42            NaN\n",
      "43            NaN\n",
      "44    Nivo alone \n",
      "45       Nivo/Ipi\n",
      "46      Nivo/Rela\n",
      "Name: Study_ID, dtype: object\n",
      "(35, 19)\n",
      "/mnt/data/sampleinfo/updated_cleaned_clinical_info_bi_35_21.tsv\n",
      "['pNR' 'pmR' 'pMR' 'Prg']\n"
     ]
    },
    {
     "data": {
      "text/html": [
       "<div>\n",
       "<style scoped>\n",
       "    .dataframe tbody tr th:only-of-type {\n",
       "        vertical-align: middle;\n",
       "    }\n",
       "\n",
       "    .dataframe tbody tr th {\n",
       "        vertical-align: top;\n",
       "    }\n",
       "\n",
       "    .dataframe thead th {\n",
       "        text-align: right;\n",
       "    }\n",
       "</style>\n",
       "<table border=\"1\" class=\"dataframe\">\n",
       "  <thead>\n",
       "    <tr style=\"text-align: right;\">\n",
       "      <th></th>\n",
       "      <th>Study_ID</th>\n",
       "      <th>Initials</th>\n",
       "      <th>DOB</th>\n",
       "      <th>HPV</th>\n",
       "      <th>Regimen assigned</th>\n",
       "      <th>Screen</th>\n",
       "      <th>HN#(pre)</th>\n",
       "      <th>C1D1</th>\n",
       "      <th>Surgery</th>\n",
       "      <th>HN#(post)</th>\n",
       "      <th>...</th>\n",
       "      <th>Path_response_categories</th>\n",
       "      <th>Volumetric response (%change from baseline)</th>\n",
       "      <th>RECIST Overall response</th>\n",
       "      <th>PD-L1</th>\n",
       "      <th>LAG3</th>\n",
       "      <th>Unnamed: 16</th>\n",
       "      <th>pt_id</th>\n",
       "      <th>arm</th>\n",
       "      <th>resp_cat</th>\n",
       "      <th>any_resp</th>\n",
       "    </tr>\n",
       "  </thead>\n",
       "  <tbody>\n",
       "    <tr>\n",
       "      <th>0</th>\n",
       "      <td>101</td>\n",
       "      <td>AM</td>\n",
       "      <td>1957-08-11</td>\n",
       "      <td>HPV-</td>\n",
       "      <td>Nivo/Ipi</td>\n",
       "      <td>2019-12-20</td>\n",
       "      <td>HN19-9693</td>\n",
       "      <td>2020-01-09 00:00:00</td>\n",
       "      <td>2020-01-30 00:00:00</td>\n",
       "      <td>HN20-9717</td>\n",
       "      <td>...</td>\n",
       "      <td>pNR</td>\n",
       "      <td>54.5</td>\n",
       "      <td>PD</td>\n",
       "      <td>&gt;1%</td>\n",
       "      <td>&lt;1%</td>\n",
       "      <td>NaN</td>\n",
       "      <td>101</td>\n",
       "      <td>Nivo/Ipi</td>\n",
       "      <td>pNR</td>\n",
       "      <td>NR</td>\n",
       "    </tr>\n",
       "    <tr>\n",
       "      <th>1</th>\n",
       "      <td>102</td>\n",
       "      <td>DS</td>\n",
       "      <td>1959-02-09</td>\n",
       "      <td>HPV-</td>\n",
       "      <td>Nivo alone</td>\n",
       "      <td>2020-01-27</td>\n",
       "      <td>HN20-9712</td>\n",
       "      <td>2020-02-11 00:00:00</td>\n",
       "      <td>2020-03-13 00:00:00</td>\n",
       "      <td>HN20-9764</td>\n",
       "      <td>...</td>\n",
       "      <td>pmPR</td>\n",
       "      <td>34.4</td>\n",
       "      <td>PD</td>\n",
       "      <td>NaN</td>\n",
       "      <td>NaN</td>\n",
       "      <td>Withdrew after completing treatment</td>\n",
       "      <td>102</td>\n",
       "      <td>Nivo alone</td>\n",
       "      <td>pmR</td>\n",
       "      <td>R</td>\n",
       "    </tr>\n",
       "    <tr>\n",
       "      <th>2</th>\n",
       "      <td>103</td>\n",
       "      <td>DH</td>\n",
       "      <td>1967-12-10</td>\n",
       "      <td>HPV-</td>\n",
       "      <td>Nivo/Rela</td>\n",
       "      <td>2020-02-28</td>\n",
       "      <td>HN20-9745</td>\n",
       "      <td>2020-03-25 00:00:00</td>\n",
       "      <td>2020-04-28 00:00:00</td>\n",
       "      <td>HN20-9795(2nd, 9805)</td>\n",
       "      <td>...</td>\n",
       "      <td>pmPR</td>\n",
       "      <td>40.4</td>\n",
       "      <td>PD</td>\n",
       "      <td>&gt;1%</td>\n",
       "      <td>&gt;1%</td>\n",
       "      <td>NaN</td>\n",
       "      <td>103</td>\n",
       "      <td>Nivo/Rela</td>\n",
       "      <td>pmR</td>\n",
       "      <td>R</td>\n",
       "    </tr>\n",
       "    <tr>\n",
       "      <th>3</th>\n",
       "      <td>104</td>\n",
       "      <td>ML</td>\n",
       "      <td>1954-02-17</td>\n",
       "      <td>HPV-</td>\n",
       "      <td>Nivo/Ipi</td>\n",
       "      <td>2020-03-18</td>\n",
       "      <td>HN20-9768</td>\n",
       "      <td>2020-03-23 00:00:00</td>\n",
       "      <td>2020-04-15 00:00:00</td>\n",
       "      <td>HN20-9783</td>\n",
       "      <td>...</td>\n",
       "      <td>pPR</td>\n",
       "      <td>-7.7</td>\n",
       "      <td>SD</td>\n",
       "      <td>&lt;1%</td>\n",
       "      <td>&gt;1%</td>\n",
       "      <td>NaN</td>\n",
       "      <td>104</td>\n",
       "      <td>Nivo/Ipi</td>\n",
       "      <td>pMR</td>\n",
       "      <td>R</td>\n",
       "    </tr>\n",
       "    <tr>\n",
       "      <th>5</th>\n",
       "      <td>106</td>\n",
       "      <td>DM</td>\n",
       "      <td>1949-10-14</td>\n",
       "      <td>HPV-</td>\n",
       "      <td>Nivo/Rela</td>\n",
       "      <td>2020-06-26</td>\n",
       "      <td>HN20-9856</td>\n",
       "      <td>2020-07-09 00:00:00</td>\n",
       "      <td>2020-07-31 00:00:00</td>\n",
       "      <td>HN20-9878</td>\n",
       "      <td>...</td>\n",
       "      <td>pmPR</td>\n",
       "      <td>16.3</td>\n",
       "      <td>SD</td>\n",
       "      <td>&lt;1%</td>\n",
       "      <td>&gt;1%</td>\n",
       "      <td>NaN</td>\n",
       "      <td>106</td>\n",
       "      <td>Nivo/Rela</td>\n",
       "      <td>pmR</td>\n",
       "      <td>R</td>\n",
       "    </tr>\n",
       "  </tbody>\n",
       "</table>\n",
       "<p>5 rows × 21 columns</p>\n",
       "</div>"
      ],
      "text/plain": [
       "  Study_ID Initials        DOB   HPV Regimen assigned     Screen   HN#(pre)  \\\n",
       "0      101       AM 1957-08-11  HPV-         Nivo/Ipi 2019-12-20  HN19-9693   \n",
       "1      102       DS 1959-02-09  HPV-       Nivo alone 2020-01-27  HN20-9712   \n",
       "2      103       DH 1967-12-10  HPV-        Nivo/Rela 2020-02-28  HN20-9745   \n",
       "3      104       ML 1954-02-17  HPV-         Nivo/Ipi 2020-03-18  HN20-9768   \n",
       "5      106       DM 1949-10-14  HPV-        Nivo/Rela 2020-06-26  HN20-9856   \n",
       "\n",
       "                  C1D1              Surgery             HN#(post)  ...  \\\n",
       "0  2020-01-09 00:00:00  2020-01-30 00:00:00             HN20-9717  ...   \n",
       "1  2020-02-11 00:00:00  2020-03-13 00:00:00             HN20-9764  ...   \n",
       "2  2020-03-25 00:00:00  2020-04-28 00:00:00  HN20-9795(2nd, 9805)  ...   \n",
       "3  2020-03-23 00:00:00  2020-04-15 00:00:00             HN20-9783  ...   \n",
       "5  2020-07-09 00:00:00  2020-07-31 00:00:00             HN20-9878  ...   \n",
       "\n",
       "   Path_response_categories Volumetric response (%change from baseline)  \\\n",
       "0                       pNR                                        54.5   \n",
       "1                      pmPR                                        34.4   \n",
       "2                      pmPR                                        40.4   \n",
       "3                       pPR                                        -7.7   \n",
       "5                      pmPR                                        16.3   \n",
       "\n",
       "   RECIST Overall response PD-L1 LAG3                          Unnamed: 16  \\\n",
       "0                       PD   >1%  <1%                                  NaN   \n",
       "1                       PD   NaN  NaN  Withdrew after completing treatment   \n",
       "2                       PD   >1%  >1%                                  NaN   \n",
       "3                       SD   <1%  >1%                                  NaN   \n",
       "5                       SD   <1%  >1%                                  NaN   \n",
       "\n",
       "  pt_id         arm resp_cat any_resp  \n",
       "0   101    Nivo/Ipi      pNR       NR  \n",
       "1   102  Nivo alone      pmR        R  \n",
       "2   103   Nivo/Rela      pmR        R  \n",
       "3   104    Nivo/Ipi      pMR        R  \n",
       "5   106   Nivo/Rela      pmR        R  \n",
       "\n",
       "[5 rows x 21 columns]"
      ]
     },
     "execution_count": 25,
     "metadata": {},
     "output_type": "execute_result"
    }
   ],
   "source": [
    "clin = info.copy()\n",
    "print(clin.shape)\n",
    "prg = clin.Study_ID.isin([110,132])\n",
    "clin.loc[prg,'Path_response'] = 0\n",
    "clin.loc[:,'pt_id'] = clin.Study_ID.astype(str)\n",
    "clin.loc[:,'arm'] = clin.loc[:,'Regimen assigned']\n",
    "missing = clin.Path_response.isna() | clin.arm.isna()\n",
    "print('Missing:')\n",
    "print(clin.loc[missing,'Study_ID'])\n",
    "clin = clin.loc[~clin.Path_response.isna(),:]\n",
    "print(clin.shape)\n",
    "int_path = clin.Path_response.astype(int) * -1\n",
    "clin.loc[prg,'Path_response'] = np.nan\n",
    "pNR = int_path == 0\n",
    "pmR = (int_path >= 10) & (int_path <50)\n",
    "pMR = (int_path >= 50)\n",
    "\n",
    "clin.loc[:,'resp_cat'] = np.nan\n",
    "clin.loc[pNR,'resp_cat'] = 'pNR'\n",
    "clin.loc[pmR,'resp_cat'] = 'pmR'\n",
    "clin.loc[pMR,'resp_cat'] = 'pMR'\n",
    "clin\n",
    "clin.loc[prg,'resp_cat'] = 'Prg'\n",
    "clin.loc[:,'any_resp'] = np.nan\n",
    "clin.loc[prg,'any_resp'] = 'Prg'\n",
    "clin.loc[pNR,'any_resp'] = 'NR'\n",
    "clin.loc[clin.resp_cat.isin(['pmR','pMR']),'any_resp'] = 'R'\n",
    "\n",
    "fn = sampleinfo.joinpath('updated_cleaned_clinical_info_bi_%d_%d.tsv' % tuple(clin.shape))\n",
    "print(fn)\n",
    "clin.to_csv(fn,sep='\\t',index=False)\n",
    "print(clin.resp_cat.unique())\n",
    "clin.head()"
   ]
  },
  {
   "cell_type": "markdown",
   "id": "7113f5dd-5a5b-4940-b1af-5a591a91fe13",
   "metadata": {},
   "source": [
    "# Generate merged cell output df by combining vectra data into one file"
   ]
  },
  {
   "cell_type": "code",
   "execution_count": 4,
   "id": "45b93582-534a-4b25-8901-989cb1e078f6",
   "metadata": {},
   "outputs": [
    {
     "name": "stderr",
     "output_type": "stream",
     "text": [
      "2165it [2:24:52,  4.01s/it]\n"
     ]
    },
    {
     "name": "stdout",
     "output_type": "stream",
     "text": [
      "/mnt/results/mergepanel_7523642_cell_seg_data_summary.tsv\n",
      "Finished\n",
      "Time elapsed 146.5 minutes\n"
     ]
    },
    {
     "data": {
      "text/html": [
       "<div>\n",
       "<style scoped>\n",
       "    .dataframe tbody tr th:only-of-type {\n",
       "        vertical-align: middle;\n",
       "    }\n",
       "\n",
       "    .dataframe tbody tr th {\n",
       "        vertical-align: top;\n",
       "    }\n",
       "\n",
       "    .dataframe thead th {\n",
       "        text-align: right;\n",
       "    }\n",
       "</style>\n",
       "<table border=\"1\" class=\"dataframe\">\n",
       "  <thead>\n",
       "    <tr style=\"text-align: right;\">\n",
       "      <th></th>\n",
       "      <th>Path</th>\n",
       "      <th>Sample Name</th>\n",
       "      <th>Tissue Category</th>\n",
       "      <th>Phenotype-PD1</th>\n",
       "      <th>Phenotype-CD8</th>\n",
       "      <th>Phenotype-PDL1</th>\n",
       "      <th>Phenotype-CD3</th>\n",
       "      <th>Phenotype-CK</th>\n",
       "      <th>Phenotype-FOXP3</th>\n",
       "      <th>Cell ID</th>\n",
       "      <th>...</th>\n",
       "      <th>Confidence-PD1</th>\n",
       "      <th>Confidence-CD8</th>\n",
       "      <th>Confidence-PDL1</th>\n",
       "      <th>Confidence-CD3</th>\n",
       "      <th>Confidence-CK</th>\n",
       "      <th>Confidence-FOXP3</th>\n",
       "      <th>inForm 2.6.7900.18857</th>\n",
       "      <th>tissue_id</th>\n",
       "      <th>sample_type</th>\n",
       "      <th>tma_wts</th>\n",
       "    </tr>\n",
       "  </thead>\n",
       "  <tbody>\n",
       "    <tr>\n",
       "      <th>0</th>\n",
       "      <td>D:\\Data\\VectraPolaris\\Lazar_Hous_18-139\\137_sx...</td>\n",
       "      <td>137_sx_Scan1.qptiff</td>\n",
       "      <td>Tumor</td>\n",
       "      <td>NaN</td>\n",
       "      <td>NaN</td>\n",
       "      <td>NaN</td>\n",
       "      <td>NaN</td>\n",
       "      <td>NaN</td>\n",
       "      <td>NaN</td>\n",
       "      <td>84308</td>\n",
       "      <td>...</td>\n",
       "      <td>NaN</td>\n",
       "      <td>NaN</td>\n",
       "      <td>NaN</td>\n",
       "      <td>NaN</td>\n",
       "      <td>NaN</td>\n",
       "      <td>NaN</td>\n",
       "      <td>NaN</td>\n",
       "      <td>137_sx_Scan1_[12454,47316]</td>\n",
       "      <td>WTS</td>\n",
       "      <td>WTS</td>\n",
       "    </tr>\n",
       "    <tr>\n",
       "      <th>1</th>\n",
       "      <td>D:\\Data\\VectraPolaris\\Lazar_Hous_18-139\\137_sx...</td>\n",
       "      <td>137_sx_Scan1.qptiff</td>\n",
       "      <td>Stroma</td>\n",
       "      <td>other</td>\n",
       "      <td>CD8+</td>\n",
       "      <td>PDL1+</td>\n",
       "      <td>CD3+</td>\n",
       "      <td>other</td>\n",
       "      <td>other</td>\n",
       "      <td>84309</td>\n",
       "      <td>...</td>\n",
       "      <td>80.96%</td>\n",
       "      <td>69.23%</td>\n",
       "      <td>67.08%</td>\n",
       "      <td>53.09%</td>\n",
       "      <td>99.43%</td>\n",
       "      <td>87.57%</td>\n",
       "      <td>NaN</td>\n",
       "      <td>137_sx_Scan1_[12454,47316]</td>\n",
       "      <td>WTS</td>\n",
       "      <td>WTS</td>\n",
       "    </tr>\n",
       "    <tr>\n",
       "      <th>2</th>\n",
       "      <td>D:\\Data\\VectraPolaris\\Lazar_Hous_18-139\\137_sx...</td>\n",
       "      <td>137_sx_Scan1.qptiff</td>\n",
       "      <td>Stroma</td>\n",
       "      <td>NaN</td>\n",
       "      <td>NaN</td>\n",
       "      <td>NaN</td>\n",
       "      <td>NaN</td>\n",
       "      <td>NaN</td>\n",
       "      <td>NaN</td>\n",
       "      <td>84310</td>\n",
       "      <td>...</td>\n",
       "      <td>NaN</td>\n",
       "      <td>NaN</td>\n",
       "      <td>NaN</td>\n",
       "      <td>NaN</td>\n",
       "      <td>NaN</td>\n",
       "      <td>NaN</td>\n",
       "      <td>NaN</td>\n",
       "      <td>137_sx_Scan1_[12454,47316]</td>\n",
       "      <td>WTS</td>\n",
       "      <td>WTS</td>\n",
       "    </tr>\n",
       "    <tr>\n",
       "      <th>3</th>\n",
       "      <td>D:\\Data\\VectraPolaris\\Lazar_Hous_18-139\\137_sx...</td>\n",
       "      <td>137_sx_Scan1.qptiff</td>\n",
       "      <td>Stroma</td>\n",
       "      <td>other</td>\n",
       "      <td>other</td>\n",
       "      <td>other</td>\n",
       "      <td>other</td>\n",
       "      <td>other</td>\n",
       "      <td>other</td>\n",
       "      <td>84311</td>\n",
       "      <td>...</td>\n",
       "      <td>99.99%</td>\n",
       "      <td>95.49%</td>\n",
       "      <td>99.92%</td>\n",
       "      <td>99.90%</td>\n",
       "      <td>99.74%</td>\n",
       "      <td>90.81%</td>\n",
       "      <td>NaN</td>\n",
       "      <td>137_sx_Scan1_[12454,47316]</td>\n",
       "      <td>WTS</td>\n",
       "      <td>WTS</td>\n",
       "    </tr>\n",
       "    <tr>\n",
       "      <th>4</th>\n",
       "      <td>D:\\Data\\VectraPolaris\\Lazar_Hous_18-139\\137_sx...</td>\n",
       "      <td>137_sx_Scan1.qptiff</td>\n",
       "      <td>Stroma</td>\n",
       "      <td>other</td>\n",
       "      <td>other</td>\n",
       "      <td>PDL1+</td>\n",
       "      <td>other</td>\n",
       "      <td>other</td>\n",
       "      <td>other</td>\n",
       "      <td>84312</td>\n",
       "      <td>...</td>\n",
       "      <td>99.96%</td>\n",
       "      <td>97.61%</td>\n",
       "      <td>99.92%</td>\n",
       "      <td>99.75%</td>\n",
       "      <td>94.90%</td>\n",
       "      <td>92.49%</td>\n",
       "      <td>NaN</td>\n",
       "      <td>137_sx_Scan1_[12454,47316]</td>\n",
       "      <td>WTS</td>\n",
       "      <td>WTS</td>\n",
       "    </tr>\n",
       "  </tbody>\n",
       "</table>\n",
       "<p>5 rows × 36 columns</p>\n",
       "</div>"
      ],
      "text/plain": [
       "                                                Path          Sample Name  \\\n",
       "0  D:\\Data\\VectraPolaris\\Lazar_Hous_18-139\\137_sx...  137_sx_Scan1.qptiff   \n",
       "1  D:\\Data\\VectraPolaris\\Lazar_Hous_18-139\\137_sx...  137_sx_Scan1.qptiff   \n",
       "2  D:\\Data\\VectraPolaris\\Lazar_Hous_18-139\\137_sx...  137_sx_Scan1.qptiff   \n",
       "3  D:\\Data\\VectraPolaris\\Lazar_Hous_18-139\\137_sx...  137_sx_Scan1.qptiff   \n",
       "4  D:\\Data\\VectraPolaris\\Lazar_Hous_18-139\\137_sx...  137_sx_Scan1.qptiff   \n",
       "\n",
       "  Tissue Category Phenotype-PD1 Phenotype-CD8 Phenotype-PDL1 Phenotype-CD3  \\\n",
       "0           Tumor           NaN           NaN            NaN           NaN   \n",
       "1          Stroma         other          CD8+          PDL1+          CD3+   \n",
       "2          Stroma           NaN           NaN            NaN           NaN   \n",
       "3          Stroma         other         other          other         other   \n",
       "4          Stroma         other         other          PDL1+         other   \n",
       "\n",
       "  Phenotype-CK Phenotype-FOXP3  Cell ID  ...  Confidence-PD1  Confidence-CD8  \\\n",
       "0          NaN             NaN    84308  ...             NaN             NaN   \n",
       "1        other           other    84309  ...          80.96%          69.23%   \n",
       "2          NaN             NaN    84310  ...             NaN             NaN   \n",
       "3        other           other    84311  ...          99.99%          95.49%   \n",
       "4        other           other    84312  ...          99.96%          97.61%   \n",
       "\n",
       "   Confidence-PDL1  Confidence-CD3  Confidence-CK  Confidence-FOXP3  \\\n",
       "0              NaN             NaN            NaN               NaN   \n",
       "1           67.08%          53.09%         99.43%            87.57%   \n",
       "2              NaN             NaN            NaN               NaN   \n",
       "3           99.92%          99.90%         99.74%            90.81%   \n",
       "4           99.92%          99.75%         94.90%            92.49%   \n",
       "\n",
       "   inForm 2.6.7900.18857                   tissue_id  sample_type  tma_wts  \n",
       "0                    NaN  137_sx_Scan1_[12454,47316]          WTS      WTS  \n",
       "1                    NaN  137_sx_Scan1_[12454,47316]          WTS      WTS  \n",
       "2                    NaN  137_sx_Scan1_[12454,47316]          WTS      WTS  \n",
       "3                    NaN  137_sx_Scan1_[12454,47316]          WTS      WTS  \n",
       "4                    NaN  137_sx_Scan1_[12454,47316]          WTS      WTS  \n",
       "\n",
       "[5 rows x 36 columns]"
      ]
     },
     "execution_count": 4,
     "metadata": {},
     "output_type": "execute_result"
    }
   ],
   "source": [
    "start = time.time()\n",
    "merge = pd.DataFrame([])\n",
    "n_tma = 0\n",
    "for fn in tqdm(data.rglob('*cell_seg_data.txt')):\n",
    "    core = vecutils.seg_fn_to_unique_tma_code([fn.parts[-1]],\n",
    "                                            method = 2)\n",
    "    df = pd.read_csv(fn,sep='\\t')\n",
    "    keep_cols = vecutils.get_min_columns(df)\n",
    "    \n",
    "    df = df.loc[:,keep_cols]\n",
    "    df.loc[:,'tissue_id'] = core[0]\n",
    "    if 'TMA' in fn.parts[-1]:\n",
    "        df.loc[:,'sample_type'] = 'TMA'\n",
    "    else:\n",
    "        df.loc[:,'sample_type'] = 'WTS'\n",
    "  \n",
    "    merge = pd.concat((merge,df),axis=0)\n",
    "    \n",
    "if any(df.loc[:,'sample_type']=='TMA'): \n",
    "    for i in range(1,n_tma):\n",
    "        idx = merge.tissue_id.str.contains('TMA0%d' % i)\n",
    "        merge.loc[idx,'tma_wts'] = 'TMA0%d' % i\n",
    "idx = merge.sample_type.str.contains('WTS')\n",
    "merge.loc[idx,'tma_wts'] = 'WTS'\n",
    "\n",
    "merge = merge.reset_index(drop=True)\n",
    "summary = results.joinpath('mergepanel_%d_cell_seg_data_summary.tsv' % merge.shape[0])\n",
    "print(summary)\n",
    "merge.to_csv(summary,sep='\\t',index=False)\n",
    "print('Finished')\n",
    "stop = time.time()\n",
    "print('Time elapsed %2.1f minutes' % ((stop-start)/60))\n",
    "merge.head()\n"
   ]
  },
  {
   "cell_type": "code",
   "execution_count": null,
   "id": "4f93fc6b-5097-4eef-93e0-ea075874e240",
   "metadata": {},
   "outputs": [],
   "source": []
  },
  {
   "cell_type": "markdown",
   "id": "54e4b206-1127-4298-8fd8-bfa74cb969a4",
   "metadata": {},
   "source": [
    "# Load merge"
   ]
  },
  {
   "cell_type": "code",
   "execution_count": 2,
   "id": "1a120a81-e87a-4c26-865f-9f8df92655aa",
   "metadata": {},
   "outputs": [],
   "source": [
    "merge = pd.read_csv(results.joinpath('mergepanel_7523642_cell_seg_data_summary.tsv'),\n",
    "                    sep = '\\t')\n"
   ]
  },
  {
   "cell_type": "code",
   "execution_count": 69,
   "id": "fbd16306-6dcd-4259-9323-0c2b4e340c0d",
   "metadata": {},
   "outputs": [
    {
     "data": {
      "text/html": [
       "<div>\n",
       "<style scoped>\n",
       "    .dataframe tbody tr th:only-of-type {\n",
       "        vertical-align: middle;\n",
       "    }\n",
       "\n",
       "    .dataframe tbody tr th {\n",
       "        vertical-align: top;\n",
       "    }\n",
       "\n",
       "    .dataframe thead th {\n",
       "        text-align: right;\n",
       "    }\n",
       "</style>\n",
       "<table border=\"1\" class=\"dataframe\">\n",
       "  <thead>\n",
       "    <tr style=\"text-align: right;\">\n",
       "      <th></th>\n",
       "      <th>Path</th>\n",
       "      <th>Sample Name</th>\n",
       "      <th>Tissue Category</th>\n",
       "      <th>Phenotype-PD1</th>\n",
       "      <th>Phenotype-CD8</th>\n",
       "      <th>Phenotype-PDL1</th>\n",
       "      <th>Phenotype-CD3</th>\n",
       "      <th>Phenotype-CK</th>\n",
       "      <th>Phenotype-FOXP3</th>\n",
       "      <th>Cell ID</th>\n",
       "      <th>...</th>\n",
       "      <th>Confidence-PD1</th>\n",
       "      <th>Confidence-CD8</th>\n",
       "      <th>Confidence-PDL1</th>\n",
       "      <th>Confidence-CD3</th>\n",
       "      <th>Confidence-CK</th>\n",
       "      <th>Confidence-FOXP3</th>\n",
       "      <th>inForm 2.6.7900.18857</th>\n",
       "      <th>tissue_id</th>\n",
       "      <th>sample_type</th>\n",
       "      <th>tma_wts</th>\n",
       "    </tr>\n",
       "  </thead>\n",
       "  <tbody>\n",
       "    <tr>\n",
       "      <th>0</th>\n",
       "      <td>D:\\Data\\VectraPolaris\\Lazar_Hous_18-139\\137_sx...</td>\n",
       "      <td>137_sx_Scan1.qptiff</td>\n",
       "      <td>Tumor</td>\n",
       "      <td>NaN</td>\n",
       "      <td>NaN</td>\n",
       "      <td>NaN</td>\n",
       "      <td>NaN</td>\n",
       "      <td>NaN</td>\n",
       "      <td>NaN</td>\n",
       "      <td>84308</td>\n",
       "      <td>...</td>\n",
       "      <td>NaN</td>\n",
       "      <td>NaN</td>\n",
       "      <td>NaN</td>\n",
       "      <td>NaN</td>\n",
       "      <td>NaN</td>\n",
       "      <td>NaN</td>\n",
       "      <td>NaN</td>\n",
       "      <td>137_sx_Scan1_[12454,47316]</td>\n",
       "      <td>WTS</td>\n",
       "      <td>WTS</td>\n",
       "    </tr>\n",
       "    <tr>\n",
       "      <th>1</th>\n",
       "      <td>D:\\Data\\VectraPolaris\\Lazar_Hous_18-139\\137_sx...</td>\n",
       "      <td>137_sx_Scan1.qptiff</td>\n",
       "      <td>Stroma</td>\n",
       "      <td>other</td>\n",
       "      <td>CD8+</td>\n",
       "      <td>PDL1+</td>\n",
       "      <td>CD3+</td>\n",
       "      <td>other</td>\n",
       "      <td>other</td>\n",
       "      <td>84309</td>\n",
       "      <td>...</td>\n",
       "      <td>80.96%</td>\n",
       "      <td>69.23%</td>\n",
       "      <td>67.08%</td>\n",
       "      <td>53.09%</td>\n",
       "      <td>99.43%</td>\n",
       "      <td>87.57%</td>\n",
       "      <td>NaN</td>\n",
       "      <td>137_sx_Scan1_[12454,47316]</td>\n",
       "      <td>WTS</td>\n",
       "      <td>WTS</td>\n",
       "    </tr>\n",
       "    <tr>\n",
       "      <th>2</th>\n",
       "      <td>D:\\Data\\VectraPolaris\\Lazar_Hous_18-139\\137_sx...</td>\n",
       "      <td>137_sx_Scan1.qptiff</td>\n",
       "      <td>Stroma</td>\n",
       "      <td>NaN</td>\n",
       "      <td>NaN</td>\n",
       "      <td>NaN</td>\n",
       "      <td>NaN</td>\n",
       "      <td>NaN</td>\n",
       "      <td>NaN</td>\n",
       "      <td>84310</td>\n",
       "      <td>...</td>\n",
       "      <td>NaN</td>\n",
       "      <td>NaN</td>\n",
       "      <td>NaN</td>\n",
       "      <td>NaN</td>\n",
       "      <td>NaN</td>\n",
       "      <td>NaN</td>\n",
       "      <td>NaN</td>\n",
       "      <td>137_sx_Scan1_[12454,47316]</td>\n",
       "      <td>WTS</td>\n",
       "      <td>WTS</td>\n",
       "    </tr>\n",
       "    <tr>\n",
       "      <th>3</th>\n",
       "      <td>D:\\Data\\VectraPolaris\\Lazar_Hous_18-139\\137_sx...</td>\n",
       "      <td>137_sx_Scan1.qptiff</td>\n",
       "      <td>Stroma</td>\n",
       "      <td>other</td>\n",
       "      <td>other</td>\n",
       "      <td>other</td>\n",
       "      <td>other</td>\n",
       "      <td>other</td>\n",
       "      <td>other</td>\n",
       "      <td>84311</td>\n",
       "      <td>...</td>\n",
       "      <td>99.99%</td>\n",
       "      <td>95.49%</td>\n",
       "      <td>99.92%</td>\n",
       "      <td>99.90%</td>\n",
       "      <td>99.74%</td>\n",
       "      <td>90.81%</td>\n",
       "      <td>NaN</td>\n",
       "      <td>137_sx_Scan1_[12454,47316]</td>\n",
       "      <td>WTS</td>\n",
       "      <td>WTS</td>\n",
       "    </tr>\n",
       "    <tr>\n",
       "      <th>4</th>\n",
       "      <td>D:\\Data\\VectraPolaris\\Lazar_Hous_18-139\\137_sx...</td>\n",
       "      <td>137_sx_Scan1.qptiff</td>\n",
       "      <td>Stroma</td>\n",
       "      <td>other</td>\n",
       "      <td>other</td>\n",
       "      <td>PDL1+</td>\n",
       "      <td>other</td>\n",
       "      <td>other</td>\n",
       "      <td>other</td>\n",
       "      <td>84312</td>\n",
       "      <td>...</td>\n",
       "      <td>99.96%</td>\n",
       "      <td>97.61%</td>\n",
       "      <td>99.92%</td>\n",
       "      <td>99.75%</td>\n",
       "      <td>94.90%</td>\n",
       "      <td>92.49%</td>\n",
       "      <td>NaN</td>\n",
       "      <td>137_sx_Scan1_[12454,47316]</td>\n",
       "      <td>WTS</td>\n",
       "      <td>WTS</td>\n",
       "    </tr>\n",
       "  </tbody>\n",
       "</table>\n",
       "<p>5 rows × 36 columns</p>\n",
       "</div>"
      ],
      "text/plain": [
       "                                                Path          Sample Name  \\\n",
       "0  D:\\Data\\VectraPolaris\\Lazar_Hous_18-139\\137_sx...  137_sx_Scan1.qptiff   \n",
       "1  D:\\Data\\VectraPolaris\\Lazar_Hous_18-139\\137_sx...  137_sx_Scan1.qptiff   \n",
       "2  D:\\Data\\VectraPolaris\\Lazar_Hous_18-139\\137_sx...  137_sx_Scan1.qptiff   \n",
       "3  D:\\Data\\VectraPolaris\\Lazar_Hous_18-139\\137_sx...  137_sx_Scan1.qptiff   \n",
       "4  D:\\Data\\VectraPolaris\\Lazar_Hous_18-139\\137_sx...  137_sx_Scan1.qptiff   \n",
       "\n",
       "  Tissue Category Phenotype-PD1 Phenotype-CD8 Phenotype-PDL1 Phenotype-CD3  \\\n",
       "0           Tumor           NaN           NaN            NaN           NaN   \n",
       "1          Stroma         other          CD8+          PDL1+          CD3+   \n",
       "2          Stroma           NaN           NaN            NaN           NaN   \n",
       "3          Stroma         other         other          other         other   \n",
       "4          Stroma         other         other          PDL1+         other   \n",
       "\n",
       "  Phenotype-CK Phenotype-FOXP3  Cell ID  ...  Confidence-PD1  Confidence-CD8  \\\n",
       "0          NaN             NaN    84308  ...             NaN             NaN   \n",
       "1        other           other    84309  ...          80.96%          69.23%   \n",
       "2          NaN             NaN    84310  ...             NaN             NaN   \n",
       "3        other           other    84311  ...          99.99%          95.49%   \n",
       "4        other           other    84312  ...          99.96%          97.61%   \n",
       "\n",
       "   Confidence-PDL1  Confidence-CD3  Confidence-CK  Confidence-FOXP3  \\\n",
       "0              NaN             NaN            NaN               NaN   \n",
       "1           67.08%          53.09%         99.43%            87.57%   \n",
       "2              NaN             NaN            NaN               NaN   \n",
       "3           99.92%          99.90%         99.74%            90.81%   \n",
       "4           99.92%          99.75%         94.90%            92.49%   \n",
       "\n",
       "   inForm 2.6.7900.18857                   tissue_id  sample_type  tma_wts  \n",
       "0                    NaN  137_sx_Scan1_[12454,47316]          WTS      WTS  \n",
       "1                    NaN  137_sx_Scan1_[12454,47316]          WTS      WTS  \n",
       "2                    NaN  137_sx_Scan1_[12454,47316]          WTS      WTS  \n",
       "3                    NaN  137_sx_Scan1_[12454,47316]          WTS      WTS  \n",
       "4                    NaN  137_sx_Scan1_[12454,47316]          WTS      WTS  \n",
       "\n",
       "[5 rows x 36 columns]"
      ]
     },
     "execution_count": 69,
     "metadata": {},
     "output_type": "execute_result"
    }
   ],
   "source": [
    "merge.head()"
   ]
  },
  {
   "cell_type": "markdown",
   "id": "b4e19f6f-e17a-43ce-b0c2-c950c008b542",
   "metadata": {},
   "source": [
    "# Show number of total cells across cores / tissue samples"
   ]
  },
  {
   "cell_type": "code",
   "execution_count": 3,
   "id": "a364372d-0953-4b84-9e7e-1693186da769",
   "metadata": {},
   "outputs": [
    {
     "name": "stdout",
     "output_type": "stream",
     "text": [
      "65\n",
      "['101_pre_Scan1.qptiff' '103_pre_Scan1.qptiff' '104_Scan1.qptiff'\n",
      " '107_pre_Scan1.qptiff' '107_sx_Scan1.qptiff' '108_pre_Scan1.qptiff'\n",
      " '109_pre_Scan1.qptiff' '109_sx1_Scan1.qptiff' '109_sx2_Scan1.qptiff'\n",
      " '110_pre_Scan1.qptiff' '111_pre_Scan1.qptiff' '111_sx_Scan1.qptiff'\n",
      " '112_pre_Scan1.qptiff' '112_sx_Scan1.qptiff' '113_pre_Scan1.qptiff'\n",
      " '113_sx_Scan1.qptiff' '114_pre_Scan1.qptiff' '114_sx_Scan1.qptiff'\n",
      " '116_pre1_Scan1.qptiff' '116_pre2_Scan1.qptiff' '116_sx_Scan1.qptiff'\n",
      " '117_pre_Scan1.qptiff' '117_sx_Scan1.qptiff' '119_pre_Scan1.qptiff'\n",
      " '119_sx_Scan1.qptiff' '121_pre_Scan1.qptiff' '123_pre_Scan1.qptiff'\n",
      " '123_sx_Scan1.qptiff' '124_pre_Scan1.qptiff' '124_sx_Scan1.qptiff'\n",
      " '125_pre2_Scan1.qptiff' '127_pre_Scan1.qptiff' '127_sx_Scan1.qptiff'\n",
      " '128_pre_Scan1.qptiff' '128_sx_Scan1.qptiff' '129_pre_Scan1.qptiff'\n",
      " '129_sx_Scan1.qptiff' '130_pre_Scan1.qptiff' '130_sx_Scan1.qptiff'\n",
      " '131_pre_Scan1.qptiff' '131_sx_Scan1.qptiff' '132_pre_Scan1.qptiff'\n",
      " '133_pre_Scan1.qptiff' '133_sx_Scan1.qptiff' '134_sx_Scan1.qptiff'\n",
      " '136_pre_Scan1.qptiff' '136_sx_Scan1.qptiff' '137_pre_Scan1.qptiff'\n",
      " '137_sx_Scan1.qptiff' '138_pre_Scan1.qptiff' '138_sx_Scan1.qptiff'\n",
      " '139_pre_Scan1.qptiff' '139_sx_Scan1.qptiff' '140_pre_Scan1.qptiff'\n",
      " '140_sx_Scan1.qptiff' '141_pre_Scan1.qptiff' '141_sx_Scan1.qptiff'\n",
      " '142_pre_Scan1.qptiff' '142_sx_Scan1.qptiff'\n",
      " 'PBC-PR-6544_3AFS_Scan1.qptiff' 'PBC-PR-6545_1AFS_Scan1.qptiff'\n",
      " 'PBC-PR-6546_4AFS_Scan1.qptiff' 'PBC-PR-6547_1F_Scan1.qptiff'\n",
      " 'PBC-PR-6548_1AFS_Scan1.qptiff' 'PBC-PR-6549_1AFS_Scan1.qptiff']\n"
     ]
    }
   ],
   "source": [
    "ids = merge.loc[:,'Sample Name'].unique()\n",
    "n_ids = len(ids)\n",
    "print(n_ids)\n",
    "print(np.sort(ids))"
   ]
  },
  {
   "cell_type": "code",
   "execution_count": 6,
   "id": "6790e4e8-51a3-4279-b201-30c017cfd41f",
   "metadata": {},
   "outputs": [
    {
     "data": {
      "text/html": [
       "<div>\n",
       "<style scoped>\n",
       "    .dataframe tbody tr th:only-of-type {\n",
       "        vertical-align: middle;\n",
       "    }\n",
       "\n",
       "    .dataframe tbody tr th {\n",
       "        vertical-align: top;\n",
       "    }\n",
       "\n",
       "    .dataframe thead th {\n",
       "        text-align: right;\n",
       "    }\n",
       "</style>\n",
       "<table border=\"1\" class=\"dataframe\">\n",
       "  <thead>\n",
       "    <tr style=\"text-align: right;\">\n",
       "      <th></th>\n",
       "      <th>Sample Name</th>\n",
       "      <th>Tissue Category</th>\n",
       "      <th>Cell ID</th>\n",
       "    </tr>\n",
       "  </thead>\n",
       "  <tbody>\n",
       "    <tr>\n",
       "      <th>0</th>\n",
       "      <td>101_pre_Scan1.qptiff</td>\n",
       "      <td>Stroma</td>\n",
       "      <td>14678</td>\n",
       "    </tr>\n",
       "    <tr>\n",
       "      <th>1</th>\n",
       "      <td>101_pre_Scan1.qptiff</td>\n",
       "      <td>Tumor</td>\n",
       "      <td>13381</td>\n",
       "    </tr>\n",
       "    <tr>\n",
       "      <th>2</th>\n",
       "      <td>103_pre_Scan1.qptiff</td>\n",
       "      <td>Blank</td>\n",
       "      <td>14</td>\n",
       "    </tr>\n",
       "    <tr>\n",
       "      <th>3</th>\n",
       "      <td>103_pre_Scan1.qptiff</td>\n",
       "      <td>Stroma</td>\n",
       "      <td>40105</td>\n",
       "    </tr>\n",
       "    <tr>\n",
       "      <th>4</th>\n",
       "      <td>103_pre_Scan1.qptiff</td>\n",
       "      <td>Tumor</td>\n",
       "      <td>31124</td>\n",
       "    </tr>\n",
       "  </tbody>\n",
       "</table>\n",
       "</div>"
      ],
      "text/plain": [
       "            Sample Name Tissue Category  Cell ID\n",
       "0  101_pre_Scan1.qptiff          Stroma    14678\n",
       "1  101_pre_Scan1.qptiff           Tumor    13381\n",
       "2  103_pre_Scan1.qptiff           Blank       14\n",
       "3  103_pre_Scan1.qptiff          Stroma    40105\n",
       "4  103_pre_Scan1.qptiff           Tumor    31124"
      ]
     },
     "execution_count": 6,
     "metadata": {},
     "output_type": "execute_result"
    }
   ],
   "source": [
    "tab = merge.groupby(by=['Sample Name','Tissue Category'])['Cell ID'].count()\n",
    "tab = tab.to_frame().reset_index()\n",
    "tab.head()"
   ]
  },
  {
   "cell_type": "code",
   "execution_count": 7,
   "id": "212241ee-1ce5-4d95-baac-9df773b7333e",
   "metadata": {},
   "outputs": [
    {
     "data": {
      "text/plain": [
       "Text(0, 0.5, 'log cell counts')"
      ]
     },
     "execution_count": 7,
     "metadata": {},
     "output_type": "execute_result"
    },
    {
     "data": {
      "image/png": "[encoded data removed]",
      "text/plain": [
       "<Figure size 1440x360 with 1 Axes>"
      ]
     },
     "metadata": {
      "needs_background": "light"
     },
     "output_type": "display_data"
    }
   ],
   "source": [
    "fig = plt.figure(figsize=(20,5))\n",
    "ax = fig.add_subplot(1,1,1)\n",
    "# Determine unique tissue_id values:\n",
    "sns.barplot( x = 'Sample Name',\n",
    "            y = 'Cell ID',\n",
    "             data= tab.sort_values('Sample Name'),\n",
    "             hue = 'Tissue Category',\n",
    "             ax=ax)\n",
    "plt.xticks(rotation = 90);\n",
    "plt.yscale('log');\n",
    "plt.ylabel('log cell counts')"
   ]
  },
  {
   "cell_type": "code",
   "execution_count": 34,
   "id": "5e3f4ca3-a4b0-415a-ac91-82d5cc81042e",
   "metadata": {},
   "outputs": [
    {
     "data": {
      "text/plain": [
       "Index(['Phenotype-PD1', 'Phenotype-CD8', 'Phenotype-PDL1', 'Phenotype-CD3',\n",
       "       'Phenotype-CK', 'Phenotype-FOXP3'],\n",
       "      dtype='object')"
      ]
     },
     "execution_count": 34,
     "metadata": {},
     "output_type": "execute_result"
    }
   ],
   "source": [
    "df.columns[df.columns.str.contains('Phenotype')]"
   ]
  },
  {
   "cell_type": "markdown",
   "id": "a350d4e4-7e54-408d-8a79-04d4595c1ad2",
   "metadata": {},
   "source": [
    "# Examine PD1 vs. CD3"
   ]
  },
  {
   "cell_type": "code",
   "execution_count": 42,
   "id": "f48e0174-9fbe-421c-a4d3-c65a5840d0a1",
   "metadata": {},
   "outputs": [
    {
     "name": "stderr",
     "output_type": "stream",
     "text": [
      "100%|██████████| 65/65 [00:08<00:00,  7.71it/s]\n"
     ]
    }
   ],
   "source": [
    "ids = merge.loc[:,'Sample Name'].unique()\n",
    "p_frac = []\n",
    "c3_frac = []\n",
    "pc3_frac = []\n",
    "c8_frac = []\n",
    "pc8_frac = []\n",
    "ck_frac = []\n",
    "pck_frac = []\n",
    "pc3c8_frac = []\n",
    "pc3_c3frac = []\n",
    "for i,s in enumerate(tqdm(ids)):\n",
    "    idx = merge.loc[:,'Sample Name'].values == s\n",
    "    tot = np.sum(idx)\n",
    "    pd1 = merge.loc[idx,'Phenotype-PD1'].values == 'PD1+'\n",
    "    p_frac.append(np.sum(pd1)/tot)\n",
    "    cd3 = merge.loc[idx,'Phenotype-CD3'].values == 'CD3+'\n",
    "    c3_frac.append(np.sum(cd3)/tot)\n",
    "    pd1cd3 =pd1 & cd3\n",
    "    pc3_frac.append(np.sum(pd1cd3)/tot)\n",
    "    \n",
    "    cd8 = merge.loc[idx,'Phenotype-CD8'].values == 'CD8+'\n",
    "    c8_frac.append(np.sum(cd8)/tot)\n",
    "    pd1cd8 = cd8 & pd1\n",
    "    pc8_frac.append(np.sum(pd1cd8)/tot)\n",
    "    ck = merge.loc[idx,'Phenotype-CK'].values == 'CK+'\n",
    "    ck_frac.append(np.sum(ck)/tot)\n",
    "    pck = ck & pd1\n",
    "    pck_frac.append(np.sum(pck)/tot)\n",
    "    \n",
    "    pc3c8_frac.append(np.sum(pd1 & cd3 & cd8)/tot)\n",
    "    pc3_c3frac.append(np.sum(pd1 & cd3)/np.sum(cd3))\n",
    "    "
   ]
  },
  {
   "cell_type": "code",
   "execution_count": 46,
   "id": "3d9870bc-ba14-4ca9-8b72-951c95b5ccd5",
   "metadata": {},
   "outputs": [
    {
     "name": "stderr",
     "output_type": "stream",
     "text": [
      "No handles with labels found to put in legend.\n"
     ]
    },
    {
     "data": {
      "text/plain": [
       "Text(0, 0.5, 'PD1+CD8+CD3+ sample fraction')"
      ]
     },
     "execution_count": 46,
     "metadata": {},
     "output_type": "execute_result"
    },
    {
     "data": {
      "image/png": "[encoded data removed]",
      "text/plain": [
       "<Figure size 1080x360 with 3 Axes>"
      ]
     },
     "metadata": {},
     "output_type": "display_data"
    }
   ],
   "source": [
    "fig = plt.figure(figsize=[15,5])\n",
    "ax = fig.add_subplot(1,3,1)\n",
    "sns.scatterplot(x=p_frac,y=c3_frac,ax=ax,label='CD3+')\n",
    "sns.scatterplot(x=p_frac,y=pc3_frac,ax=ax,color='r',label='CD3+PD1+')\n",
    "plt.legend()\n",
    "ax.plot([0,0.8],[0,0.8],'--r')\n",
    "plt.xlabel('PD1+ sample fraction')\n",
    "plt.ylabel('sample fraction')\n",
    "    \n",
    "ax = fig.add_subplot(1,3,2)\n",
    "sns.scatterplot(x=pc3c8_frac,y=c8_frac,ax=ax)\n",
    "# sns.scatterplot(x=p_frac,y=pck_frac,ax=ax,color='r')\n",
    "plt.legend()\n",
    "ax.plot([0,0.8],[0,0.8],'--r')\n",
    "plt.xlabel('PD1+ CD8CD3 sample fraction')\n",
    "plt.ylabel('CD8+ T cell sample fraction')\n",
    "\n",
    "\n",
    "ax = fig.add_subplot(1,3,3)\n",
    "# sns.scatterplot(x=c3_frac,y=pc3_c3frac,ax=ax)\n",
    "sns.scatterplot(x=c8_frac,y=pc3c8_frac,ax=ax)\n",
    "ax.plot([0,0.8],[0,0.8],'--r')\n",
    "ax.plot([0,0.8],[0,0.2],'--g') # 25%\n",
    "plt.xlabel('CD8+CD3+ sample fraction')\n",
    "plt.ylabel('PD1+CD8+CD3+ sample fraction')\n",
    "\n",
    "# ax = fig.add_subplot(1,3,3)\n",
    "# sns.scatterplot(x=c3_frac,y=pc3_c3frac,ax=ax)\n",
    "# # sns.scatterplot(x=p_frac,y=pc8_frac,ax=ax,color='r')\n",
    "# ax.plot([0,0.8],[0,0.8],'--r')\n",
    "# plt.xlabel('CD3+ sample fraction')\n",
    "# plt.ylabel('PD-1+ CD3+ sample fraction')"
   ]
  },
  {
   "cell_type": "markdown",
   "id": "f6ce59b7-7640-48b9-a6e9-ecca2398a80d",
   "metadata": {},
   "source": [
    "# Define cell types"
   ]
  },
  {
   "cell_type": "code",
   "execution_count": 70,
   "id": "9ce55955-2e81-4bab-a458-9ebdfbf58ead",
   "metadata": {},
   "outputs": [],
   "source": [
    "col_types = ['PD1','CD8', 'PDL1', 'CD3', 'CK', 'FOXP3']\n",
    "cell_labels = ['PD1+','CD8+', 'PDL1+', 'CD3+', 'CK+', 'FOXP3+']\n",
    "\n",
    "# #T-cell types (ideally also with and without PD-L1, one with CD8+):\n",
    "multi_label_types = { #PDL1 for stroma/ Panck:\n",
    "                     'PDL1+': {'PDL1+':True},\n",
    "                     'CD3.CD8.PD1neg_Tcell': {'CD8+':True,'CD3+':True,'PD1+':False}, \n",
    "                     'CD3.CD8_Tcell': {'CD8+':True,'CD3+':True}, \n",
    "                     'CD3.CD8.PD1_Tcell': {'CD8+':True,'CD3+':True,'PD1+':True}, \n",
    "                     'CD3.CD8.PDL1_Tcell':{'CD8+':True,'CD3+':True,'PDL1+':True},\n",
    "                     #CD3 tcell with FOXP3\n",
    "                     'Treg': {'CD3+':True,'CD8+':False,'FOXP3+':True}, #Need to describe?\n",
    "                    }\n",
    "# For exclusive:\n",
    "\n",
    "# multi_label_types = { #PDL1 for stroma/ Panck:\n",
    "#                      'PDL1+': {'PDL1+':True},\n",
    "#                      'CD8+_Tcell': {'CD8+':True,'CD3+':True}, \n",
    "#                      'CD8+_PD1_Tcell': {'CD8+':True,'CD3+':True,'PD1+':True}, \n",
    "#                      #CD3 tcell with FOXP3\n",
    "#                      'Treg': {'CD3+':True,'FOXP3+':True}, #Need to describe?\n",
    "#                     }"
   ]
  },
  {
   "cell_type": "markdown",
   "id": "0b73e6fe-052a-471d-8ae9-de03dd82959b",
   "metadata": {},
   "source": [
    "# Save table of co-expression cell types only"
   ]
  },
  {
   "cell_type": "code",
   "execution_count": 71,
   "id": "11a868c6-8e9f-4893-a3af-ea10d0d6c584",
   "metadata": {},
   "outputs": [
    {
     "name": "stdout",
     "output_type": "stream",
     "text": [
      "QC: 50\n"
     ]
    },
    {
     "name": "stderr",
     "output_type": "stream",
     "text": [
      "100%|██████████| 6/6 [01:11<00:00, 11.93s/it]\n"
     ]
    },
    {
     "name": "stdout",
     "output_type": "stream",
     "text": [
      "other 4703206\n",
      "/mnt/results/vectra_mergepanel_2820436_of_7523642_qc50_cell_seg_coex_summary_v4.tsv\n"
     ]
    },
    {
     "data": {
      "text/plain": [
       "coex_cell\n",
       "CD3.CD8.PD1_Tcell       69688\n",
       "CD3.CD8.PDL1_Tcell      91760\n",
       "CD3.CD8_Tcell          189670\n",
       "Other                 4703206\n",
       "PDL1+                 2198433\n",
       "Treg                   270885\n",
       "Name: sample_type, dtype: int64"
      ]
     },
     "execution_count": 71,
     "metadata": {},
     "output_type": "execute_result"
    }
   ],
   "source": [
    "cell_cols = []\n",
    "conf_cols = []\n",
    "df = merge.copy()\n",
    "for col in col_types:\n",
    "    cell_cols.append('Phenotype-%s' % col)\n",
    "    conf_cols.append('Confidence-%s' % col)\n",
    "    \n",
    "qc_thresh = 50\n",
    "verbose = False\n",
    "print('QC: %d' % qc_thresh)\n",
    "exclusive= False\n",
    "coex_df = pd.DataFrame([])\n",
    "all_use = np.zeros((df.shape[0],)).astype(bool)\n",
    "for comb_type in tqdm(multi_label_types.keys()):\n",
    "    # print(comb_type)\n",
    "    idx =  vecutils.multi_to_index(df,\n",
    "                                 multi_label_types , \n",
    "                                 comb_type,\n",
    "                                 exclusive=exclusive,\n",
    "                                 col_types = cell_cols,\n",
    "                                 qc_thresh= qc_thresh,\n",
    "                                 verbose = verbose)\n",
    "    all_use = all_use | idx\n",
    "    df.loc[idx,'coex_cell']=comb_type\n",
    "\n",
    "other_idx = ~all_use\n",
    "print('other',np.sum(other_idx))\n",
    "df.loc[other_idx,'coex_cell'] = 'Other'\n",
    "if exclusive == True:\n",
    "    coex_fn = results.joinpath('vectra_exclusive_mergepanel_%d_of_%d_qc%d_cell_seg_coex_summary.tsv' % (np.sum(all_use),\n",
    "                                                                                          df.shape[0],\n",
    "                                                                                          qc_thresh))\n",
    "else:\n",
    "    # Version 3 -> PD1+/- CD8 Tcell (not exclusive of other markers, i.e. other markers OK)\n",
    "    # Version 4-> Include PDL1+ CD8 t cell\n",
    "    coex_fn = results.joinpath('vectra_mergepanel_%d_of_%d_qc%d_cell_seg_coex_summary_v4.tsv' % (np.sum(all_use),\n",
    "                                                                                          df.shape[0],\n",
    "                                                                                          qc_thresh))\n",
    "print(coex_fn)\n",
    "df.to_csv(coex_fn,index=False, sep='\\t')\n",
    "df.groupby(['coex_cell'])['sample_type'].count()"
   ]
  },
  {
   "cell_type": "code",
   "execution_count": 80,
   "id": "c1a91cbd-1b8e-470e-91c5-401f4cbe63cc",
   "metadata": {},
   "outputs": [
    {
     "data": {
      "text/plain": [
       "coex_cell\n",
       "CD3.CD8.PD1_Tcell       69688\n",
       "CD3.CD8.PDL1_Tcell      91760\n",
       "CD3.CD8_Tcell          189670\n",
       "Other                 4703206\n",
       "PDL1+                 2198433\n",
       "Treg                   270885\n",
       "Name: sample_type, dtype: int64"
      ]
     },
     "execution_count": 80,
     "metadata": {},
     "output_type": "execute_result"
    }
   ],
   "source": [
    "df.groupby(['coex_cell'])['sample_type'].count()"
   ]
  },
  {
   "cell_type": "markdown",
   "id": "64b26ffe-7c88-4e87-96c9-14716530a7c1",
   "metadata": {},
   "source": [
    "# Load coexpressing cell data"
   ]
  },
  {
   "cell_type": "code",
   "execution_count": 5,
   "id": "43882b25-9776-45d2-b61d-ae855fed711b",
   "metadata": {},
   "outputs": [
    {
     "name": "stdout",
     "output_type": "stream",
     "text": [
      "(7523642, 37)\n"
     ]
    },
    {
     "data": {
      "text/plain": [
       "array(['101', '103', '104', '107', '108', '109', '110', '111', '112',\n",
       "       '113', '114', '116', '117', '119', '121', '123', '124', '125',\n",
       "       '127', '128', '129', '130', '131', '132', '133', '134', '136',\n",
       "       '137', '138', '139', '140', '141', '142', 'PBC-PR-6544',\n",
       "       'PBC-PR-6545', 'PBC-PR-6546', 'PBC-PR-6547', 'PBC-PR-6548',\n",
       "       'PBC-PR-6549'], dtype=object)"
      ]
     },
     "execution_count": 5,
     "metadata": {},
     "output_type": "execute_result"
    }
   ],
   "source": [
    "exclusive = False\n",
    "if exclusive:\n",
    "    df = pd.read_csv(results.joinpath('vectra_exclusive_mergepanel_906984_of_7523642_qc50_cell_seg_coex_summary.tsv'),\n",
    "                                  sep='\\t')\n",
    "else:\n",
    "    df = pd.read_csv(results.joinpath('vectra_mergepanel_2820431_of_7523642_qc50_cell_seg_coex_summary_v2.tsv'),\n",
    "                                  sep='\\t')\n",
    "print(df.shape)\n",
    "pt_ID=df.loc[:,'Sample Name'].str.split('_').str[0]\n",
    "np.unique(pt_ID)"
   ]
  },
  {
   "cell_type": "code",
   "execution_count": 11,
   "id": "989fcaf0-9960-4882-9bff-4bc27e8d4c4f",
   "metadata": {},
   "outputs": [
    {
     "data": {
      "text/plain": [
       "array(['1AFS', '1F', '3AFS', '4AFS', 'Scan1.qptiff', 'pre', 'pre1',\n",
       "       'pre2', 'sx', 'sx1', 'sx2'], dtype=object)"
      ]
     },
     "execution_count": 11,
     "metadata": {},
     "output_type": "execute_result"
    }
   ],
   "source": [
    "pt_ID=df.loc[:,'Sample Name'].str.split('_').str[0]\n",
    "np.unique(pt_ID)\n",
    "pre_post = df.loc[:,'Sample Name'].str.split('_').str[1]\n",
    "np.unique(pre_post)"
   ]
  },
  {
   "cell_type": "code",
   "execution_count": 81,
   "id": "536b05de-febe-476e-a10a-2d0baa5fe4ba",
   "metadata": {},
   "outputs": [
    {
     "name": "stdout",
     "output_type": "stream",
     "text": [
      "(7506367, 40)\n"
     ]
    },
    {
     "data": {
      "text/html": [
       "<div>\n",
       "<style scoped>\n",
       "    .dataframe tbody tr th:only-of-type {\n",
       "        vertical-align: middle;\n",
       "    }\n",
       "\n",
       "    .dataframe tbody tr th {\n",
       "        vertical-align: top;\n",
       "    }\n",
       "\n",
       "    .dataframe thead th {\n",
       "        text-align: right;\n",
       "    }\n",
       "</style>\n",
       "<table border=\"1\" class=\"dataframe\">\n",
       "  <thead>\n",
       "    <tr style=\"text-align: right;\">\n",
       "      <th></th>\n",
       "      <th>Path</th>\n",
       "      <th>Sample Name</th>\n",
       "      <th>Tissue Category</th>\n",
       "      <th>Phenotype-PD1</th>\n",
       "      <th>Phenotype-CD8</th>\n",
       "      <th>Phenotype-PDL1</th>\n",
       "      <th>Phenotype-CD3</th>\n",
       "      <th>Phenotype-CK</th>\n",
       "      <th>Phenotype-FOXP3</th>\n",
       "      <th>Cell ID</th>\n",
       "      <th>...</th>\n",
       "      <th>Confidence-CK</th>\n",
       "      <th>Confidence-FOXP3</th>\n",
       "      <th>inForm 2.6.7900.18857</th>\n",
       "      <th>tissue_id</th>\n",
       "      <th>sample_type</th>\n",
       "      <th>tma_wts</th>\n",
       "      <th>coex_cell</th>\n",
       "      <th>Study_ID</th>\n",
       "      <th>pre_post</th>\n",
       "      <th>pre_post_all</th>\n",
       "    </tr>\n",
       "  </thead>\n",
       "  <tbody>\n",
       "    <tr>\n",
       "      <th>0</th>\n",
       "      <td>D:\\Data\\VectraPolaris\\Lazar_Hous_18-139\\137_sx...</td>\n",
       "      <td>137_sx_Scan1.qptiff</td>\n",
       "      <td>Tumor</td>\n",
       "      <td>NaN</td>\n",
       "      <td>NaN</td>\n",
       "      <td>NaN</td>\n",
       "      <td>NaN</td>\n",
       "      <td>NaN</td>\n",
       "      <td>NaN</td>\n",
       "      <td>84308</td>\n",
       "      <td>...</td>\n",
       "      <td>NaN</td>\n",
       "      <td>NaN</td>\n",
       "      <td>NaN</td>\n",
       "      <td>137_sx_Scan1_[12454,47316]</td>\n",
       "      <td>WTS</td>\n",
       "      <td>WTS</td>\n",
       "      <td>Other</td>\n",
       "      <td>137</td>\n",
       "      <td>post</td>\n",
       "      <td>post</td>\n",
       "    </tr>\n",
       "  </tbody>\n",
       "</table>\n",
       "<p>1 rows × 40 columns</p>\n",
       "</div>"
      ],
      "text/plain": [
       "                                                Path          Sample Name  \\\n",
       "0  D:\\Data\\VectraPolaris\\Lazar_Hous_18-139\\137_sx...  137_sx_Scan1.qptiff   \n",
       "\n",
       "  Tissue Category Phenotype-PD1 Phenotype-CD8 Phenotype-PDL1 Phenotype-CD3  \\\n",
       "0           Tumor           NaN           NaN            NaN           NaN   \n",
       "\n",
       "  Phenotype-CK Phenotype-FOXP3  Cell ID  ...  Confidence-CK  Confidence-FOXP3  \\\n",
       "0          NaN             NaN    84308  ...            NaN               NaN   \n",
       "\n",
       "   inForm 2.6.7900.18857                   tissue_id  sample_type  tma_wts  \\\n",
       "0                    NaN  137_sx_Scan1_[12454,47316]          WTS      WTS   \n",
       "\n",
       "   coex_cell  Study_ID  pre_post  pre_post_all  \n",
       "0      Other       137      post          post  \n",
       "\n",
       "[1 rows x 40 columns]"
      ]
     },
     "execution_count": 81,
     "metadata": {},
     "output_type": "execute_result"
    }
   ],
   "source": [
    "pt_ID=df.loc[:,'Sample Name'].str.split('_').str[0]\n",
    "pre_post = df.loc[:,'Sample Name'].str.split('_').str[1]\n",
    "df.loc[:,'Study_ID'] = pt_ID\n",
    "df.loc[:,'pre_post'] = pre_post\n",
    "\n",
    "section_labeled = {'104': ('104','pre'), #Deals with mislabel of 104_Scan1 (POST defined below! so not overwriting both)\n",
    "                   # 'PBC-PR-6544': ('NA', 'NA'), # Just note that there is a scan that has no associated patient etc\n",
    "                   'PBC-PR-6545': ('101','sx'),\n",
    "                   'PBC-PR-6546': ('104','sx'),\n",
    "                   'PBC-PR-6547': ('108','sx'),\n",
    "                   'PBC-PR-6548': ('121','sx'),\n",
    "                   'PBC-PR-6549': ('125','sx'),\n",
    "                   '142': ('143',''), #142 pre and sx-> mislabeling of 143 - Hous correspondence\n",
    "                  }\n",
    "\n",
    "for lab in section_labeled.keys():\n",
    "    idx = df.Study_ID == lab\n",
    "    df.loc[idx,'Study_ID'] = section_labeled[lab][0]\n",
    "    if any(section_labeled[lab][1]):\n",
    "        df.loc[idx,'pre_post'] = section_labeled[lab][1]\n",
    "    \n",
    "pre = df.pre_post.isin(['pre','pre1','pre2'])\n",
    "post = df.pre_post.isin(['sx','sx1','sx2'])\n",
    "df.loc[pre,'pre_post_all'] = 'pre'\n",
    "df.loc[post,'pre_post_all'] = 'post'\n",
    "\n",
    "df_clean = df.loc[pre | post,:].copy()\n",
    "df_clean.loc[:,'Study_ID'] = df_clean.Study_ID.astype(int)\n",
    "df_clean.loc[pre,'pre_post'] = 'pre'\n",
    "df_clean.loc[post,'pre_post'] = 'post'\n",
    "print(df_clean.shape)\n",
    "df_clean.head(n=1)"
   ]
  },
  {
   "cell_type": "code",
   "execution_count": null,
   "id": "b1fcba69-ec11-449a-abab-8d784c0b622c",
   "metadata": {},
   "outputs": [],
   "source": []
  },
  {
   "cell_type": "code",
   "execution_count": 82,
   "id": "2cdd7958-45ad-4130-965c-7bb35c4e5327",
   "metadata": {},
   "outputs": [
    {
     "name": "stdout",
     "output_type": "stream",
     "text": [
      "32\n",
      "30\n",
      "65\n"
     ]
    }
   ],
   "source": [
    "paired_df = df.groupby(['Study_ID','pre_post_all'])['Sample Name'].unique().reset_index()\n",
    "paired_df = paired_df.pivot(index='Study_ID', columns='pre_post_all', values='Sample Name')\n",
    "print(np.sum(~paired_df.pre.isna()))\n",
    "print(np.sum(~paired_df.post.isna()))\n",
    "print(len(df.loc[:,'Sample Name'].unique()))"
   ]
  },
  {
   "cell_type": "code",
   "execution_count": 83,
   "id": "f17cec4a-6b9a-4adf-8605-2ea1ca59400a",
   "metadata": {},
   "outputs": [
    {
     "data": {
      "text/plain": [
       "(29, 2)"
      ]
     },
     "execution_count": 83,
     "metadata": {},
     "output_type": "execute_result"
    }
   ],
   "source": [
    "paired_df.dropna().shape"
   ]
  },
  {
   "cell_type": "code",
   "execution_count": 50,
   "id": "a76885c9-1509-441a-82e0-002b90dd0b65",
   "metadata": {},
   "outputs": [
    {
     "data": {
      "text/html": [
       "<div>\n",
       "<style scoped>\n",
       "    .dataframe tbody tr th:only-of-type {\n",
       "        vertical-align: middle;\n",
       "    }\n",
       "\n",
       "    .dataframe tbody tr th {\n",
       "        vertical-align: top;\n",
       "    }\n",
       "\n",
       "    .dataframe thead th {\n",
       "        text-align: right;\n",
       "    }\n",
       "</style>\n",
       "<table border=\"1\" class=\"dataframe\">\n",
       "  <thead>\n",
       "    <tr style=\"text-align: right;\">\n",
       "      <th>pre_post_all</th>\n",
       "      <th>post</th>\n",
       "      <th>pre</th>\n",
       "    </tr>\n",
       "    <tr>\n",
       "      <th>Study_ID</th>\n",
       "      <th></th>\n",
       "      <th></th>\n",
       "    </tr>\n",
       "  </thead>\n",
       "  <tbody>\n",
       "    <tr>\n",
       "      <th>101</th>\n",
       "      <td>[PBC-PR-6545_1AFS_Scan1.qptiff]</td>\n",
       "      <td>[101_pre_Scan1.qptiff]</td>\n",
       "    </tr>\n",
       "    <tr>\n",
       "      <th>103</th>\n",
       "      <td>NaN</td>\n",
       "      <td>[103_pre_Scan1.qptiff]</td>\n",
       "    </tr>\n",
       "    <tr>\n",
       "      <th>104</th>\n",
       "      <td>[PBC-PR-6546_4AFS_Scan1.qptiff]</td>\n",
       "      <td>[104_Scan1.qptiff]</td>\n",
       "    </tr>\n",
       "    <tr>\n",
       "      <th>107</th>\n",
       "      <td>[107_sx_Scan1.qptiff]</td>\n",
       "      <td>[107_pre_Scan1.qptiff]</td>\n",
       "    </tr>\n",
       "    <tr>\n",
       "      <th>108</th>\n",
       "      <td>[PBC-PR-6547_1F_Scan1.qptiff]</td>\n",
       "      <td>[108_pre_Scan1.qptiff]</td>\n",
       "    </tr>\n",
       "    <tr>\n",
       "      <th>109</th>\n",
       "      <td>[109_sx2_Scan1.qptiff, 109_sx1_Scan1.qptiff]</td>\n",
       "      <td>[109_pre_Scan1.qptiff]</td>\n",
       "    </tr>\n",
       "    <tr>\n",
       "      <th>110</th>\n",
       "      <td>NaN</td>\n",
       "      <td>[110_pre_Scan1.qptiff]</td>\n",
       "    </tr>\n",
       "    <tr>\n",
       "      <th>111</th>\n",
       "      <td>[111_sx_Scan1.qptiff]</td>\n",
       "      <td>[111_pre_Scan1.qptiff]</td>\n",
       "    </tr>\n",
       "    <tr>\n",
       "      <th>112</th>\n",
       "      <td>[112_sx_Scan1.qptiff]</td>\n",
       "      <td>[112_pre_Scan1.qptiff]</td>\n",
       "    </tr>\n",
       "    <tr>\n",
       "      <th>113</th>\n",
       "      <td>[113_sx_Scan1.qptiff]</td>\n",
       "      <td>[113_pre_Scan1.qptiff]</td>\n",
       "    </tr>\n",
       "    <tr>\n",
       "      <th>114</th>\n",
       "      <td>[114_sx_Scan1.qptiff]</td>\n",
       "      <td>[114_pre_Scan1.qptiff]</td>\n",
       "    </tr>\n",
       "    <tr>\n",
       "      <th>116</th>\n",
       "      <td>[116_sx_Scan1.qptiff]</td>\n",
       "      <td>[116_pre2_Scan1.qptiff, 116_pre1_Scan1.qptiff]</td>\n",
       "    </tr>\n",
       "    <tr>\n",
       "      <th>117</th>\n",
       "      <td>[117_sx_Scan1.qptiff]</td>\n",
       "      <td>[117_pre_Scan1.qptiff]</td>\n",
       "    </tr>\n",
       "    <tr>\n",
       "      <th>119</th>\n",
       "      <td>[119_sx_Scan1.qptiff]</td>\n",
       "      <td>[119_pre_Scan1.qptiff]</td>\n",
       "    </tr>\n",
       "    <tr>\n",
       "      <th>121</th>\n",
       "      <td>[PBC-PR-6548_1AFS_Scan1.qptiff]</td>\n",
       "      <td>[121_pre_Scan1.qptiff]</td>\n",
       "    </tr>\n",
       "    <tr>\n",
       "      <th>123</th>\n",
       "      <td>[123_sx_Scan1.qptiff]</td>\n",
       "      <td>[123_pre_Scan1.qptiff]</td>\n",
       "    </tr>\n",
       "    <tr>\n",
       "      <th>124</th>\n",
       "      <td>[124_sx_Scan1.qptiff]</td>\n",
       "      <td>[124_pre_Scan1.qptiff]</td>\n",
       "    </tr>\n",
       "    <tr>\n",
       "      <th>125</th>\n",
       "      <td>[PBC-PR-6549_1AFS_Scan1.qptiff]</td>\n",
       "      <td>[125_pre2_Scan1.qptiff]</td>\n",
       "    </tr>\n",
       "    <tr>\n",
       "      <th>127</th>\n",
       "      <td>[127_sx_Scan1.qptiff]</td>\n",
       "      <td>[127_pre_Scan1.qptiff]</td>\n",
       "    </tr>\n",
       "    <tr>\n",
       "      <th>128</th>\n",
       "      <td>[128_sx_Scan1.qptiff]</td>\n",
       "      <td>[128_pre_Scan1.qptiff]</td>\n",
       "    </tr>\n",
       "    <tr>\n",
       "      <th>129</th>\n",
       "      <td>[129_sx_Scan1.qptiff]</td>\n",
       "      <td>[129_pre_Scan1.qptiff]</td>\n",
       "    </tr>\n",
       "    <tr>\n",
       "      <th>130</th>\n",
       "      <td>[130_sx_Scan1.qptiff]</td>\n",
       "      <td>[130_pre_Scan1.qptiff]</td>\n",
       "    </tr>\n",
       "    <tr>\n",
       "      <th>131</th>\n",
       "      <td>[131_sx_Scan1.qptiff]</td>\n",
       "      <td>[131_pre_Scan1.qptiff]</td>\n",
       "    </tr>\n",
       "    <tr>\n",
       "      <th>132</th>\n",
       "      <td>NaN</td>\n",
       "      <td>[132_pre_Scan1.qptiff]</td>\n",
       "    </tr>\n",
       "    <tr>\n",
       "      <th>133</th>\n",
       "      <td>[133_sx_Scan1.qptiff]</td>\n",
       "      <td>[133_pre_Scan1.qptiff]</td>\n",
       "    </tr>\n",
       "    <tr>\n",
       "      <th>134</th>\n",
       "      <td>[134_sx_Scan1.qptiff]</td>\n",
       "      <td>NaN</td>\n",
       "    </tr>\n",
       "    <tr>\n",
       "      <th>136</th>\n",
       "      <td>[136_sx_Scan1.qptiff]</td>\n",
       "      <td>[136_pre_Scan1.qptiff]</td>\n",
       "    </tr>\n",
       "    <tr>\n",
       "      <th>137</th>\n",
       "      <td>[137_sx_Scan1.qptiff]</td>\n",
       "      <td>[137_pre_Scan1.qptiff]</td>\n",
       "    </tr>\n",
       "    <tr>\n",
       "      <th>138</th>\n",
       "      <td>[138_sx_Scan1.qptiff]</td>\n",
       "      <td>[138_pre_Scan1.qptiff]</td>\n",
       "    </tr>\n",
       "    <tr>\n",
       "      <th>139</th>\n",
       "      <td>[139_sx_Scan1.qptiff]</td>\n",
       "      <td>[139_pre_Scan1.qptiff]</td>\n",
       "    </tr>\n",
       "    <tr>\n",
       "      <th>140</th>\n",
       "      <td>[140_sx_Scan1.qptiff]</td>\n",
       "      <td>[140_pre_Scan1.qptiff]</td>\n",
       "    </tr>\n",
       "    <tr>\n",
       "      <th>141</th>\n",
       "      <td>[141_sx_Scan1.qptiff]</td>\n",
       "      <td>[141_pre_Scan1.qptiff]</td>\n",
       "    </tr>\n",
       "    <tr>\n",
       "      <th>143</th>\n",
       "      <td>[142_sx_Scan1.qptiff]</td>\n",
       "      <td>[142_pre_Scan1.qptiff]</td>\n",
       "    </tr>\n",
       "  </tbody>\n",
       "</table>\n",
       "</div>"
      ],
      "text/plain": [
       "pre_post_all                                          post  \\\n",
       "Study_ID                                                     \n",
       "101                        [PBC-PR-6545_1AFS_Scan1.qptiff]   \n",
       "103                                                    NaN   \n",
       "104                        [PBC-PR-6546_4AFS_Scan1.qptiff]   \n",
       "107                                  [107_sx_Scan1.qptiff]   \n",
       "108                          [PBC-PR-6547_1F_Scan1.qptiff]   \n",
       "109           [109_sx2_Scan1.qptiff, 109_sx1_Scan1.qptiff]   \n",
       "110                                                    NaN   \n",
       "111                                  [111_sx_Scan1.qptiff]   \n",
       "112                                  [112_sx_Scan1.qptiff]   \n",
       "113                                  [113_sx_Scan1.qptiff]   \n",
       "114                                  [114_sx_Scan1.qptiff]   \n",
       "116                                  [116_sx_Scan1.qptiff]   \n",
       "117                                  [117_sx_Scan1.qptiff]   \n",
       "119                                  [119_sx_Scan1.qptiff]   \n",
       "121                        [PBC-PR-6548_1AFS_Scan1.qptiff]   \n",
       "123                                  [123_sx_Scan1.qptiff]   \n",
       "124                                  [124_sx_Scan1.qptiff]   \n",
       "125                        [PBC-PR-6549_1AFS_Scan1.qptiff]   \n",
       "127                                  [127_sx_Scan1.qptiff]   \n",
       "128                                  [128_sx_Scan1.qptiff]   \n",
       "129                                  [129_sx_Scan1.qptiff]   \n",
       "130                                  [130_sx_Scan1.qptiff]   \n",
       "131                                  [131_sx_Scan1.qptiff]   \n",
       "132                                                    NaN   \n",
       "133                                  [133_sx_Scan1.qptiff]   \n",
       "134                                  [134_sx_Scan1.qptiff]   \n",
       "136                                  [136_sx_Scan1.qptiff]   \n",
       "137                                  [137_sx_Scan1.qptiff]   \n",
       "138                                  [138_sx_Scan1.qptiff]   \n",
       "139                                  [139_sx_Scan1.qptiff]   \n",
       "140                                  [140_sx_Scan1.qptiff]   \n",
       "141                                  [141_sx_Scan1.qptiff]   \n",
       "143                                  [142_sx_Scan1.qptiff]   \n",
       "\n",
       "pre_post_all                                             pre  \n",
       "Study_ID                                                      \n",
       "101                                   [101_pre_Scan1.qptiff]  \n",
       "103                                   [103_pre_Scan1.qptiff]  \n",
       "104                                       [104_Scan1.qptiff]  \n",
       "107                                   [107_pre_Scan1.qptiff]  \n",
       "108                                   [108_pre_Scan1.qptiff]  \n",
       "109                                   [109_pre_Scan1.qptiff]  \n",
       "110                                   [110_pre_Scan1.qptiff]  \n",
       "111                                   [111_pre_Scan1.qptiff]  \n",
       "112                                   [112_pre_Scan1.qptiff]  \n",
       "113                                   [113_pre_Scan1.qptiff]  \n",
       "114                                   [114_pre_Scan1.qptiff]  \n",
       "116           [116_pre2_Scan1.qptiff, 116_pre1_Scan1.qptiff]  \n",
       "117                                   [117_pre_Scan1.qptiff]  \n",
       "119                                   [119_pre_Scan1.qptiff]  \n",
       "121                                   [121_pre_Scan1.qptiff]  \n",
       "123                                   [123_pre_Scan1.qptiff]  \n",
       "124                                   [124_pre_Scan1.qptiff]  \n",
       "125                                  [125_pre2_Scan1.qptiff]  \n",
       "127                                   [127_pre_Scan1.qptiff]  \n",
       "128                                   [128_pre_Scan1.qptiff]  \n",
       "129                                   [129_pre_Scan1.qptiff]  \n",
       "130                                   [130_pre_Scan1.qptiff]  \n",
       "131                                   [131_pre_Scan1.qptiff]  \n",
       "132                                   [132_pre_Scan1.qptiff]  \n",
       "133                                   [133_pre_Scan1.qptiff]  \n",
       "134                                                      NaN  \n",
       "136                                   [136_pre_Scan1.qptiff]  \n",
       "137                                   [137_pre_Scan1.qptiff]  \n",
       "138                                   [138_pre_Scan1.qptiff]  \n",
       "139                                   [139_pre_Scan1.qptiff]  \n",
       "140                                   [140_pre_Scan1.qptiff]  \n",
       "141                                   [141_pre_Scan1.qptiff]  \n",
       "143                                   [142_pre_Scan1.qptiff]  "
      ]
     },
     "execution_count": 50,
     "metadata": {},
     "output_type": "execute_result"
    }
   ],
   "source": [
    "paired_df"
   ]
  },
  {
   "cell_type": "code",
   "execution_count": 11,
   "id": "319868a0-fd54-44e3-9f8b-724fef8e411b",
   "metadata": {},
   "outputs": [
    {
     "name": "stdout",
     "output_type": "stream",
     "text": [
      "34\n",
      "34\n",
      "33\n"
     ]
    },
    {
     "data": {
      "text/plain": [
       "array([101, 103, 104, 107, 108, 109, 110, 111, 112, 113, 114, 116, 117,\n",
       "       119, 121, 123, 124, 125, 127, 128, 129, 130, 131, 132, 133, 134,\n",
       "       136, 137, 138, 139, 140, 141, 143])"
      ]
     },
     "execution_count": 11,
     "metadata": {},
     "output_type": "execute_result"
    }
   ],
   "source": [
    "idx = df.loc[:,'Tissue Category'].values == 'Tumor'\n",
    "print(len(df.Study_ID[idx].unique()))\n",
    "idx = df.loc[:,'Tissue Category'].values == 'Stroma'\n",
    "print(len(df.Study_ID[idx].unique()))\n",
    "# print(df.\n",
    "idx = df_clean.loc[:,'Tissue Category'].values == 'Tumor'\n",
    "print(len(np.sort(df_clean.Study_ID[idx].unique())))\n",
    "np.sort(df_clean.Study_ID.unique())"
   ]
  },
  {
   "cell_type": "code",
   "execution_count": 9,
   "id": "febc5f7c-4513-4db8-bbd4-bc6471c8d201",
   "metadata": {},
   "outputs": [
    {
     "name": "stdout",
     "output_type": "stream",
     "text": [
      "(7506367, 39)\n"
     ]
    }
   ],
   "source": [
    "print(df_clean.shape)"
   ]
  },
  {
   "cell_type": "markdown",
   "id": "cc66a43e-0036-4496-9b63-10d37f65c613",
   "metadata": {},
   "source": [
    "## Merge these with clinical info"
   ]
  },
  {
   "cell_type": "code",
   "execution_count": 84,
   "id": "6b9e5131-d272-4f89-967b-d65234c98b6d",
   "metadata": {},
   "outputs": [],
   "source": [
    "use = info.Study_ID.isin([101, 102, 103, 104, 105, 106, 107, 108, 109, 110, 111, 112, 113,\n",
    "       114, 116, 117, 119, 120, 121, 123, 124, 125, 127, 128, 129, 130,\n",
    "       131, 132, 133, 134, 136, 137, 138, 139, 140, 141, 143, 148, 149,\n",
    "       150])\n",
    "info_clean = info.loc[use,:].copy()"
   ]
  },
  {
   "cell_type": "code",
   "execution_count": 11,
   "id": "575dbfb4-6c79-42f9-9bb0-dc90ccda635b",
   "metadata": {},
   "outputs": [
    {
     "data": {
      "text/plain": [
       "Index(['Study_ID', 'Initials', 'DOB', 'HPV', 'Regimen assigned', 'Screen',\n",
       "       'HN#(pre)', 'C1D1', 'Surgery', 'HN#(post)', 'Path_response',\n",
       "       'Path_response_categories',\n",
       "       'Volumetric response (%change from baseline)',\n",
       "       'RECIST Overall response', 'PD-L1', 'LAG3', 'Unnamed: 16'],\n",
       "      dtype='object')"
      ]
     },
     "execution_count": 11,
     "metadata": {},
     "output_type": "execute_result"
    }
   ],
   "source": [
    "info_clean.columns"
   ]
  },
  {
   "cell_type": "code",
   "execution_count": 85,
   "id": "3c4421ea-c160-4f4d-9319-6370fab5726f",
   "metadata": {},
   "outputs": [
    {
     "data": {
      "text/html": [
       "<div>\n",
       "<style scoped>\n",
       "    .dataframe tbody tr th:only-of-type {\n",
       "        vertical-align: middle;\n",
       "    }\n",
       "\n",
       "    .dataframe tbody tr th {\n",
       "        vertical-align: top;\n",
       "    }\n",
       "\n",
       "    .dataframe thead th {\n",
       "        text-align: right;\n",
       "    }\n",
       "</style>\n",
       "<table border=\"1\" class=\"dataframe\">\n",
       "  <thead>\n",
       "    <tr style=\"text-align: right;\">\n",
       "      <th></th>\n",
       "      <th>Study_ID</th>\n",
       "      <th>pre_post</th>\n",
       "      <th>Tissue Category</th>\n",
       "      <th>coex_cell</th>\n",
       "      <th>Path_response</th>\n",
       "      <th>Regimen assigned</th>\n",
       "      <th>Path_response_categories</th>\n",
       "    </tr>\n",
       "  </thead>\n",
       "  <tbody>\n",
       "    <tr>\n",
       "      <th>0</th>\n",
       "      <td>137</td>\n",
       "      <td>post</td>\n",
       "      <td>Tumor</td>\n",
       "      <td>Other</td>\n",
       "      <td>0.0</td>\n",
       "      <td>Nivo alone</td>\n",
       "      <td>pNR</td>\n",
       "    </tr>\n",
       "    <tr>\n",
       "      <th>1</th>\n",
       "      <td>137</td>\n",
       "      <td>post</td>\n",
       "      <td>Stroma</td>\n",
       "      <td>CD3.CD8.PDL1_Tcell</td>\n",
       "      <td>0.0</td>\n",
       "      <td>Nivo alone</td>\n",
       "      <td>pNR</td>\n",
       "    </tr>\n",
       "    <tr>\n",
       "      <th>2</th>\n",
       "      <td>137</td>\n",
       "      <td>post</td>\n",
       "      <td>Stroma</td>\n",
       "      <td>Other</td>\n",
       "      <td>0.0</td>\n",
       "      <td>Nivo alone</td>\n",
       "      <td>pNR</td>\n",
       "    </tr>\n",
       "    <tr>\n",
       "      <th>3</th>\n",
       "      <td>137</td>\n",
       "      <td>post</td>\n",
       "      <td>Stroma</td>\n",
       "      <td>Other</td>\n",
       "      <td>0.0</td>\n",
       "      <td>Nivo alone</td>\n",
       "      <td>pNR</td>\n",
       "    </tr>\n",
       "    <tr>\n",
       "      <th>4</th>\n",
       "      <td>137</td>\n",
       "      <td>post</td>\n",
       "      <td>Stroma</td>\n",
       "      <td>PDL1+</td>\n",
       "      <td>0.0</td>\n",
       "      <td>Nivo alone</td>\n",
       "      <td>pNR</td>\n",
       "    </tr>\n",
       "  </tbody>\n",
       "</table>\n",
       "</div>"
      ],
      "text/plain": [
       "  Study_ID pre_post Tissue Category           coex_cell  Path_response  \\\n",
       "0      137     post           Tumor               Other            0.0   \n",
       "1      137     post          Stroma  CD3.CD8.PDL1_Tcell            0.0   \n",
       "2      137     post          Stroma               Other            0.0   \n",
       "3      137     post          Stroma               Other            0.0   \n",
       "4      137     post          Stroma               PDL1+            0.0   \n",
       "\n",
       "  Regimen assigned Path_response_categories  \n",
       "0       Nivo alone                      pNR  \n",
       "1       Nivo alone                      pNR  \n",
       "2       Nivo alone                      pNR  \n",
       "3       Nivo alone                      pNR  \n",
       "4       Nivo alone                      pNR  "
      ]
     },
     "execution_count": 85,
     "metadata": {},
     "output_type": "execute_result"
    }
   ],
   "source": [
    "use = info.Study_ID.isin([101, 102, 103, 104, 105, 106, 107, 108, 109, 110, 111, 112, 113,\n",
    "       114, 116, 117, 119, 120, 121, 123, 124, 125, 127, 128, 129, 130,\n",
    "       131, 132, 133, 134, 136, 137, 138, 139, 140, 141, 143, 148, 149,\n",
    "       150])\n",
    "info_clean = info.loc[use,:].copy()\n",
    "df_clin = pd.merge(df_clean,info_clean,on='Study_ID',how='left')\n",
    "df_clin.loc[:,['Study_ID','pre_post',\n",
    "               'Tissue Category',\n",
    "               'coex_cell','Path_response','Regimen assigned',\n",
    "               'Path_response_categories']].head()"
   ]
  },
  {
   "cell_type": "code",
   "execution_count": null,
   "id": "29cbe478-41a4-4625-bb95-da55ea92374e",
   "metadata": {},
   "outputs": [],
   "source": [
    "df_clin.groupby(['Study_ID'])['Path_response'].unique()."
   ]
  },
  {
   "cell_type": "code",
   "execution_count": 68,
   "id": "3529a5df-0059-4056-8ede-47e2de4e6d2c",
   "metadata": {},
   "outputs": [
    {
     "data": {
      "text/plain": [
       "12"
      ]
     },
     "execution_count": 68,
     "metadata": {},
     "output_type": "execute_result"
    }
   ],
   "source": [
    "np.sum(df_clin.groupby(['Study_ID'])['Path_response'].unique().reset_index().Path_response==0)"
   ]
  },
  {
   "cell_type": "code",
   "execution_count": 13,
   "id": "458c7d48-c6ae-42d1-9bf1-7e6cdf3763c6",
   "metadata": {},
   "outputs": [
    {
     "name": "stdout",
     "output_type": "stream",
     "text": [
      "(7506367, 55) 33\n"
     ]
    },
    {
     "data": {
      "text/plain": [
       "array([101, 103, 104, 107, 108, 109, 110, 111, 112, 113, 114, 116, 117,\n",
       "       119, 121, 123, 124, 125, 127, 128, 129, 130, 131, 132, 133, 134,\n",
       "       136, 137, 138, 139, 140, 141, 143], dtype=object)"
      ]
     },
     "execution_count": 13,
     "metadata": {},
     "output_type": "execute_result"
    }
   ],
   "source": [
    "print(df_clin.shape,len(np.sort(df_clin.Study_ID.unique())))\n",
    "np.sort(df_clin.Study_ID.unique())"
   ]
  },
  {
   "cell_type": "code",
   "execution_count": 14,
   "id": "b16300a0-482d-4f85-8297-3d8ccd2e43a7",
   "metadata": {},
   "outputs": [
    {
     "data": {
      "text/plain": [
       "Study_ID  pre_post  Tissue Category  coex_cell           \n",
       "101       post      Blank            Other                       15\n",
       "                                     Treg                         1\n",
       "                    Stroma           CD3.CD8.PD1_Tcell          281\n",
       "                                     CD3.CD8.PD1neg_Tcell      2713\n",
       "                                     Other                   121205\n",
       "                                                              ...  \n",
       "143       pre       Tumor            CD3.CD8.PD1_Tcell            7\n",
       "                                     CD3.CD8.PD1neg_Tcell        69\n",
       "                                     Other                    35124\n",
       "                                     PDL1+                     5623\n",
       "                                     Treg                       659\n",
       "Name: coex_cell, Length: 714, dtype: int64"
      ]
     },
     "execution_count": 14,
     "metadata": {},
     "output_type": "execute_result"
    }
   ],
   "source": [
    "df_clin.groupby(['Study_ID','pre_post','Tissue Category','coex_cell'])['coex_cell'].count()"
   ]
  },
  {
   "cell_type": "code",
   "execution_count": null,
   "id": "e85c3cb5-0160-4150-ac74-a5408fce0ab0",
   "metadata": {},
   "outputs": [],
   "source": [
    "# 2820431_of_7523642"
   ]
  },
  {
   "cell_type": "code",
   "execution_count": 53,
   "id": "176eccbe-1863-45ed-9839-312ae4baded3",
   "metadata": {},
   "outputs": [
    {
     "name": "stdout",
     "output_type": "stream",
     "text": [
      "/mnt/results/vectra_mergepanel_withclin_2815431_of_7499845_qc50_cell_seg_coex_summary.tsv\n"
     ]
    }
   ],
   "source": [
    "fn = 'vectra_mergepanel_withclin_2820431_of_7523642_qc50_cell_seg_coex_summary.tsv'\n",
    "print(results.joinpath(fn))\n",
    "df_clin.to_csv(results.joinpath(fn),sep='\\t')"
   ]
  },
  {
   "cell_type": "markdown",
   "id": "1e9176a5-fdac-4632-8a80-215356cdf323",
   "metadata": {},
   "source": [
    "## Which are paired in vectra pre-post, and what's missing?"
   ]
  },
  {
   "cell_type": "code",
   "execution_count": 15,
   "id": "00228872-e835-4da9-9f33-0e5805437025",
   "metadata": {},
   "outputs": [
    {
     "data": {
      "text/plain": [
       "Index(['Path', 'Sample Name', 'Tissue Category', 'Phenotype-PD1',\n",
       "       'Phenotype-CD8', 'Phenotype-PDL1', 'Phenotype-CD3', 'Phenotype-CK',\n",
       "       'Phenotype-FOXP3', 'Cell ID', 'Total Cells',\n",
       "       'Tissue Category Area (square microns)', 'Cell Density (per square mm)',\n",
       "       'Cell X Position', 'Cell Y Position', 'Process Region ID',\n",
       "       'Distance from Process Region Edge (microns)', 'Category Region ID',\n",
       "       'Distance from Tissue Category Edge (microns)', 'Lab ID', 'Slide ID',\n",
       "       'Annotation ID', 'TMA Sector', 'TMA Row', 'TMA Column', 'TMA Field',\n",
       "       'Confidence-PD1', 'Confidence-CD8', 'Confidence-PDL1', 'Confidence-CD3',\n",
       "       'Confidence-CK', 'Confidence-FOXP3', 'inForm 2.6.7900.18857',\n",
       "       'tissue_id', 'sample_type', 'tma_wts', 'coex_cell', 'Study_ID',\n",
       "       'pre_post', 'Initials', 'DOB', 'HPV', 'Regimen assigned', 'Screen',\n",
       "       'HN#(pre)', 'C1D1', 'Surgery', 'HN#(post)', 'Path_response',\n",
       "       'Path_response_categories',\n",
       "       'Volumetric response (%change from baseline)',\n",
       "       'RECIST Overall response', 'PD-L1', 'LAG3', 'Unnamed: 16'],\n",
       "      dtype='object')"
      ]
     },
     "execution_count": 15,
     "metadata": {},
     "output_type": "execute_result"
    }
   ],
   "source": [
    "df_clin.columns"
   ]
  },
  {
   "cell_type": "code",
   "execution_count": 18,
   "id": "69af1407-05e4-4eb9-9487-5ba06cf8b876",
   "metadata": {},
   "outputs": [
    {
     "name": "stdout",
     "output_type": "stream",
     "text": [
      "29\n",
      "[101 104 107 108 109 111 112 113 114 116 117 119 121 123 124 125 127 128\n",
      " 129 130 131 133 136 137 138 139 140 141 143]\n",
      "29\n",
      "[101 104 107 108 109 111 112 113 114 116 117 119 121 123 124 125 127 128\n",
      " 129 130 131 133 136 137 138 139 140 141 143]\n",
      "29\n"
     ]
    }
   ],
   "source": [
    "paired_stroma = []\n",
    "paired_tumor = []\n",
    "vals = []\n",
    "for pt in df_clin.Study_ID.unique():\n",
    "    idx = df_clin.Study_ID.values == pt\n",
    "    tumor = df_clin.loc[:,'Tissue Category'].values == 'Tumor'\n",
    "    stroma = df_clin.loc[:,'Tissue Category'].values == 'Stroma'\n",
    "    if len(df_clin.loc[idx & tumor,'pre_post'].unique())==2:\n",
    "        paired_tumor.append(pt)\n",
    "    if len(df_clin.loc[idx & stroma,'pre_post'].unique())==2:\n",
    "        paired_stroma.append(pt)    \n",
    "paired_tumor = np.array(paired_tumor)\n",
    "print(len(paired_tumor))\n",
    "print(np.sort(paired_tumor))\n",
    "paired_stroma = np.array(paired_stroma)\n",
    "print(len(paired_stroma))\n",
    "print(np.sort(paired_stroma))\n",
    "print(np.sum(pd.Series(paired_tumor).isin(paired_stroma)))"
   ]
  },
  {
   "cell_type": "code",
   "execution_count": null,
   "id": "bd2c06db-539c-4714-989f-8b40117cc24d",
   "metadata": {},
   "outputs": [],
   "source": [
    "idx = df_clin.loc[:,'Tissue Category'].isin(['Tumor','Stroma'])\n",
    "counts = df_clin.loc[idx,:].sort_values('Study_ID').groupby(['Study_ID','Tissue Category','pre_post'])['coex_cell'].count()\n",
    "counts = counts.reset_index()"
   ]
  },
  {
   "cell_type": "code",
   "execution_count": 43,
   "id": "b62c11f3-945c-4f1f-a5e3-56a1adc3957e",
   "metadata": {},
   "outputs": [
    {
     "data": {
      "text/plain": [
       "60517.6129032258"
      ]
     },
     "execution_count": 43,
     "metadata": {},
     "output_type": "execute_result"
    }
   ],
   "source": [
    "counts.coex_cell.mean()"
   ]
  },
  {
   "cell_type": "code",
   "execution_count": 45,
   "id": "9e930c0d-83a3-4b9d-be33-10800b639b81",
   "metadata": {},
   "outputs": [
    {
     "data": {
      "text/html": [
       "<div>\n",
       "<style scoped>\n",
       "    .dataframe tbody tr th:only-of-type {\n",
       "        vertical-align: middle;\n",
       "    }\n",
       "\n",
       "    .dataframe tbody tr th {\n",
       "        vertical-align: top;\n",
       "    }\n",
       "\n",
       "    .dataframe thead th {\n",
       "        text-align: right;\n",
       "    }\n",
       "</style>\n",
       "<table border=\"1\" class=\"dataframe\">\n",
       "  <thead>\n",
       "    <tr style=\"text-align: right;\">\n",
       "      <th></th>\n",
       "      <th>Study_ID</th>\n",
       "      <th>Tissue Category</th>\n",
       "      <th>pre_post</th>\n",
       "      <th>coex_cell</th>\n",
       "    </tr>\n",
       "  </thead>\n",
       "  <tbody>\n",
       "    <tr>\n",
       "      <th>80</th>\n",
       "      <td>130</td>\n",
       "      <td>Stroma</td>\n",
       "      <td>post</td>\n",
       "      <td>4763</td>\n",
       "    </tr>\n",
       "    <tr>\n",
       "      <th>81</th>\n",
       "      <td>130</td>\n",
       "      <td>Stroma</td>\n",
       "      <td>pre</td>\n",
       "      <td>45304</td>\n",
       "    </tr>\n",
       "    <tr>\n",
       "      <th>82</th>\n",
       "      <td>130</td>\n",
       "      <td>Tumor</td>\n",
       "      <td>post</td>\n",
       "      <td>3733</td>\n",
       "    </tr>\n",
       "    <tr>\n",
       "      <th>83</th>\n",
       "      <td>130</td>\n",
       "      <td>Tumor</td>\n",
       "      <td>pre</td>\n",
       "      <td>11093</td>\n",
       "    </tr>\n",
       "  </tbody>\n",
       "</table>\n",
       "</div>"
      ],
      "text/plain": [
       "    Study_ID Tissue Category pre_post  coex_cell\n",
       "80       130          Stroma     post       4763\n",
       "81       130          Stroma      pre      45304\n",
       "82       130           Tumor     post       3733\n",
       "83       130           Tumor      pre      11093"
      ]
     },
     "execution_count": 45,
     "metadata": {},
     "output_type": "execute_result"
    }
   ],
   "source": [
    "counts.loc[counts.Study_ID==130,:]"
   ]
  },
  {
   "cell_type": "code",
   "execution_count": 44,
   "id": "8f825eb7-f259-4622-a9e7-5cc1b4acc20c",
   "metadata": {},
   "outputs": [
    {
     "data": {
      "text/html": [
       "<div>\n",
       "<style scoped>\n",
       "    .dataframe tbody tr th:only-of-type {\n",
       "        vertical-align: middle;\n",
       "    }\n",
       "\n",
       "    .dataframe tbody tr th {\n",
       "        vertical-align: top;\n",
       "    }\n",
       "\n",
       "    .dataframe thead th {\n",
       "        text-align: right;\n",
       "    }\n",
       "</style>\n",
       "<table border=\"1\" class=\"dataframe\">\n",
       "  <thead>\n",
       "    <tr style=\"text-align: right;\">\n",
       "      <th></th>\n",
       "      <th>Study_ID</th>\n",
       "      <th>Tissue Category</th>\n",
       "      <th>pre_post</th>\n",
       "      <th>coex_cell</th>\n",
       "    </tr>\n",
       "  </thead>\n",
       "  <tbody>\n",
       "    <tr>\n",
       "      <th>50</th>\n",
       "      <td>119</td>\n",
       "      <td>Tumor</td>\n",
       "      <td>post</td>\n",
       "      <td>202</td>\n",
       "    </tr>\n",
       "  </tbody>\n",
       "</table>\n",
       "</div>"
      ],
      "text/plain": [
       "    Study_ID Tissue Category pre_post  coex_cell\n",
       "50       119           Tumor     post        202"
      ]
     },
     "execution_count": 44,
     "metadata": {},
     "output_type": "execute_result"
    }
   ],
   "source": [
    "counts.loc[counts.coex_cell.values < 500,:]"
   ]
  },
  {
   "cell_type": "code",
   "execution_count": 42,
   "id": "3f5bc6a2-9c63-4533-8102-612dae8c876b",
   "metadata": {},
   "outputs": [
    {
     "data": {
      "text/plain": [
       "array([101, 103, 104, 107, 108, 109, 110, 111, 112, 113, 114, 116, 117,\n",
       "       119, 121, 123, 124, 125, 127, 128, 129, 130, 131, 132, 133, 134,\n",
       "       136, 137, 138, 139, 140, 141, 143])"
      ]
     },
     "execution_count": 42,
     "metadata": {},
     "output_type": "execute_result"
    }
   ],
   "source": [
    "counts.Study_ID.unique()"
   ]
  },
  {
   "cell_type": "code",
   "execution_count": 21,
   "id": "348877d7-2235-4893-ac24-9a530eb37d54",
   "metadata": {},
   "outputs": [
    {
     "name": "stdout",
     "output_type": "stream",
     "text": [
      "101, 104, 107, 108, 109, 111, 112, 113, 114, 116, 117, 119, 121, 123, 124, 125, 127, 128, 129, 130, 131, 133, 136, 137, 138, 139, 140, 141, 143, "
     ]
    }
   ],
   "source": [
    "for p in np.sort(paired):\n",
    "    print('%s,' % p,end=' ')"
   ]
  },
  {
   "cell_type": "code",
   "execution_count": 56,
   "id": "89ce2eed-1b66-43ae-86d0-e54906c5d871",
   "metadata": {},
   "outputs": [
    {
     "name": "stdout",
     "output_type": "stream",
     "text": [
      "[101 103 104 107 108 109 110 111 112 113 114 116 117 119 121 123 124 125\n",
      " 127 128 129 130 131 132 133 134 136 137 138 139 140 141 143]\n"
     ]
    }
   ],
   "source": [
    "print(np.sort(df_clin.Study_ID.unique()))"
   ]
  },
  {
   "cell_type": "markdown",
   "id": "632657fa-12ca-42cf-a1d6-5a6798430cc5",
   "metadata": {},
   "source": [
    "## List from Hous of all data that should be paired:"
   ]
  },
  {
   "cell_type": "markdown",
   "id": "2de952f9-2a16-402c-8654-a342cb79232f",
   "metadata": {},
   "source": [
    "should_have -> 101, 104, 107,108,109,111,112,113,114,116,117,119,121,123,124,125,127,128,129,130,131,133,134,136,137,138,139,140,141,142"
   ]
  },
  {
   "cell_type": "code",
   "execution_count": 33,
   "id": "37ebadff-20dc-421c-8628-07832d2dba99",
   "metadata": {},
   "outputs": [
    {
     "data": {
      "text/plain": [
       "30"
      ]
     },
     "execution_count": 33,
     "metadata": {},
     "output_type": "execute_result"
    }
   ],
   "source": [
    "len([101, 104, 107,108,109,111,112,113,114,116,117,119,121,123,124,125,127,128,129,130,131,133,134,136,137,138,139,140,141,142])"
   ]
  },
  {
   "cell_type": "code",
   "execution_count": 22,
   "id": "dd6c279d-fc2a-42c8-88e3-1254c8243e52",
   "metadata": {},
   "outputs": [
    {
     "data": {
      "text/plain": [
       "Study_ID  pre_post\n",
       "134       post        252460\n",
       "Name: coex_cell, dtype: int64"
      ]
     },
     "execution_count": 22,
     "metadata": {},
     "output_type": "execute_result"
    }
   ],
   "source": [
    "should_have = np.array([101, 104, 107,108,109,111,112,113,114,116,117,119,121,123,124,125,\n",
    "                        127,128,129,130,131,133,134,136,137,138,139,140,141,142])\n",
    "not_have = should_have[~pd.Series(should_have).isin(paired)]\n",
    "df_clean.loc[df_clean.Study_ID.isin(not_have),:].groupby(['Study_ID','pre_post'])['coex_cell'].count()"
   ]
  },
  {
   "cell_type": "markdown",
   "id": "725be7ac-daa1-4a23-bd46-6cd8d4380d72",
   "metadata": {},
   "source": [
    "## Paired sample followup:"
   ]
  },
  {
   "cell_type": "markdown",
   "id": "11a5ba2c-238f-46da-80a1-5d1a6d4d9764",
   "metadata": {},
   "source": [
    "Sample 134 does not have pre data to pair, sample 119 and 130 post do not have tumor in the vectra tissue, sample 138 post status unknown"
   ]
  },
  {
   "cell_type": "markdown",
   "id": "927d9b13-bc49-45ae-a926-d020e91be411",
   "metadata": {},
   "source": [
    "# Plot N of each coex cell"
   ]
  },
  {
   "cell_type": "code",
   "execution_count": 51,
   "id": "e6747634-8919-4c0f-b7e2-f283310e5ce8",
   "metadata": {},
   "outputs": [
    {
     "data": {
      "text/plain": [
       "Text(0, 0.5, 'log cell counts')"
      ]
     },
     "execution_count": 51,
     "metadata": {},
     "output_type": "execute_result"
    },
    {
     "data": {
      "image/png": "[encoded data removed]",
      "text/plain": [
       "<Figure size 1008x720 with 2 Axes>"
      ]
     },
     "metadata": {},
     "output_type": "display_data"
    }
   ],
   "source": [
    "fig = plt.figure(figsize=(14,10))\n",
    "ax = fig.add_subplot(2,1,1)\n",
    "sns.set_style(\"darkgrid\")\n",
    "sns.set(style=\"ticks\")\n",
    "tab = df_clin.groupby(['coex_cell','Tissue Category'])['Cell ID'].count().to_frame().reset_index()\n",
    "ax = sns.barplot(x = 'coex_cell',\n",
    "                 y='Cell ID',\n",
    "             data= tab.sort_values('coex_cell'),\n",
    "             hue = 'Tissue Category',\n",
    "             ax=ax)\n",
    "ax.grid(axis='y')\n",
    "plt.xticks(rotation = 90);\n",
    "plt.yscale('log');\n",
    "plt.ylabel('log cell counts')\n",
    "\n",
    "ax = fig.add_subplot(2,1,2)\n",
    "tab = df_clin.groupby(['coex_cell','pre_post'])['Cell ID'].count().to_frame().reset_index()\n",
    "ax = sns.barplot(x = 'coex_cell',\n",
    "                 y='Cell ID',\n",
    "             data= tab.sort_values('coex_cell'),\n",
    "             hue = 'pre_post',\n",
    "             ax=ax)\n",
    "ax.grid(axis='y')\n",
    "plt.xticks(rotation = 90);\n",
    "plt.yscale('log');\n",
    "plt.ylabel('log cell counts')"
   ]
  },
  {
   "cell_type": "markdown",
   "id": "6f38fa4a-89f3-4077-a422-77a9a1a5c8f4",
   "metadata": {},
   "source": [
    "## Exclusive co-labeling version:"
   ]
  },
  {
   "cell_type": "code",
   "execution_count": 12,
   "id": "dd07ecc2-fc3c-41f0-b4fa-fe5b816bd976",
   "metadata": {},
   "outputs": [
    {
     "data": {
      "text/plain": [
       "Text(0, 0.5, 'log cell counts')"
      ]
     },
     "execution_count": 12,
     "metadata": {},
     "output_type": "execute_result"
    },
    {
     "data": {
      "image/png": "[encoded data removed]",
      "text/plain": [
       "<Figure size 1008x720 with 2 Axes>"
      ]
     },
     "metadata": {
      "needs_background": "light"
     },
     "output_type": "display_data"
    }
   ],
   "source": [
    "fig = plt.figure(figsize=(14,10))\n",
    "ax = fig.add_subplot(2,1,1)\n",
    "sns.set_style(\"darkgrid\")\n",
    "sns.set(style=\"ticks\")\n",
    "tab = df_clin.groupby(['coex_cell','Tissue Category'])['Cell ID'].count().to_frame().reset_index()\n",
    "ax = sns.barplot(x = 'coex_cell',\n",
    "                 y='Cell ID',\n",
    "             data= tab.sort_values('coex_cell'),\n",
    "             hue = 'Tissue Category',\n",
    "             ax=ax)\n",
    "ax.grid(axis='y')\n",
    "plt.xticks(rotation = 90);\n",
    "plt.yscale('log');\n",
    "plt.ylabel('log cell counts')\n",
    "\n",
    "ax = fig.add_subplot(2,1,2)\n",
    "tab = df_clin.groupby(['coex_cell','pre_post'])['Cell ID'].count().to_frame().reset_index()\n",
    "ax = sns.barplot(x = 'coex_cell',\n",
    "                 y='Cell ID',\n",
    "             data= tab.sort_values('coex_cell'),\n",
    "             hue = 'pre_post',\n",
    "             ax=ax)\n",
    "ax.grid(axis='y')\n",
    "plt.xticks(rotation = 90);\n",
    "plt.yscale('log');\n",
    "plt.ylabel('log cell counts')\n"
   ]
  },
  {
   "cell_type": "markdown",
   "id": "3cf6a1f2-659c-4fd1-9e27-8f08c05a7e32",
   "metadata": {},
   "source": [
    "# Generate cell density (%)"
   ]
  },
  {
   "cell_type": "code",
   "execution_count": 75,
   "id": "620f63f9-2a02-4945-a343-150a9b771723",
   "metadata": {},
   "outputs": [
    {
     "data": {
      "text/plain": [
       "28"
      ]
     },
     "execution_count": 75,
     "metadata": {},
     "output_type": "execute_result"
    }
   ],
   "source": [
    "paired = [101, 104, 107, 108, 109, 111, 112, 113, 114, 116, 117,\n",
    "             121, 123, 124, 125, 127, 128, 129, 130, 131, 133, 136, 137, \n",
    "             138, 139, 140, 141, 143]\n",
    "use_samps = df_clin.Study_ID.isin(paired)\n",
    "np.sum(use_samps)\n",
    "len(df_clin.loc[use_samps,'Study_ID'].unique())"
   ]
  },
  {
   "cell_type": "code",
   "execution_count": 76,
   "id": "5afd1b45-e54b-4efd-8b3e-103797ff0f74",
   "metadata": {},
   "outputs": [
    {
     "data": {
      "text/plain": [
       "array([], dtype=object)"
      ]
     },
     "execution_count": 76,
     "metadata": {},
     "output_type": "execute_result"
    }
   ],
   "source": [
    "bad_regimen = df_clin.loc[:, 'Regimen assigned'].isna()\n",
    "df_clin.loc[bad_regimen & use_samps, 'Study_ID'].unique()"
   ]
  },
  {
   "cell_type": "code",
   "execution_count": 77,
   "id": "3912cdbf-5ff2-44ce-b74e-1a00e2baceab",
   "metadata": {},
   "outputs": [
    {
     "name": "stdout",
     "output_type": "stream",
     "text": [
      "28\n"
     ]
    }
   ],
   "source": [
    "no_regimen = df_clin.loc[:,'Regimen assigned'].isna()\n",
    "use_paired_samps = df_clin.Study_ID.isin(paired) & ~no_regimen\n",
    "\n",
    "n_paired = len(df_clin.loc[use_paired_samps,'Study_ID'].unique())\n",
    "print(n_paired)"
   ]
  },
  {
   "cell_type": "code",
   "execution_count": null,
   "id": "89238a84-89a6-49f5-af81-be545f06e29d",
   "metadata": {},
   "outputs": [],
   "source": [
    "multi_label_types = { #PDL1 for stroma/ Panck:\n",
    "                     'PDL1+': {'PDL1+':True},\n",
    "                     'CD3.CD8.PD1neg_Tcell': {'CD8+':True,'CD3+':True,'PD1+':False}, \n",
    "                     'CD3.CD8.PD1_Tcell': {'CD8+':True,'CD3+':True,'PD1+':True}, \n",
    "                     #CD3 tcell with FOXP3\n",
    "                     'Treg': {'CD3+':True,'CD8+':False,'FOXP3+':True}, #Need to describe?\n",
    "                    }"
   ]
  },
  {
   "cell_type": "code",
   "execution_count": 86,
   "id": "459df31a-f19a-49f2-b6f0-858dbaab2022",
   "metadata": {},
   "outputs": [
    {
     "data": {
      "text/plain": [
       "91681"
      ]
     },
     "execution_count": 86,
     "metadata": {},
     "output_type": "execute_result"
    }
   ],
   "source": [
    "np.sum(df_clin.coex_cell.str.contains('CD3.CD8.PDL1_Tcell'))"
   ]
  },
  {
   "cell_type": "code",
   "execution_count": 87,
   "id": "85259b19-52c4-40d8-b2ec-79fc69c965c9",
   "metadata": {},
   "outputs": [
    {
     "name": "stderr",
     "output_type": "stream",
     "text": [
      "  0%|          | 0/28 [00:00<?, ?it/s]"
     ]
    },
    {
     "name": "stdout",
     "output_type": "stream",
     "text": [
      "Samples n= 56\n"
     ]
    },
    {
     "name": "stderr",
     "output_type": "stream",
     "text": [
      "100%|██████████| 28/28 [00:46<00:00,  1.67s/it]\n",
      "  0%|          | 0/28 [00:00<?, ?it/s]"
     ]
    },
    {
     "name": "stdout",
     "output_type": "stream",
     "text": [
      "/mnt/results/cell_density_56_paired_good_samples_all_inc_tumor_stroma_19_percent_v4.csv\n"
     ]
    },
    {
     "name": "stderr",
     "output_type": "stream",
     "text": [
      "100%|██████████| 28/28 [00:47<00:00,  1.69s/it]"
     ]
    },
    {
     "name": "stdout",
     "output_type": "stream",
     "text": [
      "/mnt/results/cell_density_56_paired_good_samples_all_inc_tumor_stroma_34_counts_v4.csv\n"
     ]
    },
    {
     "name": "stderr",
     "output_type": "stream",
     "text": [
      "\n"
     ]
    }
   ],
   "source": [
    "#\n",
    "no_regimen = df_clin.loc[:,'Regimen assigned'].isna() #Pt 142 not in clinical info? ->Should be 143\n",
    "use_paired_samps = df_clin.Study_ID.isin(paired) & ~no_regimen\n",
    "n_paired = len(df_clin.loc[use_paired_samps,'Study_ID'].unique())\n",
    "pts = df_clin.loc[use_paired_samps,'Study_ID'].unique()\n",
    "print('Samples n=',len(pts)*2)\n",
    "verbose = False\n",
    "multi_label_types = {#PDL1 for stroma/ Panck:\n",
    "                     'PDL1_tumor': {'PDL1+':True},\n",
    "                     'PDL1_stroma':{'PDL1+':True},\n",
    "                     'PDL1_all': {'PDL1+':True},\n",
    "    \n",
    "                     #CD8 Tcell  \n",
    "                     'CD3.CD8.PD1neg_tumor': {'CD3.CD8.PD1neg_Tcell':True}, \n",
    "                     'CD3.CD8.PD1neg_stroma': {'CD3.CD8.PD1neg_Tcell':True}, \n",
    "                     'CD3.CD8.PD1neg_all': {'CD3.CD8.PD1neg_Tcell':True}, \n",
    "    \n",
    "                     #Activated CD8 Tcell  \n",
    "                     'CD3.CD8.PD1_tumor': {'CD3.CD8.PD1_Tcell':True}, \n",
    "                     'CD3.CD8.PD1_stroma': {'CD3.CD8.PD1_Tcell':True}, \n",
    "                     'CD3.CD8.PD1_all': {'CD3.CD8.PD1_Tcell':True}, \n",
    "                    \n",
    "                     #PDL1 CD8:\n",
    "                     'CD3.CD8.PDL1_tumor': {'CD3.CD8.PDL1_Tcell':True}, \n",
    "                     'CD3.CD8.PDL1_stroma': {'CD3.CD8.PDL1_Tcell':True}, \n",
    "                     'CD3.CD8.PDL1_all': {'CD3.CD8.PDL1_Tcell':True}, \n",
    "    \n",
    "                     #CD3 tcell with FOXP3\n",
    "                     'Treg_tumor': {'Treg':True},\n",
    "                     'Treg_stroma': {'Treg':True},\n",
    "                     'Treg_all': {'Treg':True},\n",
    "                    }\n",
    "cell_labels = [x for x in multi_label_types.keys()]\n",
    "fdr_n = len(cell_labels)\n",
    "for data_type in ['percent','counts']:\n",
    "    if data_type == 'counts':\n",
    "        save_counts = True\n",
    "    else:\n",
    "        save_counts = False\n",
    "    sample_df = pd.DataFrame([])\n",
    "    for pt in tqdm(pts):\n",
    "        for pre_post in ['pre','post']: #Allows samples with multiple pre/post entries to combine\n",
    "            idx = (df_clin.Study_ID.values == pt) & (df_clin.pre_post.values == pre_post)\n",
    "            subset = df_clin.loc[idx,:].copy().reset_index(drop=True)\n",
    "            arm = subset.loc[0,'Regimen assigned']    \n",
    "            timepoint = subset.loc[0,'pre_post']\n",
    "            temp_df =subset.loc[[0],['Sample Name','Study_ID','Regimen assigned','pre_post']].copy()\n",
    "            if verbose:\n",
    "                print(samp,arm,timepoint,subset.coex_cell.unique(),sep=',')    \n",
    "            for cell in cell_labels:                      \n",
    "                tot = subset.shape[0]\n",
    "                idx = (np.zeros((tot,))+1).astype(bool) # Start true\n",
    "                for cond in multi_label_types[cell]:     \n",
    "                    use = multi_label_types[cell][cond]\n",
    "                    idx = idx & (subset.coex_cell.str.contains(cond,regex=False) == use)\n",
    "\n",
    "                if ('tumor' in cell):\n",
    "                    idx2 = subset.loc[:,'Tissue Category'].values == 'Tumor' \n",
    "                    idx = idx & idx2           \n",
    "                    tot = np.sum(idx2) # All tumor cells\n",
    "                elif ('stroma' in cell):\n",
    "                    idx2 = subset.loc[:,'Tissue Category'].values == 'Stroma' \n",
    "                    idx = idx & idx2\n",
    "                    tot = np.sum(idx2) #All stromal cells\n",
    "                #Else tot remains same (all cells) and percent is total (tumor + stroma)\n",
    "\n",
    "                counts = np.sum(idx)\n",
    "                percent = counts / tot * 100\n",
    "                if verbose:\n",
    "                    print(cell,tot,percent,subset.loc[idx,'coex_cell'].unique(),np.sum(idx))\n",
    "                if save_counts:\n",
    "                    temp_df.loc[0,'%s_%s' % (cell,data_type)] = counts\n",
    "                    temp_df.loc[0,'%s_%s' % (cell,'denominator')] = tot\n",
    "                else:\n",
    "                    temp_df.loc[0,'%s_%s' % (cell,data_type)] = percent\n",
    "\n",
    "            sample_df = pd.concat((sample_df,temp_df),axis=0)\n",
    "\n",
    "    sample_df = sample_df.reset_index(drop=True)\n",
    "    sample_df = sample_df.sort_values('Study_ID')\n",
    "    if exclusive:\n",
    "        fn = 'cell_density_%d_paired_good_samples_exclusive_tumor_stroma_%d_%s.csv' % (sample_df.shape[0],\n",
    "                                                                      sample_df.shape[1],\n",
    "                                                                      data_type)\n",
    "    else:\n",
    "        fn = 'cell_density_%d_paired_good_samples_all_inc_tumor_stroma_%d_%s_v4.csv' % (sample_df.shape[0],\n",
    "                                                                      sample_df.shape[1],\n",
    "                                                                      data_type)\n",
    "    pnfn = results.joinpath(fn)\n",
    "    print(pnfn)\n",
    "    sample_df.to_csv(pnfn,index=False)\n",
    "    "
   ]
  },
  {
   "cell_type": "code",
   "execution_count": null,
   "id": "7592c5d0-2b31-42d0-9dc9-5546b45de7e4",
   "metadata": {},
   "outputs": [],
   "source": []
  }
 ],
 "metadata": {
  "kernelspec": {
   "display_name": "pathml",
   "language": "python",
   "name": "pathml"
  },
  "language_info": {
   "codemirror_mode": {
    "name": "ipython",
    "version": 3
   },
   "file_extension": ".py",
   "mimetype": "text/x-python",
   "name": "python",
   "nbconvert_exporter": "python",
   "pygments_lexer": "ipython3",
   "version": "3.8.0"
  }
 },
 "nbformat": 4,
 "nbformat_minor": 5
}
