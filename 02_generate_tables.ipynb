{
 "cells": [
  {
   "cell_type": "markdown",
   "id": "600f224f-51cd-47aa-bb56-36b20d9589a9",
   "metadata": {},
   "source": [
    "# Imports"
   ]
  },
  {
   "cell_type": "code",
   "execution_count": 2,
   "id": "90bda4f2-471f-4031-aa38-4176b8124a1f",
   "metadata": {},
   "outputs": [
    {
     "name": "stdout",
     "output_type": "stream",
     "text": [
      "[1] \"Loading libraries\"\n",
      "[1] \"Library load finished\"\n",
      "[1] \"/mnt\"\n",
      "[1] \"/mnt/results\"\n"
     ]
    }
   ],
   "source": [
    "print('Loading libraries')\n",
    "suppressPackageStartupMessages({\n",
    "    library(data.table)\n",
    "    library(ggplot2)\n",
    "    library(ggpubr)\n",
    "    library(dplyr)\n",
    "    library(stringr)\n",
    "    library(rstatix)\n",
    "    library(tidyr)\n",
    "    }\n",
    ")\n",
    "print('Library load finished')\n",
    "\n",
    "hpc =  TRUE\n",
    "work_desktop = FALSE\n",
    "work_linux = TRUE\n",
    "singularity = TRUE\n",
    "prj =  \"HCC-CBS-173-Hillman-BFerris-NRG-HN003-Vectra\"\n",
    "if (!hpc){\n",
    "    if (work_desktop){\n",
    "        if (work_linux){\n",
    "            base = paste0('/mnt/d/OneDrive - University of Pittsburgh/Internal_Project_Data_2/' ,prj)\n",
    "        }else{\n",
    "            base =paste0('D:\\\\OneDrive - University of Pittsburgh\\\\Internal_Project_Data_2\\\\', prj)\n",
    "        }\n",
    "    }else{\n",
    "        base = paste0('/home/brian/data/odrive/Internal_Project_Data_2/',prj)\n",
    "    }\n",
    "}else{\n",
    "    if (singularity){\n",
    "        base = '/mnt'\n",
    "    }else{\n",
    "        base = paste0('/ix/rbao/Projects/', prj)\n",
    "    }\n",
    "}\n",
    "print(base)\n",
    "inform.data <- file.path(base,'data','inform_data_exports')\n",
    "results <- file.path(base,'results')\n",
    "print(results)\n"
   ]
  },
  {
   "cell_type": "markdown",
   "id": "498be558-5d5e-4fd8-9c6a-e6441e785a6e",
   "metadata": {},
   "source": [
    "## Load data"
   ]
  },
  {
   "cell_type": "code",
   "execution_count": 3,
   "id": "1e167a6e-aa79-4763-9653-0294c8348629",
   "metadata": {
    "tags": []
   },
   "outputs": [
    {
     "name": "stdout",
     "output_type": "stream",
     "text": [
      "[1] \"49.3918745517731 seconds\"\n"
     ]
    }
   ],
   "source": [
    "fn <- 'NRG-HN003-7552156cell-measurements_11col.csv'\n",
    "start <- Sys.time()\n",
    "df <- read.csv(file.path(results,fn))\n",
    "df$pdl1.cell <- 'other'\n",
    "df$pdl1.cell[df$is.pdl1.cell] = 'pdl1'\n",
    "stop <- Sys.time()\n",
    "print(paste((stop-start),'seconds'))"
   ]
  },
  {
   "cell_type": "code",
   "execution_count": 83,
   "id": "88a3b47a-32bc-417b-95c8-2a7a4dc2c435",
   "metadata": {
    "tags": []
   },
   "outputs": [
    {
     "data": {
      "text/html": [
       "<table class=\"dataframe\">\n",
       "<caption>A data.frame: 6 × 12</caption>\n",
       "<thead>\n",
       "\t<tr><th></th><th scope=col>X</th><th scope=col>Sample.Name</th><th scope=col>fn</th><th scope=col>Cell.ID</th><th scope=col>cell.type</th><th scope=col>all.tumor.stroma</th><th scope=col>tissue.compartment</th><th scope=col>pdl1.expression</th><th scope=col>pd1.expression</th><th scope=col>combined.pheno</th><th scope=col>is.pdl1.cell</th><th scope=col>is.panck.cell</th></tr>\n",
       "\t<tr><th></th><th scope=col>&lt;int&gt;</th><th scope=col>&lt;chr&gt;</th><th scope=col>&lt;chr&gt;</th><th scope=col>&lt;int&gt;</th><th scope=col>&lt;chr&gt;</th><th scope=col>&lt;chr&gt;</th><th scope=col>&lt;chr&gt;</th><th scope=col>&lt;dbl&gt;</th><th scope=col>&lt;dbl&gt;</th><th scope=col>&lt;chr&gt;</th><th scope=col>&lt;lgl&gt;</th><th scope=col>&lt;lgl&gt;</th></tr>\n",
       "</thead>\n",
       "<tbody>\n",
       "\t<tr><th scope=row>1</th><td>1</td><td>RACTIH_Scan1.qptiff</td><td>RACTIH_Scan1_[15509,42225]_cell_seg_data.txt</td><td>39799</td><td>other</td><td>Tumor</td><td>inner.tumor.inv.margin</td><td>0.125</td><td>0.316</td><td>other</td><td>FALSE</td><td>FALSE</td></tr>\n",
       "\t<tr><th scope=row>2</th><td>2</td><td>RACTIH_Scan1.qptiff</td><td>RACTIH_Scan1_[15509,42225]_cell_seg_data.txt</td><td>39800</td><td>panck</td><td>Tumor</td><td>central.tumor         </td><td>0.360</td><td>0.107</td><td>CK+  </td><td>FALSE</td><td> TRUE</td></tr>\n",
       "\t<tr><th scope=row>3</th><td>3</td><td>RACTIH_Scan1.qptiff</td><td>RACTIH_Scan1_[15509,42225]_cell_seg_data.txt</td><td>39801</td><td>other</td><td>Tumor</td><td>central.tumor         </td><td>0.220</td><td>0.172</td><td>other</td><td>FALSE</td><td>FALSE</td></tr>\n",
       "\t<tr><th scope=row>4</th><td>4</td><td>RACTIH_Scan1.qptiff</td><td>RACTIH_Scan1_[15509,42225]_cell_seg_data.txt</td><td>39802</td><td>panck</td><td>Tumor</td><td>central.tumor         </td><td>0.397</td><td>0.157</td><td>CK+  </td><td>FALSE</td><td> TRUE</td></tr>\n",
       "\t<tr><th scope=row>5</th><td>5</td><td>RACTIH_Scan1.qptiff</td><td>RACTIH_Scan1_[15509,42225]_cell_seg_data.txt</td><td>39803</td><td>other</td><td>Tumor</td><td>central.tumor         </td><td>0.111</td><td>0.235</td><td>PD1+ </td><td>FALSE</td><td>FALSE</td></tr>\n",
       "\t<tr><th scope=row>6</th><td>6</td><td>RACTIH_Scan1.qptiff</td><td>RACTIH_Scan1_[15509,42225]_cell_seg_data.txt</td><td>39804</td><td>other</td><td>Tumor</td><td>central.tumor         </td><td>0.420</td><td>0.154</td><td>other</td><td>FALSE</td><td>FALSE</td></tr>\n",
       "</tbody>\n",
       "</table>\n"
      ],
      "text/latex": [
       "A data.frame: 6 × 12\n",
       "\\begin{tabular}{r|llllllllllll}\n",
       "  & X & Sample.Name & fn & Cell.ID & cell.type & all.tumor.stroma & tissue.compartment & pdl1.expression & pd1.expression & combined.pheno & is.pdl1.cell & is.panck.cell\\\\\n",
       "  & <int> & <chr> & <chr> & <int> & <chr> & <chr> & <chr> & <dbl> & <dbl> & <chr> & <lgl> & <lgl>\\\\\n",
       "\\hline\n",
       "\t1 & 1 & RACTIH\\_Scan1.qptiff & RACTIH\\_Scan1\\_{[}15509,42225{]}\\_cell\\_seg\\_data.txt & 39799 & other & Tumor & inner.tumor.inv.margin & 0.125 & 0.316 & other & FALSE & FALSE\\\\\n",
       "\t2 & 2 & RACTIH\\_Scan1.qptiff & RACTIH\\_Scan1\\_{[}15509,42225{]}\\_cell\\_seg\\_data.txt & 39800 & panck & Tumor & central.tumor          & 0.360 & 0.107 & CK+   & FALSE &  TRUE\\\\\n",
       "\t3 & 3 & RACTIH\\_Scan1.qptiff & RACTIH\\_Scan1\\_{[}15509,42225{]}\\_cell\\_seg\\_data.txt & 39801 & other & Tumor & central.tumor          & 0.220 & 0.172 & other & FALSE & FALSE\\\\\n",
       "\t4 & 4 & RACTIH\\_Scan1.qptiff & RACTIH\\_Scan1\\_{[}15509,42225{]}\\_cell\\_seg\\_data.txt & 39802 & panck & Tumor & central.tumor          & 0.397 & 0.157 & CK+   & FALSE &  TRUE\\\\\n",
       "\t5 & 5 & RACTIH\\_Scan1.qptiff & RACTIH\\_Scan1\\_{[}15509,42225{]}\\_cell\\_seg\\_data.txt & 39803 & other & Tumor & central.tumor          & 0.111 & 0.235 & PD1+  & FALSE & FALSE\\\\\n",
       "\t6 & 6 & RACTIH\\_Scan1.qptiff & RACTIH\\_Scan1\\_{[}15509,42225{]}\\_cell\\_seg\\_data.txt & 39804 & other & Tumor & central.tumor          & 0.420 & 0.154 & other & FALSE & FALSE\\\\\n",
       "\\end{tabular}\n"
      ],
      "text/markdown": [
       "\n",
       "A data.frame: 6 × 12\n",
       "\n",
       "| <!--/--> | X &lt;int&gt; | Sample.Name &lt;chr&gt; | fn &lt;chr&gt; | Cell.ID &lt;int&gt; | cell.type &lt;chr&gt; | all.tumor.stroma &lt;chr&gt; | tissue.compartment &lt;chr&gt; | pdl1.expression &lt;dbl&gt; | pd1.expression &lt;dbl&gt; | combined.pheno &lt;chr&gt; | is.pdl1.cell &lt;lgl&gt; | is.panck.cell &lt;lgl&gt; |\n",
       "|---|---|---|---|---|---|---|---|---|---|---|---|---|\n",
       "| 1 | 1 | RACTIH_Scan1.qptiff | RACTIH_Scan1_[15509,42225]_cell_seg_data.txt | 39799 | other | Tumor | inner.tumor.inv.margin | 0.125 | 0.316 | other | FALSE | FALSE |\n",
       "| 2 | 2 | RACTIH_Scan1.qptiff | RACTIH_Scan1_[15509,42225]_cell_seg_data.txt | 39800 | panck | Tumor | central.tumor          | 0.360 | 0.107 | CK+   | FALSE |  TRUE |\n",
       "| 3 | 3 | RACTIH_Scan1.qptiff | RACTIH_Scan1_[15509,42225]_cell_seg_data.txt | 39801 | other | Tumor | central.tumor          | 0.220 | 0.172 | other | FALSE | FALSE |\n",
       "| 4 | 4 | RACTIH_Scan1.qptiff | RACTIH_Scan1_[15509,42225]_cell_seg_data.txt | 39802 | panck | Tumor | central.tumor          | 0.397 | 0.157 | CK+   | FALSE |  TRUE |\n",
       "| 5 | 5 | RACTIH_Scan1.qptiff | RACTIH_Scan1_[15509,42225]_cell_seg_data.txt | 39803 | other | Tumor | central.tumor          | 0.111 | 0.235 | PD1+  | FALSE | FALSE |\n",
       "| 6 | 6 | RACTIH_Scan1.qptiff | RACTIH_Scan1_[15509,42225]_cell_seg_data.txt | 39804 | other | Tumor | central.tumor          | 0.420 | 0.154 | other | FALSE | FALSE |\n",
       "\n"
      ],
      "text/plain": [
       "  X Sample.Name         fn                                           Cell.ID\n",
       "1 1 RACTIH_Scan1.qptiff RACTIH_Scan1_[15509,42225]_cell_seg_data.txt 39799  \n",
       "2 2 RACTIH_Scan1.qptiff RACTIH_Scan1_[15509,42225]_cell_seg_data.txt 39800  \n",
       "3 3 RACTIH_Scan1.qptiff RACTIH_Scan1_[15509,42225]_cell_seg_data.txt 39801  \n",
       "4 4 RACTIH_Scan1.qptiff RACTIH_Scan1_[15509,42225]_cell_seg_data.txt 39802  \n",
       "5 5 RACTIH_Scan1.qptiff RACTIH_Scan1_[15509,42225]_cell_seg_data.txt 39803  \n",
       "6 6 RACTIH_Scan1.qptiff RACTIH_Scan1_[15509,42225]_cell_seg_data.txt 39804  \n",
       "  cell.type all.tumor.stroma tissue.compartment     pdl1.expression\n",
       "1 other     Tumor            inner.tumor.inv.margin 0.125          \n",
       "2 panck     Tumor            central.tumor          0.360          \n",
       "3 other     Tumor            central.tumor          0.220          \n",
       "4 panck     Tumor            central.tumor          0.397          \n",
       "5 other     Tumor            central.tumor          0.111          \n",
       "6 other     Tumor            central.tumor          0.420          \n",
       "  pd1.expression combined.pheno is.pdl1.cell is.panck.cell\n",
       "1 0.316          other          FALSE        FALSE        \n",
       "2 0.107          CK+            FALSE         TRUE        \n",
       "3 0.172          other          FALSE        FALSE        \n",
       "4 0.157          CK+            FALSE         TRUE        \n",
       "5 0.235          PD1+           FALSE        FALSE        \n",
       "6 0.154          other          FALSE        FALSE        "
      ]
     },
     "metadata": {},
     "output_type": "display_data"
    }
   ],
   "source": [
    "head(df)"
   ]
  },
  {
   "cell_type": "code",
   "execution_count": 89,
   "id": "e1e46520-f832-4fb3-91a6-79492d213d17",
   "metadata": {
    "tags": []
   },
   "outputs": [
    {
     "data": {
      "text/html": [
       "<table class=\"dataframe\">\n",
       "<caption>A data.frame: 2 × 2</caption>\n",
       "<thead>\n",
       "\t<tr><th scope=col>pdl1.cell</th><th scope=col>n</th></tr>\n",
       "\t<tr><th scope=col>&lt;chr&gt;</th><th scope=col>&lt;int&gt;</th></tr>\n",
       "</thead>\n",
       "<tbody>\n",
       "\t<tr><td>other</td><td>5314108</td></tr>\n",
       "\t<tr><td>pdl1 </td><td>2238048</td></tr>\n",
       "</tbody>\n",
       "</table>\n"
      ],
      "text/latex": [
       "A data.frame: 2 × 2\n",
       "\\begin{tabular}{ll}\n",
       " pdl1.cell & n\\\\\n",
       " <chr> & <int>\\\\\n",
       "\\hline\n",
       "\t other & 5314108\\\\\n",
       "\t pdl1  & 2238048\\\\\n",
       "\\end{tabular}\n"
      ],
      "text/markdown": [
       "\n",
       "A data.frame: 2 × 2\n",
       "\n",
       "| pdl1.cell &lt;chr&gt; | n &lt;int&gt; |\n",
       "|---|---|\n",
       "| other | 5314108 |\n",
       "| pdl1  | 2238048 |\n",
       "\n"
      ],
      "text/plain": [
       "  pdl1.cell n      \n",
       "1 other     5314108\n",
       "2 pdl1      2238048"
      ]
     },
     "metadata": {},
     "output_type": "display_data"
    }
   ],
   "source": [
    "df$pdl1.cell <- 'other'\n",
    "df$pdl1.cell[df$is.pdl1.cell] = 'pdl1'\n",
    "df %>% count(pdl1.cell)"
   ]
  },
  {
   "cell_type": "markdown",
   "id": "e353a9ee-210e-41bc-afa2-356bdc9ec50d",
   "metadata": {},
   "source": [
    "# Subset data and debug necessary table operations"
   ]
  },
  {
   "cell_type": "code",
   "execution_count": 92,
   "id": "29476297-d9c5-459f-afcb-4193a41918bd",
   "metadata": {
    "tags": []
   },
   "outputs": [
    {
     "data": {
      "text/html": [
       "<style>\n",
       ".list-inline {list-style: none; margin:0; padding: 0}\n",
       ".list-inline>li {display: inline-block}\n",
       ".list-inline>li:not(:last-child)::after {content: \"\\00b7\"; padding: 0 .5ex}\n",
       "</style>\n",
       "<ol class=list-inline><li>1154004</li><li>13</li></ol>\n"
      ],
      "text/latex": [
       "\\begin{enumerate*}\n",
       "\\item 1154004\n",
       "\\item 13\n",
       "\\end{enumerate*}\n"
      ],
      "text/markdown": [
       "1. 1154004\n",
       "2. 13\n",
       "\n",
       "\n"
      ],
      "text/plain": [
       "[1] 1154004      13"
      ]
     },
     "metadata": {},
     "output_type": "display_data"
    }
   ],
   "source": [
    "idx <- df$Sample.Name %in% c('RACTIH_Scan1.qptiff','RACTKE_Scan1.qptiff')\n",
    "sub <- df[idx,]\n",
    "dim(sub)"
   ]
  },
  {
   "cell_type": "code",
   "execution_count": 6,
   "id": "640b51b6-ced5-4a8b-b6d8-7365c66c6cc9",
   "metadata": {
    "tags": []
   },
   "outputs": [
    {
     "data": {
      "text/html": [
       "<style>\n",
       ".list-inline {list-style: none; margin:0; padding: 0}\n",
       ".list-inline>li {display: inline-block}\n",
       ".list-inline>li:not(:last-child)::after {content: \"\\00b7\"; padding: 0 .5ex}\n",
       "</style>\n",
       "<ol class=list-inline><li>'X'</li><li>'Sample.Name'</li><li>'fn'</li><li>'Cell.ID'</li><li>'cell.type'</li><li>'all.tumor.stroma'</li><li>'tissue.compartment'</li><li>'pdl1.expression'</li><li>'pd1.expression'</li><li>'combined.pheno'</li><li>'is.pdl1.cell'</li><li>'is.panck.cell'</li></ol>\n"
      ],
      "text/latex": [
       "\\begin{enumerate*}\n",
       "\\item 'X'\n",
       "\\item 'Sample.Name'\n",
       "\\item 'fn'\n",
       "\\item 'Cell.ID'\n",
       "\\item 'cell.type'\n",
       "\\item 'all.tumor.stroma'\n",
       "\\item 'tissue.compartment'\n",
       "\\item 'pdl1.expression'\n",
       "\\item 'pd1.expression'\n",
       "\\item 'combined.pheno'\n",
       "\\item 'is.pdl1.cell'\n",
       "\\item 'is.panck.cell'\n",
       "\\end{enumerate*}\n"
      ],
      "text/markdown": [
       "1. 'X'\n",
       "2. 'Sample.Name'\n",
       "3. 'fn'\n",
       "4. 'Cell.ID'\n",
       "5. 'cell.type'\n",
       "6. 'all.tumor.stroma'\n",
       "7. 'tissue.compartment'\n",
       "8. 'pdl1.expression'\n",
       "9. 'pd1.expression'\n",
       "10. 'combined.pheno'\n",
       "11. 'is.pdl1.cell'\n",
       "12. 'is.panck.cell'\n",
       "\n",
       "\n"
      ],
      "text/plain": [
       " [1] \"X\"                  \"Sample.Name\"        \"fn\"                \n",
       " [4] \"Cell.ID\"            \"cell.type\"          \"all.tumor.stroma\"  \n",
       " [7] \"tissue.compartment\" \"pdl1.expression\"    \"pd1.expression\"    \n",
       "[10] \"combined.pheno\"     \"is.pdl1.cell\"       \"is.panck.cell\"     "
      ]
     },
     "metadata": {},
     "output_type": "display_data"
    }
   ],
   "source": [
    "colnames(sub)"
   ]
  },
  {
   "cell_type": "code",
   "execution_count": 60,
   "id": "bfc9e901-62bf-49cb-965f-9c78c8a94616",
   "metadata": {
    "collapsed": true,
    "jupyter": {
     "outputs_hidden": true
    },
    "tags": []
   },
   "outputs": [
    {
     "name": "stderr",
     "output_type": "stream",
     "text": [
      "\u001b[1m\u001b[22m`summarise()` has grouped output by 'Sample.Name', 'tissue.compartment'. You\n",
      "can override using the `.groups` argument.\n"
     ]
    },
    {
     "data": {
      "text/html": [
       "<table class=\"dataframe\">\n",
       "<caption>A grouped_df: 32 × 5</caption>\n",
       "<thead>\n",
       "\t<tr><th scope=col>Sample.Name</th><th scope=col>tissue.compartment</th><th scope=col>cell.type</th><th scope=col>n</th><th scope=col>percent_density</th></tr>\n",
       "\t<tr><th scope=col>&lt;chr&gt;</th><th scope=col>&lt;chr&gt;</th><th scope=col>&lt;chr&gt;</th><th scope=col>&lt;int&gt;</th><th scope=col>&lt;dbl&gt;</th></tr>\n",
       "</thead>\n",
       "<tbody>\n",
       "\t<tr><td>RACTIH_Scan1.qptiff</td><td>central.tumor         </td><td>cd8.t</td><td>     4</td><td> 0.0354</td></tr>\n",
       "\t<tr><td>RACTIH_Scan1.qptiff</td><td>central.tumor         </td><td>other</td><td>  7191</td><td>63.5640</td></tr>\n",
       "\t<tr><td>RACTIH_Scan1.qptiff</td><td>central.tumor         </td><td>panck</td><td>  4118</td><td>36.4006</td></tr>\n",
       "\t<tr><td>RACTIH_Scan1.qptiff</td><td>central.tumor         </td><td>treg </td><td>     0</td><td> 0.0000</td></tr>\n",
       "\t<tr><td>RACTIH_Scan1.qptiff</td><td>distal.stroma         </td><td>cd8.t</td><td>     0</td><td> 0.0000</td></tr>\n",
       "\t<tr><td>RACTIH_Scan1.qptiff</td><td>distal.stroma         </td><td>other</td><td>  3062</td><td>91.5396</td></tr>\n",
       "\t<tr><td>RACTIH_Scan1.qptiff</td><td>distal.stroma         </td><td>panck</td><td>   283</td><td> 8.4604</td></tr>\n",
       "\t<tr><td>RACTIH_Scan1.qptiff</td><td>distal.stroma         </td><td>treg </td><td>     0</td><td> 0.0000</td></tr>\n",
       "\t<tr><td>RACTIH_Scan1.qptiff</td><td>inner.tumor.inv.margin</td><td>cd8.t</td><td>     3</td><td> 0.0133</td></tr>\n",
       "\t<tr><td>RACTIH_Scan1.qptiff</td><td>inner.tumor.inv.margin</td><td>other</td><td> 11754</td><td>52.0342</td></tr>\n",
       "\t<tr><td>RACTIH_Scan1.qptiff</td><td>inner.tumor.inv.margin</td><td>panck</td><td> 10832</td><td>47.9525</td></tr>\n",
       "\t<tr><td>RACTIH_Scan1.qptiff</td><td>inner.tumor.inv.margin</td><td>treg </td><td>     0</td><td> 0.0000</td></tr>\n",
       "\t<tr><td>RACTIH_Scan1.qptiff</td><td>outer.tumor.inv.margin</td><td>cd8.t</td><td>     2</td><td> 0.0109</td></tr>\n",
       "\t<tr><td>RACTIH_Scan1.qptiff</td><td>outer.tumor.inv.margin</td><td>other</td><td> 16466</td><td>89.8211</td></tr>\n",
       "\t<tr><td>RACTIH_Scan1.qptiff</td><td>outer.tumor.inv.margin</td><td>panck</td><td>  1863</td><td>10.1626</td></tr>\n",
       "\t<tr><td>RACTIH_Scan1.qptiff</td><td>outer.tumor.inv.margin</td><td>treg </td><td>     1</td><td> 0.0055</td></tr>\n",
       "\t<tr><td>RACTKE_Scan1.qptiff</td><td>central.tumor         </td><td>cd8.t</td><td>    43</td><td> 0.0186</td></tr>\n",
       "\t<tr><td>RACTKE_Scan1.qptiff</td><td>central.tumor         </td><td>other</td><td> 53426</td><td>23.1445</td></tr>\n",
       "\t<tr><td>RACTKE_Scan1.qptiff</td><td>central.tumor         </td><td>panck</td><td>177301</td><td>76.8079</td></tr>\n",
       "\t<tr><td>RACTKE_Scan1.qptiff</td><td>central.tumor         </td><td>treg </td><td>    67</td><td> 0.0290</td></tr>\n",
       "\t<tr><td>RACTKE_Scan1.qptiff</td><td>distal.stroma         </td><td>cd8.t</td><td>  7178</td><td> 2.4838</td></tr>\n",
       "\t<tr><td>RACTKE_Scan1.qptiff</td><td>distal.stroma         </td><td>other</td><td>236372</td><td>81.7905</td></tr>\n",
       "\t<tr><td>RACTKE_Scan1.qptiff</td><td>distal.stroma         </td><td>panck</td><td> 32101</td><td>11.1077</td></tr>\n",
       "\t<tr><td>RACTKE_Scan1.qptiff</td><td>distal.stroma         </td><td>treg </td><td> 13346</td><td> 4.6180</td></tr>\n",
       "\t<tr><td>RACTKE_Scan1.qptiff</td><td>inner.tumor.inv.margin</td><td>cd8.t</td><td>   176</td><td> 0.0588</td></tr>\n",
       "\t<tr><td>RACTKE_Scan1.qptiff</td><td>inner.tumor.inv.margin</td><td>other</td><td> 47692</td><td>15.9307</td></tr>\n",
       "\t<tr><td>RACTKE_Scan1.qptiff</td><td>inner.tumor.inv.margin</td><td>panck</td><td>251187</td><td>83.9046</td></tr>\n",
       "\t<tr><td>RACTKE_Scan1.qptiff</td><td>inner.tumor.inv.margin</td><td>treg </td><td>   317</td><td> 0.1059</td></tr>\n",
       "\t<tr><td>RACTKE_Scan1.qptiff</td><td>outer.tumor.inv.margin</td><td>cd8.t</td><td>  1638</td><td> 0.5866</td></tr>\n",
       "\t<tr><td>RACTKE_Scan1.qptiff</td><td>outer.tumor.inv.margin</td><td>other</td><td>165810</td><td>59.3835</td></tr>\n",
       "\t<tr><td>RACTKE_Scan1.qptiff</td><td>outer.tumor.inv.margin</td><td>panck</td><td>107843</td><td>38.6231</td></tr>\n",
       "\t<tr><td>RACTKE_Scan1.qptiff</td><td>outer.tumor.inv.margin</td><td>treg </td><td>  3928</td><td> 1.4068</td></tr>\n",
       "</tbody>\n",
       "</table>\n"
      ],
      "text/latex": [
       "A grouped\\_df: 32 × 5\n",
       "\\begin{tabular}{lllll}\n",
       " Sample.Name & tissue.compartment & cell.type & n & percent\\_density\\\\\n",
       " <chr> & <chr> & <chr> & <int> & <dbl>\\\\\n",
       "\\hline\n",
       "\t RACTIH\\_Scan1.qptiff & central.tumor          & cd8.t &      4 &  0.0354\\\\\n",
       "\t RACTIH\\_Scan1.qptiff & central.tumor          & other &   7191 & 63.5640\\\\\n",
       "\t RACTIH\\_Scan1.qptiff & central.tumor          & panck &   4118 & 36.4006\\\\\n",
       "\t RACTIH\\_Scan1.qptiff & central.tumor          & treg  &      0 &  0.0000\\\\\n",
       "\t RACTIH\\_Scan1.qptiff & distal.stroma          & cd8.t &      0 &  0.0000\\\\\n",
       "\t RACTIH\\_Scan1.qptiff & distal.stroma          & other &   3062 & 91.5396\\\\\n",
       "\t RACTIH\\_Scan1.qptiff & distal.stroma          & panck &    283 &  8.4604\\\\\n",
       "\t RACTIH\\_Scan1.qptiff & distal.stroma          & treg  &      0 &  0.0000\\\\\n",
       "\t RACTIH\\_Scan1.qptiff & inner.tumor.inv.margin & cd8.t &      3 &  0.0133\\\\\n",
       "\t RACTIH\\_Scan1.qptiff & inner.tumor.inv.margin & other &  11754 & 52.0342\\\\\n",
       "\t RACTIH\\_Scan1.qptiff & inner.tumor.inv.margin & panck &  10832 & 47.9525\\\\\n",
       "\t RACTIH\\_Scan1.qptiff & inner.tumor.inv.margin & treg  &      0 &  0.0000\\\\\n",
       "\t RACTIH\\_Scan1.qptiff & outer.tumor.inv.margin & cd8.t &      2 &  0.0109\\\\\n",
       "\t RACTIH\\_Scan1.qptiff & outer.tumor.inv.margin & other &  16466 & 89.8211\\\\\n",
       "\t RACTIH\\_Scan1.qptiff & outer.tumor.inv.margin & panck &   1863 & 10.1626\\\\\n",
       "\t RACTIH\\_Scan1.qptiff & outer.tumor.inv.margin & treg  &      1 &  0.0055\\\\\n",
       "\t RACTKE\\_Scan1.qptiff & central.tumor          & cd8.t &     43 &  0.0186\\\\\n",
       "\t RACTKE\\_Scan1.qptiff & central.tumor          & other &  53426 & 23.1445\\\\\n",
       "\t RACTKE\\_Scan1.qptiff & central.tumor          & panck & 177301 & 76.8079\\\\\n",
       "\t RACTKE\\_Scan1.qptiff & central.tumor          & treg  &     67 &  0.0290\\\\\n",
       "\t RACTKE\\_Scan1.qptiff & distal.stroma          & cd8.t &   7178 &  2.4838\\\\\n",
       "\t RACTKE\\_Scan1.qptiff & distal.stroma          & other & 236372 & 81.7905\\\\\n",
       "\t RACTKE\\_Scan1.qptiff & distal.stroma          & panck &  32101 & 11.1077\\\\\n",
       "\t RACTKE\\_Scan1.qptiff & distal.stroma          & treg  &  13346 &  4.6180\\\\\n",
       "\t RACTKE\\_Scan1.qptiff & inner.tumor.inv.margin & cd8.t &    176 &  0.0588\\\\\n",
       "\t RACTKE\\_Scan1.qptiff & inner.tumor.inv.margin & other &  47692 & 15.9307\\\\\n",
       "\t RACTKE\\_Scan1.qptiff & inner.tumor.inv.margin & panck & 251187 & 83.9046\\\\\n",
       "\t RACTKE\\_Scan1.qptiff & inner.tumor.inv.margin & treg  &    317 &  0.1059\\\\\n",
       "\t RACTKE\\_Scan1.qptiff & outer.tumor.inv.margin & cd8.t &   1638 &  0.5866\\\\\n",
       "\t RACTKE\\_Scan1.qptiff & outer.tumor.inv.margin & other & 165810 & 59.3835\\\\\n",
       "\t RACTKE\\_Scan1.qptiff & outer.tumor.inv.margin & panck & 107843 & 38.6231\\\\\n",
       "\t RACTKE\\_Scan1.qptiff & outer.tumor.inv.margin & treg  &   3928 &  1.4068\\\\\n",
       "\\end{tabular}\n"
      ],
      "text/markdown": [
       "\n",
       "A grouped_df: 32 × 5\n",
       "\n",
       "| Sample.Name &lt;chr&gt; | tissue.compartment &lt;chr&gt; | cell.type &lt;chr&gt; | n &lt;int&gt; | percent_density &lt;dbl&gt; |\n",
       "|---|---|---|---|---|\n",
       "| RACTIH_Scan1.qptiff | central.tumor          | cd8.t |      4 |  0.0354 |\n",
       "| RACTIH_Scan1.qptiff | central.tumor          | other |   7191 | 63.5640 |\n",
       "| RACTIH_Scan1.qptiff | central.tumor          | panck |   4118 | 36.4006 |\n",
       "| RACTIH_Scan1.qptiff | central.tumor          | treg  |      0 |  0.0000 |\n",
       "| RACTIH_Scan1.qptiff | distal.stroma          | cd8.t |      0 |  0.0000 |\n",
       "| RACTIH_Scan1.qptiff | distal.stroma          | other |   3062 | 91.5396 |\n",
       "| RACTIH_Scan1.qptiff | distal.stroma          | panck |    283 |  8.4604 |\n",
       "| RACTIH_Scan1.qptiff | distal.stroma          | treg  |      0 |  0.0000 |\n",
       "| RACTIH_Scan1.qptiff | inner.tumor.inv.margin | cd8.t |      3 |  0.0133 |\n",
       "| RACTIH_Scan1.qptiff | inner.tumor.inv.margin | other |  11754 | 52.0342 |\n",
       "| RACTIH_Scan1.qptiff | inner.tumor.inv.margin | panck |  10832 | 47.9525 |\n",
       "| RACTIH_Scan1.qptiff | inner.tumor.inv.margin | treg  |      0 |  0.0000 |\n",
       "| RACTIH_Scan1.qptiff | outer.tumor.inv.margin | cd8.t |      2 |  0.0109 |\n",
       "| RACTIH_Scan1.qptiff | outer.tumor.inv.margin | other |  16466 | 89.8211 |\n",
       "| RACTIH_Scan1.qptiff | outer.tumor.inv.margin | panck |   1863 | 10.1626 |\n",
       "| RACTIH_Scan1.qptiff | outer.tumor.inv.margin | treg  |      1 |  0.0055 |\n",
       "| RACTKE_Scan1.qptiff | central.tumor          | cd8.t |     43 |  0.0186 |\n",
       "| RACTKE_Scan1.qptiff | central.tumor          | other |  53426 | 23.1445 |\n",
       "| RACTKE_Scan1.qptiff | central.tumor          | panck | 177301 | 76.8079 |\n",
       "| RACTKE_Scan1.qptiff | central.tumor          | treg  |     67 |  0.0290 |\n",
       "| RACTKE_Scan1.qptiff | distal.stroma          | cd8.t |   7178 |  2.4838 |\n",
       "| RACTKE_Scan1.qptiff | distal.stroma          | other | 236372 | 81.7905 |\n",
       "| RACTKE_Scan1.qptiff | distal.stroma          | panck |  32101 | 11.1077 |\n",
       "| RACTKE_Scan1.qptiff | distal.stroma          | treg  |  13346 |  4.6180 |\n",
       "| RACTKE_Scan1.qptiff | inner.tumor.inv.margin | cd8.t |    176 |  0.0588 |\n",
       "| RACTKE_Scan1.qptiff | inner.tumor.inv.margin | other |  47692 | 15.9307 |\n",
       "| RACTKE_Scan1.qptiff | inner.tumor.inv.margin | panck | 251187 | 83.9046 |\n",
       "| RACTKE_Scan1.qptiff | inner.tumor.inv.margin | treg  |    317 |  0.1059 |\n",
       "| RACTKE_Scan1.qptiff | outer.tumor.inv.margin | cd8.t |   1638 |  0.5866 |\n",
       "| RACTKE_Scan1.qptiff | outer.tumor.inv.margin | other | 165810 | 59.3835 |\n",
       "| RACTKE_Scan1.qptiff | outer.tumor.inv.margin | panck | 107843 | 38.6231 |\n",
       "| RACTKE_Scan1.qptiff | outer.tumor.inv.margin | treg  |   3928 |  1.4068 |\n",
       "\n"
      ],
      "text/plain": [
       "   Sample.Name         tissue.compartment     cell.type n      percent_density\n",
       "1  RACTIH_Scan1.qptiff central.tumor          cd8.t          4  0.0354        \n",
       "2  RACTIH_Scan1.qptiff central.tumor          other       7191 63.5640        \n",
       "3  RACTIH_Scan1.qptiff central.tumor          panck       4118 36.4006        \n",
       "4  RACTIH_Scan1.qptiff central.tumor          treg           0  0.0000        \n",
       "5  RACTIH_Scan1.qptiff distal.stroma          cd8.t          0  0.0000        \n",
       "6  RACTIH_Scan1.qptiff distal.stroma          other       3062 91.5396        \n",
       "7  RACTIH_Scan1.qptiff distal.stroma          panck        283  8.4604        \n",
       "8  RACTIH_Scan1.qptiff distal.stroma          treg           0  0.0000        \n",
       "9  RACTIH_Scan1.qptiff inner.tumor.inv.margin cd8.t          3  0.0133        \n",
       "10 RACTIH_Scan1.qptiff inner.tumor.inv.margin other      11754 52.0342        \n",
       "11 RACTIH_Scan1.qptiff inner.tumor.inv.margin panck      10832 47.9525        \n",
       "12 RACTIH_Scan1.qptiff inner.tumor.inv.margin treg           0  0.0000        \n",
       "13 RACTIH_Scan1.qptiff outer.tumor.inv.margin cd8.t          2  0.0109        \n",
       "14 RACTIH_Scan1.qptiff outer.tumor.inv.margin other      16466 89.8211        \n",
       "15 RACTIH_Scan1.qptiff outer.tumor.inv.margin panck       1863 10.1626        \n",
       "16 RACTIH_Scan1.qptiff outer.tumor.inv.margin treg           1  0.0055        \n",
       "17 RACTKE_Scan1.qptiff central.tumor          cd8.t         43  0.0186        \n",
       "18 RACTKE_Scan1.qptiff central.tumor          other      53426 23.1445        \n",
       "19 RACTKE_Scan1.qptiff central.tumor          panck     177301 76.8079        \n",
       "20 RACTKE_Scan1.qptiff central.tumor          treg          67  0.0290        \n",
       "21 RACTKE_Scan1.qptiff distal.stroma          cd8.t       7178  2.4838        \n",
       "22 RACTKE_Scan1.qptiff distal.stroma          other     236372 81.7905        \n",
       "23 RACTKE_Scan1.qptiff distal.stroma          panck      32101 11.1077        \n",
       "24 RACTKE_Scan1.qptiff distal.stroma          treg       13346  4.6180        \n",
       "25 RACTKE_Scan1.qptiff inner.tumor.inv.margin cd8.t        176  0.0588        \n",
       "26 RACTKE_Scan1.qptiff inner.tumor.inv.margin other      47692 15.9307        \n",
       "27 RACTKE_Scan1.qptiff inner.tumor.inv.margin panck     251187 83.9046        \n",
       "28 RACTKE_Scan1.qptiff inner.tumor.inv.margin treg         317  0.1059        \n",
       "29 RACTKE_Scan1.qptiff outer.tumor.inv.margin cd8.t       1638  0.5866        \n",
       "30 RACTKE_Scan1.qptiff outer.tumor.inv.margin other     165810 59.3835        \n",
       "31 RACTKE_Scan1.qptiff outer.tumor.inv.margin panck     107843 38.6231        \n",
       "32 RACTKE_Scan1.qptiff outer.tumor.inv.margin treg        3928  1.4068        "
      ]
     },
     "metadata": {},
     "output_type": "display_data"
    }
   ],
   "source": [
    "sub %>% \n",
    "    group_by(Sample.Name, tissue.compartment, cell.type) %>% \n",
    "    summarize(n=n()) %>%\n",
    "    ungroup() %>%\n",
    "    complete(Sample.Name = unique(Sample.Name), \n",
    "             tissue.compartment = unique(tissue.compartment), \n",
    "             cell.type = unique(cell.type), \n",
    "             fill = list(n = 0)) %>%    \n",
    "    group_by(Sample.Name, tissue.compartment) %>%\n",
    "    mutate(percent_density = round(n / sum(n) * 100, digits=4)) "
   ]
  },
  {
   "cell_type": "code",
   "execution_count": 64,
   "id": "c1431e87-c9cc-49cd-a992-400577767174",
   "metadata": {
    "tags": []
   },
   "outputs": [
    {
     "name": "stderr",
     "output_type": "stream",
     "text": [
      "\u001b[1m\u001b[22m`summarise()` has grouped output by 'Sample.Name', 'tissue.compartment'. You\n",
      "can override using the `.groups` argument.\n",
      "\u001b[1m\u001b[22m`summarise()` has grouped output by 'Sample.Name', 'tissue.all.tumor.stroma'.\n",
      "You can override using the `.groups` argument.\n"
     ]
    },
    {
     "data": {
      "text/html": [
       "<table class=\"dataframe\">\n",
       "<caption>A grouped_df: 2 × 7</caption>\n",
       "<thead>\n",
       "\t<tr><th scope=col>Sample.Name</th><th scope=col>all.stroma_cd8.t</th><th scope=col>all.stroma_panck</th><th scope=col>all.stroma_treg</th><th scope=col>all.tumor_cd8.t</th><th scope=col>all.tumor_panck</th><th scope=col>all.tumor_treg</th></tr>\n",
       "\t<tr><th scope=col>&lt;chr&gt;</th><th scope=col>&lt;dbl&gt;</th><th scope=col>&lt;dbl&gt;</th><th scope=col>&lt;dbl&gt;</th><th scope=col>&lt;dbl&gt;</th><th scope=col>&lt;dbl&gt;</th><th scope=col>&lt;dbl&gt;</th></tr>\n",
       "</thead>\n",
       "<tbody>\n",
       "\t<tr><td>RACTIH_Scan1.qptiff</td><td>0.0092</td><td> 9.8999</td><td>0.0046</td><td>0.0206</td><td>44.0977</td><td>0.0000</td></tr>\n",
       "\t<tr><td>RACTKE_Scan1.qptiff</td><td>1.5515</td><td>24.6287</td><td>3.0400</td><td>0.0413</td><td>80.8149</td><td>0.0724</td></tr>\n",
       "</tbody>\n",
       "</table>\n"
      ],
      "text/latex": [
       "A grouped\\_df: 2 × 7\n",
       "\\begin{tabular}{lllllll}\n",
       " Sample.Name & all.stroma\\_cd8.t & all.stroma\\_panck & all.stroma\\_treg & all.tumor\\_cd8.t & all.tumor\\_panck & all.tumor\\_treg\\\\\n",
       " <chr> & <dbl> & <dbl> & <dbl> & <dbl> & <dbl> & <dbl>\\\\\n",
       "\\hline\n",
       "\t RACTIH\\_Scan1.qptiff & 0.0092 &  9.8999 & 0.0046 & 0.0206 & 44.0977 & 0.0000\\\\\n",
       "\t RACTKE\\_Scan1.qptiff & 1.5515 & 24.6287 & 3.0400 & 0.0413 & 80.8149 & 0.0724\\\\\n",
       "\\end{tabular}\n"
      ],
      "text/markdown": [
       "\n",
       "A grouped_df: 2 × 7\n",
       "\n",
       "| Sample.Name &lt;chr&gt; | all.stroma_cd8.t &lt;dbl&gt; | all.stroma_panck &lt;dbl&gt; | all.stroma_treg &lt;dbl&gt; | all.tumor_cd8.t &lt;dbl&gt; | all.tumor_panck &lt;dbl&gt; | all.tumor_treg &lt;dbl&gt; |\n",
       "|---|---|---|---|---|---|---|\n",
       "| RACTIH_Scan1.qptiff | 0.0092 |  9.8999 | 0.0046 | 0.0206 | 44.0977 | 0.0000 |\n",
       "| RACTKE_Scan1.qptiff | 1.5515 | 24.6287 | 3.0400 | 0.0413 | 80.8149 | 0.0724 |\n",
       "\n"
      ],
      "text/plain": [
       "  Sample.Name         all.stroma_cd8.t all.stroma_panck all.stroma_treg\n",
       "1 RACTIH_Scan1.qptiff 0.0092            9.8999          0.0046         \n",
       "2 RACTKE_Scan1.qptiff 1.5515           24.6287          3.0400         \n",
       "  all.tumor_cd8.t all.tumor_panck all.tumor_treg\n",
       "1 0.0206          44.0977         0.0000        \n",
       "2 0.0413          80.8149         0.0724        "
      ]
     },
     "metadata": {},
     "output_type": "display_data"
    }
   ],
   "source": [
    "sub %>% \n",
    "    group_by(Sample.Name, tissue.compartment, cell.type) %>% \n",
    "    summarize(n=n()) %>%\n",
    "    ungroup() %>%\n",
    "    complete(Sample.Name = unique(Sample.Name), \n",
    "             tissue.compartment = unique(tissue.compartment), \n",
    "             cell.type = unique(cell.type), \n",
    "             fill = list(n = 0)) %>%    \n",
    "    mutate(tissue.all.tumor.stroma = case_when(tissue.compartment %in% c(\"central.tumor\",'inner.tumor.inv.margin') ~ \"all.tumor\",\n",
    "                                tissue.compartment %in% c(\"distal.stroma\",'outer.tumor.inv.margin') ~ \"all.stroma\",\n",
    "                                TRUE ~ \"other\")) %>%\n",
    "    group_by(Sample.Name, tissue.all.tumor.stroma, cell.type) %>%\n",
    "    summarize(n=sum(n)) %>%\n",
    "    group_by(Sample.Name, tissue.all.tumor.stroma) %>%\n",
    "    mutate(percent_density = round(n / sum(n) * 100, digits=4)) %>%\n",
    "    select(-n) %>%\n",
    "    pivot_wider(names_from = c(\"tissue.all.tumor.stroma\", \"cell.type\"),\n",
    "               values_from = \"percent_density\") %>%\n",
    "    select(-matches(\"other\"))\n",
    "    "
   ]
  },
  {
   "cell_type": "code",
   "execution_count": 99,
   "id": "e0e027ad-06be-4dc8-9400-84c4a32a76de",
   "metadata": {
    "tags": []
   },
   "outputs": [
    {
     "name": "stderr",
     "output_type": "stream",
     "text": [
      "\u001b[1m\u001b[22m`summarise()` has grouped output by 'Sample.Name', 'tissue.compartment'. You\n",
      "can override using the `.groups` argument.\n",
      "\u001b[1m\u001b[22m`summarise()` has grouped output by 'Sample.Name', 'tissue.all.tumor.stroma'.\n",
      "You can override using the `.groups` argument.\n",
      "\u001b[1m\u001b[22m`summarise()` has grouped output by 'Sample.Name', 'tissue.compartment'. You\n",
      "can override using the `.groups` argument.\n",
      "\u001b[1m\u001b[22m`summarise()` has grouped output by 'Sample.Name', 'tissue.all.tumor.stroma'.\n",
      "You can override using the `.groups` argument.\n",
      "\u001b[1m\u001b[22m`summarise()` has grouped output by 'Sample.Name', 'tissue.compartment'. You\n",
      "can override using the `.groups` argument.\n",
      "\u001b[1m\u001b[22m`summarise()` has grouped output by 'Sample.Name', 'tissue.compartment'. You\n",
      "can override using the `.groups` argument.\n",
      "\u001b[1m\u001b[22m`summarise()` has grouped output by 'Sample.Name', 'tissue.compartment'. You\n",
      "can override using the `.groups` argument.\n",
      "\u001b[1m\u001b[22m`summarise()` has grouped output by 'Sample.Name',\n",
      "'tissue.all.invasive.margin'. You can override using the `.groups` argument.\n",
      "\u001b[1m\u001b[22m`summarise()` has grouped output by 'Sample.Name', 'tissue.compartment'. You\n",
      "can override using the `.groups` argument.\n",
      "\u001b[1m\u001b[22m`summarise()` has grouped output by 'Sample.Name',\n",
      "'tissue.all.invasive.margin'. You can override using the `.groups` argument.\n"
     ]
    },
    {
     "data": {
      "text/html": [
       "<table class=\"dataframe\">\n",
       "<caption>A data.frame: 6 × 15</caption>\n",
       "<thead>\n",
       "\t<tr><th></th><th scope=col>all.stroma_cd8.t.density</th><th scope=col>all.stroma_treg.density</th><th scope=col>all.tumor_cd8.t.density</th><th scope=col>all.tumor_treg.density</th><th scope=col>all.stroma_pdl1.density</th><th scope=col>all.tumor_pdl1.density</th><th scope=col>inner.tumor.inv.margin_cd8.t.density</th><th scope=col>inner.tumor.inv.margin_treg.density</th><th scope=col>outer.tumor.inv.margin_cd8.t.density</th><th scope=col>outer.tumor.inv.margin_treg.density</th><th scope=col>inner.tumor.inv.margin_pdl1.density</th><th scope=col>outer.tumor.inv.margin_pdl1.density</th><th scope=col>all.tumor.invasive.margin_cd8.t.density</th><th scope=col>all.tumor.invasive.margin_treg.density</th><th scope=col>all.tumor.invasive.margin_pdl1.density</th></tr>\n",
       "\t<tr><th></th><th scope=col>&lt;dbl&gt;</th><th scope=col>&lt;dbl&gt;</th><th scope=col>&lt;dbl&gt;</th><th scope=col>&lt;dbl&gt;</th><th scope=col>&lt;dbl&gt;</th><th scope=col>&lt;dbl&gt;</th><th scope=col>&lt;dbl&gt;</th><th scope=col>&lt;dbl&gt;</th><th scope=col>&lt;dbl&gt;</th><th scope=col>&lt;dbl&gt;</th><th scope=col>&lt;dbl&gt;</th><th scope=col>&lt;dbl&gt;</th><th scope=col>&lt;dbl&gt;</th><th scope=col>&lt;dbl&gt;</th><th scope=col>&lt;dbl&gt;</th></tr>\n",
       "</thead>\n",
       "<tbody>\n",
       "\t<tr><th scope=row>RACTIH_Scan1.qptiff</th><td>0.0092</td><td>0.0046</td><td>0.0206</td><td>0.0000</td><td> 2.4819</td><td> 1.5810</td><td>0.0133</td><td>0.0000</td><td>0.0109</td><td>0.0055</td><td> 1.7752</td><td> 2.6947</td><td>0.0122</td><td>0.0024</td><td> 2.1871</td></tr>\n",
       "\t<tr><th scope=row>RACTKE_Scan1.qptiff</th><td>1.5515</td><td>3.0400</td><td>0.0413</td><td>0.0724</td><td>36.9659</td><td>68.6116</td><td>0.0588</td><td>0.1059</td><td>0.5866</td><td>1.4068</td><td>65.9033</td><td>49.1546</td><td>0.3135</td><td>0.7337</td><td>57.8206</td></tr>\n",
       "\t<tr><th scope=row>RACTLH_Scan2.qptiff</th><td>0.2723</td><td>0.1355</td><td>0.0031</td><td>0.0047</td><td> 3.9697</td><td> 8.7931</td><td>0.0036</td><td>0.0049</td><td>0.0377</td><td>0.0491</td><td> 8.4694</td><td> 4.4657</td><td>0.0212</td><td>0.0276</td><td> 6.4075</td></tr>\n",
       "\t<tr><th scope=row>RACTNY_Scan1.qptiff</th><td>1.2966</td><td>0.3303</td><td>0.3981</td><td>0.1524</td><td> 0.9533</td><td> 3.7857</td><td>0.4126</td><td>0.1764</td><td>0.6771</td><td>0.4161</td><td> 3.7269</td><td> 0.9665</td><td>0.5481</td><td>0.2992</td><td> 2.3128</td></tr>\n",
       "\t<tr><th scope=row>RACTRF_Scan1.qptiff</th><td>0.9067</td><td>2.0507</td><td>0.1553</td><td>0.8345</td><td> 1.5253</td><td>14.2386</td><td>0.1787</td><td>0.7269</td><td>0.5579</td><td>1.7800</td><td> 9.6759</td><td> 2.0191</td><td>0.3580</td><td>1.2249</td><td> 6.0553</td></tr>\n",
       "\t<tr><th scope=row>RACTRU_Scan1.qptiff</th><td>1.7533</td><td>1.9068</td><td>2.0264</td><td>0.1981</td><td> 8.9148</td><td>23.9201</td><td>2.1653</td><td>0.2106</td><td>2.0287</td><td>1.9874</td><td>22.9721</td><td>14.1146</td><td>2.0783</td><td>1.3425</td><td>17.3296</td></tr>\n",
       "</tbody>\n",
       "</table>\n"
      ],
      "text/latex": [
       "A data.frame: 6 × 15\n",
       "\\begin{tabular}{r|lllllllllllllll}\n",
       "  & all.stroma\\_cd8.t.density & all.stroma\\_treg.density & all.tumor\\_cd8.t.density & all.tumor\\_treg.density & all.stroma\\_pdl1.density & all.tumor\\_pdl1.density & inner.tumor.inv.margin\\_cd8.t.density & inner.tumor.inv.margin\\_treg.density & outer.tumor.inv.margin\\_cd8.t.density & outer.tumor.inv.margin\\_treg.density & inner.tumor.inv.margin\\_pdl1.density & outer.tumor.inv.margin\\_pdl1.density & all.tumor.invasive.margin\\_cd8.t.density & all.tumor.invasive.margin\\_treg.density & all.tumor.invasive.margin\\_pdl1.density\\\\\n",
       "  & <dbl> & <dbl> & <dbl> & <dbl> & <dbl> & <dbl> & <dbl> & <dbl> & <dbl> & <dbl> & <dbl> & <dbl> & <dbl> & <dbl> & <dbl>\\\\\n",
       "\\hline\n",
       "\tRACTIH\\_Scan1.qptiff & 0.0092 & 0.0046 & 0.0206 & 0.0000 &  2.4819 &  1.5810 & 0.0133 & 0.0000 & 0.0109 & 0.0055 &  1.7752 &  2.6947 & 0.0122 & 0.0024 &  2.1871\\\\\n",
       "\tRACTKE\\_Scan1.qptiff & 1.5515 & 3.0400 & 0.0413 & 0.0724 & 36.9659 & 68.6116 & 0.0588 & 0.1059 & 0.5866 & 1.4068 & 65.9033 & 49.1546 & 0.3135 & 0.7337 & 57.8206\\\\\n",
       "\tRACTLH\\_Scan2.qptiff & 0.2723 & 0.1355 & 0.0031 & 0.0047 &  3.9697 &  8.7931 & 0.0036 & 0.0049 & 0.0377 & 0.0491 &  8.4694 &  4.4657 & 0.0212 & 0.0276 &  6.4075\\\\\n",
       "\tRACTNY\\_Scan1.qptiff & 1.2966 & 0.3303 & 0.3981 & 0.1524 &  0.9533 &  3.7857 & 0.4126 & 0.1764 & 0.6771 & 0.4161 &  3.7269 &  0.9665 & 0.5481 & 0.2992 &  2.3128\\\\\n",
       "\tRACTRF\\_Scan1.qptiff & 0.9067 & 2.0507 & 0.1553 & 0.8345 &  1.5253 & 14.2386 & 0.1787 & 0.7269 & 0.5579 & 1.7800 &  9.6759 &  2.0191 & 0.3580 & 1.2249 &  6.0553\\\\\n",
       "\tRACTRU\\_Scan1.qptiff & 1.7533 & 1.9068 & 2.0264 & 0.1981 &  8.9148 & 23.9201 & 2.1653 & 0.2106 & 2.0287 & 1.9874 & 22.9721 & 14.1146 & 2.0783 & 1.3425 & 17.3296\\\\\n",
       "\\end{tabular}\n"
      ],
      "text/markdown": [
       "\n",
       "A data.frame: 6 × 15\n",
       "\n",
       "| <!--/--> | all.stroma_cd8.t.density &lt;dbl&gt; | all.stroma_treg.density &lt;dbl&gt; | all.tumor_cd8.t.density &lt;dbl&gt; | all.tumor_treg.density &lt;dbl&gt; | all.stroma_pdl1.density &lt;dbl&gt; | all.tumor_pdl1.density &lt;dbl&gt; | inner.tumor.inv.margin_cd8.t.density &lt;dbl&gt; | inner.tumor.inv.margin_treg.density &lt;dbl&gt; | outer.tumor.inv.margin_cd8.t.density &lt;dbl&gt; | outer.tumor.inv.margin_treg.density &lt;dbl&gt; | inner.tumor.inv.margin_pdl1.density &lt;dbl&gt; | outer.tumor.inv.margin_pdl1.density &lt;dbl&gt; | all.tumor.invasive.margin_cd8.t.density &lt;dbl&gt; | all.tumor.invasive.margin_treg.density &lt;dbl&gt; | all.tumor.invasive.margin_pdl1.density &lt;dbl&gt; |\n",
       "|---|---|---|---|---|---|---|---|---|---|---|---|---|---|---|---|\n",
       "| RACTIH_Scan1.qptiff | 0.0092 | 0.0046 | 0.0206 | 0.0000 |  2.4819 |  1.5810 | 0.0133 | 0.0000 | 0.0109 | 0.0055 |  1.7752 |  2.6947 | 0.0122 | 0.0024 |  2.1871 |\n",
       "| RACTKE_Scan1.qptiff | 1.5515 | 3.0400 | 0.0413 | 0.0724 | 36.9659 | 68.6116 | 0.0588 | 0.1059 | 0.5866 | 1.4068 | 65.9033 | 49.1546 | 0.3135 | 0.7337 | 57.8206 |\n",
       "| RACTLH_Scan2.qptiff | 0.2723 | 0.1355 | 0.0031 | 0.0047 |  3.9697 |  8.7931 | 0.0036 | 0.0049 | 0.0377 | 0.0491 |  8.4694 |  4.4657 | 0.0212 | 0.0276 |  6.4075 |\n",
       "| RACTNY_Scan1.qptiff | 1.2966 | 0.3303 | 0.3981 | 0.1524 |  0.9533 |  3.7857 | 0.4126 | 0.1764 | 0.6771 | 0.4161 |  3.7269 |  0.9665 | 0.5481 | 0.2992 |  2.3128 |\n",
       "| RACTRF_Scan1.qptiff | 0.9067 | 2.0507 | 0.1553 | 0.8345 |  1.5253 | 14.2386 | 0.1787 | 0.7269 | 0.5579 | 1.7800 |  9.6759 |  2.0191 | 0.3580 | 1.2249 |  6.0553 |\n",
       "| RACTRU_Scan1.qptiff | 1.7533 | 1.9068 | 2.0264 | 0.1981 |  8.9148 | 23.9201 | 2.1653 | 0.2106 | 2.0287 | 1.9874 | 22.9721 | 14.1146 | 2.0783 | 1.3425 | 17.3296 |\n",
       "\n"
      ],
      "text/plain": [
       "                    all.stroma_cd8.t.density all.stroma_treg.density\n",
       "RACTIH_Scan1.qptiff 0.0092                   0.0046                 \n",
       "RACTKE_Scan1.qptiff 1.5515                   3.0400                 \n",
       "RACTLH_Scan2.qptiff 0.2723                   0.1355                 \n",
       "RACTNY_Scan1.qptiff 1.2966                   0.3303                 \n",
       "RACTRF_Scan1.qptiff 0.9067                   2.0507                 \n",
       "RACTRU_Scan1.qptiff 1.7533                   1.9068                 \n",
       "                    all.tumor_cd8.t.density all.tumor_treg.density\n",
       "RACTIH_Scan1.qptiff 0.0206                  0.0000                \n",
       "RACTKE_Scan1.qptiff 0.0413                  0.0724                \n",
       "RACTLH_Scan2.qptiff 0.0031                  0.0047                \n",
       "RACTNY_Scan1.qptiff 0.3981                  0.1524                \n",
       "RACTRF_Scan1.qptiff 0.1553                  0.8345                \n",
       "RACTRU_Scan1.qptiff 2.0264                  0.1981                \n",
       "                    all.stroma_pdl1.density all.tumor_pdl1.density\n",
       "RACTIH_Scan1.qptiff  2.4819                  1.5810               \n",
       "RACTKE_Scan1.qptiff 36.9659                 68.6116               \n",
       "RACTLH_Scan2.qptiff  3.9697                  8.7931               \n",
       "RACTNY_Scan1.qptiff  0.9533                  3.7857               \n",
       "RACTRF_Scan1.qptiff  1.5253                 14.2386               \n",
       "RACTRU_Scan1.qptiff  8.9148                 23.9201               \n",
       "                    inner.tumor.inv.margin_cd8.t.density\n",
       "RACTIH_Scan1.qptiff 0.0133                              \n",
       "RACTKE_Scan1.qptiff 0.0588                              \n",
       "RACTLH_Scan2.qptiff 0.0036                              \n",
       "RACTNY_Scan1.qptiff 0.4126                              \n",
       "RACTRF_Scan1.qptiff 0.1787                              \n",
       "RACTRU_Scan1.qptiff 2.1653                              \n",
       "                    inner.tumor.inv.margin_treg.density\n",
       "RACTIH_Scan1.qptiff 0.0000                             \n",
       "RACTKE_Scan1.qptiff 0.1059                             \n",
       "RACTLH_Scan2.qptiff 0.0049                             \n",
       "RACTNY_Scan1.qptiff 0.1764                             \n",
       "RACTRF_Scan1.qptiff 0.7269                             \n",
       "RACTRU_Scan1.qptiff 0.2106                             \n",
       "                    outer.tumor.inv.margin_cd8.t.density\n",
       "RACTIH_Scan1.qptiff 0.0109                              \n",
       "RACTKE_Scan1.qptiff 0.5866                              \n",
       "RACTLH_Scan2.qptiff 0.0377                              \n",
       "RACTNY_Scan1.qptiff 0.6771                              \n",
       "RACTRF_Scan1.qptiff 0.5579                              \n",
       "RACTRU_Scan1.qptiff 2.0287                              \n",
       "                    outer.tumor.inv.margin_treg.density\n",
       "RACTIH_Scan1.qptiff 0.0055                             \n",
       "RACTKE_Scan1.qptiff 1.4068                             \n",
       "RACTLH_Scan2.qptiff 0.0491                             \n",
       "RACTNY_Scan1.qptiff 0.4161                             \n",
       "RACTRF_Scan1.qptiff 1.7800                             \n",
       "RACTRU_Scan1.qptiff 1.9874                             \n",
       "                    inner.tumor.inv.margin_pdl1.density\n",
       "RACTIH_Scan1.qptiff  1.7752                            \n",
       "RACTKE_Scan1.qptiff 65.9033                            \n",
       "RACTLH_Scan2.qptiff  8.4694                            \n",
       "RACTNY_Scan1.qptiff  3.7269                            \n",
       "RACTRF_Scan1.qptiff  9.6759                            \n",
       "RACTRU_Scan1.qptiff 22.9721                            \n",
       "                    outer.tumor.inv.margin_pdl1.density\n",
       "RACTIH_Scan1.qptiff  2.6947                            \n",
       "RACTKE_Scan1.qptiff 49.1546                            \n",
       "RACTLH_Scan2.qptiff  4.4657                            \n",
       "RACTNY_Scan1.qptiff  0.9665                            \n",
       "RACTRF_Scan1.qptiff  2.0191                            \n",
       "RACTRU_Scan1.qptiff 14.1146                            \n",
       "                    all.tumor.invasive.margin_cd8.t.density\n",
       "RACTIH_Scan1.qptiff 0.0122                                 \n",
       "RACTKE_Scan1.qptiff 0.3135                                 \n",
       "RACTLH_Scan2.qptiff 0.0212                                 \n",
       "RACTNY_Scan1.qptiff 0.5481                                 \n",
       "RACTRF_Scan1.qptiff 0.3580                                 \n",
       "RACTRU_Scan1.qptiff 2.0783                                 \n",
       "                    all.tumor.invasive.margin_treg.density\n",
       "RACTIH_Scan1.qptiff 0.0024                                \n",
       "RACTKE_Scan1.qptiff 0.7337                                \n",
       "RACTLH_Scan2.qptiff 0.0276                                \n",
       "RACTNY_Scan1.qptiff 0.2992                                \n",
       "RACTRF_Scan1.qptiff 1.2249                                \n",
       "RACTRU_Scan1.qptiff 1.3425                                \n",
       "                    all.tumor.invasive.margin_pdl1.density\n",
       "RACTIH_Scan1.qptiff  2.1871                               \n",
       "RACTKE_Scan1.qptiff 57.8206                               \n",
       "RACTLH_Scan2.qptiff  6.4075                               \n",
       "RACTNY_Scan1.qptiff  2.3128                               \n",
       "RACTRF_Scan1.qptiff  6.0553                               \n",
       "RACTRU_Scan1.qptiff 17.3296                               "
      ]
     },
     "metadata": {},
     "output_type": "display_data"
    }
   ],
   "source": [
    "# # Calculate values for all tumor / stroma\n",
    "t.dense.all.ts <- df %>%  group_by(Sample.Name, tissue.compartment, cell.type) %>% \n",
    "    summarize(n=n()) %>%\n",
    "    ungroup() %>%\n",
    "    complete(Sample.Name = unique(Sample.Name), \n",
    "             tissue.compartment = unique(tissue.compartment), \n",
    "             cell.type = unique(cell.type), \n",
    "             fill = list(n = 0)) %>%    \n",
    "    mutate(tissue.all.tumor.stroma = case_when(tissue.compartment %in% c(\"central.tumor\",'inner.tumor.inv.margin') ~ \"all.tumor\",\n",
    "                                tissue.compartment %in% c(\"distal.stroma\",'outer.tumor.inv.margin') ~ \"all.stroma\",\n",
    "                                TRUE ~ \"other\")) %>%\n",
    "    group_by(Sample.Name, tissue.all.tumor.stroma, cell.type) %>%\n",
    "    summarize(n=sum(n)) %>%\n",
    "    group_by(Sample.Name, tissue.all.tumor.stroma) %>%\n",
    "    mutate(percent_density = round(n / sum(n) * 100, digits=4)) %>%\n",
    "    select(-n) %>%\n",
    "    pivot_wider(names_from = c(\"tissue.all.tumor.stroma\", \"cell.type\"),\n",
    "               values_from = \"percent_density\") %>%\n",
    "    select(-matches(\"other\")) %>% select(-matches('panck')) %>%\n",
    "    tibble::column_to_rownames(var = \"Sample.Name\")\n",
    "\n",
    "# # Calculate values for all tumor / stroma\n",
    "pdl1.dense.all.ts <- df %>%  group_by(Sample.Name, tissue.compartment, pdl1.cell) %>% \n",
    "    summarize(n=n()) %>%\n",
    "    ungroup() %>%\n",
    "    complete(Sample.Name = unique(Sample.Name), \n",
    "             tissue.compartment = unique(tissue.compartment), \n",
    "             pdl1.cell = unique(pdl1.cell), \n",
    "             fill = list(n = 0)) %>%    \n",
    "    mutate(tissue.all.tumor.stroma = case_when(tissue.compartment %in% c(\"central.tumor\",'inner.tumor.inv.margin') ~ \"all.tumor\",\n",
    "                                tissue.compartment %in% c(\"distal.stroma\",'outer.tumor.inv.margin') ~ \"all.stroma\",\n",
    "                                TRUE ~ \"other\")) %>%\n",
    "    group_by(Sample.Name, tissue.all.tumor.stroma, pdl1.cell) %>%\n",
    "    summarize(n=sum(n)) %>%\n",
    "    group_by(Sample.Name, tissue.all.tumor.stroma) %>%\n",
    "    mutate(percent_density = round(n / sum(n) * 100, digits=4)) %>%\n",
    "    select(-n) %>%\n",
    "    pivot_wider(names_from = c(\"tissue.all.tumor.stroma\", \"pdl1.cell\"),\n",
    "               values_from = \"percent_density\") %>%\n",
    "    select(-matches(\"other\")) %>% select(-matches('panck')) %>%\n",
    "    tibble::column_to_rownames(var = \"Sample.Name\")\n",
    "\n",
    "# Calculate density in inner / outer tumor invasive margin\n",
    "t.dense.in.out <- df %>% \n",
    "    group_by(Sample.Name, tissue.compartment, cell.type) %>% \n",
    "    summarize(n=n()) %>%\n",
    "    ungroup() %>%\n",
    "    complete(Sample.Name = unique(Sample.Name), \n",
    "             tissue.compartment = unique(tissue.compartment), \n",
    "             cell.type = unique(cell.type), \n",
    "             fill = list(n = 0)) %>%    \n",
    "    group_by(Sample.Name, tissue.compartment) %>%\n",
    "    mutate(percent_density = round(n / sum(n) * 100, digits=4)) %>%\n",
    "    select(-n) %>%\n",
    "    pivot_wider(names_from = c(\"tissue.compartment\", \"cell.type\"),\n",
    "               values_from = \"percent_density\") %>%\n",
    "    select(-matches(\"other\")) %>%  select(-matches(\"distal\")) %>%  \n",
    "    select(-matches(\"central\")) %>% select(-matches(\"panck\")) %>%\n",
    "    tibble::column_to_rownames(var = \"Sample.Name\")\n",
    "\n",
    "pdl1.dense.in.out <- df %>% group_by(Sample.Name, tissue.compartment, pdl1.cell) %>% \n",
    "    summarize(n=n()) %>%\n",
    "    ungroup() %>%\n",
    "    complete(Sample.Name = unique(Sample.Name), \n",
    "             tissue.compartment = unique(tissue.compartment), \n",
    "             pdl1.cell = unique(pdl1.cell), \n",
    "             fill = list(n = 0)) %>%    \n",
    "    group_by(Sample.Name, tissue.compartment) %>%\n",
    "    mutate(percent_density = round(n / sum(n) * 100, digits=4)) %>%\n",
    "    select(-n) %>%\n",
    "    pivot_wider(names_from = c(\"tissue.compartment\", \"pdl1.cell\"),\n",
    "               values_from = \"percent_density\") %>%\n",
    "    select(-matches(\"other\")) %>%  select(-matches(\"distal\")) %>%  \n",
    "    select(-matches(\"central\")) %>% select(-matches(\"panck\")) %>%\n",
    "    tibble::column_to_rownames(var = \"Sample.Name\")\n",
    "\n",
    "\n",
    "\n",
    "# # Calculate values for all tumor invasive margin\n",
    "t.dense.all.tiv <- df %>%  group_by(Sample.Name, tissue.compartment, cell.type) %>% \n",
    "    summarize(n=n()) %>%\n",
    "    ungroup() %>%\n",
    "    complete(Sample.Name = unique(Sample.Name), \n",
    "             tissue.compartment = unique(tissue.compartment), \n",
    "             cell.type = unique(cell.type), \n",
    "             fill = list(n = 0)) %>%    \n",
    "    mutate(tissue.all.invasive.margin = case_when(tissue.compartment %in% c('outer.tumor.inv.margin',\n",
    "                                                                         'inner.tumor.inv.margin') ~ \"all.tumor.invasive.margin\",\n",
    "                                                  TRUE ~ \"other\")) %>%\n",
    "    group_by(Sample.Name, tissue.all.invasive.margin, cell.type) %>%\n",
    "    summarize(n=sum(n)) %>%\n",
    "    group_by(Sample.Name, tissue.all.invasive.margin) %>%\n",
    "    mutate(percent_density = round(n / sum(n) * 100, digits=4)) %>%\n",
    "    select(-n) %>%\n",
    "    pivot_wider(names_from = c(\"tissue.all.invasive.margin\", \"cell.type\"),\n",
    "               values_from = \"percent_density\") %>%\n",
    "    select(-matches(\"other\")) %>% select(-matches('panck')) %>%\n",
    "    tibble::column_to_rownames(var = \"Sample.Name\")\n",
    "\n",
    "pdl1.dense.all.tiv <- df %>%  group_by(Sample.Name, tissue.compartment, pdl1.cell) %>% \n",
    "    summarize(n=n()) %>%\n",
    "    ungroup() %>%\n",
    "    complete(Sample.Name = unique(Sample.Name), \n",
    "             tissue.compartment = unique(tissue.compartment), \n",
    "             pdl1.cell = unique(pdl1.cell), \n",
    "             fill = list(n = 0)) %>%    \n",
    "    mutate(tissue.all.invasive.margin = case_when(tissue.compartment %in% c('outer.tumor.inv.margin',\n",
    "                                                                         'inner.tumor.inv.margin') ~ \"all.tumor.invasive.margin\",\n",
    "                                                  TRUE ~ \"other\")) %>%\n",
    "    group_by(Sample.Name, tissue.all.invasive.margin, pdl1.cell) %>%\n",
    "    summarize(n=sum(n)) %>%\n",
    "    group_by(Sample.Name, tissue.all.invasive.margin) %>%\n",
    "    mutate(percent_density = round(n / sum(n) * 100, digits=4))  %>%\n",
    "    select(-n) %>%\n",
    "    pivot_wider(names_from = c(\"tissue.all.invasive.margin\", \"pdl1.cell\"),\n",
    "               values_from = \"percent_density\") %>%\n",
    "    select(-matches(\"other\")) %>% select(-matches('panck')) %>%\n",
    "    tibble::column_to_rownames(var = \"Sample.Name\")\n",
    "\n",
    "\n",
    "examp <- bind_cols(t.dense.all.ts, pdl1.dense.all.ts,\n",
    "                   t.dense.in.out, pdl1.dense.in.out,\n",
    "                   t.dense.all.tiv, pdl1.dense.all.tiv) %>%\n",
    "        rename_with(~paste0(.,'.density'),everything())\n",
    "head(examp)"
   ]
  },
  {
   "cell_type": "markdown",
   "id": "5248dd26-11d9-4ae6-8af2-82652ab49baa",
   "metadata": {},
   "source": [
    "# PDL1 density"
   ]
  },
  {
   "cell_type": "code",
   "execution_count": 82,
   "id": "40ce8035-dfdc-429f-9b16-20e5b35ccbd0",
   "metadata": {
    "tags": []
   },
   "outputs": [
    {
     "data": {
      "text/html": [
       "<style>\n",
       ".list-inline {list-style: none; margin:0; padding: 0}\n",
       ".list-inline>li {display: inline-block}\n",
       ".list-inline>li:not(:last-child)::after {content: \"\\00b7\"; padding: 0 .5ex}\n",
       "</style>\n",
       "<ol class=list-inline><li>'X'</li><li>'Sample.Name'</li><li>'fn'</li><li>'Cell.ID'</li><li>'cell.type'</li><li>'all.tumor.stroma'</li><li>'tissue.compartment'</li><li>'pdl1.expression'</li><li>'pd1.expression'</li><li>'combined.pheno'</li><li>'is.pdl1.cell'</li><li>'is.panck.cell'</li></ol>\n"
      ],
      "text/latex": [
       "\\begin{enumerate*}\n",
       "\\item 'X'\n",
       "\\item 'Sample.Name'\n",
       "\\item 'fn'\n",
       "\\item 'Cell.ID'\n",
       "\\item 'cell.type'\n",
       "\\item 'all.tumor.stroma'\n",
       "\\item 'tissue.compartment'\n",
       "\\item 'pdl1.expression'\n",
       "\\item 'pd1.expression'\n",
       "\\item 'combined.pheno'\n",
       "\\item 'is.pdl1.cell'\n",
       "\\item 'is.panck.cell'\n",
       "\\end{enumerate*}\n"
      ],
      "text/markdown": [
       "1. 'X'\n",
       "2. 'Sample.Name'\n",
       "3. 'fn'\n",
       "4. 'Cell.ID'\n",
       "5. 'cell.type'\n",
       "6. 'all.tumor.stroma'\n",
       "7. 'tissue.compartment'\n",
       "8. 'pdl1.expression'\n",
       "9. 'pd1.expression'\n",
       "10. 'combined.pheno'\n",
       "11. 'is.pdl1.cell'\n",
       "12. 'is.panck.cell'\n",
       "\n",
       "\n"
      ],
      "text/plain": [
       " [1] \"X\"                  \"Sample.Name\"        \"fn\"                \n",
       " [4] \"Cell.ID\"            \"cell.type\"          \"all.tumor.stroma\"  \n",
       " [7] \"tissue.compartment\" \"pdl1.expression\"    \"pd1.expression\"    \n",
       "[10] \"combined.pheno\"     \"is.pdl1.cell\"       \"is.panck.cell\"     "
      ]
     },
     "metadata": {},
     "output_type": "display_data"
    }
   ],
   "source": [
    "colnames(sub)"
   ]
  },
  {
   "cell_type": "code",
   "execution_count": 98,
   "id": "e3224ba4-b690-4bba-bfc8-ecc57325a309",
   "metadata": {
    "tags": []
   },
   "outputs": [
    {
     "name": "stderr",
     "output_type": "stream",
     "text": [
      "\u001b[1m\u001b[22m`summarise()` has grouped output by 'Sample.Name', 'tissue.compartment'. You\n",
      "can override using the `.groups` argument.\n",
      "\u001b[1m\u001b[22m`summarise()` has grouped output by 'Sample.Name',\n",
      "'tissue.all.invasive.margin'. You can override using the `.groups` argument.\n"
     ]
    },
    {
     "data": {
      "text/html": [
       "<table class=\"dataframe\">\n",
       "<caption>A data.frame: 2 × 1</caption>\n",
       "<thead>\n",
       "\t<tr><th></th><th scope=col>all.tumor.invasive.margin_pdl1</th></tr>\n",
       "\t<tr><th></th><th scope=col>&lt;dbl&gt;</th></tr>\n",
       "</thead>\n",
       "<tbody>\n",
       "\t<tr><th scope=row>RACTIH_Scan1.qptiff</th><td> 2.1871</td></tr>\n",
       "\t<tr><th scope=row>RACTKE_Scan1.qptiff</th><td>57.8206</td></tr>\n",
       "</tbody>\n",
       "</table>\n"
      ],
      "text/latex": [
       "A data.frame: 2 × 1\n",
       "\\begin{tabular}{r|l}\n",
       "  & all.tumor.invasive.margin\\_pdl1\\\\\n",
       "  & <dbl>\\\\\n",
       "\\hline\n",
       "\tRACTIH\\_Scan1.qptiff &  2.1871\\\\\n",
       "\tRACTKE\\_Scan1.qptiff & 57.8206\\\\\n",
       "\\end{tabular}\n"
      ],
      "text/markdown": [
       "\n",
       "A data.frame: 2 × 1\n",
       "\n",
       "| <!--/--> | all.tumor.invasive.margin_pdl1 &lt;dbl&gt; |\n",
       "|---|---|\n",
       "| RACTIH_Scan1.qptiff |  2.1871 |\n",
       "| RACTKE_Scan1.qptiff | 57.8206 |\n",
       "\n"
      ],
      "text/plain": [
       "                    all.tumor.invasive.margin_pdl1\n",
       "RACTIH_Scan1.qptiff  2.1871                       \n",
       "RACTKE_Scan1.qptiff 57.8206                       "
      ]
     },
     "metadata": {},
     "output_type": "display_data"
    }
   ],
   "source": [
    "sub %>%  group_by(Sample.Name, tissue.compartment, pdl1.cell) %>% \n",
    "    summarize(n=n()) %>%\n",
    "    ungroup() %>%\n",
    "    complete(Sample.Name = unique(Sample.Name), \n",
    "             tissue.compartment = unique(tissue.compartment), \n",
    "             pdl1.cell = unique(pdl1.cell), \n",
    "             fill = list(n = 0)) %>%    \n",
    "    mutate(tissue.all.invasive.margin = case_when(tissue.compartment %in% c('outer.tumor.inv.margin',\n",
    "                                                                         'inner.tumor.inv.margin') ~ \"all.tumor.invasive.margin\",\n",
    "                                                  TRUE ~ \"other\")) %>%\n",
    "    group_by(Sample.Name, tissue.all.invasive.margin, pdl1.cell) %>%\n",
    "    summarize(n=sum(n)) %>%\n",
    "    group_by(Sample.Name, tissue.all.invasive.margin) %>%\n",
    "    mutate(percent_density = round(n / sum(n) * 100, digits=4))  %>%\n",
    "    select(-n) %>%\n",
    "    pivot_wider(names_from = c(\"tissue.all.invasive.margin\", \"pdl1.cell\"),\n",
    "               values_from = \"percent_density\") %>%\n",
    "    select(-matches(\"other\")) %>% select(-matches('panck')) %>%\n",
    "    tibble::column_to_rownames(var = \"Sample.Name\")"
   ]
  },
  {
   "cell_type": "code",
   "execution_count": 94,
   "id": "fbd8ca7d-15e4-426a-abfc-395f39aa8c37",
   "metadata": {
    "tags": []
   },
   "outputs": [
    {
     "name": "stderr",
     "output_type": "stream",
     "text": [
      "\u001b[1m\u001b[22m`summarise()` has grouped output by 'Sample.Name', 'tissue.compartment'. You\n",
      "can override using the `.groups` argument.\n",
      "\u001b[1m\u001b[22m`summarise()` has grouped output by 'Sample.Name',\n",
      "'tissue.all.invasive.margin'. You can override using the `.groups` argument.\n"
     ]
    },
    {
     "data": {
      "text/html": [
       "<table class=\"dataframe\">\n",
       "<caption>A grouped_df: 16 × 5</caption>\n",
       "<thead>\n",
       "\t<tr><th scope=col>Sample.Name</th><th scope=col>tissue.all.invasive.margin</th><th scope=col>cell.type</th><th scope=col>n</th><th scope=col>percent_density</th></tr>\n",
       "\t<tr><th scope=col>&lt;chr&gt;</th><th scope=col>&lt;chr&gt;</th><th scope=col>&lt;chr&gt;</th><th scope=col>&lt;int&gt;</th><th scope=col>&lt;dbl&gt;</th></tr>\n",
       "</thead>\n",
       "<tbody>\n",
       "\t<tr><td>RACTIH_Scan1.qptiff</td><td>all.tumor.invasive.margin</td><td>cd8.t</td><td>     5</td><td> 0.0122</td></tr>\n",
       "\t<tr><td>RACTIH_Scan1.qptiff</td><td>all.tumor.invasive.margin</td><td>other</td><td> 28220</td><td>68.9621</td></tr>\n",
       "\t<tr><td>RACTIH_Scan1.qptiff</td><td>all.tumor.invasive.margin</td><td>panck</td><td> 12695</td><td>31.0232</td></tr>\n",
       "\t<tr><td>RACTIH_Scan1.qptiff</td><td>all.tumor.invasive.margin</td><td>treg </td><td>     1</td><td> 0.0024</td></tr>\n",
       "\t<tr><td>RACTIH_Scan1.qptiff</td><td>other                    </td><td>cd8.t</td><td>     4</td><td> 0.0273</td></tr>\n",
       "\t<tr><td>RACTIH_Scan1.qptiff</td><td>other                    </td><td>other</td><td> 10253</td><td>69.9482</td></tr>\n",
       "\t<tr><td>RACTIH_Scan1.qptiff</td><td>other                    </td><td>panck</td><td>  4401</td><td>30.0246</td></tr>\n",
       "\t<tr><td>RACTIH_Scan1.qptiff</td><td>other                    </td><td>treg </td><td>     0</td><td> 0.0000</td></tr>\n",
       "\t<tr><td>RACTKE_Scan1.qptiff</td><td>all.tumor.invasive.margin</td><td>cd8.t</td><td>  1814</td><td> 0.3135</td></tr>\n",
       "\t<tr><td>RACTKE_Scan1.qptiff</td><td>all.tumor.invasive.margin</td><td>other</td><td>213502</td><td>36.9003</td></tr>\n",
       "\t<tr><td>RACTKE_Scan1.qptiff</td><td>all.tumor.invasive.margin</td><td>panck</td><td>359030</td><td>62.0525</td></tr>\n",
       "\t<tr><td>RACTKE_Scan1.qptiff</td><td>all.tumor.invasive.margin</td><td>treg </td><td>  4245</td><td> 0.7337</td></tr>\n",
       "\t<tr><td>RACTKE_Scan1.qptiff</td><td>other                    </td><td>cd8.t</td><td>  7221</td><td> 1.3891</td></tr>\n",
       "\t<tr><td>RACTKE_Scan1.qptiff</td><td>other                    </td><td>other</td><td>289798</td><td>55.7482</td></tr>\n",
       "\t<tr><td>RACTKE_Scan1.qptiff</td><td>other                    </td><td>panck</td><td>209402</td><td>40.2825</td></tr>\n",
       "\t<tr><td>RACTKE_Scan1.qptiff</td><td>other                    </td><td>treg </td><td> 13413</td><td> 2.5802</td></tr>\n",
       "</tbody>\n",
       "</table>\n"
      ],
      "text/latex": [
       "A grouped\\_df: 16 × 5\n",
       "\\begin{tabular}{lllll}\n",
       " Sample.Name & tissue.all.invasive.margin & cell.type & n & percent\\_density\\\\\n",
       " <chr> & <chr> & <chr> & <int> & <dbl>\\\\\n",
       "\\hline\n",
       "\t RACTIH\\_Scan1.qptiff & all.tumor.invasive.margin & cd8.t &      5 &  0.0122\\\\\n",
       "\t RACTIH\\_Scan1.qptiff & all.tumor.invasive.margin & other &  28220 & 68.9621\\\\\n",
       "\t RACTIH\\_Scan1.qptiff & all.tumor.invasive.margin & panck &  12695 & 31.0232\\\\\n",
       "\t RACTIH\\_Scan1.qptiff & all.tumor.invasive.margin & treg  &      1 &  0.0024\\\\\n",
       "\t RACTIH\\_Scan1.qptiff & other                     & cd8.t &      4 &  0.0273\\\\\n",
       "\t RACTIH\\_Scan1.qptiff & other                     & other &  10253 & 69.9482\\\\\n",
       "\t RACTIH\\_Scan1.qptiff & other                     & panck &   4401 & 30.0246\\\\\n",
       "\t RACTIH\\_Scan1.qptiff & other                     & treg  &      0 &  0.0000\\\\\n",
       "\t RACTKE\\_Scan1.qptiff & all.tumor.invasive.margin & cd8.t &   1814 &  0.3135\\\\\n",
       "\t RACTKE\\_Scan1.qptiff & all.tumor.invasive.margin & other & 213502 & 36.9003\\\\\n",
       "\t RACTKE\\_Scan1.qptiff & all.tumor.invasive.margin & panck & 359030 & 62.0525\\\\\n",
       "\t RACTKE\\_Scan1.qptiff & all.tumor.invasive.margin & treg  &   4245 &  0.7337\\\\\n",
       "\t RACTKE\\_Scan1.qptiff & other                     & cd8.t &   7221 &  1.3891\\\\\n",
       "\t RACTKE\\_Scan1.qptiff & other                     & other & 289798 & 55.7482\\\\\n",
       "\t RACTKE\\_Scan1.qptiff & other                     & panck & 209402 & 40.2825\\\\\n",
       "\t RACTKE\\_Scan1.qptiff & other                     & treg  &  13413 &  2.5802\\\\\n",
       "\\end{tabular}\n"
      ],
      "text/markdown": [
       "\n",
       "A grouped_df: 16 × 5\n",
       "\n",
       "| Sample.Name &lt;chr&gt; | tissue.all.invasive.margin &lt;chr&gt; | cell.type &lt;chr&gt; | n &lt;int&gt; | percent_density &lt;dbl&gt; |\n",
       "|---|---|---|---|---|\n",
       "| RACTIH_Scan1.qptiff | all.tumor.invasive.margin | cd8.t |      5 |  0.0122 |\n",
       "| RACTIH_Scan1.qptiff | all.tumor.invasive.margin | other |  28220 | 68.9621 |\n",
       "| RACTIH_Scan1.qptiff | all.tumor.invasive.margin | panck |  12695 | 31.0232 |\n",
       "| RACTIH_Scan1.qptiff | all.tumor.invasive.margin | treg  |      1 |  0.0024 |\n",
       "| RACTIH_Scan1.qptiff | other                     | cd8.t |      4 |  0.0273 |\n",
       "| RACTIH_Scan1.qptiff | other                     | other |  10253 | 69.9482 |\n",
       "| RACTIH_Scan1.qptiff | other                     | panck |   4401 | 30.0246 |\n",
       "| RACTIH_Scan1.qptiff | other                     | treg  |      0 |  0.0000 |\n",
       "| RACTKE_Scan1.qptiff | all.tumor.invasive.margin | cd8.t |   1814 |  0.3135 |\n",
       "| RACTKE_Scan1.qptiff | all.tumor.invasive.margin | other | 213502 | 36.9003 |\n",
       "| RACTKE_Scan1.qptiff | all.tumor.invasive.margin | panck | 359030 | 62.0525 |\n",
       "| RACTKE_Scan1.qptiff | all.tumor.invasive.margin | treg  |   4245 |  0.7337 |\n",
       "| RACTKE_Scan1.qptiff | other                     | cd8.t |   7221 |  1.3891 |\n",
       "| RACTKE_Scan1.qptiff | other                     | other | 289798 | 55.7482 |\n",
       "| RACTKE_Scan1.qptiff | other                     | panck | 209402 | 40.2825 |\n",
       "| RACTKE_Scan1.qptiff | other                     | treg  |  13413 |  2.5802 |\n",
       "\n"
      ],
      "text/plain": [
       "   Sample.Name         tissue.all.invasive.margin cell.type n     \n",
       "1  RACTIH_Scan1.qptiff all.tumor.invasive.margin  cd8.t          5\n",
       "2  RACTIH_Scan1.qptiff all.tumor.invasive.margin  other      28220\n",
       "3  RACTIH_Scan1.qptiff all.tumor.invasive.margin  panck      12695\n",
       "4  RACTIH_Scan1.qptiff all.tumor.invasive.margin  treg           1\n",
       "5  RACTIH_Scan1.qptiff other                      cd8.t          4\n",
       "6  RACTIH_Scan1.qptiff other                      other      10253\n",
       "7  RACTIH_Scan1.qptiff other                      panck       4401\n",
       "8  RACTIH_Scan1.qptiff other                      treg           0\n",
       "9  RACTKE_Scan1.qptiff all.tumor.invasive.margin  cd8.t       1814\n",
       "10 RACTKE_Scan1.qptiff all.tumor.invasive.margin  other     213502\n",
       "11 RACTKE_Scan1.qptiff all.tumor.invasive.margin  panck     359030\n",
       "12 RACTKE_Scan1.qptiff all.tumor.invasive.margin  treg        4245\n",
       "13 RACTKE_Scan1.qptiff other                      cd8.t       7221\n",
       "14 RACTKE_Scan1.qptiff other                      other     289798\n",
       "15 RACTKE_Scan1.qptiff other                      panck     209402\n",
       "16 RACTKE_Scan1.qptiff other                      treg       13413\n",
       "   percent_density\n",
       "1   0.0122        \n",
       "2  68.9621        \n",
       "3  31.0232        \n",
       "4   0.0024        \n",
       "5   0.0273        \n",
       "6  69.9482        \n",
       "7  30.0246        \n",
       "8   0.0000        \n",
       "9   0.3135        \n",
       "10 36.9003        \n",
       "11 62.0525        \n",
       "12  0.7337        \n",
       "13  1.3891        \n",
       "14 55.7482        \n",
       "15 40.2825        \n",
       "16  2.5802        "
      ]
     },
     "metadata": {},
     "output_type": "display_data"
    }
   ],
   "source": [
    "sub %>%  group_by(Sample.Name, tissue.compartment, cell.type) %>% \n",
    "    summarize(n=n()) %>%\n",
    "    ungroup() %>%\n",
    "    complete(Sample.Name = unique(Sample.Name), \n",
    "             tissue.compartment = unique(tissue.compartment), \n",
    "             cell.type = unique(cell.type), \n",
    "             fill = list(n = 0)) %>%    \n",
    "    mutate(tissue.all.invasive.margin = case_when(tissue.compartment %in% c('outer.tumor.inv.margin',\n",
    "                                                                         'inner.tumor.inv.margin') ~ \"all.tumor.invasive.margin\",\n",
    "                                                  TRUE ~ \"other\")) %>%\n",
    "    group_by(Sample.Name, tissue.all.invasive.margin, cell.type) %>%\n",
    "    summarize(n=sum(n)) %>%\n",
    "    group_by(Sample.Name, tissue.all.invasive.margin) %>%\n",
    "    mutate(percent_density = round(n / sum(n) * 100, digits=4))# %>%\n",
    "    # select(-n) %>%\n",
    "    # pivot_wider(names_from = c(\"tissue.all.invasive.margin\", \"cell.type\"),\n",
    "    #            values_from = \"percent_density\") %>%\n",
    "    # select(-matches(\"other\")) %>% select(-matches('panck')) %>%\n",
    "    # tibble::column_to_rownames(var = \"Sample.Name\")\n"
   ]
  },
  {
   "cell_type": "code",
   "execution_count": 35,
   "id": "242d51a6-5575-41cd-b48e-f87a8bb58274",
   "metadata": {
    "tags": []
   },
   "outputs": [
    {
     "name": "stderr",
     "output_type": "stream",
     "text": [
      "\u001b[1m\u001b[22m`summarise()` has grouped output by 'am'. You can override using the `.groups`\n",
      "argument.\n"
     ]
    },
    {
     "data": {
      "text/html": [
       "<table class=\"dataframe\">\n",
       "<caption>A tibble: 9 × 3</caption>\n",
       "<thead>\n",
       "\t<tr><th scope=col>am</th><th scope=col>carb</th><th scope=col>n</th></tr>\n",
       "\t<tr><th scope=col>&lt;dbl&gt;</th><th scope=col>&lt;dbl&gt;</th><th scope=col>&lt;int&gt;</th></tr>\n",
       "</thead>\n",
       "<tbody>\n",
       "\t<tr><td>0</td><td>1</td><td>3</td></tr>\n",
       "\t<tr><td>0</td><td>2</td><td>6</td></tr>\n",
       "\t<tr><td>0</td><td>3</td><td>3</td></tr>\n",
       "\t<tr><td>0</td><td>4</td><td>7</td></tr>\n",
       "\t<tr><td>1</td><td>1</td><td>4</td></tr>\n",
       "\t<tr><td>1</td><td>2</td><td>4</td></tr>\n",
       "\t<tr><td>1</td><td>4</td><td>3</td></tr>\n",
       "\t<tr><td>1</td><td>6</td><td>1</td></tr>\n",
       "\t<tr><td>1</td><td>8</td><td>1</td></tr>\n",
       "</tbody>\n",
       "</table>\n"
      ],
      "text/latex": [
       "A tibble: 9 × 3\n",
       "\\begin{tabular}{lll}\n",
       " am & carb & n\\\\\n",
       " <dbl> & <dbl> & <int>\\\\\n",
       "\\hline\n",
       "\t 0 & 1 & 3\\\\\n",
       "\t 0 & 2 & 6\\\\\n",
       "\t 0 & 3 & 3\\\\\n",
       "\t 0 & 4 & 7\\\\\n",
       "\t 1 & 1 & 4\\\\\n",
       "\t 1 & 2 & 4\\\\\n",
       "\t 1 & 4 & 3\\\\\n",
       "\t 1 & 6 & 1\\\\\n",
       "\t 1 & 8 & 1\\\\\n",
       "\\end{tabular}\n"
      ],
      "text/markdown": [
       "\n",
       "A tibble: 9 × 3\n",
       "\n",
       "| am &lt;dbl&gt; | carb &lt;dbl&gt; | n &lt;int&gt; |\n",
       "|---|---|---|\n",
       "| 0 | 1 | 3 |\n",
       "| 0 | 2 | 6 |\n",
       "| 0 | 3 | 3 |\n",
       "| 0 | 4 | 7 |\n",
       "| 1 | 1 | 4 |\n",
       "| 1 | 2 | 4 |\n",
       "| 1 | 4 | 3 |\n",
       "| 1 | 6 | 1 |\n",
       "| 1 | 8 | 1 |\n",
       "\n"
      ],
      "text/plain": [
       "  am carb n\n",
       "1 0  1    3\n",
       "2 0  2    6\n",
       "3 0  3    3\n",
       "4 0  4    7\n",
       "5 1  1    4\n",
       "6 1  2    4\n",
       "7 1  4    3\n",
       "8 1  6    1\n",
       "9 1  8    1"
      ]
     },
     "metadata": {},
     "output_type": "display_data"
    }
   ],
   "source": [
    "mtcars %>%\n",
    "  group_by(am, carb) %>%\n",
    "  summarise(n = n()) %>%\n",
    "  ungroup() %>%\n",
    "  complete(am = unique(am), carb = unique(carb), fill = list(n = 0))"
   ]
  },
  {
   "cell_type": "code",
   "execution_count": 26,
   "id": "614f10d1-be53-4dd3-8f1a-19ed8d464edc",
   "metadata": {
    "tags": []
   },
   "outputs": [
    {
     "name": "stderr",
     "output_type": "stream",
     "text": [
      "\u001b[1m\u001b[22m`summarise()` has grouped output by 'am'. You can override using the `.groups`\n",
      "argument.\n"
     ]
    },
    {
     "data": {
      "text/html": [
       "<table class=\"dataframe\">\n",
       "<caption>A tibble: 12 × 4</caption>\n",
       "<thead>\n",
       "\t<tr><th scope=col>am</th><th scope=col>carb</th><th scope=col>n</th><th scope=col>percent_am</th></tr>\n",
       "\t<tr><th scope=col>&lt;dbl&gt;</th><th scope=col>&lt;dbl&gt;</th><th scope=col>&lt;int&gt;</th><th scope=col>&lt;dbl&gt;</th></tr>\n",
       "</thead>\n",
       "<tbody>\n",
       "\t<tr><td>0</td><td>1</td><td>3</td><td> 9.375</td></tr>\n",
       "\t<tr><td>0</td><td>2</td><td>6</td><td>18.750</td></tr>\n",
       "\t<tr><td>0</td><td>3</td><td>3</td><td> 9.375</td></tr>\n",
       "\t<tr><td>0</td><td>4</td><td>7</td><td>21.875</td></tr>\n",
       "\t<tr><td>0</td><td>6</td><td>0</td><td> 0.000</td></tr>\n",
       "\t<tr><td>0</td><td>8</td><td>0</td><td> 0.000</td></tr>\n",
       "\t<tr><td>1</td><td>1</td><td>4</td><td>12.500</td></tr>\n",
       "\t<tr><td>1</td><td>2</td><td>4</td><td>12.500</td></tr>\n",
       "\t<tr><td>1</td><td>3</td><td>0</td><td> 0.000</td></tr>\n",
       "\t<tr><td>1</td><td>4</td><td>3</td><td> 9.375</td></tr>\n",
       "\t<tr><td>1</td><td>6</td><td>1</td><td> 3.125</td></tr>\n",
       "\t<tr><td>1</td><td>8</td><td>1</td><td> 3.125</td></tr>\n",
       "</tbody>\n",
       "</table>\n"
      ],
      "text/latex": [
       "A tibble: 12 × 4\n",
       "\\begin{tabular}{llll}\n",
       " am & carb & n & percent\\_am\\\\\n",
       " <dbl> & <dbl> & <int> & <dbl>\\\\\n",
       "\\hline\n",
       "\t 0 & 1 & 3 &  9.375\\\\\n",
       "\t 0 & 2 & 6 & 18.750\\\\\n",
       "\t 0 & 3 & 3 &  9.375\\\\\n",
       "\t 0 & 4 & 7 & 21.875\\\\\n",
       "\t 0 & 6 & 0 &  0.000\\\\\n",
       "\t 0 & 8 & 0 &  0.000\\\\\n",
       "\t 1 & 1 & 4 & 12.500\\\\\n",
       "\t 1 & 2 & 4 & 12.500\\\\\n",
       "\t 1 & 3 & 0 &  0.000\\\\\n",
       "\t 1 & 4 & 3 &  9.375\\\\\n",
       "\t 1 & 6 & 1 &  3.125\\\\\n",
       "\t 1 & 8 & 1 &  3.125\\\\\n",
       "\\end{tabular}\n"
      ],
      "text/markdown": [
       "\n",
       "A tibble: 12 × 4\n",
       "\n",
       "| am &lt;dbl&gt; | carb &lt;dbl&gt; | n &lt;int&gt; | percent_am &lt;dbl&gt; |\n",
       "|---|---|---|---|\n",
       "| 0 | 1 | 3 |  9.375 |\n",
       "| 0 | 2 | 6 | 18.750 |\n",
       "| 0 | 3 | 3 |  9.375 |\n",
       "| 0 | 4 | 7 | 21.875 |\n",
       "| 0 | 6 | 0 |  0.000 |\n",
       "| 0 | 8 | 0 |  0.000 |\n",
       "| 1 | 1 | 4 | 12.500 |\n",
       "| 1 | 2 | 4 | 12.500 |\n",
       "| 1 | 3 | 0 |  0.000 |\n",
       "| 1 | 4 | 3 |  9.375 |\n",
       "| 1 | 6 | 1 |  3.125 |\n",
       "| 1 | 8 | 1 |  3.125 |\n",
       "\n"
      ],
      "text/plain": [
       "   am carb n percent_am\n",
       "1  0  1    3  9.375    \n",
       "2  0  2    6 18.750    \n",
       "3  0  3    3  9.375    \n",
       "4  0  4    7 21.875    \n",
       "5  0  6    0  0.000    \n",
       "6  0  8    0  0.000    \n",
       "7  1  1    4 12.500    \n",
       "8  1  2    4 12.500    \n",
       "9  1  3    0  0.000    \n",
       "10 1  4    3  9.375    \n",
       "11 1  6    1  3.125    \n",
       "12 1  8    1  3.125    "
      ]
     },
     "metadata": {},
     "output_type": "display_data"
    }
   ],
   "source": [
    "# Load data\n",
    "data(mtcars)\n",
    "# head(mtcars)\n",
    "\n",
    "mtcars %>%\n",
    "  group_by(am, carb) %>%\n",
    "  summarise(n = n()) %>%\n",
    "  ungroup() %>%\n",
    "  complete(am = unique(am), carb = unique(carb), fill = list(n = 0)) %>%\n",
    "  mutate(percent_am = n / sum(n) * 100)"
   ]
  }
 ],
 "metadata": {
  "kernelspec": {
   "display_name": "R 4 with seurat",
   "language": "R",
   "name": "r_seurat"
  },
  "language_info": {
   "codemirror_mode": "r",
   "file_extension": ".r",
   "mimetype": "text/x-r-source",
   "name": "R",
   "pygments_lexer": "r",
   "version": "4.1.3"
  }
 },
 "nbformat": 4,
 "nbformat_minor": 5
}
