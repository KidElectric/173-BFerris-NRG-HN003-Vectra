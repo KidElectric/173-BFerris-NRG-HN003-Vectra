{
 "cells": [
  {
   "cell_type": "markdown",
   "id": "81e84d96-bfbe-4ced-a159-24eee9ec642d",
   "metadata": {
    "tags": []
   },
   "source": [
    "# Imports"
   ]
  },
  {
   "cell_type": "code",
   "execution_count": 66,
   "id": "227ae43c-0d6e-4288-ba37-9d5ddcd859ab",
   "metadata": {
    "tags": []
   },
   "outputs": [
    {
     "name": "stdout",
     "output_type": "stream",
     "text": [
      "[1] \"Loading libraries\"\n",
      "[1] \"Library load finished\"\n",
      "Time difference of 0.003573895 secs\n",
      "[1] \"/mnt\"\n",
      "[1] \"/mnt/results\"\n"
     ]
    },
    {
     "data": {
      "text/html": [
       "<table class=\"dataframe\">\n",
       "<caption>A data.frame: 6 × 20</caption>\n",
       "<thead>\n",
       "\t<tr><th></th><th scope=col>Sample.Name</th><th scope=col>study_id</th><th scope=col>total_roi</th><th scope=col>n_tumor_segments</th><th scope=col>n_stroma_segments</th><th scope=col>PDL1.panCK.tumor_percent</th><th scope=col>PDL1.panCK.stroma_percent</th><th scope=col>PDL1.panCK.all_percent</th><th scope=col>PDL1.panCKneg.CD3pos.tumor_percent</th><th scope=col>PDL1.panCKneg.CD3pos.stroma_percent</th><th scope=col>PDL1.panCKneg.CD3pos.all_percent</th><th scope=col>PDL1.panCKneg.CD3neg.tumor_percent</th><th scope=col>PDL1.panCKneg.CD3neg.stroma_percent</th><th scope=col>PDL1.panCKneg.CD3neg.all_percent</th><th scope=col>CD3.CD8.Tcell.tumor_percent</th><th scope=col>CD3.CD8.Tcell.stroma_percent</th><th scope=col>CD3.CD8.Tcell.all_percent</th><th scope=col>Treg.tumor_percent</th><th scope=col>Treg.stroma_percent</th><th scope=col>Treg.all_percent</th></tr>\n",
       "\t<tr><th></th><th scope=col>&lt;chr&gt;</th><th scope=col>&lt;chr&gt;</th><th scope=col>&lt;dbl&gt;</th><th scope=col>&lt;dbl&gt;</th><th scope=col>&lt;dbl&gt;</th><th scope=col>&lt;dbl&gt;</th><th scope=col>&lt;dbl&gt;</th><th scope=col>&lt;dbl&gt;</th><th scope=col>&lt;dbl&gt;</th><th scope=col>&lt;dbl&gt;</th><th scope=col>&lt;dbl&gt;</th><th scope=col>&lt;dbl&gt;</th><th scope=col>&lt;dbl&gt;</th><th scope=col>&lt;dbl&gt;</th><th scope=col>&lt;dbl&gt;</th><th scope=col>&lt;dbl&gt;</th><th scope=col>&lt;dbl&gt;</th><th scope=col>&lt;dbl&gt;</th><th scope=col>&lt;dbl&gt;</th><th scope=col>&lt;dbl&gt;</th></tr>\n",
       "</thead>\n",
       "<tbody>\n",
       "\t<tr><th scope=row>1</th><td>RACTIH_Scan1.qptiff</td><td>RACTIH</td><td> 12</td><td> 12</td><td> 12</td><td> 1.581028</td><td> 2.4818933</td><td> 1.932385</td><td>0.002949678</td><td>0.01845274</td><td>0.008996204</td><td>0.4277034</td><td> 2.1220649</td><td>1.0885406</td><td>0.020647749</td><td>0.009226369</td><td>0.01619317</td><td>0.000000000</td><td>0.004613184</td><td>0.001799241</td></tr>\n",
       "\t<tr><th scope=row>2</th><td>RACTKE_Scan1.qptiff</td><td>RACTKE</td><td>285</td><td>285</td><td>285</td><td>68.519584</td><td>35.4576429</td><td>51.416619</td><td>0.049980291</td><td>1.07511932</td><td>0.580285409</td><td>1.1840614</td><td>12.9683078</td><td>7.2800601</td><td>0.055449832</td><td>2.010679038</td><td>1.06689123</td><td>0.092793596</td><td>3.922979994</td><td>2.074151626</td></tr>\n",
       "\t<tr><th scope=row>3</th><td>RACTLH_Scan2.qptiff</td><td>RACTLH</td><td> 59</td><td> 59</td><td> 59</td><td> 8.792360</td><td> 3.9117319</td><td> 6.129775</td><td>0.000000000</td><td>0.02801540</td><td>0.015283563</td><td>0.3746256</td><td> 2.2418837</td><td>1.3932923</td><td>0.003128397</td><td>0.319896799</td><td>0.17593870</td><td>0.004692596</td><td>0.138773968</td><td>0.077839544</td></tr>\n",
       "\t<tr><th scope=row>4</th><td>RACTNY_Scan1.qptiff</td><td>RACTNY</td><td> 27</td><td> 27</td><td> 27</td><td> 3.737032</td><td> 0.8999784</td><td> 2.049500</td><td>0.004234597</td><td>0.02019182</td><td>0.013726247</td><td>0.3917002</td><td> 0.7427706</td><td>0.6005233</td><td>0.406521279</td><td>1.400447105</td><td>0.99772659</td><td>0.175735761</td><td>0.346145525</td><td>0.277098615</td></tr>\n",
       "\t<tr><th scope=row>5</th><td>RACTRF_Scan1.qptiff</td><td>RACTRF</td><td> 10</td><td> 10</td><td> 10</td><td>13.805149</td><td> 1.4236082</td><td> 8.444917</td><td>0.058222280</td><td>0.14405559</td><td>0.095381342</td><td>0.2393583</td><td> 0.7880688</td><td>0.4769067</td><td>0.226419977</td><td>1.559189899</td><td>0.80340438</td><td>2.083063786</td><td>5.363952207</td><td>3.503430060</td></tr>\n",
       "\t<tr><th scope=row>6</th><td>RACTRU_Scan1.qptiff</td><td>RACTRU</td><td> 38</td><td> 38</td><td> 38</td><td>23.019207</td><td> 8.3016812</td><td>11.614162</td><td>0.036987134</td><td>0.47420639</td><td>0.375801253</td><td>1.4504240</td><td> 7.0893089</td><td>5.8201625</td><td>2.079205305</td><td>1.963582790</td><td>1.98960600</td><td>0.198145359</td><td>1.952840251</td><td>1.557910260</td></tr>\n",
       "</tbody>\n",
       "</table>\n"
      ],
      "text/latex": [
       "A data.frame: 6 × 20\n",
       "\\begin{tabular}{r|llllllllllllllllllll}\n",
       "  & Sample.Name & study\\_id & total\\_roi & n\\_tumor\\_segments & n\\_stroma\\_segments & PDL1.panCK.tumor\\_percent & PDL1.panCK.stroma\\_percent & PDL1.panCK.all\\_percent & PDL1.panCKneg.CD3pos.tumor\\_percent & PDL1.panCKneg.CD3pos.stroma\\_percent & PDL1.panCKneg.CD3pos.all\\_percent & PDL1.panCKneg.CD3neg.tumor\\_percent & PDL1.panCKneg.CD3neg.stroma\\_percent & PDL1.panCKneg.CD3neg.all\\_percent & CD3.CD8.Tcell.tumor\\_percent & CD3.CD8.Tcell.stroma\\_percent & CD3.CD8.Tcell.all\\_percent & Treg.tumor\\_percent & Treg.stroma\\_percent & Treg.all\\_percent\\\\\n",
       "  & <chr> & <chr> & <dbl> & <dbl> & <dbl> & <dbl> & <dbl> & <dbl> & <dbl> & <dbl> & <dbl> & <dbl> & <dbl> & <dbl> & <dbl> & <dbl> & <dbl> & <dbl> & <dbl> & <dbl>\\\\\n",
       "\\hline\n",
       "\t1 & RACTIH\\_Scan1.qptiff & RACTIH &  12 &  12 &  12 &  1.581028 &  2.4818933 &  1.932385 & 0.002949678 & 0.01845274 & 0.008996204 & 0.4277034 &  2.1220649 & 1.0885406 & 0.020647749 & 0.009226369 & 0.01619317 & 0.000000000 & 0.004613184 & 0.001799241\\\\\n",
       "\t2 & RACTKE\\_Scan1.qptiff & RACTKE & 285 & 285 & 285 & 68.519584 & 35.4576429 & 51.416619 & 0.049980291 & 1.07511932 & 0.580285409 & 1.1840614 & 12.9683078 & 7.2800601 & 0.055449832 & 2.010679038 & 1.06689123 & 0.092793596 & 3.922979994 & 2.074151626\\\\\n",
       "\t3 & RACTLH\\_Scan2.qptiff & RACTLH &  59 &  59 &  59 &  8.792360 &  3.9117319 &  6.129775 & 0.000000000 & 0.02801540 & 0.015283563 & 0.3746256 &  2.2418837 & 1.3932923 & 0.003128397 & 0.319896799 & 0.17593870 & 0.004692596 & 0.138773968 & 0.077839544\\\\\n",
       "\t4 & RACTNY\\_Scan1.qptiff & RACTNY &  27 &  27 &  27 &  3.737032 &  0.8999784 &  2.049500 & 0.004234597 & 0.02019182 & 0.013726247 & 0.3917002 &  0.7427706 & 0.6005233 & 0.406521279 & 1.400447105 & 0.99772659 & 0.175735761 & 0.346145525 & 0.277098615\\\\\n",
       "\t5 & RACTRF\\_Scan1.qptiff & RACTRF &  10 &  10 &  10 & 13.805149 &  1.4236082 &  8.444917 & 0.058222280 & 0.14405559 & 0.095381342 & 0.2393583 &  0.7880688 & 0.4769067 & 0.226419977 & 1.559189899 & 0.80340438 & 2.083063786 & 5.363952207 & 3.503430060\\\\\n",
       "\t6 & RACTRU\\_Scan1.qptiff & RACTRU &  38 &  38 &  38 & 23.019207 &  8.3016812 & 11.614162 & 0.036987134 & 0.47420639 & 0.375801253 & 1.4504240 &  7.0893089 & 5.8201625 & 2.079205305 & 1.963582790 & 1.98960600 & 0.198145359 & 1.952840251 & 1.557910260\\\\\n",
       "\\end{tabular}\n"
      ],
      "text/markdown": [
       "\n",
       "A data.frame: 6 × 20\n",
       "\n",
       "| <!--/--> | Sample.Name &lt;chr&gt; | study_id &lt;chr&gt; | total_roi &lt;dbl&gt; | n_tumor_segments &lt;dbl&gt; | n_stroma_segments &lt;dbl&gt; | PDL1.panCK.tumor_percent &lt;dbl&gt; | PDL1.panCK.stroma_percent &lt;dbl&gt; | PDL1.panCK.all_percent &lt;dbl&gt; | PDL1.panCKneg.CD3pos.tumor_percent &lt;dbl&gt; | PDL1.panCKneg.CD3pos.stroma_percent &lt;dbl&gt; | PDL1.panCKneg.CD3pos.all_percent &lt;dbl&gt; | PDL1.panCKneg.CD3neg.tumor_percent &lt;dbl&gt; | PDL1.panCKneg.CD3neg.stroma_percent &lt;dbl&gt; | PDL1.panCKneg.CD3neg.all_percent &lt;dbl&gt; | CD3.CD8.Tcell.tumor_percent &lt;dbl&gt; | CD3.CD8.Tcell.stroma_percent &lt;dbl&gt; | CD3.CD8.Tcell.all_percent &lt;dbl&gt; | Treg.tumor_percent &lt;dbl&gt; | Treg.stroma_percent &lt;dbl&gt; | Treg.all_percent &lt;dbl&gt; |\n",
       "|---|---|---|---|---|---|---|---|---|---|---|---|---|---|---|---|---|---|---|---|---|\n",
       "| 1 | RACTIH_Scan1.qptiff | RACTIH |  12 |  12 |  12 |  1.581028 |  2.4818933 |  1.932385 | 0.002949678 | 0.01845274 | 0.008996204 | 0.4277034 |  2.1220649 | 1.0885406 | 0.020647749 | 0.009226369 | 0.01619317 | 0.000000000 | 0.004613184 | 0.001799241 |\n",
       "| 2 | RACTKE_Scan1.qptiff | RACTKE | 285 | 285 | 285 | 68.519584 | 35.4576429 | 51.416619 | 0.049980291 | 1.07511932 | 0.580285409 | 1.1840614 | 12.9683078 | 7.2800601 | 0.055449832 | 2.010679038 | 1.06689123 | 0.092793596 | 3.922979994 | 2.074151626 |\n",
       "| 3 | RACTLH_Scan2.qptiff | RACTLH |  59 |  59 |  59 |  8.792360 |  3.9117319 |  6.129775 | 0.000000000 | 0.02801540 | 0.015283563 | 0.3746256 |  2.2418837 | 1.3932923 | 0.003128397 | 0.319896799 | 0.17593870 | 0.004692596 | 0.138773968 | 0.077839544 |\n",
       "| 4 | RACTNY_Scan1.qptiff | RACTNY |  27 |  27 |  27 |  3.737032 |  0.8999784 |  2.049500 | 0.004234597 | 0.02019182 | 0.013726247 | 0.3917002 |  0.7427706 | 0.6005233 | 0.406521279 | 1.400447105 | 0.99772659 | 0.175735761 | 0.346145525 | 0.277098615 |\n",
       "| 5 | RACTRF_Scan1.qptiff | RACTRF |  10 |  10 |  10 | 13.805149 |  1.4236082 |  8.444917 | 0.058222280 | 0.14405559 | 0.095381342 | 0.2393583 |  0.7880688 | 0.4769067 | 0.226419977 | 1.559189899 | 0.80340438 | 2.083063786 | 5.363952207 | 3.503430060 |\n",
       "| 6 | RACTRU_Scan1.qptiff | RACTRU |  38 |  38 |  38 | 23.019207 |  8.3016812 | 11.614162 | 0.036987134 | 0.47420639 | 0.375801253 | 1.4504240 |  7.0893089 | 5.8201625 | 2.079205305 | 1.963582790 | 1.98960600 | 0.198145359 | 1.952840251 | 1.557910260 |\n",
       "\n"
      ],
      "text/plain": [
       "  Sample.Name         study_id total_roi n_tumor_segments n_stroma_segments\n",
       "1 RACTIH_Scan1.qptiff RACTIH    12        12               12              \n",
       "2 RACTKE_Scan1.qptiff RACTKE   285       285              285              \n",
       "3 RACTLH_Scan2.qptiff RACTLH    59        59               59              \n",
       "4 RACTNY_Scan1.qptiff RACTNY    27        27               27              \n",
       "5 RACTRF_Scan1.qptiff RACTRF    10        10               10              \n",
       "6 RACTRU_Scan1.qptiff RACTRU    38        38               38              \n",
       "  PDL1.panCK.tumor_percent PDL1.panCK.stroma_percent PDL1.panCK.all_percent\n",
       "1  1.581028                 2.4818933                 1.932385             \n",
       "2 68.519584                35.4576429                51.416619             \n",
       "3  8.792360                 3.9117319                 6.129775             \n",
       "4  3.737032                 0.8999784                 2.049500             \n",
       "5 13.805149                 1.4236082                 8.444917             \n",
       "6 23.019207                 8.3016812                11.614162             \n",
       "  PDL1.panCKneg.CD3pos.tumor_percent PDL1.panCKneg.CD3pos.stroma_percent\n",
       "1 0.002949678                        0.01845274                         \n",
       "2 0.049980291                        1.07511932                         \n",
       "3 0.000000000                        0.02801540                         \n",
       "4 0.004234597                        0.02019182                         \n",
       "5 0.058222280                        0.14405559                         \n",
       "6 0.036987134                        0.47420639                         \n",
       "  PDL1.panCKneg.CD3pos.all_percent PDL1.panCKneg.CD3neg.tumor_percent\n",
       "1 0.008996204                      0.4277034                         \n",
       "2 0.580285409                      1.1840614                         \n",
       "3 0.015283563                      0.3746256                         \n",
       "4 0.013726247                      0.3917002                         \n",
       "5 0.095381342                      0.2393583                         \n",
       "6 0.375801253                      1.4504240                         \n",
       "  PDL1.panCKneg.CD3neg.stroma_percent PDL1.panCKneg.CD3neg.all_percent\n",
       "1  2.1220649                          1.0885406                       \n",
       "2 12.9683078                          7.2800601                       \n",
       "3  2.2418837                          1.3932923                       \n",
       "4  0.7427706                          0.6005233                       \n",
       "5  0.7880688                          0.4769067                       \n",
       "6  7.0893089                          5.8201625                       \n",
       "  CD3.CD8.Tcell.tumor_percent CD3.CD8.Tcell.stroma_percent\n",
       "1 0.020647749                 0.009226369                 \n",
       "2 0.055449832                 2.010679038                 \n",
       "3 0.003128397                 0.319896799                 \n",
       "4 0.406521279                 1.400447105                 \n",
       "5 0.226419977                 1.559189899                 \n",
       "6 2.079205305                 1.963582790                 \n",
       "  CD3.CD8.Tcell.all_percent Treg.tumor_percent Treg.stroma_percent\n",
       "1 0.01619317                0.000000000        0.004613184        \n",
       "2 1.06689123                0.092793596        3.922979994        \n",
       "3 0.17593870                0.004692596        0.138773968        \n",
       "4 0.99772659                0.175735761        0.346145525        \n",
       "5 0.80340438                2.083063786        5.363952207        \n",
       "6 1.98960600                0.198145359        1.952840251        \n",
       "  Treg.all_percent\n",
       "1 0.001799241     \n",
       "2 2.074151626     \n",
       "3 0.077839544     \n",
       "4 0.277098615     \n",
       "5 3.503430060     \n",
       "6 1.557910260     "
      ]
     },
     "metadata": {},
     "output_type": "display_data"
    }
   ],
   "source": [
    "print('Loading libraries')\n",
    "start_time <- Sys.time()\n",
    "suppressPackageStartupMessages({\n",
    "    library(data.table)\n",
    "    library(ggplot2)\n",
    "    library(dplyr)\n",
    "    library(stringr)\n",
    "    library(rstatix)\n",
    "    library(tidyr)\n",
    "    library(phenoptr)\n",
    "    }\n",
    ")\n",
    "print('Library load finished')\n",
    "print(Sys.time()-start_time)\n",
    "\n",
    "\n",
    "hpc =  TRUE\n",
    "work_desktop = FALSE\n",
    "work_linux = TRUE\n",
    "singularity = TRUE\n",
    "prj =  \"HCC-CBS-173-Hillman-BFerris-NRG-HN003-Vectra\"\n",
    "if (!hpc){\n",
    "    if (work_desktop){\n",
    "        if (work_linux){\n",
    "            base = paste0('/mnt/d/OneDrive - University of Pittsburgh/Internal_Project_Data_2/' ,prj)\n",
    "        }else{\n",
    "            base =paste0('D:\\\\OneDrive - University of Pittsburgh\\\\Internal_Project_Data_2\\\\', prj)\n",
    "        }\n",
    "    }else{\n",
    "        base = paste0('/home/brian/data/odrive/Internal_Project_Data_2/',prj)\n",
    "    }\n",
    "}else{\n",
    "    if (singularity){\n",
    "        base = '/mnt'\n",
    "    }else{\n",
    "        base = paste0('/ix/rbao/Projects/', prj)\n",
    "    }\n",
    "}\n",
    "print(base)\n",
    "inform.data <- file.path(base,'data','inform_data_exports')\n",
    "results <- file.path(base,'results')\n",
    "print(results)\n",
    "fn <- 'cell_density_34_all_inc_tumor_stroma_20_percent_v1.csv'\n",
    "df <- read.csv(file.path(results,fn))\n",
    "head(df)\n"
   ]
  },
  {
   "cell_type": "code",
   "execution_count": 32,
   "id": "76b40fab-6abd-4b39-a5c4-af63a004509f",
   "metadata": {
    "tags": []
   },
   "outputs": [
    {
     "data": {
      "text/html": [
       "2029"
      ],
      "text/latex": [
       "2029"
      ],
      "text/markdown": [
       "2029"
      ],
      "text/plain": [
       "[1] 2029"
      ]
     },
     "metadata": {},
     "output_type": "display_data"
    },
    {
     "name": "stdout",
     "output_type": "stream",
     "text": [
      "[1] \"RACTKE_Scan1_[12997,52179]_cell_seg_data.txt\"\n"
     ]
    }
   ],
   "source": [
    "fns = list.files(inform.data,pattern = '*cell_seg_data.txt')\n",
    "length(fns)\n",
    "print(fns[100])"
   ]
  },
  {
   "cell_type": "markdown",
   "id": "0efd6ae5-551d-4b90-ba94-18ddedcc9eda",
   "metadata": {},
   "source": [
    "# Load example inForm cell_seg output .txt file:"
   ]
  },
  {
   "cell_type": "code",
   "execution_count": 67,
   "id": "3723aa01-0ff3-410e-8c29-c0c99b662e95",
   "metadata": {
    "tags": []
   },
   "outputs": [],
   "source": [
    "csd <- read.csv(file.path(inform.data,fns[100]),\n",
    "               sep = '\\t',\n",
    "               check.names=FALSE) #check.names=FALSE will prevent replacing spaces with periods"
   ]
  },
  {
   "cell_type": "markdown",
   "id": "7a3d6e79-f38a-48ba-af70-dd37ef03219e",
   "metadata": {},
   "source": [
    "# Reformat the cell_seg to contain new unified Phenotype column"
   ]
  },
  {
   "cell_type": "code",
   "execution_count": 87,
   "id": "520c0a00-6719-4eac-88c0-4e57daec9b6c",
   "metadata": {
    "tags": []
   },
   "outputs": [
    {
     "data": {
      "text/html": [
       "<style>\n",
       ".list-inline {list-style: none; margin:0; padding: 0}\n",
       ".list-inline>li {display: inline-block}\n",
       ".list-inline>li:not(:last-child)::after {content: \"\\00b7\"; padding: 0 .5ex}\n",
       "</style>\n",
       "<ol class=list-inline><li>'Stroma'</li><li>'Tumor'</li><li>'Blank'</li></ol>\n"
      ],
      "text/latex": [
       "\\begin{enumerate*}\n",
       "\\item 'Stroma'\n",
       "\\item 'Tumor'\n",
       "\\item 'Blank'\n",
       "\\end{enumerate*}\n"
      ],
      "text/markdown": [
       "1. 'Stroma'\n",
       "2. 'Tumor'\n",
       "3. 'Blank'\n",
       "\n",
       "\n"
      ],
      "text/plain": [
       "[1] \"Stroma\" \"Tumor\"  \"Blank\" "
      ]
     },
     "metadata": {},
     "output_type": "display_data"
    }
   ],
   "source": [
    "unique(csd[,'Tissue Category'])"
   ]
  },
  {
   "cell_type": "code",
   "execution_count": 90,
   "id": "59b9d336-adbb-4264-b85a-5e1884687e28",
   "metadata": {
    "tags": []
   },
   "outputs": [
    {
     "data": {
      "text/html": [
       "<style>\n",
       ".list-inline {list-style: none; margin:0; padding: 0}\n",
       ".list-inline>li {display: inline-block}\n",
       ".list-inline>li:not(:last-child)::after {content: \"\\00b7\"; padding: 0 .5ex}\n",
       "</style>\n",
       "<ol class=list-inline><li>3765</li><li>218</li></ol>\n"
      ],
      "text/latex": [
       "\\begin{enumerate*}\n",
       "\\item 3765\n",
       "\\item 218\n",
       "\\end{enumerate*}\n"
      ],
      "text/markdown": [
       "1. 3765\n",
       "2. 218\n",
       "\n",
       "\n"
      ],
      "text/plain": [
       "[1] 3765  218"
      ]
     },
     "metadata": {},
     "output_type": "display_data"
    },
    {
     "data": {
      "text/html": [
       "<style>\n",
       ".list-inline {list-style: none; margin:0; padding: 0}\n",
       ".list-inline>li {display: inline-block}\n",
       ".list-inline>li:not(:last-child)::after {content: \"\\00b7\"; padding: 0 .5ex}\n",
       "</style>\n",
       "<ol class=list-inline><li>2939</li><li>218</li></ol>\n"
      ],
      "text/latex": [
       "\\begin{enumerate*}\n",
       "\\item 2939\n",
       "\\item 218\n",
       "\\end{enumerate*}\n"
      ],
      "text/markdown": [
       "1. 2939\n",
       "2. 218\n",
       "\n",
       "\n"
      ],
      "text/plain": [
       "[1] 2939  218"
      ]
     },
     "metadata": {},
     "output_type": "display_data"
    },
    {
     "name": "stdout",
     "output_type": "stream",
     "text": [
      "[1] 2597\n"
     ]
    },
    {
     "data": {
      "text/html": [
       "<table class=\"dataframe\">\n",
       "<caption>A data.frame: 20 × 2</caption>\n",
       "<thead>\n",
       "\t<tr><th scope=col>Phenotype</th><th scope=col>n</th></tr>\n",
       "\t<tr><th scope=col>&lt;chr&gt;</th><th scope=col>&lt;int&gt;</th></tr>\n",
       "</thead>\n",
       "<tbody>\n",
       "\t<tr><td>CD3+             </td><td>  18</td></tr>\n",
       "\t<tr><td>CD3+CD8+         </td><td>   2</td></tr>\n",
       "\t<tr><td>CD3+CD8+PD1+     </td><td>   2</td></tr>\n",
       "\t<tr><td>CD3+FOXP3+       </td><td>  49</td></tr>\n",
       "\t<tr><td>CD3+PD1+         </td><td>  10</td></tr>\n",
       "\t<tr><td>CD3+PD1+FOXP3+   </td><td>   2</td></tr>\n",
       "\t<tr><td>CD8+             </td><td>   1</td></tr>\n",
       "\t<tr><td>CK+              </td><td>1448</td></tr>\n",
       "\t<tr><td>CK+PDL1+         </td><td>1140</td></tr>\n",
       "\t<tr><td>FOXP3+           </td><td>  16</td></tr>\n",
       "\t<tr><td>PD1+FOXP3+       </td><td>   2</td></tr>\n",
       "\t<tr><td>PDL1+            </td><td> 211</td></tr>\n",
       "\t<tr><td>PDL1+CD3+        </td><td>   3</td></tr>\n",
       "\t<tr><td>PDL1+CD3+CD8+    </td><td>   1</td></tr>\n",
       "\t<tr><td>PDL1+CD3+CD8+PD1+</td><td>   2</td></tr>\n",
       "\t<tr><td>PDL1+CD3+FOXP3+  </td><td>  16</td></tr>\n",
       "\t<tr><td>PDL1+CD3+PD1+    </td><td>   1</td></tr>\n",
       "\t<tr><td>PDL1+FOXP3+      </td><td>  11</td></tr>\n",
       "\t<tr><td>PDL1+PD1+        </td><td>   3</td></tr>\n",
       "\t<tr><td>PDL1+PD1+FOXP3+  </td><td>   1</td></tr>\n",
       "</tbody>\n",
       "</table>\n"
      ],
      "text/latex": [
       "A data.frame: 20 × 2\n",
       "\\begin{tabular}{ll}\n",
       " Phenotype & n\\\\\n",
       " <chr> & <int>\\\\\n",
       "\\hline\n",
       "\t CD3+              &   18\\\\\n",
       "\t CD3+CD8+          &    2\\\\\n",
       "\t CD3+CD8+PD1+      &    2\\\\\n",
       "\t CD3+FOXP3+        &   49\\\\\n",
       "\t CD3+PD1+          &   10\\\\\n",
       "\t CD3+PD1+FOXP3+    &    2\\\\\n",
       "\t CD8+              &    1\\\\\n",
       "\t CK+               & 1448\\\\\n",
       "\t CK+PDL1+          & 1140\\\\\n",
       "\t FOXP3+            &   16\\\\\n",
       "\t PD1+FOXP3+        &    2\\\\\n",
       "\t PDL1+             &  211\\\\\n",
       "\t PDL1+CD3+         &    3\\\\\n",
       "\t PDL1+CD3+CD8+     &    1\\\\\n",
       "\t PDL1+CD3+CD8+PD1+ &    2\\\\\n",
       "\t PDL1+CD3+FOXP3+   &   16\\\\\n",
       "\t PDL1+CD3+PD1+     &    1\\\\\n",
       "\t PDL1+FOXP3+       &   11\\\\\n",
       "\t PDL1+PD1+         &    3\\\\\n",
       "\t PDL1+PD1+FOXP3+   &    1\\\\\n",
       "\\end{tabular}\n"
      ],
      "text/markdown": [
       "\n",
       "A data.frame: 20 × 2\n",
       "\n",
       "| Phenotype &lt;chr&gt; | n &lt;int&gt; |\n",
       "|---|---|\n",
       "| CD3+              |   18 |\n",
       "| CD3+CD8+          |    2 |\n",
       "| CD3+CD8+PD1+      |    2 |\n",
       "| CD3+FOXP3+        |   49 |\n",
       "| CD3+PD1+          |   10 |\n",
       "| CD3+PD1+FOXP3+    |    2 |\n",
       "| CD8+              |    1 |\n",
       "| CK+               | 1448 |\n",
       "| CK+PDL1+          | 1140 |\n",
       "| FOXP3+            |   16 |\n",
       "| PD1+FOXP3+        |    2 |\n",
       "| PDL1+             |  211 |\n",
       "| PDL1+CD3+         |    3 |\n",
       "| PDL1+CD3+CD8+     |    1 |\n",
       "| PDL1+CD3+CD8+PD1+ |    2 |\n",
       "| PDL1+CD3+FOXP3+   |   16 |\n",
       "| PDL1+CD3+PD1+     |    1 |\n",
       "| PDL1+FOXP3+       |   11 |\n",
       "| PDL1+PD1+         |    3 |\n",
       "| PDL1+PD1+FOXP3+   |    1 |\n",
       "\n"
      ],
      "text/plain": [
       "   Phenotype         n   \n",
       "1  CD3+                18\n",
       "2  CD3+CD8+             2\n",
       "3  CD3+CD8+PD1+         2\n",
       "4  CD3+FOXP3+          49\n",
       "5  CD3+PD1+            10\n",
       "6  CD3+PD1+FOXP3+       2\n",
       "7  CD8+                 1\n",
       "8  CK+               1448\n",
       "9  CK+PDL1+          1140\n",
       "10 FOXP3+              16\n",
       "11 PD1+FOXP3+           2\n",
       "12 PDL1+              211\n",
       "13 PDL1+CD3+            3\n",
       "14 PDL1+CD3+CD8+        1\n",
       "15 PDL1+CD3+CD8+PD1+    2\n",
       "16 PDL1+CD3+FOXP3+     16\n",
       "17 PDL1+CD3+PD1+        1\n",
       "18 PDL1+FOXP3+         11\n",
       "19 PDL1+PD1+            3\n",
       "20 PDL1+PD1+FOXP3+      1"
      ]
     },
     "metadata": {},
     "output_type": "display_data"
    }
   ],
   "source": [
    "p <- c('Phenotype-CK','Phenotype-PDL1','Phenotype-CD3',\n",
    "       'Phenotype-CD8','Phenotype-PD1','Phenotype-FOXP3')\n",
    "csd$Phenotype <- ''\n",
    "for (pheno in p){\n",
    "    temp = csd[,pheno]\n",
    "    temp[temp=='other'] = ''\n",
    "    csd$Phenotype <- paste0(csd$Phenotype,temp)\n",
    "    }\n",
    "dim(csd)\n",
    "# Remove cells with no labeling:\n",
    "\n",
    "clean.csd <- csd[clean.csd[,'Tissue Category'] != 'Blank',]\n",
    "clean.csd <- clean.csd %>% filter(Phenotype != '')\n",
    "dim(clean.csd)\n",
    "\n",
    "# Remove CK+ cell labeling false alarms:\n",
    "idx.1 <- clean.csd$Phenotype %like% 'CK+'\n",
    "print(sum(idx.1))\n",
    "idx.2 <- !(clean.csd$Phenotype %in% c('CK+','CK+PDL1+','CK+PD1+'))\n",
    "idx <- idx.1 & idx.2\n",
    "clean.csd[idx,'Phenotype'] <- substring(clean.csd[idx,'Phenotype'],\n",
    "                                          first=4,last=nchar(clean.csd$Phenotype[idx]))\n",
    "\n",
    "# Count\n",
    "clean.csd %>% count(Phenotype)"
   ]
  },
  {
   "cell_type": "code",
   "execution_count": 89,
   "id": "5a4b73e4-5250-434c-8180-eb7c9832623e",
   "metadata": {
    "tags": []
   },
   "outputs": [
    {
     "data": {
      "text/html": [
       "<table class=\"dataframe\">\n",
       "<caption>A tibble: 20 × 21</caption>\n",
       "<thead>\n",
       "\t<tr><th scope=col>Phenotype</th><th scope=col>Distance to CD3+</th><th scope=col>Distance to CD3+CD8+</th><th scope=col>Distance to CD3+CD8+PD1+</th><th scope=col>Distance to CD3+FOXP3+</th><th scope=col>Distance to CD3+PD1+</th><th scope=col>Distance to CD3+PD1+FOXP3+</th><th scope=col>Distance to CD8+</th><th scope=col>Distance to CK+</th><th scope=col>Distance to CK+PDL1+</th><th scope=col>⋯</th><th scope=col>Distance to PD1+FOXP3+</th><th scope=col>Distance to PDL1+</th><th scope=col>Distance to PDL1+CD3+</th><th scope=col>Distance to PDL1+CD3+CD8+</th><th scope=col>Distance to PDL1+CD3+CD8+PD1+</th><th scope=col>Distance to PDL1+CD3+FOXP3+</th><th scope=col>Distance to PDL1+CD3+PD1+</th><th scope=col>Distance to PDL1+FOXP3+</th><th scope=col>Distance to PDL1+PD1+</th><th scope=col>Distance to PDL1+PD1+FOXP3+</th></tr>\n",
       "\t<tr><th scope=col>&lt;chr&gt;</th><th scope=col>&lt;dbl&gt;</th><th scope=col>&lt;dbl&gt;</th><th scope=col>&lt;dbl&gt;</th><th scope=col>&lt;dbl&gt;</th><th scope=col>&lt;dbl&gt;</th><th scope=col>&lt;dbl&gt;</th><th scope=col>&lt;dbl&gt;</th><th scope=col>&lt;dbl&gt;</th><th scope=col>&lt;dbl&gt;</th><th scope=col>⋯</th><th scope=col>&lt;dbl&gt;</th><th scope=col>&lt;dbl&gt;</th><th scope=col>&lt;dbl&gt;</th><th scope=col>&lt;dbl&gt;</th><th scope=col>&lt;dbl&gt;</th><th scope=col>&lt;dbl&gt;</th><th scope=col>&lt;dbl&gt;</th><th scope=col>&lt;dbl&gt;</th><th scope=col>&lt;dbl&gt;</th><th scope=col>&lt;dbl&gt;</th></tr>\n",
       "</thead>\n",
       "<tbody>\n",
       "\t<tr><td>CD3+             </td><td> 66.4</td><td>412.5</td><td>232.5</td><td> 47.7</td><td> 94.3</td><td>169.8</td><td>416.0</td><td>34.6</td><td>40.9</td><td>⋯</td><td>248.5</td><td>33.8</td><td>209.1</td><td>542.5</td><td>317.2</td><td> 93.4</td><td>300.1</td><td> 89.7</td><td>491.2</td><td>325.3</td></tr>\n",
       "\t<tr><td>CD3+CD8+         </td><td> 53.0</td><td>194.1</td><td>614.8</td><td> 17.3</td><td> 23.6</td><td>496.7</td><td>603.0</td><td>65.2</td><td>95.1</td><td>⋯</td><td>506.5</td><td>32.8</td><td>101.7</td><td> 99.3</td><td>137.4</td><td>140.1</td><td>655.5</td><td> 31.3</td><td> 94.3</td><td>390.8</td></tr>\n",
       "\t<tr><td>CD3+CD8+PD1+     </td><td>109.1</td><td>564.4</td><td>452.1</td><td> 80.3</td><td> 96.0</td><td>116.5</td><td>418.9</td><td>25.2</td><td>19.3</td><td>⋯</td><td>215.4</td><td>25.1</td><td>226.8</td><td>702.3</td><td>411.2</td><td> 76.7</td><td>234.2</td><td>124.4</td><td>643.8</td><td>374.0</td></tr>\n",
       "\t<tr><td>CD3+FOXP3+       </td><td> 61.7</td><td>287.0</td><td>341.0</td><td> 35.4</td><td> 72.8</td><td>260.1</td><td>461.8</td><td>43.1</td><td>53.5</td><td>⋯</td><td>310.7</td><td>25.7</td><td>184.4</td><td>407.5</td><td>248.6</td><td> 84.5</td><td>409.0</td><td> 74.6</td><td>357.8</td><td>335.6</td></tr>\n",
       "\t<tr><td>CD3+PD1+         </td><td> 82.2</td><td>352.1</td><td>335.1</td><td> 34.1</td><td> 95.4</td><td>274.1</td><td>459.4</td><td>32.9</td><td>52.7</td><td>⋯</td><td>331.3</td><td>22.4</td><td>170.0</td><td>457.7</td><td>291.5</td><td>126.4</td><td>380.3</td><td> 89.2</td><td>408.2</td><td>371.6</td></tr>\n",
       "\t<tr><td>CD3+PD1+FOXP3+   </td><td> 12.2</td><td>459.2</td><td>116.5</td><td> 16.9</td><td> 27.5</td><td>298.9</td><td>385.3</td><td>44.0</td><td>52.1</td><td>⋯</td><td>176.9</td><td>17.3</td><td>197.7</td><td>600.8</td><td>331.5</td><td> 29.6</td><td>203.1</td><td> 81.6</td><td>540.8</td><td>277.8</td></tr>\n",
       "\t<tr><td>CD8+             </td><td>147.3</td><td>582.7</td><td>209.6</td><td> 92.5</td><td> 82.6</td><td>247.5</td><td>   NA</td><td> 7.3</td><td> 6.1</td><td>⋯</td><td>182.4</td><td>12.1</td><td>506.2</td><td>629.3</td><td>538.5</td><td>178.6</td><td>391.1</td><td>176.2</td><td>582.5</td><td>592.9</td></tr>\n",
       "\t<tr><td>CK+              </td><td>132.7</td><td>375.9</td><td>374.2</td><td>104.9</td><td>178.6</td><td>322.1</td><td>529.7</td><td> 9.6</td><td>21.8</td><td>⋯</td><td>393.5</td><td>54.9</td><td>240.5</td><td>477.5</td><td>306.9</td><td>177.6</td><td>448.9</td><td>164.8</td><td>436.8</td><td>367.8</td></tr>\n",
       "\t<tr><td>CK+PDL1+         </td><td>133.2</td><td>396.2</td><td>291.3</td><td>107.5</td><td>160.3</td><td>250.8</td><td>443.7</td><td>19.0</td><td> 9.6</td><td>⋯</td><td>308.7</td><td>54.5</td><td>232.2</td><td>507.9</td><td>308.3</td><td>170.4</td><td>378.3</td><td>148.7</td><td>458.6</td><td>337.9</td></tr>\n",
       "\t<tr><td>FOXP3+           </td><td> 72.0</td><td>198.2</td><td>439.8</td><td> 27.3</td><td> 91.7</td><td>347.4</td><td>554.8</td><td>46.3</td><td>66.8</td><td>⋯</td><td>405.2</td><td>31.8</td><td>160.6</td><td>322.3</td><td>187.5</td><td> 91.6</td><td>500.1</td><td> 74.9</td><td>280.1</td><td>326.4</td></tr>\n",
       "\t<tr><td>PD1+FOXP3+       </td><td> 39.6</td><td>506.1</td><td> 84.5</td><td> 14.3</td><td> 64.1</td><td> 73.0</td><td>208.9</td><td>44.7</td><td>47.9</td><td>⋯</td><td>113.7</td><td>20.8</td><td>307.6</td><td>608.4</td><td>456.0</td><td> 60.7</td><td>205.9</td><td> 78.6</td><td>550.6</td><td>427.6</td></tr>\n",
       "\t<tr><td>PDL1+            </td><td> 84.2</td><td>342.3</td><td>317.6</td><td> 58.8</td><td>117.1</td><td>251.1</td><td>514.5</td><td>29.5</td><td>31.3</td><td>⋯</td><td>356.1</td><td>16.6</td><td>166.6</td><td>465.3</td><td>250.0</td><td>112.5</td><td>399.8</td><td> 90.8</td><td>419.4</td><td>292.1</td></tr>\n",
       "\t<tr><td>PDL1+CD3+        </td><td>111.5</td><td>291.9</td><td>342.1</td><td> 36.9</td><td> 85.8</td><td>265.6</td><td>541.6</td><td>30.7</td><td>22.9</td><td>⋯</td><td>368.8</td><td>12.9</td><td>315.6</td><td>402.4</td><td>202.8</td><td>102.7</td><td>392.4</td><td> 48.6</td><td>346.1</td><td>255.6</td></tr>\n",
       "\t<tr><td>PDL1+CD3+CD8+    </td><td>103.9</td><td> 19.1</td><td>686.5</td><td> 23.1</td><td> 26.3</td><td>576.6</td><td>629.3</td><td>53.5</td><td>79.1</td><td>⋯</td><td>560.2</td><td>11.1</td><td> 59.9</td><td>   NA</td><td>212.4</td><td>222.7</td><td>723.0</td><td> 35.0</td><td> 52.9</td><td>473.5</td></tr>\n",
       "\t<tr><td>PDL1+CD3+CD8+PD1+</td><td> 54.4</td><td>174.4</td><td>396.4</td><td> 17.2</td><td>132.8</td><td>283.5</td><td>594.4</td><td>28.0</td><td>48.1</td><td>⋯</td><td>417.5</td><td> 5.6</td><td>135.4</td><td>344.8</td><td>277.2</td><td> 41.0</td><td>493.3</td><td> 61.8</td><td>289.1</td><td>162.5</td></tr>\n",
       "\t<tr><td>PDL1+CD3+FOXP3+  </td><td> 37.0</td><td>266.2</td><td>298.0</td><td> 31.1</td><td>110.5</td><td>201.5</td><td>539.9</td><td>37.9</td><td>43.6</td><td>⋯</td><td>347.4</td><td>15.1</td><td>152.0</td><td>433.5</td><td>161.3</td><td> 36.5</td><td>408.8</td><td> 49.1</td><td>378.6</td><td>177.5</td></tr>\n",
       "\t<tr><td>PDL1+CD3+PD1+    </td><td> 71.7</td><td>583.3</td><td>188.1</td><td>117.9</td><td>118.6</td><td>152.2</td><td>391.1</td><td>11.2</td><td>10.3</td><td>⋯</td><td>202.4</td><td>67.2</td><td>149.6</td><td>723.0</td><td>452.9</td><td>162.4</td><td>   NA</td><td>148.0</td><td>661.3</td><td>396.2</td></tr>\n",
       "\t<tr><td>PDL1+FOXP3+      </td><td> 56.4</td><td>271.8</td><td>321.7</td><td> 30.0</td><td> 84.7</td><td>234.3</td><td>476.2</td><td>30.2</td><td>39.2</td><td>⋯</td><td>315.3</td><td>19.9</td><td>148.6</td><td>409.1</td><td>197.6</td><td> 69.5</td><td>384.9</td><td> 71.5</td><td>357.4</td><td>270.8</td></tr>\n",
       "\t<tr><td>PDL1+PD1+        </td><td>139.8</td><td> 67.6</td><td>633.4</td><td> 19.0</td><td> 13.4</td><td>519.4</td><td>586.5</td><td>27.2</td><td>41.6</td><td>⋯</td><td>505.5</td><td> 8.4</td><td> 13.5</td><td> 58.3</td><td>156.9</td><td>172.1</td><td>665.4</td><td> 50.0</td><td>  6.5</td><td>420.3</td></tr>\n",
       "\t<tr><td>PDL1+PD1+FOXP3+  </td><td> 25.0</td><td>294.6</td><td>257.9</td><td> 59.5</td><td>161.0</td><td>150.2</td><td>592.9</td><td>44.9</td><td>41.4</td><td>⋯</td><td>373.9</td><td> 6.1</td><td> 52.1</td><td>473.5</td><td> 60.5</td><td> 12.7</td><td>396.2</td><td> 50.6</td><td>417.5</td><td>   NA</td></tr>\n",
       "</tbody>\n",
       "</table>\n"
      ],
      "text/latex": [
       "A tibble: 20 × 21\n",
       "\\begin{tabular}{lllllllllllllllllllll}\n",
       " Phenotype & Distance to CD3+ & Distance to CD3+CD8+ & Distance to CD3+CD8+PD1+ & Distance to CD3+FOXP3+ & Distance to CD3+PD1+ & Distance to CD3+PD1+FOXP3+ & Distance to CD8+ & Distance to CK+ & Distance to CK+PDL1+ & ⋯ & Distance to PD1+FOXP3+ & Distance to PDL1+ & Distance to PDL1+CD3+ & Distance to PDL1+CD3+CD8+ & Distance to PDL1+CD3+CD8+PD1+ & Distance to PDL1+CD3+FOXP3+ & Distance to PDL1+CD3+PD1+ & Distance to PDL1+FOXP3+ & Distance to PDL1+PD1+ & Distance to PDL1+PD1+FOXP3+\\\\\n",
       " <chr> & <dbl> & <dbl> & <dbl> & <dbl> & <dbl> & <dbl> & <dbl> & <dbl> & <dbl> & ⋯ & <dbl> & <dbl> & <dbl> & <dbl> & <dbl> & <dbl> & <dbl> & <dbl> & <dbl> & <dbl>\\\\\n",
       "\\hline\n",
       "\t CD3+              &  66.4 & 412.5 & 232.5 &  47.7 &  94.3 & 169.8 & 416.0 & 34.6 & 40.9 & ⋯ & 248.5 & 33.8 & 209.1 & 542.5 & 317.2 &  93.4 & 300.1 &  89.7 & 491.2 & 325.3\\\\\n",
       "\t CD3+CD8+          &  53.0 & 194.1 & 614.8 &  17.3 &  23.6 & 496.7 & 603.0 & 65.2 & 95.1 & ⋯ & 506.5 & 32.8 & 101.7 &  99.3 & 137.4 & 140.1 & 655.5 &  31.3 &  94.3 & 390.8\\\\\n",
       "\t CD3+CD8+PD1+      & 109.1 & 564.4 & 452.1 &  80.3 &  96.0 & 116.5 & 418.9 & 25.2 & 19.3 & ⋯ & 215.4 & 25.1 & 226.8 & 702.3 & 411.2 &  76.7 & 234.2 & 124.4 & 643.8 & 374.0\\\\\n",
       "\t CD3+FOXP3+        &  61.7 & 287.0 & 341.0 &  35.4 &  72.8 & 260.1 & 461.8 & 43.1 & 53.5 & ⋯ & 310.7 & 25.7 & 184.4 & 407.5 & 248.6 &  84.5 & 409.0 &  74.6 & 357.8 & 335.6\\\\\n",
       "\t CD3+PD1+          &  82.2 & 352.1 & 335.1 &  34.1 &  95.4 & 274.1 & 459.4 & 32.9 & 52.7 & ⋯ & 331.3 & 22.4 & 170.0 & 457.7 & 291.5 & 126.4 & 380.3 &  89.2 & 408.2 & 371.6\\\\\n",
       "\t CD3+PD1+FOXP3+    &  12.2 & 459.2 & 116.5 &  16.9 &  27.5 & 298.9 & 385.3 & 44.0 & 52.1 & ⋯ & 176.9 & 17.3 & 197.7 & 600.8 & 331.5 &  29.6 & 203.1 &  81.6 & 540.8 & 277.8\\\\\n",
       "\t CD8+              & 147.3 & 582.7 & 209.6 &  92.5 &  82.6 & 247.5 &    NA &  7.3 &  6.1 & ⋯ & 182.4 & 12.1 & 506.2 & 629.3 & 538.5 & 178.6 & 391.1 & 176.2 & 582.5 & 592.9\\\\\n",
       "\t CK+               & 132.7 & 375.9 & 374.2 & 104.9 & 178.6 & 322.1 & 529.7 &  9.6 & 21.8 & ⋯ & 393.5 & 54.9 & 240.5 & 477.5 & 306.9 & 177.6 & 448.9 & 164.8 & 436.8 & 367.8\\\\\n",
       "\t CK+PDL1+          & 133.2 & 396.2 & 291.3 & 107.5 & 160.3 & 250.8 & 443.7 & 19.0 &  9.6 & ⋯ & 308.7 & 54.5 & 232.2 & 507.9 & 308.3 & 170.4 & 378.3 & 148.7 & 458.6 & 337.9\\\\\n",
       "\t FOXP3+            &  72.0 & 198.2 & 439.8 &  27.3 &  91.7 & 347.4 & 554.8 & 46.3 & 66.8 & ⋯ & 405.2 & 31.8 & 160.6 & 322.3 & 187.5 &  91.6 & 500.1 &  74.9 & 280.1 & 326.4\\\\\n",
       "\t PD1+FOXP3+        &  39.6 & 506.1 &  84.5 &  14.3 &  64.1 &  73.0 & 208.9 & 44.7 & 47.9 & ⋯ & 113.7 & 20.8 & 307.6 & 608.4 & 456.0 &  60.7 & 205.9 &  78.6 & 550.6 & 427.6\\\\\n",
       "\t PDL1+             &  84.2 & 342.3 & 317.6 &  58.8 & 117.1 & 251.1 & 514.5 & 29.5 & 31.3 & ⋯ & 356.1 & 16.6 & 166.6 & 465.3 & 250.0 & 112.5 & 399.8 &  90.8 & 419.4 & 292.1\\\\\n",
       "\t PDL1+CD3+         & 111.5 & 291.9 & 342.1 &  36.9 &  85.8 & 265.6 & 541.6 & 30.7 & 22.9 & ⋯ & 368.8 & 12.9 & 315.6 & 402.4 & 202.8 & 102.7 & 392.4 &  48.6 & 346.1 & 255.6\\\\\n",
       "\t PDL1+CD3+CD8+     & 103.9 &  19.1 & 686.5 &  23.1 &  26.3 & 576.6 & 629.3 & 53.5 & 79.1 & ⋯ & 560.2 & 11.1 &  59.9 &    NA & 212.4 & 222.7 & 723.0 &  35.0 &  52.9 & 473.5\\\\\n",
       "\t PDL1+CD3+CD8+PD1+ &  54.4 & 174.4 & 396.4 &  17.2 & 132.8 & 283.5 & 594.4 & 28.0 & 48.1 & ⋯ & 417.5 &  5.6 & 135.4 & 344.8 & 277.2 &  41.0 & 493.3 &  61.8 & 289.1 & 162.5\\\\\n",
       "\t PDL1+CD3+FOXP3+   &  37.0 & 266.2 & 298.0 &  31.1 & 110.5 & 201.5 & 539.9 & 37.9 & 43.6 & ⋯ & 347.4 & 15.1 & 152.0 & 433.5 & 161.3 &  36.5 & 408.8 &  49.1 & 378.6 & 177.5\\\\\n",
       "\t PDL1+CD3+PD1+     &  71.7 & 583.3 & 188.1 & 117.9 & 118.6 & 152.2 & 391.1 & 11.2 & 10.3 & ⋯ & 202.4 & 67.2 & 149.6 & 723.0 & 452.9 & 162.4 &    NA & 148.0 & 661.3 & 396.2\\\\\n",
       "\t PDL1+FOXP3+       &  56.4 & 271.8 & 321.7 &  30.0 &  84.7 & 234.3 & 476.2 & 30.2 & 39.2 & ⋯ & 315.3 & 19.9 & 148.6 & 409.1 & 197.6 &  69.5 & 384.9 &  71.5 & 357.4 & 270.8\\\\\n",
       "\t PDL1+PD1+         & 139.8 &  67.6 & 633.4 &  19.0 &  13.4 & 519.4 & 586.5 & 27.2 & 41.6 & ⋯ & 505.5 &  8.4 &  13.5 &  58.3 & 156.9 & 172.1 & 665.4 &  50.0 &   6.5 & 420.3\\\\\n",
       "\t PDL1+PD1+FOXP3+   &  25.0 & 294.6 & 257.9 &  59.5 & 161.0 & 150.2 & 592.9 & 44.9 & 41.4 & ⋯ & 373.9 &  6.1 &  52.1 & 473.5 &  60.5 &  12.7 & 396.2 &  50.6 & 417.5 &    NA\\\\\n",
       "\\end{tabular}\n"
      ],
      "text/markdown": [
       "\n",
       "A tibble: 20 × 21\n",
       "\n",
       "| Phenotype &lt;chr&gt; | Distance to CD3+ &lt;dbl&gt; | Distance to CD3+CD8+ &lt;dbl&gt; | Distance to CD3+CD8+PD1+ &lt;dbl&gt; | Distance to CD3+FOXP3+ &lt;dbl&gt; | Distance to CD3+PD1+ &lt;dbl&gt; | Distance to CD3+PD1+FOXP3+ &lt;dbl&gt; | Distance to CD8+ &lt;dbl&gt; | Distance to CK+ &lt;dbl&gt; | Distance to CK+PDL1+ &lt;dbl&gt; | ⋯ ⋯ | Distance to PD1+FOXP3+ &lt;dbl&gt; | Distance to PDL1+ &lt;dbl&gt; | Distance to PDL1+CD3+ &lt;dbl&gt; | Distance to PDL1+CD3+CD8+ &lt;dbl&gt; | Distance to PDL1+CD3+CD8+PD1+ &lt;dbl&gt; | Distance to PDL1+CD3+FOXP3+ &lt;dbl&gt; | Distance to PDL1+CD3+PD1+ &lt;dbl&gt; | Distance to PDL1+FOXP3+ &lt;dbl&gt; | Distance to PDL1+PD1+ &lt;dbl&gt; | Distance to PDL1+PD1+FOXP3+ &lt;dbl&gt; |\n",
       "|---|---|---|---|---|---|---|---|---|---|---|---|---|---|---|---|---|---|---|---|---|\n",
       "| CD3+              |  66.4 | 412.5 | 232.5 |  47.7 |  94.3 | 169.8 | 416.0 | 34.6 | 40.9 | ⋯ | 248.5 | 33.8 | 209.1 | 542.5 | 317.2 |  93.4 | 300.1 |  89.7 | 491.2 | 325.3 |\n",
       "| CD3+CD8+          |  53.0 | 194.1 | 614.8 |  17.3 |  23.6 | 496.7 | 603.0 | 65.2 | 95.1 | ⋯ | 506.5 | 32.8 | 101.7 |  99.3 | 137.4 | 140.1 | 655.5 |  31.3 |  94.3 | 390.8 |\n",
       "| CD3+CD8+PD1+      | 109.1 | 564.4 | 452.1 |  80.3 |  96.0 | 116.5 | 418.9 | 25.2 | 19.3 | ⋯ | 215.4 | 25.1 | 226.8 | 702.3 | 411.2 |  76.7 | 234.2 | 124.4 | 643.8 | 374.0 |\n",
       "| CD3+FOXP3+        |  61.7 | 287.0 | 341.0 |  35.4 |  72.8 | 260.1 | 461.8 | 43.1 | 53.5 | ⋯ | 310.7 | 25.7 | 184.4 | 407.5 | 248.6 |  84.5 | 409.0 |  74.6 | 357.8 | 335.6 |\n",
       "| CD3+PD1+          |  82.2 | 352.1 | 335.1 |  34.1 |  95.4 | 274.1 | 459.4 | 32.9 | 52.7 | ⋯ | 331.3 | 22.4 | 170.0 | 457.7 | 291.5 | 126.4 | 380.3 |  89.2 | 408.2 | 371.6 |\n",
       "| CD3+PD1+FOXP3+    |  12.2 | 459.2 | 116.5 |  16.9 |  27.5 | 298.9 | 385.3 | 44.0 | 52.1 | ⋯ | 176.9 | 17.3 | 197.7 | 600.8 | 331.5 |  29.6 | 203.1 |  81.6 | 540.8 | 277.8 |\n",
       "| CD8+              | 147.3 | 582.7 | 209.6 |  92.5 |  82.6 | 247.5 |    NA |  7.3 |  6.1 | ⋯ | 182.4 | 12.1 | 506.2 | 629.3 | 538.5 | 178.6 | 391.1 | 176.2 | 582.5 | 592.9 |\n",
       "| CK+               | 132.7 | 375.9 | 374.2 | 104.9 | 178.6 | 322.1 | 529.7 |  9.6 | 21.8 | ⋯ | 393.5 | 54.9 | 240.5 | 477.5 | 306.9 | 177.6 | 448.9 | 164.8 | 436.8 | 367.8 |\n",
       "| CK+PDL1+          | 133.2 | 396.2 | 291.3 | 107.5 | 160.3 | 250.8 | 443.7 | 19.0 |  9.6 | ⋯ | 308.7 | 54.5 | 232.2 | 507.9 | 308.3 | 170.4 | 378.3 | 148.7 | 458.6 | 337.9 |\n",
       "| FOXP3+            |  72.0 | 198.2 | 439.8 |  27.3 |  91.7 | 347.4 | 554.8 | 46.3 | 66.8 | ⋯ | 405.2 | 31.8 | 160.6 | 322.3 | 187.5 |  91.6 | 500.1 |  74.9 | 280.1 | 326.4 |\n",
       "| PD1+FOXP3+        |  39.6 | 506.1 |  84.5 |  14.3 |  64.1 |  73.0 | 208.9 | 44.7 | 47.9 | ⋯ | 113.7 | 20.8 | 307.6 | 608.4 | 456.0 |  60.7 | 205.9 |  78.6 | 550.6 | 427.6 |\n",
       "| PDL1+             |  84.2 | 342.3 | 317.6 |  58.8 | 117.1 | 251.1 | 514.5 | 29.5 | 31.3 | ⋯ | 356.1 | 16.6 | 166.6 | 465.3 | 250.0 | 112.5 | 399.8 |  90.8 | 419.4 | 292.1 |\n",
       "| PDL1+CD3+         | 111.5 | 291.9 | 342.1 |  36.9 |  85.8 | 265.6 | 541.6 | 30.7 | 22.9 | ⋯ | 368.8 | 12.9 | 315.6 | 402.4 | 202.8 | 102.7 | 392.4 |  48.6 | 346.1 | 255.6 |\n",
       "| PDL1+CD3+CD8+     | 103.9 |  19.1 | 686.5 |  23.1 |  26.3 | 576.6 | 629.3 | 53.5 | 79.1 | ⋯ | 560.2 | 11.1 |  59.9 |    NA | 212.4 | 222.7 | 723.0 |  35.0 |  52.9 | 473.5 |\n",
       "| PDL1+CD3+CD8+PD1+ |  54.4 | 174.4 | 396.4 |  17.2 | 132.8 | 283.5 | 594.4 | 28.0 | 48.1 | ⋯ | 417.5 |  5.6 | 135.4 | 344.8 | 277.2 |  41.0 | 493.3 |  61.8 | 289.1 | 162.5 |\n",
       "| PDL1+CD3+FOXP3+   |  37.0 | 266.2 | 298.0 |  31.1 | 110.5 | 201.5 | 539.9 | 37.9 | 43.6 | ⋯ | 347.4 | 15.1 | 152.0 | 433.5 | 161.3 |  36.5 | 408.8 |  49.1 | 378.6 | 177.5 |\n",
       "| PDL1+CD3+PD1+     |  71.7 | 583.3 | 188.1 | 117.9 | 118.6 | 152.2 | 391.1 | 11.2 | 10.3 | ⋯ | 202.4 | 67.2 | 149.6 | 723.0 | 452.9 | 162.4 |    NA | 148.0 | 661.3 | 396.2 |\n",
       "| PDL1+FOXP3+       |  56.4 | 271.8 | 321.7 |  30.0 |  84.7 | 234.3 | 476.2 | 30.2 | 39.2 | ⋯ | 315.3 | 19.9 | 148.6 | 409.1 | 197.6 |  69.5 | 384.9 |  71.5 | 357.4 | 270.8 |\n",
       "| PDL1+PD1+         | 139.8 |  67.6 | 633.4 |  19.0 |  13.4 | 519.4 | 586.5 | 27.2 | 41.6 | ⋯ | 505.5 |  8.4 |  13.5 |  58.3 | 156.9 | 172.1 | 665.4 |  50.0 |   6.5 | 420.3 |\n",
       "| PDL1+PD1+FOXP3+   |  25.0 | 294.6 | 257.9 |  59.5 | 161.0 | 150.2 | 592.9 | 44.9 | 41.4 | ⋯ | 373.9 |  6.1 |  52.1 | 473.5 |  60.5 |  12.7 | 396.2 |  50.6 | 417.5 |    NA |\n",
       "\n"
      ],
      "text/plain": [
       "   Phenotype         Distance to CD3+ Distance to CD3+CD8+\n",
       "1  CD3+               66.4            412.5               \n",
       "2  CD3+CD8+           53.0            194.1               \n",
       "3  CD3+CD8+PD1+      109.1            564.4               \n",
       "4  CD3+FOXP3+         61.7            287.0               \n",
       "5  CD3+PD1+           82.2            352.1               \n",
       "6  CD3+PD1+FOXP3+     12.2            459.2               \n",
       "7  CD8+              147.3            582.7               \n",
       "8  CK+               132.7            375.9               \n",
       "9  CK+PDL1+          133.2            396.2               \n",
       "10 FOXP3+             72.0            198.2               \n",
       "11 PD1+FOXP3+         39.6            506.1               \n",
       "12 PDL1+              84.2            342.3               \n",
       "13 PDL1+CD3+         111.5            291.9               \n",
       "14 PDL1+CD3+CD8+     103.9             19.1               \n",
       "15 PDL1+CD3+CD8+PD1+  54.4            174.4               \n",
       "16 PDL1+CD3+FOXP3+    37.0            266.2               \n",
       "17 PDL1+CD3+PD1+      71.7            583.3               \n",
       "18 PDL1+FOXP3+        56.4            271.8               \n",
       "19 PDL1+PD1+         139.8             67.6               \n",
       "20 PDL1+PD1+FOXP3+    25.0            294.6               \n",
       "   Distance to CD3+CD8+PD1+ Distance to CD3+FOXP3+ Distance to CD3+PD1+\n",
       "1  232.5                     47.7                   94.3               \n",
       "2  614.8                     17.3                   23.6               \n",
       "3  452.1                     80.3                   96.0               \n",
       "4  341.0                     35.4                   72.8               \n",
       "5  335.1                     34.1                   95.4               \n",
       "6  116.5                     16.9                   27.5               \n",
       "7  209.6                     92.5                   82.6               \n",
       "8  374.2                    104.9                  178.6               \n",
       "9  291.3                    107.5                  160.3               \n",
       "10 439.8                     27.3                   91.7               \n",
       "11  84.5                     14.3                   64.1               \n",
       "12 317.6                     58.8                  117.1               \n",
       "13 342.1                     36.9                   85.8               \n",
       "14 686.5                     23.1                   26.3               \n",
       "15 396.4                     17.2                  132.8               \n",
       "16 298.0                     31.1                  110.5               \n",
       "17 188.1                    117.9                  118.6               \n",
       "18 321.7                     30.0                   84.7               \n",
       "19 633.4                     19.0                   13.4               \n",
       "20 257.9                     59.5                  161.0               \n",
       "   Distance to CD3+PD1+FOXP3+ Distance to CD8+ Distance to CK+\n",
       "1  169.8                      416.0            34.6           \n",
       "2  496.7                      603.0            65.2           \n",
       "3  116.5                      418.9            25.2           \n",
       "4  260.1                      461.8            43.1           \n",
       "5  274.1                      459.4            32.9           \n",
       "6  298.9                      385.3            44.0           \n",
       "7  247.5                         NA             7.3           \n",
       "8  322.1                      529.7             9.6           \n",
       "9  250.8                      443.7            19.0           \n",
       "10 347.4                      554.8            46.3           \n",
       "11  73.0                      208.9            44.7           \n",
       "12 251.1                      514.5            29.5           \n",
       "13 265.6                      541.6            30.7           \n",
       "14 576.6                      629.3            53.5           \n",
       "15 283.5                      594.4            28.0           \n",
       "16 201.5                      539.9            37.9           \n",
       "17 152.2                      391.1            11.2           \n",
       "18 234.3                      476.2            30.2           \n",
       "19 519.4                      586.5            27.2           \n",
       "20 150.2                      592.9            44.9           \n",
       "   Distance to CK+PDL1+ ⋯ Distance to PD1+FOXP3+ Distance to PDL1+\n",
       "1  40.9                 ⋯ 248.5                  33.8             \n",
       "2  95.1                 ⋯ 506.5                  32.8             \n",
       "3  19.3                 ⋯ 215.4                  25.1             \n",
       "4  53.5                 ⋯ 310.7                  25.7             \n",
       "5  52.7                 ⋯ 331.3                  22.4             \n",
       "6  52.1                 ⋯ 176.9                  17.3             \n",
       "7   6.1                 ⋯ 182.4                  12.1             \n",
       "8  21.8                 ⋯ 393.5                  54.9             \n",
       "9   9.6                 ⋯ 308.7                  54.5             \n",
       "10 66.8                 ⋯ 405.2                  31.8             \n",
       "11 47.9                 ⋯ 113.7                  20.8             \n",
       "12 31.3                 ⋯ 356.1                  16.6             \n",
       "13 22.9                 ⋯ 368.8                  12.9             \n",
       "14 79.1                 ⋯ 560.2                  11.1             \n",
       "15 48.1                 ⋯ 417.5                   5.6             \n",
       "16 43.6                 ⋯ 347.4                  15.1             \n",
       "17 10.3                 ⋯ 202.4                  67.2             \n",
       "18 39.2                 ⋯ 315.3                  19.9             \n",
       "19 41.6                 ⋯ 505.5                   8.4             \n",
       "20 41.4                 ⋯ 373.9                   6.1             \n",
       "   Distance to PDL1+CD3+ Distance to PDL1+CD3+CD8+\n",
       "1  209.1                 542.5                    \n",
       "2  101.7                  99.3                    \n",
       "3  226.8                 702.3                    \n",
       "4  184.4                 407.5                    \n",
       "5  170.0                 457.7                    \n",
       "6  197.7                 600.8                    \n",
       "7  506.2                 629.3                    \n",
       "8  240.5                 477.5                    \n",
       "9  232.2                 507.9                    \n",
       "10 160.6                 322.3                    \n",
       "11 307.6                 608.4                    \n",
       "12 166.6                 465.3                    \n",
       "13 315.6                 402.4                    \n",
       "14  59.9                    NA                    \n",
       "15 135.4                 344.8                    \n",
       "16 152.0                 433.5                    \n",
       "17 149.6                 723.0                    \n",
       "18 148.6                 409.1                    \n",
       "19  13.5                  58.3                    \n",
       "20  52.1                 473.5                    \n",
       "   Distance to PDL1+CD3+CD8+PD1+ Distance to PDL1+CD3+FOXP3+\n",
       "1  317.2                          93.4                      \n",
       "2  137.4                         140.1                      \n",
       "3  411.2                          76.7                      \n",
       "4  248.6                          84.5                      \n",
       "5  291.5                         126.4                      \n",
       "6  331.5                          29.6                      \n",
       "7  538.5                         178.6                      \n",
       "8  306.9                         177.6                      \n",
       "9  308.3                         170.4                      \n",
       "10 187.5                          91.6                      \n",
       "11 456.0                          60.7                      \n",
       "12 250.0                         112.5                      \n",
       "13 202.8                         102.7                      \n",
       "14 212.4                         222.7                      \n",
       "15 277.2                          41.0                      \n",
       "16 161.3                          36.5                      \n",
       "17 452.9                         162.4                      \n",
       "18 197.6                          69.5                      \n",
       "19 156.9                         172.1                      \n",
       "20  60.5                          12.7                      \n",
       "   Distance to PDL1+CD3+PD1+ Distance to PDL1+FOXP3+ Distance to PDL1+PD1+\n",
       "1  300.1                      89.7                   491.2                \n",
       "2  655.5                      31.3                    94.3                \n",
       "3  234.2                     124.4                   643.8                \n",
       "4  409.0                      74.6                   357.8                \n",
       "5  380.3                      89.2                   408.2                \n",
       "6  203.1                      81.6                   540.8                \n",
       "7  391.1                     176.2                   582.5                \n",
       "8  448.9                     164.8                   436.8                \n",
       "9  378.3                     148.7                   458.6                \n",
       "10 500.1                      74.9                   280.1                \n",
       "11 205.9                      78.6                   550.6                \n",
       "12 399.8                      90.8                   419.4                \n",
       "13 392.4                      48.6                   346.1                \n",
       "14 723.0                      35.0                    52.9                \n",
       "15 493.3                      61.8                   289.1                \n",
       "16 408.8                      49.1                   378.6                \n",
       "17    NA                     148.0                   661.3                \n",
       "18 384.9                      71.5                   357.4                \n",
       "19 665.4                      50.0                     6.5                \n",
       "20 396.2                      50.6                   417.5                \n",
       "   Distance to PDL1+PD1+FOXP3+\n",
       "1  325.3                      \n",
       "2  390.8                      \n",
       "3  374.0                      \n",
       "4  335.6                      \n",
       "5  371.6                      \n",
       "6  277.8                      \n",
       "7  592.9                      \n",
       "8  367.8                      \n",
       "9  337.9                      \n",
       "10 326.4                      \n",
       "11 427.6                      \n",
       "12 292.1                      \n",
       "13 255.6                      \n",
       "14 473.5                      \n",
       "15 162.5                      \n",
       "16 177.5                      \n",
       "17 396.2                      \n",
       "18 270.8                      \n",
       "19 420.3                      \n",
       "20    NA                      "
      ]
     },
     "metadata": {},
     "output_type": "display_data"
    }
   ],
   "source": [
    "distances <- find_nearest_distance(clean.csd)\n",
    "csd.dist <- bind_cols(clean.csd, distances)\n",
    "csd.dist %>% group_by(Phenotype) %>% \n",
    "  select(Phenotype, starts_with('Distance to')) %>% \n",
    "  summarize_all(~round(mean(.), 1))"
   ]
  },
  {
   "cell_type": "markdown",
   "id": "e011b625-5172-4963-a6e9-48b3f97b8428",
   "metadata": {},
   "source": [
    "# Examine count_within() command"
   ]
  },
  {
   "cell_type": "code",
   "execution_count": 43,
   "id": "21d39c94-2a23-4913-8e8e-a18ba61ba3c4",
   "metadata": {
    "tags": []
   },
   "outputs": [
    {
     "data": {
      "text/html": [
       "\n",
       "<table width=\"100%\" summary=\"page for count_within {phenoptr}\"><tr><td>count_within {phenoptr}</td><td style=\"text-align: right;\">R Documentation</td></tr></table>\n",
       "\n",
       "<h2>Count cells within a radius for a single field.</h2>\n",
       "\n",
       "<h3>Description</h3>\n",
       "\n",
       "<p>Count the number of <code>from</code> cells having a <code>to</code> cell within\n",
       "<code>radius</code> microns in tissue category <code>category</code>.\n",
       "Compute the average number of <code>to</code> cells\n",
       "within <code>radius</code> of <code>from</code> cells.\n",
       "</p>\n",
       "\n",
       "\n",
       "<h3>Usage</h3>\n",
       "\n",
       "<pre>\n",
       "count_within(csd, from, to, radius, category = NA, dst = NULL)\n",
       "</pre>\n",
       "\n",
       "\n",
       "<h3>Arguments</h3>\n",
       "\n",
       "<table summary=\"R argblock\">\n",
       "<tr valign=\"top\"><td><code>csd</code></td>\n",
       "<td>\n",
       "<p>A data frame with <code>Cell X Position</code>,\n",
       "<code>Cell Y Position</code> and <code>Phenotype</code> columns,\n",
       "such as the result of calling <code>read_cell_seg_data</code>.</p>\n",
       "</td></tr>\n",
       "<tr valign=\"top\"><td><code>from, to</code></td>\n",
       "<td>\n",
       "<p>Selection criteria for the\n",
       "rows and columns. Accepts all formats accepted by <code>select_rows</code>.</p>\n",
       "</td></tr>\n",
       "<tr valign=\"top\"><td><code>radius</code></td>\n",
       "<td>\n",
       "<p>The radius or radii to search within.</p>\n",
       "</td></tr>\n",
       "<tr valign=\"top\"><td><code>category</code></td>\n",
       "<td>\n",
       "<p>Optional tissue category to restrict both <code>from</code> and\n",
       "<code>to</code>.</p>\n",
       "</td></tr>\n",
       "<tr valign=\"top\"><td><code>dst</code></td>\n",
       "<td>\n",
       "<p>Optional distance matrix corresponding to <code>csd</code>,\n",
       "produced by calling <code>distance_matrix</code>.</p>\n",
       "</td></tr>\n",
       "</table>\n",
       "\n",
       "\n",
       "<h3>Details</h3>\n",
       "\n",
       "<p>For each <code>from</code> cell, count the number of <code>to</code> cells within\n",
       "<code>radius</code> microns. Report the number of <code>from</code> cells containing\n",
       "at least <em>one</em> <code>to</code> cell within <code>radius</code> as <code>from_with</code>.\n",
       "Report the <em>average</em> number of <code>to</code> cells per\n",
       "<code>from</code> cell as <code>within_mean</code>.\n",
       "</p>\n",
       "<p><code>count_within</code> counts cells within a single field. It will give an\n",
       "error if run on a merged cell seg data file. To count cells in a merged file,\n",
       "use <code>group_by</code> and <code>do</code> to call\n",
       "<code>count_within</code> for each sample in the merged file. See the Examples.\n",
       "</p>\n",
       "<p>There are some subtleties to the count calculation.\n",
       "</p>\n",
       "\n",
       "<ul>\n",
       "<li><p> It is not symmetric in <code>from</code> and <code>to</code>.\n",
       "For example the number of tumor cells with a\n",
       "macrophage within 25 microns is not the same as the number of macrophages\n",
       "with a tumor cell within 25 microns.\n",
       "</p>\n",
       "</li>\n",
       "<li> <p><code>from_count*within_mean</code> is <em>not</em> the number of\n",
       "<code>to</code> cells within <code>radius</code> of a <code>from</code> cell, it may\n",
       "count <code>to</code> cells multiple times.\n",
       "</p>\n",
       "</li>\n",
       "<li><p> Surprisingly, <code>from_count*within_mean</code> is symmetric in\n",
       "<code>from</code> and <code>to</code>. The double-counting works out.\n",
       "</p>\n",
       "</li></ul>\n",
       "\n",
       "<p>To aggregate <code>within_mean</code> across multiple samples (e.g. by Slide ID)\n",
       "see the examples below.\n",
       "</p>\n",
       "<p>If <code>category</code> is specified, all reported values are for cells within\n",
       "the given tissue category. If <code>category</code> is NA, values are reported\n",
       "for the entire data set.\n",
       "</p>\n",
       "<p><code>radius</code> may be a vector with multiple values.\n",
       "</p>\n",
       "\n",
       "\n",
       "<h3>Value</h3>\n",
       "\n",
       "<p>A <code>tibble</code> with five columns and one row for each\n",
       "value in <code>radius</code>:\n",
       "</p>\n",
       "\n",
       "<dl>\n",
       "<dt><code>radius</code></dt><dd><p>The value of <code>radius</code> for this row.</p>\n",
       "</dd>\n",
       "<dt><code>from_count</code></dt><dd><p>The number of <code>from</code> cells found in\n",
       "<code>csd</code>.</p>\n",
       "</dd>\n",
       "<dt><code>to_count</code></dt><dd><p>The number of <code>to</code> cells found in <code>csd</code>.</p>\n",
       "</dd>\n",
       "<dt><code>from_with</code></dt><dd><p>The number of <code>from</code> cells with a\n",
       "<code>to</code> cell within <code>radius</code>.</p>\n",
       "</dd>\n",
       "<dt><code>within_mean</code></dt><dd><p>The average number of <code>to</code> cells found\n",
       "within <code>radius</code> microns of each <code>from</code> cell.</p>\n",
       "</dd>\n",
       "</dl>\n",
       "\n",
       "\n",
       "\n",
       "<h3>See Also</h3>\n",
       "\n",
       "<p>Other distance functions: \n",
       "<code>compute_all_nearest_distance()</code>,\n",
       "<code>count_touching_cells()</code>,\n",
       "<code>count_within_batch()</code>,\n",
       "<code>count_within_many()</code>,\n",
       "<code>distance_matrix()</code>,\n",
       "<code>find_nearest_distance()</code>,\n",
       "<code>spatial_distribution_report()</code>,\n",
       "<code>subset_distance_matrix()</code>\n",
       "</p>\n",
       "\n",
       "\n",
       "<h3>Examples</h3>\n",
       "\n",
       "<pre>\n",
       "library(dplyr)\n",
       "csd &lt;- sample_cell_seg_data\n",
       "\n",
       "# Find the number of macrophages with a tumor cell within 10 or 25 microns\n",
       "count_within(csd, from='CD68+', to='CK+', radius=c(10, 25))\n",
       "\n",
       "# Find the number of tumor cells with a macrophage within 10 or 25 microns\n",
       "count_within(csd, from='CK+', to='CD68+', radius=c(10, 25))\n",
       "\n",
       "## Not run: \n",
       "# If 'merged' is a merged cell seg file, this will run count_within for\n",
       "# each field:\n",
       "distances = merged %&gt;% group_by(`Slide ID`, `Sample Name`) %&gt;%\n",
       "  do(count_within(., from='CK+', to='CD68+', radius=c(10, 25)))\n",
       "\n",
       "# This will aggregate the fields by Slide ID:\n",
       "distances %&gt;% group_by(`Slide ID`, radius) %&gt;%\n",
       "  summarize(within=sum(from_count*within_mean, na.rm=TRUE),\n",
       "            from_count=sum(from_count),\n",
       "            to_count=sum(to_count),\n",
       "            from_with=sum(from_with),\n",
       "            within_mean=within/from_count) %&gt;%\n",
       "  select(-within)\n",
       "\n",
       "## End(Not run)\n",
       "</pre>\n",
       "\n",
       "<hr /><div style=\"text-align: center;\">[Package <em>phenoptr</em> version 0.3.2 ]</div>"
      ],
      "text/latex": [
       "\\inputencoding{utf8}\n",
       "\\HeaderA{count\\_within}{Count cells within a radius for a single field.}{count.Rul.within}\n",
       "\\keyword{distance functions}{count\\_within}\n",
       "%\n",
       "\\begin{Description}\\relax\n",
       "Count the number of \\code{from} cells having a \\code{to} cell within\n",
       "\\code{radius} microns in tissue category \\code{category}.\n",
       "Compute the average number of \\code{to} cells\n",
       "within \\code{radius} of \\code{from} cells.\n",
       "\\end{Description}\n",
       "%\n",
       "\\begin{Usage}\n",
       "\\begin{verbatim}\n",
       "count_within(csd, from, to, radius, category = NA, dst = NULL)\n",
       "\\end{verbatim}\n",
       "\\end{Usage}\n",
       "%\n",
       "\\begin{Arguments}\n",
       "\\begin{ldescription}\n",
       "\\item[\\code{csd}] A data frame with \\code{Cell X Position},\n",
       "\\code{Cell Y Position} and \\code{Phenotype} columns,\n",
       "such as the result of calling \\code{\\LinkA{read\\_cell\\_seg\\_data}{read.Rul.cell.Rul.seg.Rul.data}}.\n",
       "\n",
       "\\item[\\code{from, to}] Selection criteria for the\n",
       "rows and columns. Accepts all formats accepted by \\code{\\LinkA{select\\_rows}{select.Rul.rows}}.\n",
       "\n",
       "\\item[\\code{radius}] The radius or radii to search within.\n",
       "\n",
       "\\item[\\code{category}] Optional tissue category to restrict both \\code{from} and\n",
       "\\code{to}.\n",
       "\n",
       "\\item[\\code{dst}] Optional distance matrix corresponding to \\code{csd},\n",
       "produced by calling \\code{\\LinkA{distance\\_matrix}{distance.Rul.matrix}}.\n",
       "\\end{ldescription}\n",
       "\\end{Arguments}\n",
       "%\n",
       "\\begin{Details}\\relax\n",
       "For each \\code{from} cell, count the number of \\code{to} cells within\n",
       "\\code{radius} microns. Report the number of \\code{from} cells containing\n",
       "at least \\emph{one} \\code{to} cell within \\code{radius} as \\code{from\\_with}.\n",
       "Report the \\emph{average} number of \\code{to} cells per\n",
       "\\code{from} cell as \\code{within\\_mean}.\n",
       "\n",
       "\\code{count\\_within} counts cells within a single field. It will give an\n",
       "error if run on a merged cell seg data file. To count cells in a merged file,\n",
       "use \\code{\\LinkA{group\\_by}{group.Rul.by}} and \\code{\\LinkA{do}{do}} to call\n",
       "\\code{count\\_within} for each sample in the merged file. See the Examples.\n",
       "\n",
       "There are some subtleties to the count calculation.\n",
       "\\begin{itemize}\n",
       "\n",
       "\\item{} It is not symmetric in \\code{from} and \\code{to}.\n",
       "For example the number of tumor cells with a\n",
       "macrophage within 25 microns is not the same as the number of macrophages\n",
       "with a tumor cell within 25 microns.\n",
       "\\item{} \\code{from\\_count*within\\_mean} is \\emph{not} the number of\n",
       "\\code{to} cells within \\code{radius} of a \\code{from} cell, it may\n",
       "count \\code{to} cells multiple times.\n",
       "\\item{} Surprisingly, \\code{from\\_count*within\\_mean} is symmetric in\n",
       "\\code{from} and \\code{to}. The double-counting works out.\n",
       "\n",
       "\\end{itemize}\n",
       "\n",
       "\n",
       "To aggregate \\code{within\\_mean} across multiple samples (e.g. by Slide ID)\n",
       "see the examples below.\n",
       "\n",
       "If \\code{category} is specified, all reported values are for cells within\n",
       "the given tissue category. If \\code{category} is NA, values are reported\n",
       "for the entire data set.\n",
       "\n",
       "\\code{radius} may be a vector with multiple values.\n",
       "\\end{Details}\n",
       "%\n",
       "\\begin{Value}\n",
       "A \\code{\\LinkA{tibble}{tibble}} with five columns and one row for each\n",
       "value in \\code{radius}:\n",
       "\\begin{description}\n",
       "\n",
       "\\item[\\code{radius}] The value of \\code{radius} for this row.\n",
       "\\item[\\code{from\\_count}] The number of \\code{from} cells found in\n",
       "\\code{csd}.\n",
       "\\item[\\code{to\\_count}] The number of \\code{to} cells found in \\code{csd}.\n",
       "\\item[\\code{from\\_with}] The number of \\code{from} cells with a\n",
       "\\code{to} cell within \\code{radius}.\n",
       "\\item[\\code{within\\_mean}] The average number of \\code{to} cells found\n",
       "within \\code{radius} microns of each \\code{from} cell.\n",
       "\n",
       "\\end{description}\n",
       "\n",
       "\\end{Value}\n",
       "%\n",
       "\\begin{SeeAlso}\\relax\n",
       "Other distance functions: \n",
       "\\code{\\LinkA{compute\\_all\\_nearest\\_distance}{compute.Rul.all.Rul.nearest.Rul.distance}()},\n",
       "\\code{\\LinkA{count\\_touching\\_cells}{count.Rul.touching.Rul.cells}()},\n",
       "\\code{\\LinkA{count\\_within\\_batch}{count.Rul.within.Rul.batch}()},\n",
       "\\code{\\LinkA{count\\_within\\_many}{count.Rul.within.Rul.many}()},\n",
       "\\code{\\LinkA{distance\\_matrix}{distance.Rul.matrix}()},\n",
       "\\code{\\LinkA{find\\_nearest\\_distance}{find.Rul.nearest.Rul.distance}()},\n",
       "\\code{\\LinkA{spatial\\_distribution\\_report}{spatial.Rul.distribution.Rul.report}()},\n",
       "\\code{\\LinkA{subset\\_distance\\_matrix}{subset.Rul.distance.Rul.matrix}()}\n",
       "\\end{SeeAlso}\n",
       "%\n",
       "\\begin{Examples}\n",
       "\\begin{ExampleCode}\n",
       "library(dplyr)\n",
       "csd <- sample_cell_seg_data\n",
       "\n",
       "# Find the number of macrophages with a tumor cell within 10 or 25 microns\n",
       "count_within(csd, from='CD68+', to='CK+', radius=c(10, 25))\n",
       "\n",
       "# Find the number of tumor cells with a macrophage within 10 or 25 microns\n",
       "count_within(csd, from='CK+', to='CD68+', radius=c(10, 25))\n",
       "\n",
       "## Not run: \n",
       "# If 'merged' is a merged cell seg file, this will run count_within for\n",
       "# each field:\n",
       "distances = merged %>% group_by(`Slide ID`, `Sample Name`) %>%\n",
       "  do(count_within(., from='CK+', to='CD68+', radius=c(10, 25)))\n",
       "\n",
       "# This will aggregate the fields by Slide ID:\n",
       "distances %>% group_by(`Slide ID`, radius) %>%\n",
       "  summarize(within=sum(from_count*within_mean, na.rm=TRUE),\n",
       "            from_count=sum(from_count),\n",
       "            to_count=sum(to_count),\n",
       "            from_with=sum(from_with),\n",
       "            within_mean=within/from_count) %>%\n",
       "  select(-within)\n",
       "\n",
       "## End(Not run)\n",
       "\\end{ExampleCode}\n",
       "\\end{Examples}"
      ],
      "text/plain": [
       "count_within             package:phenoptr              R Documentation\n",
       "\n",
       "_\bC_\bo_\bu_\bn_\bt _\bc_\be_\bl_\bl_\bs _\bw_\bi_\bt_\bh_\bi_\bn _\ba _\br_\ba_\bd_\bi_\bu_\bs _\bf_\bo_\br _\ba _\bs_\bi_\bn_\bg_\bl_\be _\bf_\bi_\be_\bl_\bd.\n",
       "\n",
       "_\bD_\be_\bs_\bc_\br_\bi_\bp_\bt_\bi_\bo_\bn:\n",
       "\n",
       "     Count the number of ‘from’ cells having a ‘to’ cell within\n",
       "     ‘radius’ microns in tissue category ‘category’. Compute the\n",
       "     average number of ‘to’ cells within ‘radius’ of ‘from’ cells.\n",
       "\n",
       "_\bU_\bs_\ba_\bg_\be:\n",
       "\n",
       "     count_within(csd, from, to, radius, category = NA, dst = NULL)\n",
       "     \n",
       "_\bA_\br_\bg_\bu_\bm_\be_\bn_\bt_\bs:\n",
       "\n",
       "     csd: A data frame with ‘Cell X Position’, ‘Cell Y Position’ and\n",
       "          ‘Phenotype’ columns, such as the result of calling\n",
       "          ‘read_cell_seg_data’.\n",
       "\n",
       "from, to: Selection criteria for the rows and columns. Accepts all\n",
       "          formats accepted by ‘select_rows’.\n",
       "\n",
       "  radius: The radius or radii to search within.\n",
       "\n",
       "category: Optional tissue category to restrict both ‘from’ and ‘to’.\n",
       "\n",
       "     dst: Optional distance matrix corresponding to ‘csd’, produced by\n",
       "          calling ‘distance_matrix’.\n",
       "\n",
       "_\bD_\be_\bt_\ba_\bi_\bl_\bs:\n",
       "\n",
       "     For each ‘from’ cell, count the number of ‘to’ cells within\n",
       "     ‘radius’ microns. Report the number of ‘from’ cells containing at\n",
       "     least _one_ ‘to’ cell within ‘radius’ as ‘from_with’. Report the\n",
       "     _average_ number of ‘to’ cells per ‘from’ cell as ‘within_mean’.\n",
       "\n",
       "     ‘count_within’ counts cells within a single field. It will give an\n",
       "     error if run on a merged cell seg data file. To count cells in a\n",
       "     merged file, use ‘group_by’ and ‘do’ to call ‘count_within’ for\n",
       "     each sample in the merged file. See the Examples.\n",
       "\n",
       "     There are some subtleties to the count calculation.\n",
       "\n",
       "        • It is not symmetric in ‘from’ and ‘to’. For example the\n",
       "          number of tumor cells with a macrophage within 25 microns is\n",
       "          not the same as the number of macrophages with a tumor cell\n",
       "          within 25 microns.\n",
       "\n",
       "        • ‘from_count*within_mean’ is _not_ the number of ‘to’ cells\n",
       "          within ‘radius’ of a ‘from’ cell, it may count ‘to’ cells\n",
       "          multiple times.\n",
       "\n",
       "        • Surprisingly, ‘from_count*within_mean’ is symmetric in ‘from’\n",
       "          and ‘to’. The double-counting works out.\n",
       "\n",
       "     To aggregate ‘within_mean’ across multiple samples (e.g. by Slide\n",
       "     ID) see the examples below.\n",
       "\n",
       "     If ‘category’ is specified, all reported values are for cells\n",
       "     within the given tissue category. If ‘category’ is NA, values are\n",
       "     reported for the entire data set.\n",
       "\n",
       "     ‘radius’ may be a vector with multiple values.\n",
       "\n",
       "_\bV_\ba_\bl_\bu_\be:\n",
       "\n",
       "     A ‘tibble’ with five columns and one row for each value in\n",
       "     ‘radius’:\n",
       "\n",
       "     ‘radius’ The value of ‘radius’ for this row.\n",
       "\n",
       "     ‘from_count’ The number of ‘from’ cells found in ‘csd’.\n",
       "\n",
       "     ‘to_count’ The number of ‘to’ cells found in ‘csd’.\n",
       "\n",
       "     ‘from_with’ The number of ‘from’ cells with a ‘to’ cell within\n",
       "          ‘radius’.\n",
       "\n",
       "     ‘within_mean’ The average number of ‘to’ cells found within\n",
       "          ‘radius’ microns of each ‘from’ cell.\n",
       "\n",
       "_\bS_\be_\be _\bA_\bl_\bs_\bo:\n",
       "\n",
       "     Other distance functions: ‘compute_all_nearest_distance()’,\n",
       "     ‘count_touching_cells()’, ‘count_within_batch()’,\n",
       "     ‘count_within_many()’, ‘distance_matrix()’,\n",
       "     ‘find_nearest_distance()’, ‘spatial_distribution_report()’,\n",
       "     ‘subset_distance_matrix()’\n",
       "\n",
       "_\bE_\bx_\ba_\bm_\bp_\bl_\be_\bs:\n",
       "\n",
       "     library(dplyr)\n",
       "     csd <- sample_cell_seg_data\n",
       "     \n",
       "     # Find the number of macrophages with a tumor cell within 10 or 25 microns\n",
       "     count_within(csd, from='CD68+', to='CK+', radius=c(10, 25))\n",
       "     \n",
       "     # Find the number of tumor cells with a macrophage within 10 or 25 microns\n",
       "     count_within(csd, from='CK+', to='CD68+', radius=c(10, 25))\n",
       "     \n",
       "     ## Not run:\n",
       "     \n",
       "     # If 'merged' is a merged cell seg file, this will run count_within for\n",
       "     # each field:\n",
       "     distances = merged %>% group_by(`Slide ID`, `Sample Name`) %>%\n",
       "       do(count_within(., from='CK+', to='CD68+', radius=c(10, 25)))\n",
       "     \n",
       "     # This will aggregate the fields by Slide ID:\n",
       "     distances %>% group_by(`Slide ID`, radius) %>%\n",
       "       summarize(within=sum(from_count*within_mean, na.rm=TRUE),\n",
       "                 from_count=sum(from_count),\n",
       "                 to_count=sum(to_count),\n",
       "                 from_with=sum(from_with),\n",
       "                 within_mean=within/from_count) %>%\n",
       "       select(-within)\n",
       "     ## End(Not run)\n",
       "     "
      ]
     },
     "metadata": {},
     "output_type": "display_data"
    }
   ],
   "source": [
    "help(count_within)"
   ]
  },
  {
   "cell_type": "code",
   "execution_count": 44,
   "id": "e916ee70-b31e-4b31-96c2-4fc22677c334",
   "metadata": {
    "tags": []
   },
   "outputs": [],
   "source": [
    "# Try count_within() measure CD3+FOXP3+ to CK+"
   ]
  },
  {
   "cell_type": "code",
   "execution_count": 53,
   "id": "ac02390e-07d2-489c-b9c3-0000722536e9",
   "metadata": {
    "tags": []
   },
   "outputs": [
    {
     "data": {
      "text/html": [
       "<table class=\"dataframe\">\n",
       "<caption>A tibble: 3 × 5</caption>\n",
       "<thead>\n",
       "\t<tr><th scope=col>radius</th><th scope=col>from_count</th><th scope=col>to_count</th><th scope=col>from_with</th><th scope=col>within_mean</th></tr>\n",
       "\t<tr><th scope=col>&lt;dbl&gt;</th><th scope=col>&lt;int&gt;</th><th scope=col>&lt;int&gt;</th><th scope=col>&lt;int&gt;</th><th scope=col>&lt;dbl&gt;</th></tr>\n",
       "</thead>\n",
       "<tbody>\n",
       "\t<tr><td>10</td><td>109</td><td>48</td><td>2</td><td>0.01834862</td></tr>\n",
       "\t<tr><td>20</td><td>109</td><td>48</td><td>4</td><td>0.04587156</td></tr>\n",
       "\t<tr><td>30</td><td>109</td><td>48</td><td>5</td><td>0.05504587</td></tr>\n",
       "</tbody>\n",
       "</table>\n"
      ],
      "text/latex": [
       "A tibble: 3 × 5\n",
       "\\begin{tabular}{lllll}\n",
       " radius & from\\_count & to\\_count & from\\_with & within\\_mean\\\\\n",
       " <dbl> & <int> & <int> & <int> & <dbl>\\\\\n",
       "\\hline\n",
       "\t 10 & 109 & 48 & 2 & 0.01834862\\\\\n",
       "\t 20 & 109 & 48 & 4 & 0.04587156\\\\\n",
       "\t 30 & 109 & 48 & 5 & 0.05504587\\\\\n",
       "\\end{tabular}\n"
      ],
      "text/markdown": [
       "\n",
       "A tibble: 3 × 5\n",
       "\n",
       "| radius &lt;dbl&gt; | from_count &lt;int&gt; | to_count &lt;int&gt; | from_with &lt;int&gt; | within_mean &lt;dbl&gt; |\n",
       "|---|---|---|---|---|\n",
       "| 10 | 109 | 48 | 2 | 0.01834862 |\n",
       "| 20 | 109 | 48 | 4 | 0.04587156 |\n",
       "| 30 | 109 | 48 | 5 | 0.05504587 |\n",
       "\n"
      ],
      "text/plain": [
       "  radius from_count to_count from_with within_mean\n",
       "1 10     109        48       2         0.01834862 \n",
       "2 20     109        48       4         0.04587156 \n",
       "3 30     109        48       5         0.05504587 "
      ]
     },
     "metadata": {},
     "output_type": "display_data"
    }
   ],
   "source": [
    "# Find the number of Tregs with a tumor cell 35 microns\n",
    "outer_margin <- count_within(csd, from='CK+', to='CD3+FOXP3+', \n",
    "                             radius=c(10,20,30), category = c('Stroma'))\n",
    "outer_margin"
   ]
  },
  {
   "cell_type": "code",
   "execution_count": 50,
   "id": "99c78d31-e028-4478-b554-8e5fcf7cf0de",
   "metadata": {
    "tags": []
   },
   "outputs": [
    {
     "data": {
      "text/html": [
       "<table class=\"dataframe\">\n",
       "<caption>A tibble: 3 × 5</caption>\n",
       "<thead>\n",
       "\t<tr><th scope=col>radius</th><th scope=col>from_count</th><th scope=col>to_count</th><th scope=col>from_with</th><th scope=col>within_mean</th></tr>\n",
       "\t<tr><th scope=col>&lt;dbl&gt;</th><th scope=col>&lt;int&gt;</th><th scope=col>&lt;int&gt;</th><th scope=col>&lt;int&gt;</th><th scope=col>&lt;dbl&gt;</th></tr>\n",
       "</thead>\n",
       "<tbody>\n",
       "\t<tr><td>10</td><td>109</td><td>48</td><td>2</td><td>0.01834862</td></tr>\n",
       "\t<tr><td>20</td><td>109</td><td>48</td><td>4</td><td>0.04587156</td></tr>\n",
       "\t<tr><td>30</td><td>109</td><td>48</td><td>5</td><td>0.05504587</td></tr>\n",
       "</tbody>\n",
       "</table>\n"
      ],
      "text/latex": [
       "A tibble: 3 × 5\n",
       "\\begin{tabular}{lllll}\n",
       " radius & from\\_count & to\\_count & from\\_with & within\\_mean\\\\\n",
       " <dbl> & <int> & <int> & <int> & <dbl>\\\\\n",
       "\\hline\n",
       "\t 10 & 109 & 48 & 2 & 0.01834862\\\\\n",
       "\t 20 & 109 & 48 & 4 & 0.04587156\\\\\n",
       "\t 30 & 109 & 48 & 5 & 0.05504587\\\\\n",
       "\\end{tabular}\n"
      ],
      "text/markdown": [
       "\n",
       "A tibble: 3 × 5\n",
       "\n",
       "| radius &lt;dbl&gt; | from_count &lt;int&gt; | to_count &lt;int&gt; | from_with &lt;int&gt; | within_mean &lt;dbl&gt; |\n",
       "|---|---|---|---|---|\n",
       "| 10 | 109 | 48 | 2 | 0.01834862 |\n",
       "| 20 | 109 | 48 | 4 | 0.04587156 |\n",
       "| 30 | 109 | 48 | 5 | 0.05504587 |\n",
       "\n"
      ],
      "text/plain": [
       "  radius from_count to_count from_with within_mean\n",
       "1 10     109        48       2         0.01834862 \n",
       "2 20     109        48       4         0.04587156 \n",
       "3 30     109        48       5         0.05504587 "
      ]
     },
     "metadata": {},
     "output_type": "display_data"
    }
   ],
   "source": [
    "outer_margin"
   ]
  },
  {
   "cell_type": "markdown",
   "id": "e40ce9fe-7cb0-4d0f-a204-9b11c9819e20",
   "metadata": {},
   "source": [
    "Workflow idea: is it possible to subset any cell with < 30um distance to tumor?"
   ]
  },
  {
   "cell_type": "markdown",
   "id": "91f78c3c-a3ab-4723-9171-70ffa30427c1",
   "metadata": {},
   "source": [
    "ultimately how do I determine N cells within 35um of tumor outer margin / inner margin? create version where tissue category is set as the phenotype? trying this:"
   ]
  },
  {
   "cell_type": "code",
   "execution_count": 80,
   "id": "7a5b6137-eb61-433a-89a9-cc35747cd1a5",
   "metadata": {
    "tags": []
   },
   "outputs": [
    {
     "data": {
      "text/html": [
       "<table class=\"dataframe\">\n",
       "<caption>A tibble: 3 × 4</caption>\n",
       "<thead>\n",
       "\t<tr><th scope=col>Phenotype</th><th scope=col>Distance to Blank</th><th scope=col>Distance to Stroma</th><th scope=col>Distance to Tumor</th></tr>\n",
       "\t<tr><th scope=col>&lt;chr&gt;</th><th scope=col>&lt;dbl&gt;</th><th scope=col>&lt;dbl&gt;</th><th scope=col>&lt;dbl&gt;</th></tr>\n",
       "</thead>\n",
       "<tbody>\n",
       "\t<tr><td>Blank </td><td>   NA</td><td>14.4</td><td>56.2</td></tr>\n",
       "\t<tr><td>Stroma</td><td>347.9</td><td>12.1</td><td>24.2</td></tr>\n",
       "\t<tr><td>Tumor </td><td>351.1</td><td>34.8</td><td> 8.7</td></tr>\n",
       "</tbody>\n",
       "</table>\n"
      ],
      "text/latex": [
       "A tibble: 3 × 4\n",
       "\\begin{tabular}{llll}\n",
       " Phenotype & Distance to Blank & Distance to Stroma & Distance to Tumor\\\\\n",
       " <chr> & <dbl> & <dbl> & <dbl>\\\\\n",
       "\\hline\n",
       "\t Blank  &    NA & 14.4 & 56.2\\\\\n",
       "\t Stroma & 347.9 & 12.1 & 24.2\\\\\n",
       "\t Tumor  & 351.1 & 34.8 &  8.7\\\\\n",
       "\\end{tabular}\n"
      ],
      "text/markdown": [
       "\n",
       "A tibble: 3 × 4\n",
       "\n",
       "| Phenotype &lt;chr&gt; | Distance to Blank &lt;dbl&gt; | Distance to Stroma &lt;dbl&gt; | Distance to Tumor &lt;dbl&gt; |\n",
       "|---|---|---|---|\n",
       "| Blank  |    NA | 14.4 | 56.2 |\n",
       "| Stroma | 347.9 | 12.1 | 24.2 |\n",
       "| Tumor  | 351.1 | 34.8 |  8.7 |\n",
       "\n"
      ],
      "text/plain": [
       "  Phenotype Distance to Blank Distance to Stroma Distance to Tumor\n",
       "1 Blank        NA             14.4               56.2             \n",
       "2 Stroma    347.9             12.1               24.2             \n",
       "3 Tumor     351.1             34.8                8.7             "
      ]
     },
     "metadata": {},
     "output_type": "display_data"
    },
    {
     "name": "stdout",
     "output_type": "stream",
     "text": [
      "[1] 0\n",
      "[1] 1\n"
     ]
    }
   ],
   "source": [
    "temp <- clean.csd\n",
    "temp$Phenotype <- temp[,'Tissue Category']\n",
    "\n",
    "distances <- find_nearest_distance(temp)\n",
    "temp <- bind_cols(temp, distances)\n",
    "temp %>% group_by(Phenotype) %>% \n",
    "  select(Phenotype, starts_with('Distance to')) %>% \n",
    "  summarize_all(~round(mean(.), 1))\n",
    "dist = 100\n",
    "outer_margin <- (temp[,'Distance to Tumor'] < dist) && (temp[,'Tissue Category'] =='Stroma')\n",
    "inner_margin <- (temp[,'Distance to Stroma'] < dist ) && (temp[,'Tissue Category'] =='Tumor')\n",
    "print(sum(outer_margin))\n",
    "print(sum(inner_margin))\n",
    "# outer_margin <- count_within(temp, from='Stroma', to='Tumor', \n",
    "#                              radius=c(35))\n",
    "# outer_margin"
   ]
  },
  {
   "cell_type": "code",
   "execution_count": 79,
   "id": "c41677a6-c875-442d-b83a-33f87d10d87f",
   "metadata": {
    "tags": []
   },
   "outputs": [
    {
     "data": {
      "text/html": [
       "585"
      ],
      "text/latex": [
       "585"
      ],
      "text/markdown": [
       "585"
      ],
      "text/plain": [
       "[1] 585"
      ]
     },
     "metadata": {},
     "output_type": "display_data"
    }
   ],
   "source": [
    "sum(temp[,'Tissue Category'] =='Stroma')"
   ]
  },
  {
   "cell_type": "code",
   "execution_count": 78,
   "id": "68c13efb-81d9-4fdf-acf2-0c213cdf2a78",
   "metadata": {
    "tags": []
   },
   "outputs": [
    {
     "data": {
      "text/html": [
       "2791"
      ],
      "text/latex": [
       "2791"
      ],
      "text/markdown": [
       "2791"
      ],
      "text/plain": [
       "[1] 2791"
      ]
     },
     "metadata": {},
     "output_type": "display_data"
    }
   ],
   "source": [
    "sum(temp[,'Distance to Tumor'] < 35 )"
   ]
  },
  {
   "cell_type": "markdown",
   "id": "8aa0b7a5-5745-4ad3-9ff0-66b2f29bff40",
   "metadata": {},
   "source": [
    "# Loop through files and measure how many cells in the margins"
   ]
  },
  {
   "cell_type": "code",
   "execution_count": 97,
   "id": "47c3b707-9e84-4192-bb91-cc773da417db",
   "metadata": {
    "tags": []
   },
   "outputs": [
    {
     "data": {
      "text/html": [
       "<style>\n",
       ".list-inline {list-style: none; margin:0; padding: 0}\n",
       ".list-inline>li {display: inline-block}\n",
       ".list-inline>li:not(:last-child)::after {content: \"\\00b7\"; padding: 0 .5ex}\n",
       "</style>\n",
       "<ol class=list-inline><li>2029</li><li>2</li></ol>\n"
      ],
      "text/latex": [
       "\\begin{enumerate*}\n",
       "\\item 2029\n",
       "\\item 2\n",
       "\\end{enumerate*}\n"
      ],
      "text/markdown": [
       "1. 2029\n",
       "2. 2\n",
       "\n",
       "\n"
      ],
      "text/plain": [
       "[1] 2029    2"
      ]
     },
     "metadata": {},
     "output_type": "display_data"
    },
    {
     "data": {
      "text/html": [
       "<table class=\"dataframe\">\n",
       "<caption>A data.frame: 6 × 2</caption>\n",
       "<thead>\n",
       "\t<tr><th></th><th scope=col>inner_n</th><th scope=col>outer_n</th></tr>\n",
       "\t<tr><th></th><th scope=col>&lt;lgl&gt;</th><th scope=col>&lt;lgl&gt;</th></tr>\n",
       "</thead>\n",
       "<tbody>\n",
       "\t<tr><th scope=row>RACTIH_Scan1_[15509,42225]_cell_seg_data.txt</th><td>NA</td><td>NA</td></tr>\n",
       "\t<tr><th scope=row>RACTIH_Scan1_[15509,42918]_cell_seg_data.txt</th><td>NA</td><td>NA</td></tr>\n",
       "\t<tr><th scope=row>RACTIH_Scan1_[15509,43611]_cell_seg_data.txt</th><td>NA</td><td>NA</td></tr>\n",
       "\t<tr><th scope=row>RACTIH_Scan1_[15509,44304]_cell_seg_data.txt</th><td>NA</td><td>NA</td></tr>\n",
       "\t<tr><th scope=row>RACTIH_Scan1_[16434,42225]_cell_seg_data.txt</th><td>NA</td><td>NA</td></tr>\n",
       "\t<tr><th scope=row>RACTIH_Scan1_[16434,42918]_cell_seg_data.txt</th><td>NA</td><td>NA</td></tr>\n",
       "</tbody>\n",
       "</table>\n"
      ],
      "text/latex": [
       "A data.frame: 6 × 2\n",
       "\\begin{tabular}{r|ll}\n",
       "  & inner\\_n & outer\\_n\\\\\n",
       "  & <lgl> & <lgl>\\\\\n",
       "\\hline\n",
       "\tRACTIH\\_Scan1\\_{[}15509,42225{]}\\_cell\\_seg\\_data.txt & NA & NA\\\\\n",
       "\tRACTIH\\_Scan1\\_{[}15509,42918{]}\\_cell\\_seg\\_data.txt & NA & NA\\\\\n",
       "\tRACTIH\\_Scan1\\_{[}15509,43611{]}\\_cell\\_seg\\_data.txt & NA & NA\\\\\n",
       "\tRACTIH\\_Scan1\\_{[}15509,44304{]}\\_cell\\_seg\\_data.txt & NA & NA\\\\\n",
       "\tRACTIH\\_Scan1\\_{[}16434,42225{]}\\_cell\\_seg\\_data.txt & NA & NA\\\\\n",
       "\tRACTIH\\_Scan1\\_{[}16434,42918{]}\\_cell\\_seg\\_data.txt & NA & NA\\\\\n",
       "\\end{tabular}\n"
      ],
      "text/markdown": [
       "\n",
       "A data.frame: 6 × 2\n",
       "\n",
       "| <!--/--> | inner_n &lt;lgl&gt; | outer_n &lt;lgl&gt; |\n",
       "|---|---|---|\n",
       "| RACTIH_Scan1_[15509,42225]_cell_seg_data.txt | NA | NA |\n",
       "| RACTIH_Scan1_[15509,42918]_cell_seg_data.txt | NA | NA |\n",
       "| RACTIH_Scan1_[15509,43611]_cell_seg_data.txt | NA | NA |\n",
       "| RACTIH_Scan1_[15509,44304]_cell_seg_data.txt | NA | NA |\n",
       "| RACTIH_Scan1_[16434,42225]_cell_seg_data.txt | NA | NA |\n",
       "| RACTIH_Scan1_[16434,42918]_cell_seg_data.txt | NA | NA |\n",
       "\n"
      ],
      "text/plain": [
       "                                             inner_n outer_n\n",
       "RACTIH_Scan1_[15509,42225]_cell_seg_data.txt NA      NA     \n",
       "RACTIH_Scan1_[15509,42918]_cell_seg_data.txt NA      NA     \n",
       "RACTIH_Scan1_[15509,43611]_cell_seg_data.txt NA      NA     \n",
       "RACTIH_Scan1_[15509,44304]_cell_seg_data.txt NA      NA     \n",
       "RACTIH_Scan1_[16434,42225]_cell_seg_data.txt NA      NA     \n",
       "RACTIH_Scan1_[16434,42918]_cell_seg_data.txt NA      NA     "
      ]
     },
     "metadata": {},
     "output_type": "display_data"
    }
   ],
   "source": [
    "\n",
    "dim(df)\n",
    "head(df)"
   ]
  },
  {
   "cell_type": "code",
   "execution_count": null,
   "id": "025b0839-c1e9-4804-acef-8ee3e8e6cc0a",
   "metadata": {
    "tags": []
   },
   "outputs": [],
   "source": [
    "p <- c('Phenotype-CK','Phenotype-PDL1','Phenotype-CD3',\n",
    "   'Phenotype-CD8','Phenotype-PD1','Phenotype-FOXP3')\n",
    "df <- data.frame(matrix(NA, nrow = length(fns), ncol = 2),row.names=fns)\n",
    "colnames(df) <- c('inner_n','outer_n')\n",
    "for (fn in fns){\n",
    "    csd <- read.csv(file.path(inform.data,fn),\n",
    "               sep = '\\t',\n",
    "               check.names=FALSE) #check.names=FALSE will prevent replacing spaces with periods\\\n",
    "    csd$Phenotype <- ''\n",
    "    for (pheno in p){\n",
    "        temp = csd[,pheno]\n",
    "        temp[temp=='other'] = ''\n",
    "        csd$Phenotype <- paste0(csd$Phenotype,temp)\n",
    "        }\n",
    "    # dim(csd)\n",
    "    # Remove cells with no labeling:\n",
    "\n",
    "    clean.csd <- csd[clean.csd[,'Tissue Category'] != 'Blank',]\n",
    "    clean.csd <- clean.csd %>% filter(Phenotype != '')\n",
    "    # dim(clean.csd)\n",
    "\n",
    "    # Remove CK+ cell labeling false alarms:\n",
    "    idx.1 <- clean.csd$Phenotype %like% 'CK+'\n",
    "    # print(sum(idx.1))\n",
    "    idx.2 <- !(clean.csd$Phenotype %in% c('CK+','CK+PDL1+','CK+PD1+'))\n",
    "    idx <- idx.1 & idx.2\n",
    "    clean.csd[idx,'Phenotype'] <- substring(clean.csd[idx,'Phenotype'],\n",
    "                                              first=4,last=nchar(clean.csd$Phenotype[idx]))\n",
    "    \n",
    "    temp <- clean.csd\n",
    "    temp$Phenotype <- temp[,'Tissue Category']\n",
    "\n",
    "    distances <- find_nearest_distance(temp)\n",
    "    temp <- bind_cols(temp, distances)\n",
    "    temp %>% group_by(Phenotype) %>% \n",
    "      select(Phenotype, starts_with('Distance to')) %>% \n",
    "      summarize_all(~round(mean(.), 1))\n",
    "    dist = 100\n",
    "    outer_margin <- (temp[,'Distance to Tumor'] < dist) && (temp[,'Tissue Category'] =='Stroma')\n",
    "    inner_margin <- (temp[,'Distance to Stroma'] < dist ) && (temp[,'Tissue Category'] =='Tumor')\n",
    "    df[fn,'inner_n'] <- sum(inner_margin)\n",
    "    df[fn,'outer_n'] <- sum(outer_margin)\n",
    "    }"
   ]
  },
  {
   "cell_type": "code",
   "execution_count": null,
   "id": "34838a85-73b6-490e-a539-f2194380cbda",
   "metadata": {},
   "outputs": [],
   "source": [
    "mean(df)"
   ]
  },
  {
   "cell_type": "code",
   "execution_count": null,
   "id": "b5f696f9-02ce-4af4-ba06-6550e8e705ea",
   "metadata": {
    "tags": []
   },
   "outputs": [],
   "source": [
    "help(mean)"
   ]
  }
 ],
 "metadata": {
  "kernelspec": {
   "display_name": "R 4 with seurat",
   "language": "R",
   "name": "r_seurat"
  },
  "language_info": {
   "codemirror_mode": "r",
   "file_extension": ".r",
   "mimetype": "text/x-r-source",
   "name": "R",
   "pygments_lexer": "r",
   "version": "4.1.3"
  }
 },
 "nbformat": 4,
 "nbformat_minor": 5
}
